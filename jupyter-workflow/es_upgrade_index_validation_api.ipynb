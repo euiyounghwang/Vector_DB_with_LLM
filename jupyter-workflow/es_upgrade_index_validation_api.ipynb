{
 "cells": [
  {
   "cell_type": "code",
   "execution_count": 1,
   "id": "589a1ba9-3df7-4edc-aea5-bf099ace9cd2",
   "metadata": {},
   "outputs": [
    {
     "name": "stdout",
     "output_type": "stream",
     "text": [
      "ELK Upgrade Index Validation Logic through REST API -> Validate index count for Source/Dest ES cluster\n"
     ]
    }
   ],
   "source": [
    "print(f\"ELK Upgrade Index Validation Logic through REST API -> Validate index count for Source/Dest ES cluster\")"
   ]
  },
  {
   "cell_type": "code",
   "execution_count": 2,
   "id": "271f2075-5253-4dd6-8efc-a65c5cd91541",
   "metadata": {},
   "outputs": [],
   "source": [
    "# Gradio is an open-source Python package that allows you to quickly build a demo or web application for your machine learning model, API, or any arbitrary Python function. \n",
    "# You can then share a link to your demo or web application in just a few seconds using Gradio's built-in sharing features."
   ]
  },
  {
   "cell_type": "code",
   "execution_count": 3,
   "id": "0f2e994a-a745-49e4-b9aa-0ea784941c83",
   "metadata": {
    "scrolled": true
   },
   "outputs": [
    {
     "name": "stdout",
     "output_type": "stream",
     "text": [
      "Requirement already satisfied: gradio in c:\\users\\euiyoung.hwang\\git_workspace\\elk-stack-upgrade\\.venv\\lib\\site-packages (5.9.0)\n",
      "Requirement already satisfied: aiofiles<24.0,>=22.0 in c:\\users\\euiyoung.hwang\\git_workspace\\elk-stack-upgrade\\.venv\\lib\\site-packages (from gradio) (23.2.1)\n",
      "Requirement already satisfied: anyio<5.0,>=3.0 in c:\\users\\euiyoung.hwang\\git_workspace\\elk-stack-upgrade\\.venv\\lib\\site-packages (from gradio) (4.7.0)\n",
      "Requirement already satisfied: fastapi<1.0,>=0.115.2 in c:\\users\\euiyoung.hwang\\git_workspace\\elk-stack-upgrade\\.venv\\lib\\site-packages (from gradio) (0.115.6)\n",
      "Requirement already satisfied: ffmpy in c:\\users\\euiyoung.hwang\\git_workspace\\elk-stack-upgrade\\.venv\\lib\\site-packages (from gradio) (0.4.0)\n",
      "Requirement already satisfied: gradio-client==1.5.2 in c:\\users\\euiyoung.hwang\\git_workspace\\elk-stack-upgrade\\.venv\\lib\\site-packages (from gradio) (1.5.2)\n",
      "Requirement already satisfied: httpx>=0.24.1 in c:\\users\\euiyoung.hwang\\git_workspace\\elk-stack-upgrade\\.venv\\lib\\site-packages (from gradio) (0.28.1)\n",
      "Requirement already satisfied: huggingface-hub>=0.25.1 in c:\\users\\euiyoung.hwang\\git_workspace\\elk-stack-upgrade\\.venv\\lib\\site-packages (from gradio) (0.27.0)\n",
      "Requirement already satisfied: jinja2<4.0 in c:\\users\\euiyoung.hwang\\git_workspace\\elk-stack-upgrade\\.venv\\lib\\site-packages (from gradio) (3.1.4)\n",
      "Requirement already satisfied: markupsafe~=2.0 in c:\\users\\euiyoung.hwang\\git_workspace\\elk-stack-upgrade\\.venv\\lib\\site-packages (from gradio) (2.1.5)\n",
      "Requirement already satisfied: numpy<3.0,>=1.0 in c:\\users\\euiyoung.hwang\\git_workspace\\elk-stack-upgrade\\.venv\\lib\\site-packages (from gradio) (1.26.4)\n",
      "Requirement already satisfied: orjson~=3.0 in c:\\users\\euiyoung.hwang\\git_workspace\\elk-stack-upgrade\\.venv\\lib\\site-packages (from gradio) (3.10.12)\n",
      "Requirement already satisfied: packaging in c:\\users\\euiyoung.hwang\\git_workspace\\elk-stack-upgrade\\.venv\\lib\\site-packages (from gradio) (24.1)\n",
      "Requirement already satisfied: pandas<3.0,>=1.0 in c:\\users\\euiyoung.hwang\\git_workspace\\elk-stack-upgrade\\.venv\\lib\\site-packages (from gradio) (2.2.0)\n",
      "Requirement already satisfied: pillow<12.0,>=8.0 in c:\\users\\euiyoung.hwang\\git_workspace\\elk-stack-upgrade\\.venv\\lib\\site-packages (from gradio) (11.0.0)\n",
      "Requirement already satisfied: pydantic>=2.0 in c:\\users\\euiyoung.hwang\\git_workspace\\elk-stack-upgrade\\.venv\\lib\\site-packages (from gradio) (2.10.4)\n",
      "Requirement already satisfied: pydub in c:\\users\\euiyoung.hwang\\git_workspace\\elk-stack-upgrade\\.venv\\lib\\site-packages (from gradio) (0.25.1)\n",
      "Requirement already satisfied: python-multipart>=0.0.18 in c:\\users\\euiyoung.hwang\\git_workspace\\elk-stack-upgrade\\.venv\\lib\\site-packages (from gradio) (0.0.19)\n",
      "Requirement already satisfied: pyyaml<7.0,>=5.0 in c:\\users\\euiyoung.hwang\\git_workspace\\elk-stack-upgrade\\.venv\\lib\\site-packages (from gradio) (6.0.2)\n",
      "Requirement already satisfied: ruff>=0.2.2 in c:\\users\\euiyoung.hwang\\git_workspace\\elk-stack-upgrade\\.venv\\lib\\site-packages (from gradio) (0.8.3)\n",
      "Requirement already satisfied: safehttpx<0.2.0,>=0.1.6 in c:\\users\\euiyoung.hwang\\git_workspace\\elk-stack-upgrade\\.venv\\lib\\site-packages (from gradio) (0.1.6)\n",
      "Requirement already satisfied: semantic-version~=2.0 in c:\\users\\euiyoung.hwang\\git_workspace\\elk-stack-upgrade\\.venv\\lib\\site-packages (from gradio) (2.10.0)\n",
      "Requirement already satisfied: starlette<1.0,>=0.40.0 in c:\\users\\euiyoung.hwang\\git_workspace\\elk-stack-upgrade\\.venv\\lib\\site-packages (from gradio) (0.41.3)\n",
      "Requirement already satisfied: tomlkit<0.14.0,>=0.12.0 in c:\\users\\euiyoung.hwang\\git_workspace\\elk-stack-upgrade\\.venv\\lib\\site-packages (from gradio) (0.12.5)\n",
      "Requirement already satisfied: typer<1.0,>=0.12 in c:\\users\\euiyoung.hwang\\git_workspace\\elk-stack-upgrade\\.venv\\lib\\site-packages (from gradio) (0.15.1)\n",
      "Requirement already satisfied: typing-extensions~=4.0 in c:\\users\\euiyoung.hwang\\git_workspace\\elk-stack-upgrade\\.venv\\lib\\site-packages (from gradio) (4.12.2)\n",
      "Requirement already satisfied: uvicorn>=0.14.0 in c:\\users\\euiyoung.hwang\\git_workspace\\elk-stack-upgrade\\.venv\\lib\\site-packages (from gradio) (0.34.0)\n",
      "Requirement already satisfied: fsspec in c:\\users\\euiyoung.hwang\\git_workspace\\elk-stack-upgrade\\.venv\\lib\\site-packages (from gradio-client==1.5.2->gradio) (2024.10.0)\n",
      "Requirement already satisfied: websockets<15.0,>=10.0 in c:\\users\\euiyoung.hwang\\git_workspace\\elk-stack-upgrade\\.venv\\lib\\site-packages (from gradio-client==1.5.2->gradio) (14.1)\n",
      "Requirement already satisfied: idna>=2.8 in c:\\users\\euiyoung.hwang\\git_workspace\\elk-stack-upgrade\\.venv\\lib\\site-packages (from anyio<5.0,>=3.0->gradio) (3.7)\n",
      "Requirement already satisfied: sniffio>=1.1 in c:\\users\\euiyoung.hwang\\git_workspace\\elk-stack-upgrade\\.venv\\lib\\site-packages (from anyio<5.0,>=3.0->gradio) (1.3.1)\n",
      "Requirement already satisfied: certifi in c:\\users\\euiyoung.hwang\\git_workspace\\elk-stack-upgrade\\.venv\\lib\\site-packages (from httpx>=0.24.1->gradio) (2024.6.2)\n",
      "Requirement already satisfied: httpcore==1.* in c:\\users\\euiyoung.hwang\\git_workspace\\elk-stack-upgrade\\.venv\\lib\\site-packages (from httpx>=0.24.1->gradio) (1.0.7)\n",
      "Requirement already satisfied: h11<0.15,>=0.13 in c:\\users\\euiyoung.hwang\\git_workspace\\elk-stack-upgrade\\.venv\\lib\\site-packages (from httpcore==1.*->httpx>=0.24.1->gradio) (0.14.0)\n",
      "Requirement already satisfied: filelock in c:\\users\\euiyoung.hwang\\git_workspace\\elk-stack-upgrade\\.venv\\lib\\site-packages (from huggingface-hub>=0.25.1->gradio) (3.15.4)\n",
      "Requirement already satisfied: requests in c:\\users\\euiyoung.hwang\\git_workspace\\elk-stack-upgrade\\.venv\\lib\\site-packages (from huggingface-hub>=0.25.1->gradio) (2.32.3)\n",
      "Requirement already satisfied: tqdm>=4.42.1 in c:\\users\\euiyoung.hwang\\git_workspace\\elk-stack-upgrade\\.venv\\lib\\site-packages (from huggingface-hub>=0.25.1->gradio) (4.67.1)\n",
      "Requirement already satisfied: python-dateutil>=2.8.2 in c:\\users\\euiyoung.hwang\\git_workspace\\elk-stack-upgrade\\.venv\\lib\\site-packages (from pandas<3.0,>=1.0->gradio) (2.9.0.post0)\n",
      "Requirement already satisfied: pytz>=2020.1 in c:\\users\\euiyoung.hwang\\git_workspace\\elk-stack-upgrade\\.venv\\lib\\site-packages (from pandas<3.0,>=1.0->gradio) (2024.1)\n",
      "Requirement already satisfied: tzdata>=2022.7 in c:\\users\\euiyoung.hwang\\git_workspace\\elk-stack-upgrade\\.venv\\lib\\site-packages (from pandas<3.0,>=1.0->gradio) (2024.1)\n",
      "Requirement already satisfied: annotated-types>=0.6.0 in c:\\users\\euiyoung.hwang\\git_workspace\\elk-stack-upgrade\\.venv\\lib\\site-packages (from pydantic>=2.0->gradio) (0.7.0)\n",
      "Requirement already satisfied: pydantic-core==2.27.2 in c:\\users\\euiyoung.hwang\\git_workspace\\elk-stack-upgrade\\.venv\\lib\\site-packages (from pydantic>=2.0->gradio) (2.27.2)\n",
      "Requirement already satisfied: click>=8.0.0 in c:\\users\\euiyoung.hwang\\git_workspace\\elk-stack-upgrade\\.venv\\lib\\site-packages (from typer<1.0,>=0.12->gradio) (8.1.7)\n",
      "Requirement already satisfied: shellingham>=1.3.0 in c:\\users\\euiyoung.hwang\\git_workspace\\elk-stack-upgrade\\.venv\\lib\\site-packages (from typer<1.0,>=0.12->gradio) (1.5.4)\n",
      "Requirement already satisfied: rich>=10.11.0 in c:\\users\\euiyoung.hwang\\git_workspace\\elk-stack-upgrade\\.venv\\lib\\site-packages (from typer<1.0,>=0.12->gradio) (13.8.0)\n",
      "Requirement already satisfied: colorama in c:\\users\\euiyoung.hwang\\git_workspace\\elk-stack-upgrade\\.venv\\lib\\site-packages (from click>=8.0.0->typer<1.0,>=0.12->gradio) (0.4.6)\n",
      "Requirement already satisfied: six>=1.5 in c:\\users\\euiyoung.hwang\\git_workspace\\elk-stack-upgrade\\.venv\\lib\\site-packages (from python-dateutil>=2.8.2->pandas<3.0,>=1.0->gradio) (1.16.0)\n",
      "Requirement already satisfied: markdown-it-py>=2.2.0 in c:\\users\\euiyoung.hwang\\git_workspace\\elk-stack-upgrade\\.venv\\lib\\site-packages (from rich>=10.11.0->typer<1.0,>=0.12->gradio) (3.0.0)\n",
      "Requirement already satisfied: pygments<3.0.0,>=2.13.0 in c:\\users\\euiyoung.hwang\\git_workspace\\elk-stack-upgrade\\.venv\\lib\\site-packages (from rich>=10.11.0->typer<1.0,>=0.12->gradio) (2.18.0)\n",
      "Requirement already satisfied: charset-normalizer<4,>=2 in c:\\users\\euiyoung.hwang\\git_workspace\\elk-stack-upgrade\\.venv\\lib\\site-packages (from requests->huggingface-hub>=0.25.1->gradio) (3.3.2)\n",
      "Requirement already satisfied: urllib3<3,>=1.21.1 in c:\\users\\euiyoung.hwang\\git_workspace\\elk-stack-upgrade\\.venv\\lib\\site-packages (from requests->huggingface-hub>=0.25.1->gradio) (1.26.19)\n",
      "Requirement already satisfied: mdurl~=0.1 in c:\\users\\euiyoung.hwang\\git_workspace\\elk-stack-upgrade\\.venv\\lib\\site-packages (from markdown-it-py>=2.2.0->rich>=10.11.0->typer<1.0,>=0.12->gradio) (0.1.2)\n"
     ]
    },
    {
     "name": "stderr",
     "output_type": "stream",
     "text": [
      "\n",
      "[notice] A new release of pip is available: 24.2 -> 24.3.1\n",
      "[notice] To update, run: python.exe -m pip install --upgrade pip\n"
     ]
    },
    {
     "name": "stdout",
     "output_type": "stream",
     "text": [
      "Requirement already satisfied: email-validator in c:\\users\\euiyoung.hwang\\git_workspace\\elk-stack-upgrade\\.venv\\lib\\site-packages (2.2.0)\n",
      "Requirement already satisfied: dnspython>=2.0.0 in c:\\users\\euiyoung.hwang\\git_workspace\\elk-stack-upgrade\\.venv\\lib\\site-packages (from email-validator) (2.6.1)\n",
      "Requirement already satisfied: idna>=2.0.0 in c:\\users\\euiyoung.hwang\\git_workspace\\elk-stack-upgrade\\.venv\\lib\\site-packages (from email-validator) (3.7)\n"
     ]
    },
    {
     "name": "stderr",
     "output_type": "stream",
     "text": [
      "\n",
      "[notice] A new release of pip is available: 24.2 -> 24.3.1\n",
      "[notice] To update, run: python.exe -m pip install --upgrade pip\n"
     ]
    }
   ],
   "source": [
    "!pip install gradio\n",
    "!pip install -U email-validator"
   ]
  },
  {
   "cell_type": "code",
   "execution_count": 4,
   "id": "e3a84eca-3244-44c4-9219-2fbc280af5dc",
   "metadata": {},
   "outputs": [],
   "source": [
    "import gradio as gr\n",
    "import datetime"
   ]
  },
  {
   "cell_type": "code",
   "execution_count": 5,
   "id": "c8b547a1-00d2-46e9-918b-ed2289a5b5d5",
   "metadata": {},
   "outputs": [],
   "source": [
    "def user_greeting(name, intensity):\n",
    "    # return \"안녕하세요! \" + name + \"님, 첫 번째 Gradio 애플리케이션에 오신 것을 환영합니다!😎\"\n",
    "    return \"Hello, \" + name + \"!\" * int(intensity)"
   ]
  },
  {
   "cell_type": "code",
   "execution_count": 6,
   "id": "a38618c4-75bf-490a-968f-fa68e0f452e2",
   "metadata": {
    "scrolled": true
   },
   "outputs": [
    {
     "name": "stdout",
     "output_type": "stream",
     "text": [
      "* Running on local URL:  http://127.0.0.1:7860\n",
      "\n",
      "Could not create share link. Missing file: C:\\Users\\euiyoung.hwang\\Git_Workspace\\ELK-Stack-Upgrade\\.venv\\Lib\\site-packages\\gradio\\frpc_windows_amd64_v0.3. \n",
      "\n",
      "Please check your internet connection. This can happen if your antivirus software blocks the download of this file. You can install manually by following these steps: \n",
      "\n",
      "1. Download this file: https://cdn-media.huggingface.co/frpc-gradio-0.3/frpc_windows_amd64.exe\n",
      "2. Rename the downloaded file to: frpc_windows_amd64_v0.3\n",
      "3. Move the file to this location: C:\\Users\\euiyoung.hwang\\Git_Workspace\\ELK-Stack-Upgrade\\.venv\\Lib\\site-packages\\gradio\n"
     ]
    },
    {
     "data": {
      "text/html": [
       "<div><iframe src=\"http://127.0.0.1:7860/\" width=\"100%\" height=\"500\" allow=\"autoplay; camera; microphone; clipboard-read; clipboard-write;\" frameborder=\"0\" allowfullscreen></iframe></div>"
      ],
      "text/plain": [
       "<IPython.core.display.HTML object>"
      ]
     },
     "metadata": {},
     "output_type": "display_data"
    },
    {
     "data": {
      "text/plain": []
     },
     "execution_count": 6,
     "metadata": {},
     "output_type": "execute_result"
    }
   ],
   "source": [
    "# You can run Gradio in your favorite code editor, Jupyter notebook, Google Colab, or anywhere else you write Python\n",
    "# app = gr.Interface(fn=user_greeting, inputs=\"text\", outputs=\"text\")\n",
    "app = gr.Interface(fn=user_greeting, inputs=[\"text\", \"slider\"], outputs=\"text\")\n",
    "# app.launch()\n",
    "app.launch(share=True)  # Share your demo with just 1 extra parameter 🚀"
   ]
  },
  {
   "cell_type": "code",
   "execution_count": 7,
   "id": "04f27a5c-660f-4f66-8f65-054471303faf",
   "metadata": {},
   "outputs": [],
   "source": [
    "from elasticsearch import Elasticsearch\n",
    "import os\n",
    "import json"
   ]
  },
  {
   "cell_type": "code",
   "execution_count": 8,
   "id": "c4612e79-254f-47cf-be6c-19bc96afe869",
   "metadata": {},
   "outputs": [],
   "source": [
    "def get_headers():\n",
    "    ''' Elasticsearch Header '''\n",
    "    return {\n",
    "            'Content-type': 'application/json', \n",
    "            'Authorization' : '{}'.format(os.getenv('BASIC_AUTH')),\n",
    "            # 'Connection': 'close'\n",
    "    }"
   ]
  },
  {
   "cell_type": "code",
   "execution_count": 9,
   "id": "f8989a04-fea1-4f3a-8bc7-d94d04731f32",
   "metadata": {},
   "outputs": [
    {
     "name": "stdout",
     "output_type": "stream",
     "text": [
      "1736964392 18:06:32 docker-cluster yellow 1 1 78 78 0 0 78 0 - 50.0%\n",
      "\n",
      "{\n",
      "  \"cluster_name\": \"docker-cluster\",\n",
      "  \"status\": \"yellow\",\n",
      "  \"timed_out\": false,\n",
      "  \"number_of_nodes\": 1,\n",
      "  \"number_of_data_nodes\": 1,\n",
      "  \"active_primary_shards\": 78,\n",
      "  \"active_shards\": 78,\n",
      "  \"relocating_shards\": 0,\n",
      "  \"initializing_shards\": 0,\n",
      "  \"unassigned_shards\": 78,\n",
      "  \"delayed_unassigned_shards\": 0,\n",
      "  \"number_of_pending_tasks\": 0,\n",
      "  \"number_of_in_flight_fetch\": 0,\n",
      "  \"task_max_waiting_in_queue_millis\": 0,\n",
      "  \"active_shards_percent_as_number\": 50.0\n",
      "}\n"
     ]
    }
   ],
   "source": [
    "es = Elasticsearch(hosts=\"http://localhost:9201\", headers=get_headers(), timeout=5,  verify_certs=False)\n",
    "print(es.cat.health())\n",
    "print(json.dumps(es.cluster.health(), indent=2))"
   ]
  },
  {
   "cell_type": "code",
   "execution_count": 10,
   "id": "80f74643-f78c-421a-98f8-237b67d6ccb7",
   "metadata": {},
   "outputs": [],
   "source": [
    "def es_get_health(host):\n",
    "    es_client = Elasticsearch(hosts=\"http://{}\".format(host), headers=get_headers(), timeout=5,  verify_certs=False)\n",
    "    return json.dumps(es_client.cluster.health(), indent=2), es_client.cluster.health()['status']"
   ]
  },
  {
   "cell_type": "code",
   "execution_count": 11,
   "id": "36470cdb-f06d-4855-a6ac-aec78c4c0b3f",
   "metadata": {
    "scrolled": true
   },
   "outputs": [
    {
     "name": "stdout",
     "output_type": "stream",
     "text": [
      "* Running on local URL:  http://127.0.0.1:7861\n",
      "\n",
      "To create a public link, set `share=True` in `launch()`.\n"
     ]
    },
    {
     "data": {
      "text/html": [
       "<div><iframe src=\"http://127.0.0.1:7861/\" width=\"100%\" height=\"500\" allow=\"autoplay; camera; microphone; clipboard-read; clipboard-write;\" frameborder=\"0\" allowfullscreen></iframe></div>"
      ],
      "text/plain": [
       "<IPython.core.display.HTML object>"
      ]
     },
     "metadata": {},
     "output_type": "display_data"
    },
    {
     "data": {
      "text/plain": []
     },
     "execution_count": 11,
     "metadata": {},
     "output_type": "execute_result"
    }
   ],
   "source": [
    "# Gradio is an open-source Python package that allows you to quickly build a demo or web application for your machine learning model, API, or any arbitrary Python function. \n",
    "# You can then share a link to your demo or web application in just a few seconds using Gradio's built-in sharing features.\n",
    "''' https://www.gradio.app/guides/quickstart '''\n",
    "''' https://www.gradio.app/docs/gradio/label '''\n",
    "''' Prerequisite: Gradio requires Python 3.10 or higher. --> We recommend installing Gradio using pip, pip install --upgrade gradio'''\n",
    "# http://127.0.0.1:7880/?__theme=dark\n",
    "# app = gr.Interface(fn=es_get_health, inputs=[\"text\"], outputs=\"text\")\n",
    "with gr.Blocks() as app:\n",
    "    gr.Markdown(\"# ES Cluster Health\")\n",
    "    # es_status = json.loads(es_get_health(\"localhost:9201\"))['status']\n",
    "    label = gr.Label(value = \"\", show_label=True, label=\"ES cluster status\")\n",
    "    gr.Interface(fn=es_get_health, inputs=[\"text\"], outputs=[\"text\", label])\n",
    "        \n",
    "app.launch()"
   ]
  },
  {
   "cell_type": "code",
   "execution_count": 12,
   "id": "dccfa7a2-ecc2-4415-a3f7-404cdc7da11a",
   "metadata": {},
   "outputs": [
    {
     "name": "stdout",
     "output_type": "stream",
     "text": [
      "Requirement already satisfied: ipytest in c:\\users\\euiyoung.hwang\\git_workspace\\elk-stack-upgrade\\.venv\\lib\\site-packages (0.14.2)\n",
      "Requirement already satisfied: ipython in c:\\users\\euiyoung.hwang\\git_workspace\\elk-stack-upgrade\\.venv\\lib\\site-packages (from ipytest) (8.30.0)\n",
      "Requirement already satisfied: packaging in c:\\users\\euiyoung.hwang\\git_workspace\\elk-stack-upgrade\\.venv\\lib\\site-packages (from ipytest) (24.1)\n",
      "Requirement already satisfied: pytest>=5.4 in c:\\users\\euiyoung.hwang\\git_workspace\\elk-stack-upgrade\\.venv\\lib\\site-packages (from ipytest) (8.2.2)\n",
      "Requirement already satisfied: iniconfig in c:\\users\\euiyoung.hwang\\git_workspace\\elk-stack-upgrade\\.venv\\lib\\site-packages (from pytest>=5.4->ipytest) (2.0.0)\n",
      "Requirement already satisfied: pluggy<2.0,>=1.5 in c:\\users\\euiyoung.hwang\\git_workspace\\elk-stack-upgrade\\.venv\\lib\\site-packages (from pytest>=5.4->ipytest) (1.5.0)\n",
      "Requirement already satisfied: colorama in c:\\users\\euiyoung.hwang\\git_workspace\\elk-stack-upgrade\\.venv\\lib\\site-packages (from pytest>=5.4->ipytest) (0.4.6)\n",
      "Requirement already satisfied: decorator in c:\\users\\euiyoung.hwang\\git_workspace\\elk-stack-upgrade\\.venv\\lib\\site-packages (from ipython->ipytest) (5.1.1)\n",
      "Requirement already satisfied: jedi>=0.16 in c:\\users\\euiyoung.hwang\\git_workspace\\elk-stack-upgrade\\.venv\\lib\\site-packages (from ipython->ipytest) (0.19.2)\n",
      "Requirement already satisfied: matplotlib-inline in c:\\users\\euiyoung.hwang\\git_workspace\\elk-stack-upgrade\\.venv\\lib\\site-packages (from ipython->ipytest) (0.1.7)\n",
      "Requirement already satisfied: prompt_toolkit<3.1.0,>=3.0.41 in c:\\users\\euiyoung.hwang\\git_workspace\\elk-stack-upgrade\\.venv\\lib\\site-packages (from ipython->ipytest) (3.0.48)\n",
      "Requirement already satisfied: pygments>=2.4.0 in c:\\users\\euiyoung.hwang\\git_workspace\\elk-stack-upgrade\\.venv\\lib\\site-packages (from ipython->ipytest) (2.18.0)\n",
      "Requirement already satisfied: stack_data in c:\\users\\euiyoung.hwang\\git_workspace\\elk-stack-upgrade\\.venv\\lib\\site-packages (from ipython->ipytest) (0.6.3)\n",
      "Requirement already satisfied: traitlets>=5.13.0 in c:\\users\\euiyoung.hwang\\git_workspace\\elk-stack-upgrade\\.venv\\lib\\site-packages (from ipython->ipytest) (5.14.3)\n",
      "Requirement already satisfied: typing_extensions>=4.6 in c:\\users\\euiyoung.hwang\\git_workspace\\elk-stack-upgrade\\.venv\\lib\\site-packages (from ipython->ipytest) (4.12.2)\n",
      "Requirement already satisfied: parso<0.9.0,>=0.8.4 in c:\\users\\euiyoung.hwang\\git_workspace\\elk-stack-upgrade\\.venv\\lib\\site-packages (from jedi>=0.16->ipython->ipytest) (0.8.4)\n",
      "Requirement already satisfied: wcwidth in c:\\users\\euiyoung.hwang\\git_workspace\\elk-stack-upgrade\\.venv\\lib\\site-packages (from prompt_toolkit<3.1.0,>=3.0.41->ipython->ipytest) (0.2.13)\n",
      "Requirement already satisfied: executing>=1.2.0 in c:\\users\\euiyoung.hwang\\git_workspace\\elk-stack-upgrade\\.venv\\lib\\site-packages (from stack_data->ipython->ipytest) (2.1.0)\n",
      "Requirement already satisfied: asttokens>=2.1.0 in c:\\users\\euiyoung.hwang\\git_workspace\\elk-stack-upgrade\\.venv\\lib\\site-packages (from stack_data->ipython->ipytest) (3.0.0)\n",
      "Requirement already satisfied: pure-eval in c:\\users\\euiyoung.hwang\\git_workspace\\elk-stack-upgrade\\.venv\\lib\\site-packages (from stack_data->ipython->ipytest) (0.2.3)\n"
     ]
    },
    {
     "name": "stderr",
     "output_type": "stream",
     "text": [
      "\n",
      "[notice] A new release of pip is available: 24.2 -> 24.3.1\n",
      "[notice] To update, run: python.exe -m pip install --upgrade pip\n"
     ]
    }
   ],
   "source": [
    "!pip install ipytest"
   ]
  },
  {
   "cell_type": "code",
   "execution_count": 13,
   "id": "d7cbcd7a-6b6e-42d7-b592-865048c002b3",
   "metadata": {},
   "outputs": [],
   "source": [
    "# *** Validate the total count of each index between source/dest ES cluster **** \n",
    "# import pytest\n",
    "import ipytest"
   ]
  },
  {
   "cell_type": "code",
   "execution_count": 14,
   "id": "440dc536-4339-4414-8f24-28aa0d6a7647",
   "metadata": {},
   "outputs": [],
   "source": [
    "''' To begin, you need to install pytest and ipytest, a tool designed to run pytest tests directly in Jupyter. Execute the following in a Jupyter cell '''\n",
    "ipytest.autoconfig()"
   ]
  },
  {
   "cell_type": "markdown",
   "id": "8da94686-bfc3-44ea-a5b0-fed87b8b54b3",
   "metadata": {},
   "source": [
    "#### ES Client based on Python ####\n",
    "* ES Client API (reference : https://elasticsearch-py.readthedocs.io/en/v8.8.0/)"
   ]
  },
  {
   "cell_type": "code",
   "execution_count": 15,
   "id": "fe37a630-62d7-4f7b-9db0-639bb429b7c1",
   "metadata": {},
   "outputs": [
    {
     "name": "stdout",
     "output_type": "stream",
     "text": [
      "{\n",
      "  \"name\": \"fn-dm-bees-omni-data-01\",\n",
      "  \"cluster_name\": \"docker-cluster\",\n",
      "  \"cluster_uuid\": \"9dhpDIHTR7CobqEnNoqabA\",\n",
      "  \"version\": {\n",
      "    \"number\": \"5.6.4\",\n",
      "    \"build_hash\": \"8bbedf5\",\n",
      "    \"build_date\": \"2017-10-31T18:55:38.105Z\",\n",
      "    \"build_snapshot\": false,\n",
      "    \"lucene_version\": \"6.6.1\"\n",
      "  },\n",
      "  \"tagline\": \"You Know, for Search\"\n",
      "}\n"
     ]
    }
   ],
   "source": [
    "print(json.dumps(es.info(), indent=2))"
   ]
  },
  {
   "cell_type": "code",
   "execution_count": 16,
   "id": "4b4d406a-bc02-4028-82bb-cf7bf5bdb721",
   "metadata": {},
   "outputs": [
    {
     "name": "stdout",
     "output_type": "stream",
     "text": [
      "1736964397 18:06:37 docker-elasticsearch yellow 1 1 77 77 0 0 56 0 - 57.9%\n",
      "\n",
      "{\n",
      "  \"cluster_name\": \"docker-elasticsearch\",\n",
      "  \"status\": \"yellow\",\n",
      "  \"timed_out\": false,\n",
      "  \"number_of_nodes\": 1,\n",
      "  \"number_of_data_nodes\": 1,\n",
      "  \"active_primary_shards\": 77,\n",
      "  \"active_shards\": 77,\n",
      "  \"relocating_shards\": 0,\n",
      "  \"initializing_shards\": 0,\n",
      "  \"unassigned_shards\": 56,\n",
      "  \"delayed_unassigned_shards\": 0,\n",
      "  \"number_of_pending_tasks\": 0,\n",
      "  \"number_of_in_flight_fetch\": 0,\n",
      "  \"task_max_waiting_in_queue_millis\": 0,\n",
      "  \"active_shards_percent_as_number\": 57.89473684210527\n",
      "}\n",
      "{\n",
      "  \"name\": \"fn-dm-bees-omni-data-01\",\n",
      "  \"cluster_name\": \"docker-elasticsearch\",\n",
      "  \"cluster_uuid\": \"w3idAZFFS1uh6v5LieHUxA\",\n",
      "  \"version\": {\n",
      "    \"number\": \"8.8.0\",\n",
      "    \"build_flavor\": \"default\",\n",
      "    \"build_type\": \"docker\",\n",
      "    \"build_hash\": \"c01029875a091076ed42cdb3a41c10b1a9a5a20f\",\n",
      "    \"build_date\": \"2023-05-23T17:16:07.179039820Z\",\n",
      "    \"build_snapshot\": false,\n",
      "    \"lucene_version\": \"9.6.0\",\n",
      "    \"minimum_wire_compatibility_version\": \"7.17.0\",\n",
      "    \"minimum_index_compatibility_version\": \"7.0.0\"\n",
      "  },\n",
      "  \"tagline\": \"You Know, for Search\"\n",
      "}\n"
     ]
    }
   ],
   "source": [
    "''' This client was designed as very thin wrapper around Elasticsearch’s REST API to allow for maximum flexibility.  '''\n",
    "es8_client = Elasticsearch(hosts=\"http://localhost:9202\", headers=get_headers(), timeout=5,  verify_certs=False)\n",
    "print(es8_client.cat.health())\n",
    "print(json.dumps(es8_client.cluster.health(), indent=2))\n",
    "print(json.dumps(es8_client.info(), indent=2))"
   ]
  },
  {
   "cell_type": "markdown",
   "id": "f40dcfa4-5232-49a4-a21c-95b7a80ee00b",
   "metadata": {},
   "source": [
    "* Example Index"
   ]
  },
  {
   "cell_type": "code",
   "execution_count": 17,
   "id": "78c2150d-1667-44c3-82d2-8564059f40eb",
   "metadata": {},
   "outputs": [],
   "source": [
    "from datetime import datetime"
   ]
  },
  {
   "cell_type": "code",
   "execution_count": 18,
   "id": "2cff7f51-71a0-4760-9f9f-925cfe662c06",
   "metadata": {},
   "outputs": [
    {
     "name": "stdout",
     "output_type": "stream",
     "text": [
      "\"updated\"\n",
      "{'author': 'kimchy', 'text': 'Elasticsearch: cool. bonsai cool.', 'timestamp': '2025-01-15T12:06:37.182768'}\n"
     ]
    },
    {
     "data": {
      "text/plain": [
       "{'_shards': {'total': 2, 'successful': 1, 'failed': 0}}"
      ]
     },
     "execution_count": 18,
     "metadata": {},
     "output_type": "execute_result"
    }
   ],
   "source": [
    "doc = {\n",
    "    \"author\": \"kimchy\",\n",
    "    \"text\": \"Elasticsearch: cool. bonsai cool.\",\n",
    "    \"timestamp\": datetime.now(),\n",
    "}\n",
    "resp = es8_client.index(index=\"test-index\", id=1, body=doc)\n",
    "print(json.dumps(resp[\"result\"], indent=2))\n",
    "\n",
    "''' http://localhost:9202/test-index/_doc/1 '''\n",
    "resp = es8_client.get(index=\"test-index\", id=1)\n",
    "print(resp[\"_source\"])\n",
    "\n",
    "es8_client.indices.refresh(index=\"test-index\")"
   ]
  },
  {
   "cell_type": "code",
   "execution_count": 19,
   "id": "68ff35e2-c6dd-4e42-836a-0825a09030f6",
   "metadata": {},
   "outputs": [
    {
     "name": "stdout",
     "output_type": "stream",
     "text": [
      "{\n",
      "  \"total\": {\n",
      "    \"value\": 1,\n",
      "    \"relation\": \"eq\"\n",
      "  },\n",
      "  \"max_score\": 1.0,\n",
      "  \"hits\": [\n",
      "    {\n",
      "      \"_index\": \"test-index\",\n",
      "      \"_id\": \"1\",\n",
      "      \"_score\": 1.0,\n",
      "      \"_source\": {\n",
      "        \"author\": \"kimchy\",\n",
      "        \"text\": \"Elasticsearch: cool. bonsai cool.\",\n",
      "        \"timestamp\": \"2025-01-15T12:06:37.182768\"\n",
      "      }\n",
      "    }\n",
      "  ]\n",
      "}\n"
     ]
    }
   ],
   "source": [
    "query={\"query\": {\"match_all\": {}}}\n",
    "resp = es8_client.search(index=\"test-index\", body=query)\n",
    "print(json.dumps(resp['hits'], indent=2))"
   ]
  },
  {
   "cell_type": "code",
   "execution_count": 20,
   "id": "8c02e51c-91b1-4ac0-96d9-0426e32f8426",
   "metadata": {},
   "outputs": [
    {
     "name": "stdout",
     "output_type": "stream",
     "text": [
      "Got 1 hits:\n",
      "2025-01-15T12:06:37.182768 kimchy Elasticsearch: cool. bonsai cool.\n"
     ]
    }
   ],
   "source": [
    "print(\"Got {} hits:\".format(resp[\"hits\"][\"total\"][\"value\"]))\n",
    "for hit in resp[\"hits\"][\"hits\"]:\n",
    "    print(\"{timestamp} {author} {text}\".format(**hit[\"_source\"]))"
   ]
  },
  {
   "cell_type": "code",
   "execution_count": 21,
   "id": "3720fea0-f1de-4455-b873-c0152019f3b9",
   "metadata": {},
   "outputs": [
    {
     "name": "stdout",
     "output_type": "stream",
     "text": [
      "{\n",
      "  \"tokens\": [\n",
      "    {\n",
      "      \"token\": \"the\",\n",
      "      \"start_offset\": 0,\n",
      "      \"end_offset\": 3,\n",
      "      \"type\": \"<ALPHANUM>\",\n",
      "      \"position\": 0\n",
      "    },\n",
      "    {\n",
      "      \"token\": \"quick\",\n",
      "      \"start_offset\": 4,\n",
      "      \"end_offset\": 9,\n",
      "      \"type\": \"<ALPHANUM>\",\n",
      "      \"position\": 1\n",
      "    }\n",
      "  ]\n",
      "}\n"
     ]
    }
   ],
   "source": [
    "response = es8_client.indices.analyze(index=\"test-index\", body={\n",
    "            \"analyzer\": \"standard\",\n",
    "            \"text\": \"The quick\",\n",
    "        })\n",
    "print(json.dumps(response, indent=2))                            "
   ]
  },
  {
   "cell_type": "code",
   "execution_count": 22,
   "id": "0b760d06-59cb-43ec-a4b4-353323f2ad1e",
   "metadata": {},
   "outputs": [],
   "source": [
    "import warnings\n",
    "import pytest\n",
    "warnings.filterwarnings('ignore')"
   ]
  },
  {
   "cell_type": "code",
   "execution_count": 23,
   "id": "2fae8fee-27ff-41b7-85a0-f6020cdf1408",
   "metadata": {},
   "outputs": [],
   "source": [
    "''' ******* Test code ********* '''\n",
    "@pytest.mark.skip(reason=\"no way of currently testing this\")\n",
    "def test_pytest_skip_func():\n",
    "    assert 42 == 42"
   ]
  },
  {
   "cell_type": "code",
   "execution_count": 24,
   "id": "09243ba4-1c5f-438a-aa5f-6090ace2047f",
   "metadata": {},
   "outputs": [],
   "source": [
    "def test_pytest_func():\n",
    "    assert 42 == 42"
   ]
  },
  {
   "cell_type": "code",
   "execution_count": 25,
   "id": "814bb5b5-3292-47a9-bf2e-346b5cad8bec",
   "metadata": {},
   "outputs": [],
   "source": [
    "def test_index_analyze():\n",
    "    response = es8_client.indices.analyze(index=\"test-index\", body={\n",
    "            \"analyzer\": \"standard\",\n",
    "            \"text\": \"The quick\",\n",
    "        })\n",
    "    assert response == {\n",
    "      \"tokens\": [\n",
    "        {\n",
    "          \"token\": \"the\",\n",
    "          \"start_offset\": 0,\n",
    "          \"end_offset\": 3,\n",
    "          \"type\": \"<ALPHANUM>\",\n",
    "          \"position\": 0\n",
    "        },\n",
    "        {\n",
    "          \"token\": \"quick\",\n",
    "          \"start_offset\": 4,\n",
    "          \"end_offset\": 9,\n",
    "          \"type\": \"<ALPHANUM>\",\n",
    "          \"position\": 1\n",
    "        }\n",
    "      ]\n",
    "    }"
   ]
  },
  {
   "cell_type": "code",
   "execution_count": 26,
   "id": "93fadc9c-f0d1-497c-9f23-a67e4f4fd574",
   "metadata": {},
   "outputs": [
    {
     "name": "stdout",
     "output_type": "stream",
     "text": [
      "\u001b[1m======================================= test session starts =======================================\u001b[0m\n",
      "platform win32 -- Python 3.11.7, pytest-8.2.2, pluggy-1.5.0 -- C:\\Users\\euiyoung.hwang\\Git_Workspace\\ELK-Stack-Upgrade\\.venv\\Scripts\\python.exe\n",
      "cachedir: .pytest_cache\n",
      "rootdir: C:\\Users\\euiyoung.hwang\\Git_Workspace\\ELK-Stack-Upgrade\n",
      "configfile: pyproject.toml\n",
      "plugins: anyio-4.7.0, cov-6.0.0\n",
      "\u001b[1mcollecting ... \u001b[0mcollected 3 items\n",
      "\n",
      "t_9a4c675b987e4cd286d30c677ea35a75.py::test_pytest_skip_func \u001b[33mSKIPPED\u001b[0m (no way of currentl...)\u001b[33m [ 33%]\u001b[0m\n",
      "t_9a4c675b987e4cd286d30c677ea35a75.py::test_pytest_func \u001b[32mPASSED\u001b[0m\u001b[33m                               [ 66%]\u001b[0m\n",
      "t_9a4c675b987e4cd286d30c677ea35a75.py::test_index_analyze \u001b[32mPASSED\u001b[0m\u001b[33m                             [100%]\u001b[0m\n",
      "\n",
      "\u001b[33m======================================== warnings summary =========================================\u001b[0m\n",
      "..\\.venv\\Lib\\site-packages\\_pytest\\config\\__init__.py:1285\n",
      "  C:\\Users\\euiyoung.hwang\\Git_Workspace\\ELK-Stack-Upgrade\\.venv\\Lib\\site-packages\\_pytest\\config\\__init__.py:1285: PytestAssertRewriteWarning: Module already imported so cannot be rewritten: anyio\n",
      "    self._mark_plugins_for_rewrite(hook)\n",
      "\n",
      "jupyter-workflow/t_9a4c675b987e4cd286d30c677ea35a75.py::test_index_analyze\n",
      "  C:\\Users\\euiyoung.hwang\\Git_Workspace\\ELK-Stack-Upgrade\\.venv\\Lib\\site-packages\\elasticsearch\\connection\\http_urllib3.py:283: DeprecationWarning: HTTPResponse.getheaders() is deprecated and will be removed in urllib3 v2.1.0. Instead access HTTPResponse.headers directly.\n",
      "    return response.status, response.getheaders(), raw_data\n",
      "\n",
      "-- Docs: https://docs.pytest.org/en/stable/how-to/capture-warnings.html\n",
      "\u001b[33m============================ \u001b[32m2 passed\u001b[0m, \u001b[33m\u001b[1m1 skipped\u001b[0m, \u001b[33m\u001b[1m2 warnings\u001b[0m\u001b[33m in 0.03s\u001b[0m\u001b[33m =============================\u001b[0m\n"
     ]
    },
    {
     "data": {
      "text/plain": [
       "<ExitCode.OK: 0>"
      ]
     },
     "execution_count": 26,
     "metadata": {},
     "output_type": "execute_result"
    }
   ],
   "source": [
    "''' Execute the tests using ipytest.run(). You can pass command-line arguments to control test behavior: '''\n",
    "''' The pytest framework makes it easy to write small, readable tests, and can scale to support complex functional testing for applications and libraries. '''\n",
    "ipytest.run('-vv')"
   ]
  },
  {
   "cell_type": "code",
   "execution_count": null,
   "id": "1e573921-1773-49fa-88f8-490b176b4d00",
   "metadata": {},
   "outputs": [],
   "source": []
  }
 ],
 "metadata": {
  "kernelspec": {
   "display_name": "Python 3 (ipykernel)",
   "language": "python",
   "name": "python3"
  },
  "language_info": {
   "codemirror_mode": {
    "name": "ipython",
    "version": 3
   },
   "file_extension": ".py",
   "mimetype": "text/x-python",
   "name": "python",
   "nbconvert_exporter": "python",
   "pygments_lexer": "ipython3",
   "version": "3.11.7"
  }
 },
 "nbformat": 4,
 "nbformat_minor": 5
}

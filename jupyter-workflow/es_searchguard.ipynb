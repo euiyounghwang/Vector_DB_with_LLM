{
 "cells": [
  {
   "cell_type": "code",
   "execution_count": 150,
   "id": "1f606b54-1a9f-44d6-9b69-617351457d57",
   "metadata": {},
   "outputs": [
    {
     "name": "stdout",
     "output_type": "stream",
     "text": [
      "es-search-guard\n"
     ]
    }
   ],
   "source": [
    "'''The Jupyter notebook is a web-based notebook environment for interactive computing. \n",
    "The Jupyter Notebook is an open source web application that you can use to create and share documents that \n",
    "contain live code, equations, visualizations, and text.\n",
    "'''\n",
    "print(f\"es-search-guard\")"
   ]
  },
  {
   "cell_type": "code",
   "execution_count": 151,
   "id": "a80b9e95-0f6a-434d-b688-bd93e87964bf",
   "metadata": {},
   "outputs": [],
   "source": [
    "#pip install elasticsearch==7.13.0"
   ]
  },
  {
   "cell_type": "code",
   "execution_count": 152,
   "id": "319db807-cdde-4862-acd6-e1ef1833bdb9",
   "metadata": {},
   "outputs": [],
   "source": [
    "from elasticsearch import Elasticsearch\n",
    "import os\n",
    "import json\n",
    "import pandas as pd"
   ]
  },
  {
   "cell_type": "code",
   "execution_count": 153,
   "id": "fbc05840-7666-4b7b-88b8-a9e31d676bc9",
   "metadata": {},
   "outputs": [],
   "source": [
    "''' The \"Basic\" HTTP authentication scheme is defined in RFC 7617, which transmits credentials as user ID/password pairs, encoded using base64 '''\n",
    "''' Basic Authentication is a method for an HTTP user agent (e.g., a web browser) to provide a username and password when making a request. '''\n",
    "''' You can send the authorization header when making requests when accessing to ES Cluster based on Search-Guard'''\n",
    "def get_headers():\n",
    "    ''' Elasticsearch Header '''\n",
    "    return {'Content-type': 'application/json', 'Authorization' : '{}'.format(os.getenv('BASIC_AUTH')), 'Connection': 'close'}"
   ]
  },
  {
   "cell_type": "code",
   "execution_count": 154,
   "id": "aacc732b-7f0b-44c3-b0d1-98f0439ebca8",
   "metadata": {},
   "outputs": [],
   "source": [
    "''' Create ES Instance after authenticating user credential. If it is http-based, even if the header value is sent, it is ignored. '''\n",
    "''' https://www.debugbear.com/basic-auth-header-generator '''\n",
    "es = Elasticsearch(hosts=\"http://localhost:9202\", headers=get_headers(), timeout=5,  verify_certs=False)"
   ]
  },
  {
   "cell_type": "code",
   "execution_count": 155,
   "id": "8e3af23a-a58c-43ec-967b-e75c169dfb7b",
   "metadata": {},
   "outputs": [
    {
     "name": "stdout",
     "output_type": "stream",
     "text": [
      "1736197960 21:12:40 docker-elasticsearch yellow 1 1 75 75 0 0 56 0 - 57.3%\n",
      "\n"
     ]
    }
   ],
   "source": [
    "print(es.cat.health())"
   ]
  },
  {
   "cell_type": "code",
   "execution_count": 156,
   "id": "9e5a5cae-0d56-4add-b83b-20d3240e2012",
   "metadata": {},
   "outputs": [
    {
     "name": "stdout",
     "output_type": "stream",
     "text": [
      "{\n",
      "  \"name\": \"fn-dm-bees-omni-data-01\",\n",
      "  \"cluster_name\": \"docker-elasticsearch\",\n",
      "  \"cluster_uuid\": \"w3idAZFFS1uh6v5LieHUxA\",\n",
      "  \"version\": {\n",
      "    \"number\": \"8.8.0\",\n",
      "    \"build_flavor\": \"default\",\n",
      "    \"build_type\": \"docker\",\n",
      "    \"build_hash\": \"c01029875a091076ed42cdb3a41c10b1a9a5a20f\",\n",
      "    \"build_date\": \"2023-05-23T17:16:07.179039820Z\",\n",
      "    \"build_snapshot\": false,\n",
      "    \"lucene_version\": \"9.6.0\",\n",
      "    \"minimum_wire_compatibility_version\": \"7.17.0\",\n",
      "    \"minimum_index_compatibility_version\": \"7.0.0\"\n",
      "  },\n",
      "  \"tagline\": \"You Know, for Search\"\n",
      "}\n"
     ]
    }
   ],
   "source": [
    "print(json.dumps(es.info(), indent=2))"
   ]
  },
  {
   "cell_type": "code",
   "execution_count": 157,
   "id": "77514382-ba84-453e-95f7-afa19c61c494",
   "metadata": {},
   "outputs": [],
   "source": [
    "df = pd.DataFrame(es.info())\n",
    "# display(df)"
   ]
  },
  {
   "cell_type": "code",
   "execution_count": 158,
   "id": "8932414a-9c81-45ba-8f27-bbe0368d9980",
   "metadata": {},
   "outputs": [
    {
     "name": "stdout",
     "output_type": "stream",
     "text": [
      "es version : 8.8.0\n"
     ]
    }
   ],
   "source": [
    "print(f\"es version : {es.info()['version']['number']}\")"
   ]
  },
  {
   "cell_type": "code",
   "execution_count": 159,
   "id": "6eaa2e53-d7c2-46b0-8df0-9150e8fe1a0a",
   "metadata": {},
   "outputs": [
    {
     "name": "stdout",
     "output_type": "stream",
     "text": [
      "{\n",
      "  \"cluster_name\": \"docker-elasticsearch\",\n",
      "  \"status\": \"yellow\",\n",
      "  \"timed_out\": false,\n",
      "  \"number_of_nodes\": 1,\n",
      "  \"number_of_data_nodes\": 1,\n",
      "  \"active_primary_shards\": 75,\n",
      "  \"active_shards\": 75,\n",
      "  \"relocating_shards\": 0,\n",
      "  \"initializing_shards\": 0,\n",
      "  \"unassigned_shards\": 56,\n",
      "  \"delayed_unassigned_shards\": 0,\n",
      "  \"number_of_pending_tasks\": 0,\n",
      "  \"number_of_in_flight_fetch\": 0,\n",
      "  \"task_max_waiting_in_queue_millis\": 0,\n",
      "  \"active_shards_percent_as_number\": 57.25190839694656\n",
      "}\n"
     ]
    }
   ],
   "source": [
    "print(json.dumps(es.cluster.health(), indent=2))"
   ]
  },
  {
   "cell_type": "code",
   "execution_count": 160,
   "id": "25a108e1-f1d9-48a8-9a18-c460263d659f",
   "metadata": {},
   "outputs": [
    {
     "name": "stderr",
     "output_type": "stream",
     "text": [
      "C:\\Users\\euiyoung.hwang\\Git_Workspace\\ELK-Stack-Upgrade\\.venv\\Lib\\site-packages\\elasticsearch\\connection\\http_urllib3.py:209: UserWarning: Connecting to https://tsgvm00877:9201 using SSL with verify_certs=False is insecure.\n",
      "  warnings.warn(\n"
     ]
    }
   ],
   "source": [
    "''' https://www.debugbear.com/basic-auth-header-generator '''\n",
    "es_search_guard = Elasticsearch(hosts=\"https://tsgvm00877:9201\", headers=None, timeout=5,  verify_certs=False)"
   ]
  },
  {
   "cell_type": "code",
   "execution_count": 161,
   "id": "30ff1700-7768-4466-8bea-ab46ce246e81",
   "metadata": {},
   "outputs": [
    {
     "name": "stderr",
     "output_type": "stream",
     "text": [
      "C:\\Users\\euiyoung.hwang\\Git_Workspace\\ELK-Stack-Upgrade\\.venv\\Lib\\site-packages\\urllib3\\connectionpool.py:1063: InsecureRequestWarning: Unverified HTTPS request is being made to host 'tsgvm00877'. Adding certificate verification is strongly advised. See: https://urllib3.readthedocs.io/en/1.26.x/advanced-usage.html#ssl-warnings\n",
      "  warnings.warn(\n"
     ]
    },
    {
     "name": "stdout",
     "output_type": "stream",
     "text": [
      "AuthenticationException(401, 'Unauthorized')\n"
     ]
    }
   ],
   "source": [
    "''' Getting error 'AuthenticationException(401, 'Unauthorized') '''\n",
    "try:\n",
    "    print(es_search_guard.cat.health())\n",
    "except Exception as e:\n",
    "    print(e)"
   ]
  },
  {
   "cell_type": "code",
   "execution_count": null,
   "id": "5b3b7eb2-0d00-47a7-90c6-ada2674c309c",
   "metadata": {},
   "outputs": [],
   "source": [
    "es_search_guard = Elasticsearch(hosts=os.getenv(ES_V8__HOST), headers=get_headers(), timeout=5,  verify_certs=False) "
   ]
  },
  {
   "cell_type": "code",
   "execution_count": null,
   "id": "bb893063-1982-4b26-b28c-fc16d673522f",
   "metadata": {},
   "outputs": [],
   "source": [
    "''' Getting error 'AuthenticationException(401, 'Unauthorized') '''\n",
    "try:\n",
    "    print(es_search_guard.cat.health())\n",
    "except Exception as e:\n",
    "    print(e)"
   ]
  }
 ],
 "metadata": {
  "kernelspec": {
   "display_name": "Python 3 (ipykernel)",
   "language": "python",
   "name": "python3"
  },
  "language_info": {
   "codemirror_mode": {
    "name": "ipython",
    "version": 3
   },
   "file_extension": ".py",
   "mimetype": "text/x-python",
   "name": "python",
   "nbconvert_exporter": "python",
   "pygments_lexer": "ipython3",
   "version": "3.11.7"
  }
 },
 "nbformat": 4,
 "nbformat_minor": 5
}

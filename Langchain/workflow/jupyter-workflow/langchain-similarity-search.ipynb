{
 "cells": [
  {
   "cell_type": "code",
   "execution_count": 1,
   "id": "e88e782b-e027-4c85-9335-afad139557c4",
   "metadata": {},
   "outputs": [
    {
     "name": "stdout",
     "output_type": "stream",
     "text": [
      "chroma db\n"
     ]
    }
   ],
   "source": [
    "print(\"chroma db\")"
   ]
  },
  {
   "cell_type": "code",
   "execution_count": 2,
   "id": "fb30eaa8-775d-49fe-bdcc-27c17837e1b8",
   "metadata": {},
   "outputs": [],
   "source": [
    "# !pip install chromadb-client==1.0.0\n",
    "# !pip install --upgrade chromadb==1.0.0\n",
    "#!pip install --upgrade langchain-chroma"
   ]
  },
  {
   "cell_type": "code",
   "execution_count": 3,
   "id": "5311ff9b-ec2a-4851-b988-7200a54a126d",
   "metadata": {},
   "outputs": [],
   "source": [
    "# !pip install chromadb tiktoken transformers setence_transformers pypdf"
   ]
  },
  {
   "cell_type": "code",
   "execution_count": 4,
   "id": "a4d2297d-aa0d-403d-8daa-9f13cc15e5c2",
   "metadata": {},
   "outputs": [],
   "source": [
    "# !pip install faiss-cpu"
   ]
  },
  {
   "cell_type": "code",
   "execution_count": 5,
   "id": "c91cecd4-2e32-4d70-9620-be91a00bb594",
   "metadata": {},
   "outputs": [
    {
     "name": "stderr",
     "output_type": "stream",
     "text": [
      "C:\\Users\\euiyoung.hwang\\Git_Workspace\\Vector_DB_with_LLM\\.venv\\Lib\\site-packages\\requests\\__init__.py:102: RequestsDependencyWarning: urllib3 (1.26.18) or chardet (5.2.0)/charset_normalizer (2.0.12) doesn't match a supported version!\n",
      "  warnings.warn(\"urllib3 ({}) or chardet ({})/charset_normalizer ({}) doesn't match a supported \"\n"
     ]
    }
   ],
   "source": [
    "from langchain_community.vectorstores import FAISS # type: ignore\n",
    "from langchain_community.embeddings import HuggingFaceEmbeddings # type: ignore\n",
    "from langchain_community.vectorstores import Chroma # type: ignore\n",
    "from langchain_community.vectorstores import FAISS # type: ignore\n",
    "from langchain_community.vectorstores.faiss import DistanceStrategy\n",
    "from langchain_core.documents import Document # type: ignore\n",
    "from langchain_community.document_loaders import PyPDFLoader\n",
    "from langchain_text_splitters import RecursiveCharacterTextSplitter\n",
    "import os\n",
    "import tiktoken\n",
    "import warnings\n",
    "warnings.filterwarnings(\"ignore\")"
   ]
  },
  {
   "cell_type": "code",
   "execution_count": 6,
   "id": "46a7afbd-327c-4eac-824a-8fbae55da86a",
   "metadata": {},
   "outputs": [],
   "source": [
    "os.environ['CURL_CA_BUNDLE'] = ''\n",
    "os.environ['REQUESTS_CA_BUNDLE'] = ''"
   ]
  },
  {
   "cell_type": "code",
   "execution_count": 7,
   "id": "360a9303-8771-479b-83fc-85d94e67515d",
   "metadata": {},
   "outputs": [],
   "source": [
    "docs = [\n",
    "            Document(page_content=\"사과\", metadata=dict(page=1)),\n",
    "            Document(page_content=\"애플\", metadata=dict(page=1)),\n",
    "            Document(page_content=\"바나나\", metadata=dict(page=2)),\n",
    "            Document(page_content=\"오렌지\", metadata=dict(page=2)),\n",
    "            Document(page_content=\"고양이\", metadata=dict(page=3)),\n",
    "            Document(page_content=\"야옹\", metadata=dict(page=3)),\n",
    "            Document(page_content=\"강아지\", metadata=dict(page=4)),\n",
    "            Document(page_content=\"멍멍\", metadata=dict(page=4)),\n",
    "            Document(page_content=\"해\", metadata=dict(page=5)),\n",
    "            Document(page_content=\"달\", metadata=dict(page=5)),\n",
    "            Document(page_content=\"물\", metadata=dict(page=6)),\n",
    "            Document(page_content=\"불\", metadata=dict(page=6)),\n",
    "            Document(page_content=\"apple\", metadata=dict(page=7)),\n",
    "]"
   ]
  },
  {
   "cell_type": "code",
   "execution_count": 8,
   "id": "a00d5f9c-401d-4e54-96f0-7e225e229bbe",
   "metadata": {},
   "outputs": [],
   "source": [
    "embeddings = HuggingFaceEmbeddings(\n",
    "        model_name=\"BAAI/bge-m3\",\n",
    "        model_kwargs = {'device': 'cpu'}, # 모델이 CPU에서 실행되도록 설정. GPU를 사용할 수 있는 환경이라면 'cuda'로 설정할 수도 있음\n",
    "        encode_kwargs = {'normalize_embeddings': True}, # 임베딩 정규화. 모든 벡터가 같은 범위의 값을 갖도록 함. 유사도 계산 시 일관성을 높여줌\n",
    "    )\n",
    "# embeddings = HuggingFaceHubEmbeddings(huggingfacehub_api_token=HUGGINGFACE_API_KEY, \n",
    "#                                      repo_id=\"sentence-transformers/all-MiniLM-L12-v2\")"
   ]
  },
  {
   "cell_type": "code",
   "execution_count": 9,
   "id": "dd78b1ed-5d2e-408d-87ee-b31501c497d7",
   "metadata": {},
   "outputs": [],
   "source": [
    "tokenizer = tiktoken.get_encoding('cl100k_base')\n",
    "def tiktoken_len(text):\n",
    "    tokens = tokenizer.encode(text)\n",
    "    return len(tokens)"
   ]
  },
  {
   "cell_type": "code",
   "execution_count": 10,
   "id": "5eb368ad-abab-43ef-be21-0667d4f975f9",
   "metadata": {},
   "outputs": [
    {
     "name": "stdout",
     "output_type": "stream",
     "text": [
      "In Progressing..\n"
     ]
    }
   ],
   "source": [
    "print(\"In Progressing..\")"
   ]
  },
  {
   "cell_type": "code",
   "execution_count": 11,
   "id": "a4e61b7c-6467-4815-9070-efb6aed0f436",
   "metadata": {},
   "outputs": [],
   "source": [
    "# print(docs)"
   ]
  },
  {
   "cell_type": "code",
   "execution_count": 12,
   "id": "e555b76f-cfe0-4de5-8b2f-b5ff584519c9",
   "metadata": {},
   "outputs": [],
   "source": [
    "def get_initial_data():\n",
    "    print(\"try to Loading get_initial_data\")\n",
    "    # -- Reference: https://wdr.ubion.co.kr/wowpass/img/event/gsat_170823/gsat_170823.pdf\n",
    "    ## pdf 파일로드 하고 쪼개기\n",
    "    loader = PyPDFLoader('./gsat_170823.pdf')\n",
    "    pages = loader.load_and_split()\n",
    "\n",
    "    ## chunk로 쪼개기\n",
    "    text_splitter = RecursiveCharacterTextSplitter(chunk_size=500, chunk_overlap=0,length_function=tiktoken_len)\n",
    "    # text_splitter = RecursiveCharacterTextSplitter(chunk_size=500, chunk_overlap=0)\n",
    "    docs = text_splitter.split_documents(pages)\n",
    "    \n",
    "    return docs"
   ]
  },
  {
   "cell_type": "code",
   "execution_count": 13,
   "id": "4b52481f-3993-4a36-8c8a-26bccefc3bb4",
   "metadata": {},
   "outputs": [],
   "source": [
    "def Faiss_save_load(embeddings):\n",
    "    dir_path = \"./\"\n",
    "    store_name = dir_path + \"Faiss_vector\"\n",
    "\n",
    "    print(\"try to Loading \" + dir_path + \"...\")\n",
    "    \n",
    "    if os.path.exists(store_name):\n",
    "        print(f\"Load Faiss Vector..\")\n",
    "        return FAISS.load_local(store_name, embeddings, allow_dangerous_deserialization=True)\n",
    "    \n",
    "    # db = Chroma.from_documents(docs, embeddings)\n",
    "    # Default: L2, distance_strategy=DistanceStrategy.MAX_INNER_PRODUCT -> Cosine Similariy\n",
    "    db = FAISS.from_documents(get_initial_data(), embeddings, distance_strategy=DistanceStrategy.MAX_INNER_PRODUCT, normalize_L2 = True)\n",
    "    \n",
    "    db.save_local(store_name)\n",
    "    print(f\"Success to save FAISS index from ./{store_name}\")\n",
    "    \n",
    "    return db"
   ]
  },
  {
   "cell_type": "code",
   "execution_count": 14,
   "id": "c4a9717f-6834-441d-986d-aad5cec5e66a",
   "metadata": {},
   "outputs": [],
   "source": [
    "# text1 = 'simple text for FAISS testing'\n",
    "# text2 = 'another simple text for vectorDB testing'\n",
    "\n",
    "# db = FAISS.from_texts(\n",
    "#     [text1, text2], embedding=embeddings,\n",
    "#     ids = [str(uuid.uuid4()) for i in range(len(documents))],\n",
    "#     metadatas=[{\"source\": \"텍스트문서\"}, {\"source\": \"텍스트문서\"}]\n",
    "# )"
   ]
  },
  {
   "cell_type": "code",
   "execution_count": 15,
   "id": "533b39db-7074-42c6-8c08-dfc5a9c74a61",
   "metadata": {},
   "outputs": [
    {
     "name": "stdout",
     "output_type": "stream",
     "text": [
      "try to Loading ./...\n",
      "Load Faiss Vector..\n"
     ]
    }
   ],
   "source": [
    "db = Faiss_save_load(embeddings)"
   ]
  },
  {
   "cell_type": "code",
   "execution_count": 16,
   "id": "dcd980d5-c808-4823-b5ce-ef88416f89af",
   "metadata": {},
   "outputs": [
    {
     "data": {
      "text/plain": [
       "{0: '8f70b74f-5efa-40a0-8a66-e0e08388d894',\n",
       " 1: 'a7ef2161-8a37-48c7-a7fe-e8b81ce8c8aa',\n",
       " 2: '9ef929fe-acef-4e84-9c64-e77fd8ab25e2',\n",
       " 3: '7a37f12c-b4ad-4753-8fd9-9565652365da',\n",
       " 4: '9b548a78-83c3-4e2c-b866-066069a0b2af',\n",
       " 5: 'd90aa706-90e1-4413-8b53-e10057474226',\n",
       " 6: '3c25fecb-c289-4f83-b84e-b2c2c6f9869d',\n",
       " 7: 'c62abf7b-62bd-4020-b61f-54bddfdd55d5',\n",
       " 8: '4dbc0050-4384-4afa-873d-f23220937af4',\n",
       " 9: '3bb67c8b-7e10-4c6e-896d-e8087874df6f',\n",
       " 10: '2f43b41b-bafe-43c8-8453-b6f35e7d66ab',\n",
       " 11: '596d4092-c5a2-4680-a9a3-47df2a10ce45',\n",
       " 12: 'acddd9a7-542b-4348-8ab8-e85e6eeed4f1',\n",
       " 13: '7e388da8-bde9-4f8f-a5bc-64a94a8889f9',\n",
       " 14: '0c3b11c7-d392-4726-a090-40f806ff82e7',\n",
       " 15: '12bd0afb-479c-4303-b06b-558bdc281173',\n",
       " 16: 'cf381fd0-3d5f-41e8-a51b-cf516696d952',\n",
       " 17: 'ec47299d-79c2-4cf6-a103-5e27c130d7b4',\n",
       " 18: 'e5544fcf-8596-45fb-abb6-13b9c2734b77',\n",
       " 19: '62775e9d-a0c0-4a14-96dc-fbb90746daf0',\n",
       " 20: '973d8b2b-9a53-4063-92a5-58c6f6e84b87',\n",
       " 21: 'aaee1360-38f6-4338-9222-a721fda26b7a',\n",
       " 22: '14ce6d93-4834-4be7-a049-79aca535bfb1',\n",
       " 23: 'bb0f83c9-b2d8-441d-8043-fafe23ebe590',\n",
       " 24: 'ca139b61-eb8c-4277-8a14-e37c150fbaa4',\n",
       " 25: '5ddaf4ae-344b-4209-9093-fc357ceb0372',\n",
       " 26: '4c637567-4b68-45f4-8593-1e1ee1df8598',\n",
       " 27: '773f76e4-d049-4dfc-8e2b-de5ec7a1ec72',\n",
       " 28: '8b059a05-6042-4042-8b4f-164d33035f07',\n",
       " 29: 'be02df2d-281b-4dca-a54a-65a7819f34a7',\n",
       " 30: '57b376a4-6c0d-41f1-a5aa-34124455e55f',\n",
       " 31: 'a568e59e-7188-42e8-8ef1-51fc59deaae1',\n",
       " 32: 'a1ca4060-730e-4e13-9b21-724da0bf4cc9',\n",
       " 33: 'b8dd9a0e-7451-4c07-a6a9-80af87b1908d',\n",
       " 34: '7462e006-1dc8-4dda-92d5-133c59313b19',\n",
       " 35: '1f2652a3-0056-4cd9-8787-8c0d1d313524',\n",
       " 36: '00684dbb-16ef-4733-994d-0690c24e57c5',\n",
       " 37: 'caaf46dd-b050-4885-94fb-f2755fd43cfe',\n",
       " 38: '20f08c1a-574f-4bc9-9f46-27c2d1bc5c2e',\n",
       " 39: '32e29056-c8ea-40c4-9b2d-33e4ccd998ab',\n",
       " 40: '497c8d4b-3706-40dd-98be-dc4bf621ee0c',\n",
       " 41: '1fbc9a21-41c5-4c55-8d05-3a36251a57ac',\n",
       " 42: 'd551d792-bd43-469d-900e-35c66e3afa02',\n",
       " 43: 'fcb292ec-d6ce-476f-9e0c-9cdfd045b400',\n",
       " 44: '2bed645b-7bc3-40c8-98c5-288ee7b019f6',\n",
       " 45: 'f20252d9-2ee1-4fde-9b37-9eb9633e468c',\n",
       " 46: 'c1939078-aaff-4818-a013-5408b8424092',\n",
       " 47: '3d56141a-c37a-4257-8a6f-9f66f12f5914',\n",
       " 48: '323d93f4-2e06-4f37-afb0-5960b296ffc3',\n",
       " 49: 'dc4f07d4-2a58-4e5d-bb9c-1f50d0b6a270',\n",
       " 50: '89cec26d-487d-4820-ac25-d1c1411caf04',\n",
       " 51: 'b3002e81-1166-4e7f-ae3d-1a0f35a2cc58',\n",
       " 52: '572414c8-127b-4ee5-ae79-9661ecd6bdc2',\n",
       " 53: 'de5d8227-88c4-4241-aff5-40268d067b52',\n",
       " 54: '33d8a60d-0819-4800-adf5-a8ec8aca64bb',\n",
       " 55: 'd2c57b0a-50a8-492b-9d94-c4db55bb5ece',\n",
       " 56: '7c8c8e7d-5aec-48b1-b628-9c54e99903bd',\n",
       " 57: '19329965-6bc8-4b48-ab76-ac0c2e0b5bcc',\n",
       " 58: '0444b11c-d6ab-4ab3-bfab-330d6b19766d',\n",
       " 59: 'ae26668b-677a-4d10-8569-2be72699bb05',\n",
       " 60: '36e1e6c9-d961-4ea6-9944-093b9b074b8d',\n",
       " 61: 'b847db72-8301-47ac-a576-6d388b0b4af6',\n",
       " 62: 'f389317e-efed-4afb-bf09-b5e44b9907b6',\n",
       " 63: '432c4e0a-a20f-4cc6-a405-dc5ac62b848d',\n",
       " 64: '741f032b-d69f-4b48-98ce-de9152acd87c',\n",
       " 65: '4ab9cb41-e039-4c8e-a680-2aad4441f12e'}"
      ]
     },
     "execution_count": 16,
     "metadata": {},
     "output_type": "execute_result"
    }
   ],
   "source": [
    "# -- 문서 저장소 ID 확인\n",
    "# https://wikidocs.net/234014\n",
    "db.index_to_docstore_id"
   ]
  },
  {
   "cell_type": "code",
   "execution_count": 17,
   "id": "590ee2ae-e819-413e-ba3d-52151f6bda6e",
   "metadata": {},
   "outputs": [],
   "source": [
    "# db.docstore._dict"
   ]
  },
  {
   "cell_type": "code",
   "execution_count": 18,
   "id": "4d975eaa-8744-42ee-8358-46b530f43e07",
   "metadata": {},
   "outputs": [
    {
     "data": {
      "text/plain": [
       "[Document(metadata={'source': './gsat_170823.pdf', 'page': 9}, page_content='11\\nⅡ 기업 상세 분석\\n1  사업분야(내용)\\nQ1 삼성전자의 대표적 사업분야에 대해 설명할 수 있습니까 ?\\nA\\n 삼성전자는 크게 CE(Consumer Electronics) 사업부문, IM(Information technology & Mobile communica-\\ntion) 사업부문, DS(Device Solutions) 사업부문 등 3개 사업부문으로 나누어 독립 경영을 합니다.\\n⑴ Consumer Electronics (CE) 부문 \\n① 영상디스플레이 : 진화하는 스마트TV, 초대형 프리미엄 TV 전략으로 8년 연속 세계 1위에 \\n도전\\n② 생활가전 : 새로운 기술과 가치 창출로 생활과 문화를 바꾸는 혁신을 준비\\n③ 의료기기 : 정확하고 빠른 진단을 도와주는 새롭고 혁신적인 의료기기를 개발\\n⑵ Information technology & Mobile communication (IM) 부문\\n① 무선 : 인간 중심의 혁신으로 소비자들이 열망하는 새로운 가치와 편의를 지속적으로 제공\\n② 네트워크 : 뛰어난 기술력과 성공적인 경험을 바탕으로 차세대 네트워크 인프라와 솔루션을 \\n공급\\n⑶ Device Solutions (DS) 부문\\n① 메모리 : 세계 최고 성능의 최첨단 그린메모리로 더욱 편리한 세상을 향해 나아감'),\n",
       " Document(metadata={'source': './gsat_170823.pdf', 'page': 0}, page_content='2\\n01 삼성전자 기업분석\\n(Samsung Electronics Co., Ltd)\\nⅠ 기업 일반 \\n1  기업개요\\n1) 기업소개 \\n본사주소 경기도 수원시 영통구 삼성로 129(매탄동 416)\\n사업분야 삼성그룹의 대표 기업으로 휴대폰, 정보통신기기, 반도체, TV 등을 생산 판매하는 제조업체\\n홈페이지 www.samsung.com/sec 구분 전기전자 대기업  \\n설립일 1961년 07월 01일 대표이사 권오현 \\n총자산1) 244조 매출액2) 200조\\n임직원수 95,374명 \\n∙ 1975년 1월 주식시장 상장\\n∙ 1984년 2월 삼성전자공업주식회사->삼성전자주식회사로 사명 변경 \\n∙ CE(Consumer Electronics), IM(Information technology & Mobile communications), DS(Device Solutions) \\n3개의 부문으로 나누어 독립 경영.\\n부문 제품\\nCE TV, 모니터, 냉장고, 세탁기, 에어컨, 프린터, 의료기기 등\\nIM HHP, 네트워크시스템, 컴퓨터, 디지털카메라 등\\nDS DRAM, NAND Flash, 모바일AP, LCD패널, OLED패널, LED 등 \\n∙ 주요 사업은 전자전지기계 등 제조, 전자통신기 등 제도, 컴퓨터 등 제조, 반도체 제조·조립 등. 주요'),\n",
       " Document(metadata={'source': './gsat_170823.pdf', 'page': 13}, page_content='Q4 삼성전자의 시장선도제품과 신성장동력에 대해 설명할 수 있습니까 ?\\nA\\n ① TV\\n∙ 글로벌 TV 시장점유율 10년 연속 1위  (매출기준, 출처: IHS)\\n∙ 2015년 글로벌 UHD TV 시장점유율 1위 (매출기준, 출처: IHS)\\n② Mobile Phone\\n∙ 2015년 휴대폰 시장점유율 1위  (출처 : Strategy Analytics) \\n∙ 2015년 스마트폰 시장점유율 1위  (출처 : Strategy Analytics) \\n∙ 2015년 태블릿 시장점유율 2위  (출처 : Strategy Analytics)\\n③ Memory\\n∙ 글로벌 메모리 시장점유율 연속 1위 (1993년 이래, 출처: IHS) \\n∙ 글로벌 DRAM 시장점유율 연속 1위 (1992년 이래,  출처: IHS) \\n∙ 글로벌 NAND 시장점유율 연속 1위 (2002년 이래,  출처: IHS) \\n∙ 글로벌 SSD 시장점유율 연속 1위 (2006년 이래,  출처: IHS)\\n④ Signage\\n글로벌 사이니지(상업용 디스플레이)  시장점유율 7년 연속 1위  (수량기준, 2009년 이래, 출처: \\nIHS)'),\n",
       " Document(metadata={'source': './gsat_170823.pdf', 'page': 8}, page_content='10\\n8) 조직도\\n9) 직무소개\\n∙E직군 (연구개발직) : 기초연구와 응용연구, 이러한 연구성과를 기초로 제품화까지 진행하는 개발업무 \\n수행 \\n∙ S직군 (소프트웨어직) : 컴퓨터 프로그래밍을 통해 사용자가 쉽고 편하게 제품을 활용할 수 있도록 \\n도와주는 창의적인 업무를 수행 \\n∙ M직군 (영업마케팅직) : 새로운 상품을 기획, 개발하여 매출 신장과 수익률 제고에 기여하고 시장의 \\n접점에서 고객만족과 판매를 촉진시켜 수익창출의 직접적인 역할수행 \\n∙G직군 (경영지원직) : CEO나 사업부장을 도와 전체 사업이 원활히 진행될 수 있도록 지원과 컨트롤을 \\n담당\\n∙D직군 (디자인직) : 사용자가 만지고 볼 수 있는 삼성전자 제품의 모든 요소들을 보다 심미적으로 아름답\\n고 편리하게 구상하는 역할\\n∙F직군 (설비엔지니어직) : 첨단 설비 관리 및 개선 활동과 Facility 활동을 통해 생산성 향상을 극대화시키\\n는 업무')]"
      ]
     },
     "execution_count": 18,
     "metadata": {},
     "output_type": "execute_result"
    }
   ],
   "source": [
    "question = '삼성전자의 주요 사업영역은?'\n",
    "r_docs = db.similarity_search(question)\n",
    "r_docs"
   ]
  },
  {
   "cell_type": "code",
   "execution_count": 19,
   "id": "b74b6467-4324-483d-8115-ae505c7cb239",
   "metadata": {},
   "outputs": [
    {
     "name": "stdout",
     "output_type": "stream",
     "text": [
      "11\n",
      "Ⅱ 기업 상세 분석\n",
      "1  사업분야(내용)\n",
      "Q1 삼성전자의 대표적 사업분야에 대해 설명할 수 있습니까 ?\n",
      "A\n",
      " 삼성전자는 크게 CE(Consumer Electronics) 사업부문, IM(Information technology & Mobile communica-\n",
      "tion) 사업부문, DS(Device Solutions) 사업부문 등 3개 사업부문으로 나누어 독립 경영을 합니다.\n",
      "⑴ Consumer Electronics (CE) 부문 \n",
      "① 영상디스플레이 : 진화하는 스마트TV, 초대형 프리미엄 TV 전략으로 8년 연속 세계 1위에 \n",
      "도전\n",
      "② 생활가전 : 새로운 기술과 가치 창출로 생활과 문화를 바꾸는 혁신을 준비\n",
      "③ 의료기기 : 정확하고 빠른 진단을 도와주는 새롭고 혁신적인 의료기기를 개발\n",
      "⑵ Information technology & Mobile communication (IM) 부문\n",
      "① 무선 : 인간 중심의 혁신으로 소비자들이 열망하는 새로운 가치와 편의를 지속적으로 제공\n",
      "② 네트워크 : 뛰어난 기술력과 성공적인 경험을 바탕으로 차세대 네트워크 인프라와 솔루션을 \n",
      "공급\n",
      "⑶ Device Solutions (DS) 부문\n",
      "① 메모리 : 세계 최고 성능의 최첨단 그린메모리로 더욱 편리한 세상을 향해 나아감\n"
     ]
    }
   ],
   "source": [
    "print(r_docs[0].page_content)"
   ]
  },
  {
   "cell_type": "code",
   "execution_count": 20,
   "id": "508604c2-944e-4108-a305-55cad7a5eff8",
   "metadata": {},
   "outputs": [
    {
     "data": {
      "text/plain": [
       "[Document(metadata={'source': './gsat_170823.pdf', 'page': 0}, page_content='2\\n01 삼성전자 기업분석\\n(Samsung Electronics Co., Ltd)\\nⅠ 기업 일반 \\n1  기업개요\\n1) 기업소개 \\n본사주소 경기도 수원시 영통구 삼성로 129(매탄동 416)\\n사업분야 삼성그룹의 대표 기업으로 휴대폰, 정보통신기기, 반도체, TV 등을 생산 판매하는 제조업체\\n홈페이지 www.samsung.com/sec 구분 전기전자 대기업  \\n설립일 1961년 07월 01일 대표이사 권오현 \\n총자산1) 244조 매출액2) 200조\\n임직원수 95,374명 \\n∙ 1975년 1월 주식시장 상장\\n∙ 1984년 2월 삼성전자공업주식회사->삼성전자주식회사로 사명 변경 \\n∙ CE(Consumer Electronics), IM(Information technology & Mobile communications), DS(Device Solutions) \\n3개의 부문으로 나누어 독립 경영.\\n부문 제품\\nCE TV, 모니터, 냉장고, 세탁기, 에어컨, 프린터, 의료기기 등\\nIM HHP, 네트워크시스템, 컴퓨터, 디지털카메라 등\\nDS DRAM, NAND Flash, 모바일AP, LCD패널, OLED패널, LED 등 \\n∙ 주요 사업은 전자전지기계 등 제조, 전자통신기 등 제도, 컴퓨터 등 제조, 반도체 제조·조립 등. 주요'),\n",
       " Document(metadata={'source': './gsat_170823.pdf', 'page': 9}, page_content='11\\nⅡ 기업 상세 분석\\n1  사업분야(내용)\\nQ1 삼성전자의 대표적 사업분야에 대해 설명할 수 있습니까 ?\\nA\\n 삼성전자는 크게 CE(Consumer Electronics) 사업부문, IM(Information technology & Mobile communica-\\ntion) 사업부문, DS(Device Solutions) 사업부문 등 3개 사업부문으로 나누어 독립 경영을 합니다.\\n⑴ Consumer Electronics (CE) 부문 \\n① 영상디스플레이 : 진화하는 스마트TV, 초대형 프리미엄 TV 전략으로 8년 연속 세계 1위에 \\n도전\\n② 생활가전 : 새로운 기술과 가치 창출로 생활과 문화를 바꾸는 혁신을 준비\\n③ 의료기기 : 정확하고 빠른 진단을 도와주는 새롭고 혁신적인 의료기기를 개발\\n⑵ Information technology & Mobile communication (IM) 부문\\n① 무선 : 인간 중심의 혁신으로 소비자들이 열망하는 새로운 가치와 편의를 지속적으로 제공\\n② 네트워크 : 뛰어난 기술력과 성공적인 경험을 바탕으로 차세대 네트워크 인프라와 솔루션을 \\n공급\\n⑶ Device Solutions (DS) 부문\\n① 메모리 : 세계 최고 성능의 최첨단 그린메모리로 더욱 편리한 세상을 향해 나아감'),\n",
       " Document(metadata={'source': './gsat_170823.pdf', 'page': 15}, page_content='17\\n❙요약 손익계산서❙\\n(단위: 10억원)\\n구분 2012년 결산 2013년 결산 2014년 결산 2015년 결산\\n매출액 141,206 158,372 137,826 135,205\\n매출원가 99,432 110,732 99,189 99,659\\n매출총이익 41,774 47,641 38,637 35,546\\n판매비와관리비 23,264 25,834 24,712 22,147\\n영업이익 18,510 21,807 13,925 13,398\\n금융비용 3,206 3,847 3,734 4,714\\n당기순이익 17,399 17,930 14,592 12,238\\n2015년말 기준 삼성전자의 매출액은 135조에 달하며, 13조원의 영업이익, 12조원의 당기순이익을 올리고 \\n있다.'),\n",
       " Document(metadata={'source': './gsat_170823.pdf', 'page': 19}, page_content='21\\n삼성전자는 NVMe SSD 대비 응답시간은 4배 이상, 연속 읽기속도는 1.6 배 빠른 ‘Z-SSD’를 공\\n개했다. Z-SSD는 V낸드, 컨트롤러 등 최적화된 동작회로를 구성해 스토리지의성능을 더욱 높인 \\n초고성능 하이엔드 SSD 제품으로, 내 년  중  출 시 할  예 정 이 다.\\nZ-SSD는 빅데이터 분석, 서버용 캐시 등 실시간 분석이 요구되는 고성능 시장에 최적의 솔루\\n션을 제공할 것으로 기대된다. \\n전영현 삼성전자 메모리사업부장(사장)은 “고객들에게 4세대 V낸드 기반 고용량, 고성능, 초소\\n형 솔루션을 제공해 스토리지 시스템의 TCO(Total Cost of Ownership) 절감 효과를 극대화할 \\n수 있게 됐다 ”며 “앞으로 독보적인 V낸드 기술을 바탕으로 스토리지 사업 영역을 지속 확대해 \\n나갈 것”이라고 밝혔다.\\n2  삼성전자 관련 용어정리\\n∙인포테인먼트 시스템 : 인포메이션(운전과 길 안내 등 필요한 정보) + 엔터테인먼트(다양한 오락거리)의')]"
      ]
     },
     "execution_count": 20,
     "metadata": {},
     "output_type": "execute_result"
    }
   ],
   "source": [
    "# 검색기로 변환\n",
    "retriever = db.as_retriever()\n",
    "# 검색 수행\n",
    "retriever.invoke(\"삼성전자에 대하여 알려줘\")\n",
    "# retriever.invoke(\"삼성전자의 주요 사업영역은?\")"
   ]
  },
  {
   "cell_type": "code",
   "execution_count": 21,
   "id": "88d2c34a-5b12-4242-a404-b464763ea783",
   "metadata": {},
   "outputs": [
    {
     "name": "stdout",
     "output_type": "stream",
     "text": [
      "Done..\n"
     ]
    }
   ],
   "source": [
    "print(\"Done..\")"
   ]
  }
 ],
 "metadata": {
  "kernelspec": {
   "display_name": "Python 3 (ipykernel)",
   "language": "python",
   "name": "python3"
  },
  "language_info": {
   "codemirror_mode": {
    "name": "ipython",
    "version": 3
   },
   "file_extension": ".py",
   "mimetype": "text/x-python",
   "name": "python",
   "nbconvert_exporter": "python",
   "pygments_lexer": "ipython3",
   "version": "3.11.7"
  }
 },
 "nbformat": 4,
 "nbformat_minor": 5
}

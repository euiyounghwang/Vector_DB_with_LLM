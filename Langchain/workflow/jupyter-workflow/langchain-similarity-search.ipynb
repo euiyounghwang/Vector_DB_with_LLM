{
 "cells": [
  {
   "cell_type": "code",
   "execution_count": 1,
   "id": "e88e782b-e027-4c85-9335-afad139557c4",
   "metadata": {},
   "outputs": [
    {
     "name": "stdout",
     "output_type": "stream",
     "text": [
      "chroma db\n"
     ]
    }
   ],
   "source": [
    "print(\"chroma db\")"
   ]
  },
  {
   "cell_type": "code",
   "execution_count": 2,
   "id": "fb30eaa8-775d-49fe-bdcc-27c17837e1b8",
   "metadata": {},
   "outputs": [],
   "source": [
    "# !pip install chromadb-client==1.0.0\n",
    "# !pip install --upgrade chromadb==1.0.0\n",
    "#!pip install --upgrade langchain-chroma"
   ]
  },
  {
   "cell_type": "code",
   "execution_count": 3,
   "id": "5311ff9b-ec2a-4851-b988-7200a54a126d",
   "metadata": {},
   "outputs": [],
   "source": [
    "# !pip install chromadb tiktoken transformers setence_transformers pypdf"
   ]
  },
  {
   "cell_type": "code",
   "execution_count": 4,
   "id": "a4d2297d-aa0d-403d-8daa-9f13cc15e5c2",
   "metadata": {},
   "outputs": [],
   "source": [
    "# !pip install faiss-cpu"
   ]
  },
  {
   "cell_type": "code",
   "execution_count": 5,
   "id": "c91cecd4-2e32-4d70-9620-be91a00bb594",
   "metadata": {},
   "outputs": [
    {
     "name": "stderr",
     "output_type": "stream",
     "text": [
      "C:\\Users\\euiyoung.hwang\\Git_Workspace\\Vector_DB_with_LLM\\.venv\\Lib\\site-packages\\requests\\__init__.py:102: RequestsDependencyWarning: urllib3 (1.26.18) or chardet (5.2.0)/charset_normalizer (2.0.12) doesn't match a supported version!\n",
      "  warnings.warn(\"urllib3 ({}) or chardet ({})/charset_normalizer ({}) doesn't match a supported \"\n"
     ]
    }
   ],
   "source": [
    "from langchain_community.vectorstores import FAISS # type: ignore\n",
    "from langchain_community.embeddings import HuggingFaceEmbeddings # type: ignore\n",
    "from langchain_community.vectorstores import Chroma # type: ignore\n",
    "from langchain_community.vectorstores import FAISS # type: ignore\n",
    "from langchain_core.documents import Document # type: ignore\n",
    "from langchain_community.document_loaders import PyPDFLoader\n",
    "from langchain_text_splitters import RecursiveCharacterTextSplitter\n",
    "import os\n",
    "import tiktoken\n",
    "import warnings\n",
    "warnings.filterwarnings(\"ignore\")"
   ]
  },
  {
   "cell_type": "code",
   "execution_count": 6,
   "id": "46a7afbd-327c-4eac-824a-8fbae55da86a",
   "metadata": {},
   "outputs": [],
   "source": [
    "os.environ['CURL_CA_BUNDLE'] = ''"
   ]
  },
  {
   "cell_type": "code",
   "execution_count": 7,
   "id": "360a9303-8771-479b-83fc-85d94e67515d",
   "metadata": {},
   "outputs": [],
   "source": [
    "docs = [\n",
    "            Document(page_content=\"사과\", metadata=dict(page=1)),\n",
    "            Document(page_content=\"애플\", metadata=dict(page=1)),\n",
    "            Document(page_content=\"바나나\", metadata=dict(page=2)),\n",
    "            Document(page_content=\"오렌지\", metadata=dict(page=2)),\n",
    "            Document(page_content=\"고양이\", metadata=dict(page=3)),\n",
    "            Document(page_content=\"야옹\", metadata=dict(page=3)),\n",
    "            Document(page_content=\"강아지\", metadata=dict(page=4)),\n",
    "            Document(page_content=\"멍멍\", metadata=dict(page=4)),\n",
    "            Document(page_content=\"해\", metadata=dict(page=5)),\n",
    "            Document(page_content=\"달\", metadata=dict(page=5)),\n",
    "            Document(page_content=\"물\", metadata=dict(page=6)),\n",
    "            Document(page_content=\"불\", metadata=dict(page=6)),\n",
    "            Document(page_content=\"apple\", metadata=dict(page=7)),\n",
    "]"
   ]
  },
  {
   "cell_type": "code",
   "execution_count": 8,
   "id": "a00d5f9c-401d-4e54-96f0-7e225e229bbe",
   "metadata": {},
   "outputs": [],
   "source": [
    "embeddings = HuggingFaceEmbeddings(\n",
    "        model_name=\"BAAI/bge-m3\",\n",
    "        model_kwargs = {'device': 'cpu'}, # 모델이 CPU에서 실행되도록 설정. GPU를 사용할 수 있는 환경이라면 'cuda'로 설정할 수도 있음\n",
    "        encode_kwargs = {'normalize_embeddings': True}, # 임베딩 정규화. 모든 벡터가 같은 범위의 값을 갖도록 함. 유사도 계산 시 일관성을 높여줌\n",
    "    )"
   ]
  },
  {
   "cell_type": "code",
   "execution_count": 9,
   "id": "dd78b1ed-5d2e-408d-87ee-b31501c497d7",
   "metadata": {},
   "outputs": [],
   "source": [
    "tokenizer = tiktoken.get_encoding('cl100k_base')\n",
    "def tiktoken_len(text):\n",
    "    tokens = tokenizer.encode(text)\n",
    "    return len(tokens)"
   ]
  },
  {
   "cell_type": "code",
   "execution_count": 10,
   "id": "5eb368ad-abab-43ef-be21-0667d4f975f9",
   "metadata": {},
   "outputs": [
    {
     "name": "stdout",
     "output_type": "stream",
     "text": [
      "In Progressing..\n"
     ]
    }
   ],
   "source": [
    "print(\"In Progressing..\")"
   ]
  },
  {
   "cell_type": "code",
   "execution_count": 11,
   "id": "6f716778-a244-400a-b0b4-f72acfe2dd12",
   "metadata": {},
   "outputs": [
    {
     "name": "stderr",
     "output_type": "stream",
     "text": [
      "Ignoring wrong pointing object 2 65536 (offset 0)\n",
      "Ignoring wrong pointing object 75 65536 (offset 0)\n",
      "Ignoring wrong pointing object 85 65536 (offset 0)\n",
      "Ignoring wrong pointing object 94 65536 (offset 0)\n",
      "Ignoring wrong pointing object 98 65536 (offset 0)\n",
      "Ignoring wrong pointing object 102 65536 (offset 0)\n",
      "Ignoring wrong pointing object 109 65536 (offset 0)\n",
      "Ignoring wrong pointing object 119 65536 (offset 0)\n",
      "Ignoring wrong pointing object 132 65536 (offset 0)\n",
      "Ignoring wrong pointing object 148 65536 (offset 0)\n",
      "Ignoring wrong pointing object 176 65536 (offset 0)\n",
      "Ignoring wrong pointing object 188 65536 (offset 0)\n",
      "Ignoring wrong pointing object 192 65536 (offset 0)\n",
      "Ignoring wrong pointing object 199 65536 (offset 0)\n",
      "Ignoring wrong pointing object 203 65536 (offset 0)\n",
      "Ignoring wrong pointing object 207 65536 (offset 0)\n",
      "Ignoring wrong pointing object 211 65536 (offset 0)\n",
      "Ignoring wrong pointing object 215 65536 (offset 0)\n",
      "Ignoring wrong pointing object 219 65536 (offset 0)\n",
      "Ignoring wrong pointing object 223 65536 (offset 0)\n",
      "Ignoring wrong pointing object 227 65536 (offset 0)\n",
      "Ignoring wrong pointing object 234 65536 (offset 0)\n",
      "Ignoring wrong pointing object 238 65536 (offset 0)\n",
      "Ignoring wrong pointing object 242 65536 (offset 0)\n",
      "Ignoring wrong pointing object 246 65536 (offset 0)\n",
      "Ignoring wrong pointing object 250 65536 (offset 0)\n",
      "Ignoring wrong pointing object 257 65536 (offset 0)\n"
     ]
    }
   ],
   "source": [
    "# -- Reference: https://wdr.ubion.co.kr/wowpass/img/event/gsat_170823/gsat_170823.pdf\n",
    "## pdf 파일로드 하고 쪼개기\n",
    "loader = PyPDFLoader('./gsat_170823.pdf')\n",
    "pages = loader.load_and_split()\n",
    "\n",
    "## chunk로 쪼개기\n",
    "text_splitter = RecursiveCharacterTextSplitter(chunk_size=500, chunk_overlap=0,length_function=tiktoken_len)\n",
    "# text_splitter = RecursiveCharacterTextSplitter(chunk_size=500, chunk_overlap=0)\n",
    "docs = text_splitter.split_documents(pages)"
   ]
  },
  {
   "cell_type": "code",
   "execution_count": 12,
   "id": "a4e61b7c-6467-4815-9070-efb6aed0f436",
   "metadata": {},
   "outputs": [],
   "source": [
    "# print(docs)"
   ]
  },
  {
   "cell_type": "code",
   "execution_count": 13,
   "id": "4b52481f-3993-4a36-8c8a-26bccefc3bb4",
   "metadata": {},
   "outputs": [],
   "source": [
    "# db = Chroma.from_documents(docs, embeddings)\n",
    "db = FAISS.from_documents(docs, embeddings)"
   ]
  },
  {
   "cell_type": "code",
   "execution_count": 14,
   "id": "4d975eaa-8744-42ee-8358-46b530f43e07",
   "metadata": {},
   "outputs": [
    {
     "data": {
      "text/plain": [
       "[Document(metadata={'source': './gsat_170823.pdf', 'page': 9}, page_content='11\\nⅡ 기업 상세 분석\\n1  사업분야(내용)\\nQ1 삼성전자의 대표적 사업분야에 대해 설명할 수 있습니까 ?\\nA\\n 삼성전자는 크게 CE(Consumer Electronics) 사업부문, IM(Information technology & Mobile communica-\\ntion) 사업부문, DS(Device Solutions) 사업부문 등 3개 사업부문으로 나누어 독립 경영을 합니다.\\n⑴ Consumer Electronics (CE) 부문 \\n① 영상디스플레이 : 진화하는 스마트TV, 초대형 프리미엄 TV 전략으로 8년 연속 세계 1위에 \\n도전\\n② 생활가전 : 새로운 기술과 가치 창출로 생활과 문화를 바꾸는 혁신을 준비\\n③ 의료기기 : 정확하고 빠른 진단을 도와주는 새롭고 혁신적인 의료기기를 개발\\n⑵ Information technology & Mobile communication (IM) 부문\\n① 무선 : 인간 중심의 혁신으로 소비자들이 열망하는 새로운 가치와 편의를 지속적으로 제공\\n② 네트워크 : 뛰어난 기술력과 성공적인 경험을 바탕으로 차세대 네트워크 인프라와 솔루션을 \\n공급\\n⑶ Device Solutions (DS) 부문\\n① 메모리 : 세계 최고 성능의 최첨단 그린메모리로 더욱 편리한 세상을 향해 나아감'),\n",
       " Document(metadata={'source': './gsat_170823.pdf', 'page': 0}, page_content='2\\n01 삼성전자 기업분석\\n(Samsung Electronics Co., Ltd)\\nⅠ 기업 일반 \\n1  기업개요\\n1) 기업소개 \\n본사주소 경기도 수원시 영통구 삼성로 129(매탄동 416)\\n사업분야 삼성그룹의 대표 기업으로 휴대폰, 정보통신기기, 반도체, TV 등을 생산 판매하는 제조업체\\n홈페이지 www.samsung.com/sec 구분 전기전자 대기업  \\n설립일 1961년 07월 01일 대표이사 권오현 \\n총자산1) 244조 매출액2) 200조\\n임직원수 95,374명 \\n∙ 1975년 1월 주식시장 상장\\n∙ 1984년 2월 삼성전자공업주식회사->삼성전자주식회사로 사명 변경 \\n∙ CE(Consumer Electronics), IM(Information technology & Mobile communications), DS(Device Solutions) \\n3개의 부문으로 나누어 독립 경영.\\n부문 제품\\nCE TV, 모니터, 냉장고, 세탁기, 에어컨, 프린터, 의료기기 등\\nIM HHP, 네트워크시스템, 컴퓨터, 디지털카메라 등\\nDS DRAM, NAND Flash, 모바일AP, LCD패널, OLED패널, LED 등 \\n∙ 주요 사업은 전자전지기계 등 제조, 전자통신기 등 제도, 컴퓨터 등 제조, 반도체 제조·조립 등. 주요'),\n",
       " Document(metadata={'source': './gsat_170823.pdf', 'page': 13}, page_content='Q4 삼성전자의 시장선도제품과 신성장동력에 대해 설명할 수 있습니까 ?\\nA\\n ① TV\\n∙ 글로벌 TV 시장점유율 10년 연속 1위  (매출기준, 출처: IHS)\\n∙ 2015년 글로벌 UHD TV 시장점유율 1위 (매출기준, 출처: IHS)\\n② Mobile Phone\\n∙ 2015년 휴대폰 시장점유율 1위  (출처 : Strategy Analytics) \\n∙ 2015년 스마트폰 시장점유율 1위  (출처 : Strategy Analytics) \\n∙ 2015년 태블릿 시장점유율 2위  (출처 : Strategy Analytics)\\n③ Memory\\n∙ 글로벌 메모리 시장점유율 연속 1위 (1993년 이래, 출처: IHS) \\n∙ 글로벌 DRAM 시장점유율 연속 1위 (1992년 이래,  출처: IHS) \\n∙ 글로벌 NAND 시장점유율 연속 1위 (2002년 이래,  출처: IHS) \\n∙ 글로벌 SSD 시장점유율 연속 1위 (2006년 이래,  출처: IHS)\\n④ Signage\\n글로벌 사이니지(상업용 디스플레이)  시장점유율 7년 연속 1위  (수량기준, 2009년 이래, 출처: \\nIHS)'),\n",
       " Document(metadata={'source': './gsat_170823.pdf', 'page': 8}, page_content='10\\n8) 조직도\\n9) 직무소개\\n∙E직군 (연구개발직) : 기초연구와 응용연구, 이러한 연구성과를 기초로 제품화까지 진행하는 개발업무 \\n수행 \\n∙ S직군 (소프트웨어직) : 컴퓨터 프로그래밍을 통해 사용자가 쉽고 편하게 제품을 활용할 수 있도록 \\n도와주는 창의적인 업무를 수행 \\n∙ M직군 (영업마케팅직) : 새로운 상품을 기획, 개발하여 매출 신장과 수익률 제고에 기여하고 시장의 \\n접점에서 고객만족과 판매를 촉진시켜 수익창출의 직접적인 역할수행 \\n∙G직군 (경영지원직) : CEO나 사업부장을 도와 전체 사업이 원활히 진행될 수 있도록 지원과 컨트롤을 \\n담당\\n∙D직군 (디자인직) : 사용자가 만지고 볼 수 있는 삼성전자 제품의 모든 요소들을 보다 심미적으로 아름답\\n고 편리하게 구상하는 역할\\n∙F직군 (설비엔지니어직) : 첨단 설비 관리 및 개선 활동과 Facility 활동을 통해 생산성 향상을 극대화시키\\n는 업무')]"
      ]
     },
     "execution_count": 14,
     "metadata": {},
     "output_type": "execute_result"
    }
   ],
   "source": [
    "question = '삼성전자의 주요 사업영역은?'\n",
    "r_docs = db.similarity_search(question)\n",
    "r_docs"
   ]
  },
  {
   "cell_type": "code",
   "execution_count": 15,
   "id": "88d2c34a-5b12-4242-a404-b464763ea783",
   "metadata": {},
   "outputs": [
    {
     "name": "stdout",
     "output_type": "stream",
     "text": [
      "Done..\n"
     ]
    }
   ],
   "source": [
    "print(\"Done..\")"
   ]
  }
 ],
 "metadata": {
  "kernelspec": {
   "display_name": "Python 3 (ipykernel)",
   "language": "python",
   "name": "python3"
  },
  "language_info": {
   "codemirror_mode": {
    "name": "ipython",
    "version": 3
   },
   "file_extension": ".py",
   "mimetype": "text/x-python",
   "name": "python",
   "nbconvert_exporter": "python",
   "pygments_lexer": "ipython3",
   "version": "3.11.7"
  }
 },
 "nbformat": 4,
 "nbformat_minor": 5
}

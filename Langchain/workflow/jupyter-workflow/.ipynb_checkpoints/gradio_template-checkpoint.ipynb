{
 "cells": [
  {
   "cell_type": "code",
   "execution_count": 86,
   "id": "f8592d05-9ee0-47ea-bbb1-3ac898e65f00",
   "metadata": {},
   "outputs": [
    {
     "name": "stdout",
     "output_type": "stream",
     "text": [
      "gradio template **\n"
     ]
    }
   ],
   "source": [
    "print(f\"gradio template **\")"
   ]
  },
  {
   "cell_type": "code",
   "execution_count": 87,
   "id": "95460242-e656-4746-87dc-fc87a339bccf",
   "metadata": {},
   "outputs": [
    {
     "name": "stdout",
     "output_type": "stream",
     "text": [
      "Requirement already satisfied: gradio in c:\\users\\euiyoung.hwang\\git_workspace\\vector_db_with_llm\\.venv\\lib\\site-packages (5.9.0)\n",
      "Requirement already satisfied: aiofiles<24.0,>=22.0 in c:\\users\\euiyoung.hwang\\git_workspace\\vector_db_with_llm\\.venv\\lib\\site-packages (from gradio) (23.2.1)\n",
      "Requirement already satisfied: anyio<5.0,>=3.0 in c:\\users\\euiyoung.hwang\\git_workspace\\vector_db_with_llm\\.venv\\lib\\site-packages (from gradio) (4.6.2.post1)\n",
      "Requirement already satisfied: fastapi<1.0,>=0.115.2 in c:\\users\\euiyoung.hwang\\git_workspace\\vector_db_with_llm\\.venv\\lib\\site-packages (from gradio) (0.115.5)\n",
      "Requirement already satisfied: ffmpy in c:\\users\\euiyoung.hwang\\git_workspace\\vector_db_with_llm\\.venv\\lib\\site-packages (from gradio) (0.4.0)\n",
      "Requirement already satisfied: gradio-client==1.5.2 in c:\\users\\euiyoung.hwang\\git_workspace\\vector_db_with_llm\\.venv\\lib\\site-packages (from gradio) (1.5.2)\n",
      "Requirement already satisfied: httpx>=0.24.1 in c:\\users\\euiyoung.hwang\\git_workspace\\vector_db_with_llm\\.venv\\lib\\site-packages (from gradio) (0.27.2)\n",
      "Requirement already satisfied: huggingface-hub>=0.25.1 in c:\\users\\euiyoung.hwang\\git_workspace\\vector_db_with_llm\\.venv\\lib\\site-packages (from gradio) (0.26.2)\n",
      "Requirement already satisfied: jinja2<4.0 in c:\\users\\euiyoung.hwang\\git_workspace\\vector_db_with_llm\\.venv\\lib\\site-packages (from gradio) (3.1.4)\n",
      "Requirement already satisfied: markupsafe~=2.0 in c:\\users\\euiyoung.hwang\\git_workspace\\vector_db_with_llm\\.venv\\lib\\site-packages (from gradio) (2.1.5)\n",
      "Requirement already satisfied: numpy<3.0,>=1.0 in c:\\users\\euiyoung.hwang\\git_workspace\\vector_db_with_llm\\.venv\\lib\\site-packages (from gradio) (1.26.4)\n",
      "Requirement already satisfied: orjson~=3.0 in c:\\users\\euiyoung.hwang\\git_workspace\\vector_db_with_llm\\.venv\\lib\\site-packages (from gradio) (3.10.11)\n",
      "Requirement already satisfied: packaging in c:\\users\\euiyoung.hwang\\git_workspace\\vector_db_with_llm\\.venv\\lib\\site-packages (from gradio) (24.2)\n",
      "Requirement already satisfied: pandas<3.0,>=1.0 in c:\\users\\euiyoung.hwang\\git_workspace\\vector_db_with_llm\\.venv\\lib\\site-packages (from gradio) (2.2.3)\n",
      "Requirement already satisfied: pillow<12.0,>=8.0 in c:\\users\\euiyoung.hwang\\git_workspace\\vector_db_with_llm\\.venv\\lib\\site-packages (from gradio) (11.0.0)\n",
      "Requirement already satisfied: pydantic>=2.0 in c:\\users\\euiyoung.hwang\\git_workspace\\vector_db_with_llm\\.venv\\lib\\site-packages (from gradio) (2.9.2)\n",
      "Requirement already satisfied: pydub in c:\\users\\euiyoung.hwang\\git_workspace\\vector_db_with_llm\\.venv\\lib\\site-packages (from gradio) (0.25.1)\n",
      "Requirement already satisfied: python-multipart>=0.0.18 in c:\\users\\euiyoung.hwang\\git_workspace\\vector_db_with_llm\\.venv\\lib\\site-packages (from gradio) (0.0.18)\n",
      "Requirement already satisfied: pyyaml<7.0,>=5.0 in c:\\users\\euiyoung.hwang\\git_workspace\\vector_db_with_llm\\.venv\\lib\\site-packages (from gradio) (6.0.2)\n",
      "Requirement already satisfied: ruff>=0.2.2 in c:\\users\\euiyoung.hwang\\git_workspace\\vector_db_with_llm\\.venv\\lib\\site-packages (from gradio) (0.8.3)\n",
      "Requirement already satisfied: safehttpx<0.2.0,>=0.1.6 in c:\\users\\euiyoung.hwang\\git_workspace\\vector_db_with_llm\\.venv\\lib\\site-packages (from gradio) (0.1.6)\n",
      "Requirement already satisfied: semantic-version~=2.0 in c:\\users\\euiyoung.hwang\\git_workspace\\vector_db_with_llm\\.venv\\lib\\site-packages (from gradio) (2.10.0)\n",
      "Requirement already satisfied: starlette<1.0,>=0.40.0 in c:\\users\\euiyoung.hwang\\git_workspace\\vector_db_with_llm\\.venv\\lib\\site-packages (from gradio) (0.41.2)\n",
      "Requirement already satisfied: tomlkit<0.14.0,>=0.12.0 in c:\\users\\euiyoung.hwang\\git_workspace\\vector_db_with_llm\\.venv\\lib\\site-packages (from gradio) (0.13.2)\n",
      "Requirement already satisfied: typer<1.0,>=0.12 in c:\\users\\euiyoung.hwang\\git_workspace\\vector_db_with_llm\\.venv\\lib\\site-packages (from gradio) (0.13.0)\n",
      "Requirement already satisfied: typing-extensions~=4.0 in c:\\users\\euiyoung.hwang\\git_workspace\\vector_db_with_llm\\.venv\\lib\\site-packages (from gradio) (4.12.2)\n",
      "Requirement already satisfied: uvicorn>=0.14.0 in c:\\users\\euiyoung.hwang\\git_workspace\\vector_db_with_llm\\.venv\\lib\\site-packages (from gradio) (0.32.1)\n",
      "Requirement already satisfied: fsspec in c:\\users\\euiyoung.hwang\\git_workspace\\vector_db_with_llm\\.venv\\lib\\site-packages (from gradio-client==1.5.2->gradio) (2024.10.0)\n",
      "Requirement already satisfied: websockets<15.0,>=10.0 in c:\\users\\euiyoung.hwang\\git_workspace\\vector_db_with_llm\\.venv\\lib\\site-packages (from gradio-client==1.5.2->gradio) (14.0)\n",
      "Requirement already satisfied: idna>=2.8 in c:\\users\\euiyoung.hwang\\git_workspace\\vector_db_with_llm\\.venv\\lib\\site-packages (from anyio<5.0,>=3.0->gradio) (3.10)\n",
      "Requirement already satisfied: sniffio>=1.1 in c:\\users\\euiyoung.hwang\\git_workspace\\vector_db_with_llm\\.venv\\lib\\site-packages (from anyio<5.0,>=3.0->gradio) (1.3.1)\n",
      "Requirement already satisfied: certifi in c:\\users\\euiyoung.hwang\\git_workspace\\vector_db_with_llm\\.venv\\lib\\site-packages (from httpx>=0.24.1->gradio) (2024.8.30)\n",
      "Requirement already satisfied: httpcore==1.* in c:\\users\\euiyoung.hwang\\git_workspace\\vector_db_with_llm\\.venv\\lib\\site-packages (from httpx>=0.24.1->gradio) (1.0.6)\n",
      "Requirement already satisfied: h11<0.15,>=0.13 in c:\\users\\euiyoung.hwang\\git_workspace\\vector_db_with_llm\\.venv\\lib\\site-packages (from httpcore==1.*->httpx>=0.24.1->gradio) (0.14.0)\n",
      "Requirement already satisfied: filelock in c:\\users\\euiyoung.hwang\\git_workspace\\vector_db_with_llm\\.venv\\lib\\site-packages (from huggingface-hub>=0.25.1->gradio) (3.16.1)\n",
      "Requirement already satisfied: requests in c:\\users\\euiyoung.hwang\\git_workspace\\vector_db_with_llm\\.venv\\lib\\site-packages (from huggingface-hub>=0.25.1->gradio) (2.27.1)\n",
      "Requirement already satisfied: tqdm>=4.42.1 in c:\\users\\euiyoung.hwang\\git_workspace\\vector_db_with_llm\\.venv\\lib\\site-packages (from huggingface-hub>=0.25.1->gradio) (4.67.0)\n",
      "Requirement already satisfied: python-dateutil>=2.8.2 in c:\\users\\euiyoung.hwang\\git_workspace\\vector_db_with_llm\\.venv\\lib\\site-packages (from pandas<3.0,>=1.0->gradio) (2.9.0.post0)\n",
      "Requirement already satisfied: pytz>=2020.1 in c:\\users\\euiyoung.hwang\\git_workspace\\vector_db_with_llm\\.venv\\lib\\site-packages (from pandas<3.0,>=1.0->gradio) (2024.2)\n",
      "Requirement already satisfied: tzdata>=2022.7 in c:\\users\\euiyoung.hwang\\git_workspace\\vector_db_with_llm\\.venv\\lib\\site-packages (from pandas<3.0,>=1.0->gradio) (2024.2)\n",
      "Requirement already satisfied: annotated-types>=0.6.0 in c:\\users\\euiyoung.hwang\\git_workspace\\vector_db_with_llm\\.venv\\lib\\site-packages (from pydantic>=2.0->gradio) (0.7.0)\n",
      "Requirement already satisfied: pydantic-core==2.23.4 in c:\\users\\euiyoung.hwang\\git_workspace\\vector_db_with_llm\\.venv\\lib\\site-packages (from pydantic>=2.0->gradio) (2.23.4)\n",
      "Requirement already satisfied: click>=8.0.0 in c:\\users\\euiyoung.hwang\\git_workspace\\vector_db_with_llm\\.venv\\lib\\site-packages (from typer<1.0,>=0.12->gradio) (8.1.7)\n",
      "Requirement already satisfied: shellingham>=1.3.0 in c:\\users\\euiyoung.hwang\\git_workspace\\vector_db_with_llm\\.venv\\lib\\site-packages (from typer<1.0,>=0.12->gradio) (1.5.4)\n",
      "Requirement already satisfied: rich>=10.11.0 in c:\\users\\euiyoung.hwang\\git_workspace\\vector_db_with_llm\\.venv\\lib\\site-packages (from typer<1.0,>=0.12->gradio) (13.9.4)\n",
      "Requirement already satisfied: colorama in c:\\users\\euiyoung.hwang\\git_workspace\\vector_db_with_llm\\.venv\\lib\\site-packages (from click>=8.0.0->typer<1.0,>=0.12->gradio) (0.4.6)\n",
      "Requirement already satisfied: six>=1.5 in c:\\users\\euiyoung.hwang\\git_workspace\\vector_db_with_llm\\.venv\\lib\\site-packages (from python-dateutil>=2.8.2->pandas<3.0,>=1.0->gradio) (1.16.0)\n",
      "Requirement already satisfied: markdown-it-py>=2.2.0 in c:\\users\\euiyoung.hwang\\git_workspace\\vector_db_with_llm\\.venv\\lib\\site-packages (from rich>=10.11.0->typer<1.0,>=0.12->gradio) (3.0.0)\n",
      "Requirement already satisfied: pygments<3.0.0,>=2.13.0 in c:\\users\\euiyoung.hwang\\git_workspace\\vector_db_with_llm\\.venv\\lib\\site-packages (from rich>=10.11.0->typer<1.0,>=0.12->gradio) (2.18.0)\n",
      "Requirement already satisfied: urllib3<1.27,>=1.21.1 in c:\\users\\euiyoung.hwang\\git_workspace\\vector_db_with_llm\\.venv\\lib\\site-packages (from requests->huggingface-hub>=0.25.1->gradio) (1.26.20)\n",
      "Requirement already satisfied: charset-normalizer~=2.0.0 in c:\\users\\euiyoung.hwang\\git_workspace\\vector_db_with_llm\\.venv\\lib\\site-packages (from requests->huggingface-hub>=0.25.1->gradio) (2.0.12)\n",
      "Requirement already satisfied: mdurl~=0.1 in c:\\users\\euiyoung.hwang\\git_workspace\\vector_db_with_llm\\.venv\\lib\\site-packages (from markdown-it-py>=2.2.0->rich>=10.11.0->typer<1.0,>=0.12->gradio) (0.1.2)\n"
     ]
    },
    {
     "name": "stderr",
     "output_type": "stream",
     "text": [
      "\n",
      "[notice] A new release of pip is available: 23.2.1 -> 24.3.1\n",
      "[notice] To update, run: python.exe -m pip install --upgrade pip\n"
     ]
    }
   ],
   "source": [
    "!pip install gradio"
   ]
  },
  {
   "cell_type": "code",
   "execution_count": 88,
   "id": "e1258891-b965-4151-812a-6f920beabe7c",
   "metadata": {},
   "outputs": [],
   "source": [
    "import time\n",
    "import gradio as gr"
   ]
  },
  {
   "cell_type": "code",
   "execution_count": 89,
   "id": "6bc9f7a4-933f-4368-822d-c544138879de",
   "metadata": {},
   "outputs": [],
   "source": [
    "js_func = \"\"\"\n",
    "function refresh() {\n",
    "    const url = new URL(window.location);\n",
    "\n",
    "    if (url.searchParams.get('__theme') !== 'dark') {\n",
    "        url.searchParams.set('__theme', 'dark');\n",
    "        window.location.href = url.href;\n",
    "    }\n",
    "}\n",
    "\"\"\""
   ]
  },
  {
   "cell_type": "code",
   "execution_count": 90,
   "id": "cae56104-0b85-4c11-8af7-934f206747b3",
   "metadata": {},
   "outputs": [
    {
     "name": "stderr",
     "output_type": "stream",
     "text": [
      "2025-01-02 14:20:46,985 : INFO : HTTP Request: GET http://127.0.0.1:7938/gradio_api/startup-events \"HTTP/1.1 200 OK\"\n"
     ]
    },
    {
     "name": "stdout",
     "output_type": "stream",
     "text": [
      "* Running on local URL:  http://127.0.0.1:7938\n"
     ]
    },
    {
     "name": "stderr",
     "output_type": "stream",
     "text": [
      "2025-01-02 14:20:47,005 : INFO : HTTP Request: HEAD http://127.0.0.1:7938/ \"HTTP/1.1 200 OK\"\n"
     ]
    },
    {
     "name": "stdout",
     "output_type": "stream",
     "text": [
      "\n",
      "To create a public link, set `share=True` in `launch()`.\n"
     ]
    },
    {
     "data": {
      "text/html": [
       "<div><iframe src=\"http://127.0.0.1:7938/\" width=\"100%\" height=\"500\" allow=\"autoplay; camera; microphone; clipboard-read; clipboard-write;\" frameborder=\"0\" allowfullscreen></iframe></div>"
      ],
      "text/plain": [
       "<IPython.core.display.HTML object>"
      ]
     },
     "metadata": {},
     "output_type": "display_data"
    },
    {
     "data": {
      "text/plain": []
     },
     "execution_count": 90,
     "metadata": {},
     "output_type": "execute_result"
    }
   ],
   "source": [
    "with gr.Blocks(js=js_func) as demo:\n",
    "    with gr.Row():\n",
    "        gr.Text()\n",
    "        gr.Text()\n",
    "        \n",
    "demo.launch()"
   ]
  },
  {
   "cell_type": "code",
   "execution_count": 91,
   "id": "dfde9c78-5ccf-4154-a0b7-cd814601ca7e",
   "metadata": {},
   "outputs": [
    {
     "name": "stderr",
     "output_type": "stream",
     "text": [
      "2025-01-02 14:20:47,738 : INFO : HTTP Request: GET http://127.0.0.1:7939/gradio_api/startup-events \"HTTP/1.1 200 OK\"\n"
     ]
    },
    {
     "name": "stdout",
     "output_type": "stream",
     "text": [
      "* Running on local URL:  http://127.0.0.1:7939\n"
     ]
    },
    {
     "name": "stderr",
     "output_type": "stream",
     "text": [
      "2025-01-02 14:20:47,750 : INFO : HTTP Request: HEAD http://127.0.0.1:7939/ \"HTTP/1.1 200 OK\"\n"
     ]
    },
    {
     "name": "stdout",
     "output_type": "stream",
     "text": [
      "\n",
      "To create a public link, set `share=True` in `launch()`.\n"
     ]
    },
    {
     "data": {
      "text/html": [
       "<div><iframe src=\"http://127.0.0.1:7939/\" width=\"100%\" height=\"500\" allow=\"autoplay; camera; microphone; clipboard-read; clipboard-write;\" frameborder=\"0\" allowfullscreen></iframe></div>"
      ],
      "text/plain": [
       "<IPython.core.display.HTML object>"
      ]
     },
     "metadata": {},
     "output_type": "display_data"
    },
    {
     "data": {
      "text/plain": []
     },
     "execution_count": 91,
     "metadata": {},
     "output_type": "execute_result"
    }
   ],
   "source": [
    "with gr.Blocks(js=js_func) as demo:\n",
    "    with gr.Column(scale=2):\n",
    "        btn1 = gr.Button(\"Button 1\")\n",
    "        btn2 = gr.Button(\"Button 2\")\n",
    "    with gr.Column(scale=1):\n",
    "        text1 = gr.Textbox()\n",
    "        text2 = gr.Textbox()\n",
    "\n",
    "demo.launch()"
   ]
  },
  {
   "cell_type": "code",
   "execution_count": 92,
   "id": "ad6a6b05-6fa3-45ec-8a55-dfa4075e351c",
   "metadata": {},
   "outputs": [
    {
     "name": "stdout",
     "output_type": "stream",
     "text": [
      "* Running on local URL:  http://127.0.0.1:7940\n"
     ]
    },
    {
     "name": "stderr",
     "output_type": "stream",
     "text": [
      "2025-01-02 14:20:48,489 : INFO : HTTP Request: GET http://127.0.0.1:7940/gradio_api/startup-events \"HTTP/1.1 200 OK\"\n",
      "2025-01-02 14:20:48,501 : INFO : HTTP Request: HEAD http://127.0.0.1:7940/ \"HTTP/1.1 200 OK\"\n"
     ]
    },
    {
     "name": "stdout",
     "output_type": "stream",
     "text": [
      "\n",
      "To create a public link, set `share=True` in `launch()`.\n"
     ]
    },
    {
     "data": {
      "text/html": [
       "<div><iframe src=\"http://127.0.0.1:7940/\" width=\"100%\" height=\"500\" allow=\"autoplay; camera; microphone; clipboard-read; clipboard-write;\" frameborder=\"0\" allowfullscreen></iframe></div>"
      ],
      "text/plain": [
       "<IPython.core.display.HTML object>"
      ]
     },
     "metadata": {},
     "output_type": "display_data"
    },
    {
     "data": {
      "text/plain": []
     },
     "execution_count": 92,
     "metadata": {},
     "output_type": "execute_result"
    }
   ],
   "source": [
    "with gr.Blocks(js=js_func) as demo:\n",
    "    with gr.Tab(\"Button tab\"):\n",
    "        btn1 = gr.Button(\"Button 1\")\n",
    "        btn2 = gr.Button(\"Button 2\")\n",
    "    with gr.Tab(\"Textbox tab\"):\n",
    "        text1 = gr.Textbox()\n",
    "        text2 = gr.Textbox()\n",
    "\n",
    "demo.launch()"
   ]
  },
  {
   "cell_type": "code",
   "execution_count": 93,
   "id": "eb73d1f3-4813-4ba6-81b7-ba342d5f4d40",
   "metadata": {},
   "outputs": [
    {
     "name": "stderr",
     "output_type": "stream",
     "text": [
      "2025-01-02 14:20:49,263 : INFO : HTTP Request: GET http://127.0.0.1:7941/gradio_api/startup-events \"HTTP/1.1 200 OK\"\n"
     ]
    },
    {
     "name": "stdout",
     "output_type": "stream",
     "text": [
      "* Running on local URL:  http://127.0.0.1:7941\n"
     ]
    },
    {
     "name": "stderr",
     "output_type": "stream",
     "text": [
      "2025-01-02 14:20:49,274 : INFO : HTTP Request: HEAD http://127.0.0.1:7941/ \"HTTP/1.1 200 OK\"\n"
     ]
    },
    {
     "name": "stdout",
     "output_type": "stream",
     "text": [
      "\n",
      "To create a public link, set `share=True` in `launch()`.\n"
     ]
    },
    {
     "data": {
      "text/html": [
       "<div><iframe src=\"http://127.0.0.1:7941/\" width=\"100%\" height=\"500\" allow=\"autoplay; camera; microphone; clipboard-read; clipboard-write;\" frameborder=\"0\" allowfullscreen></iframe></div>"
      ],
      "text/plain": [
       "<IPython.core.display.HTML object>"
      ]
     },
     "metadata": {},
     "output_type": "display_data"
    },
    {
     "data": {
      "text/plain": []
     },
     "execution_count": 93,
     "metadata": {},
     "output_type": "execute_result"
    }
   ],
   "source": [
    "with gr.Blocks(js=js_func) as demo:\n",
    "    with gr.Accordion(\"사과파이 레시피\"):\n",
    "        gr.Markdown('''\n",
    "        ### 재료:\n",
    "        - 사과: 2개\n",
    "        - 설탕: 1컵\n",
    "        - 버터: 50g\n",
    "        - 밀가루: 2컵\n",
    "        - 계란: 1개\n",
    "        \n",
    "        ### 조리법:\n",
    "        1. 사과를 깨끗이 씻고, 껍질을 벗긴 후 적당한 크기로 썰어둡니다.\n",
    "        2. 설탕과 버터를 팬에 넣고 중불에서 녹인 후, 썰어둔 사과를 넣고 볶습니다.\n",
    "        3. 밀가루와 계란을 섞어 반죽을 만든 후, 사과를 올립니다.\n",
    "        4. 180도로 예열된 오븐에서 20분간 구웁니다.\n",
    "        ''')\n",
    "        \n",
    "demo.launch()"
   ]
  },
  {
   "cell_type": "code",
   "execution_count": 94,
   "id": "09111c26-773f-45c1-8e09-ff2daee7b28c",
   "metadata": {},
   "outputs": [
    {
     "name": "stderr",
     "output_type": "stream",
     "text": [
      "2025-01-02 14:20:49,953 : INFO : HTTP Request: GET http://127.0.0.1:7942/gradio_api/startup-events \"HTTP/1.1 200 OK\"\n"
     ]
    },
    {
     "name": "stdout",
     "output_type": "stream",
     "text": [
      "* Running on local URL:  http://127.0.0.1:7942\n"
     ]
    },
    {
     "name": "stderr",
     "output_type": "stream",
     "text": [
      "2025-01-02 14:20:49,964 : INFO : HTTP Request: HEAD http://127.0.0.1:7942/ \"HTTP/1.1 200 OK\"\n"
     ]
    },
    {
     "name": "stdout",
     "output_type": "stream",
     "text": [
      "\n",
      "To create a public link, set `share=True` in `launch()`.\n"
     ]
    },
    {
     "data": {
      "text/html": [
       "<div><iframe src=\"http://127.0.0.1:7942/\" width=\"100%\" height=\"500\" allow=\"autoplay; camera; microphone; clipboard-read; clipboard-write;\" frameborder=\"0\" allowfullscreen></iframe></div>"
      ],
      "text/plain": [
       "<IPython.core.display.HTML object>"
      ]
     },
     "metadata": {},
     "output_type": "display_data"
    },
    {
     "data": {
      "text/plain": []
     },
     "execution_count": 94,
     "metadata": {},
     "output_type": "execute_result"
    }
   ],
   "source": [
    "def example_fn():\n",
    "    # return gr.Button('Off', interactive=False)\n",
    "    return gr.Button('Off')\n",
    "\n",
    "with gr.Blocks(js=js_func) as demo:\n",
    "    btn = gr.Button(\"On\")\n",
    "    btn.click(example_fn, None, btn)\n",
    "    \n",
    "demo.launch()"
   ]
  },
  {
   "cell_type": "code",
   "execution_count": 95,
   "id": "0bf272cc-10b4-4ae7-8b51-f14c91556d3b",
   "metadata": {},
   "outputs": [
    {
     "name": "stdout",
     "output_type": "stream",
     "text": [
      "* Running on local URL:  http://127.0.0.1:7943\n"
     ]
    },
    {
     "name": "stderr",
     "output_type": "stream",
     "text": [
      "2025-01-02 14:20:50,732 : INFO : HTTP Request: GET http://127.0.0.1:7943/gradio_api/startup-events \"HTTP/1.1 200 OK\"\n",
      "2025-01-02 14:20:50,745 : INFO : HTTP Request: HEAD http://127.0.0.1:7943/ \"HTTP/1.1 200 OK\"\n"
     ]
    },
    {
     "name": "stdout",
     "output_type": "stream",
     "text": [
      "\n",
      "To create a public link, set `share=True` in `launch()`.\n"
     ]
    },
    {
     "data": {
      "text/html": [
       "<div><iframe src=\"http://127.0.0.1:7943/\" width=\"100%\" height=\"500\" allow=\"autoplay; camera; microphone; clipboard-read; clipboard-write;\" frameborder=\"0\" allowfullscreen></iframe></div>"
      ],
      "text/plain": [
       "<IPython.core.display.HTML object>"
      ]
     },
     "metadata": {},
     "output_type": "display_data"
    },
    {
     "data": {
      "text/plain": []
     },
     "execution_count": 95,
     "metadata": {},
     "output_type": "execute_result"
    }
   ],
   "source": [
    "''' http://127.0.0.1:7871/?__theme=dark '''\n",
    "''' https://lifeignite.tistory.com/63 '''\n",
    "with gr.Blocks(js=js_func) as demo:\n",
    "    error_box = gr.Textbox(label=\"Error\", visible=False)\n",
    "\n",
    "    name_box = gr.Textbox(label=\"이름\")\n",
    "    ingredients_box = gr.CheckboxGroup([\"에스프레소\", \"물\", \"우유\"], label=\"재료\")\n",
    "    submit_btn = gr.Button(\"주문\")\n",
    "\n",
    "    with gr.Column(visible=False) as output_col:\n",
    "        drink_box = gr.Textbox(label=\"음료\")\n",
    "\n",
    "    def submit(name, ingredients):\n",
    "        if len(name) == 0:\n",
    "            return {error_box: gr.Textbox(value=\"이름을 입력해주세요\", visible=True)}\n",
    "        elif \"에스프레소\" in ingredients:\n",
    "            if \"물\" in ingredients and \"우유\" not in ingredients:\n",
    "                return {\n",
    "                    output_col: gr.Column(visible=True),\n",
    "                    drink_box: f\"{name}님, 주문하신 아메리카노 나왔습니다.\",\n",
    "                }\n",
    "            elif \"우유\" in ingredients and \"물\" not in ingredients:\n",
    "                return {\n",
    "                    output_col: gr.Column(visible=True),\n",
    "                    drink_box: f\"{name}님, 주문하신 카페라떼 나왔습니다.\",\n",
    "                }\n",
    "            else:\n",
    "                return {error_box: gr.Textbox(value=\"에스프레소와 물 또는 우유 중 하나를 선택해주세요\", visible=True)}\n",
    "        else:\n",
    "            return {error_box: gr.Textbox(value=\"에스프레소는 필수 재료입니다\", visible=True)}\n",
    "\n",
    "    submit_btn.click(\n",
    "        submit,\n",
    "        [name_box, ingredients_box],\n",
    "        [error_box, drink_box, output_col],\n",
    "    )\n",
    "\n",
    "demo.launch()\n",
    "# demo.launch(inbrowser=True, share=True)"
   ]
  },
  {
   "cell_type": "code",
   "execution_count": null,
   "id": "6528e4f9-a125-4224-a391-2b239dbdfb1a",
   "metadata": {},
   "outputs": [],
   "source": []
  },
  {
   "cell_type": "code",
   "execution_count": 96,
   "id": "59da753e-9b09-42ed-afef-ef1bc451a30f",
   "metadata": {},
   "outputs": [
    {
     "name": "stdout",
     "output_type": "stream",
     "text": [
      "* Running on local URL:  http://127.0.0.1:7944\n"
     ]
    },
    {
     "name": "stderr",
     "output_type": "stream",
     "text": [
      "2025-01-02 14:20:51,490 : INFO : HTTP Request: GET http://127.0.0.1:7944/gradio_api/startup-events \"HTTP/1.1 200 OK\"\n",
      "2025-01-02 14:20:51,501 : INFO : HTTP Request: HEAD http://127.0.0.1:7944/ \"HTTP/1.1 200 OK\"\n"
     ]
    },
    {
     "name": "stdout",
     "output_type": "stream",
     "text": [
      "\n",
      "To create a public link, set `share=True` in `launch()`.\n"
     ]
    },
    {
     "data": {
      "text/html": [
       "<div><iframe src=\"http://127.0.0.1:7944/\" width=\"100%\" height=\"500\" allow=\"autoplay; camera; microphone; clipboard-read; clipboard-write;\" frameborder=\"0\" allowfullscreen></iframe></div>"
      ],
      "text/plain": [
       "<IPython.core.display.HTML object>"
      ]
     },
     "metadata": {},
     "output_type": "display_data"
    },
    {
     "data": {
      "text/plain": []
     },
     "execution_count": 96,
     "metadata": {},
     "output_type": "execute_result"
    }
   ],
   "source": [
    "def do_stuff():\n",
    "    time.sleep(3)\n",
    "    return \"OK\"\n",
    "\n",
    "with gr.Blocks(js=js_func) as demo:\n",
    "    textbox = gr.Textbox()\n",
    "    btn = gr.Button(\"Go\", variant=\"primary\")\n",
    "\n",
    "    btn.click(fn=lambda: gr.update(interactive=False), inputs=None, outputs=btn).then(fn=do_stuff, inputs=None, outputs=textbox).then(fn=lambda: gr.update(interactive=True), inputs=None, outputs=btn)\n",
    "\n",
    "demo.launch()"
   ]
  },
  {
   "cell_type": "code",
   "execution_count": 97,
   "id": "8798e22e-3195-4f12-9055-8f7d6f07b52a",
   "metadata": {},
   "outputs": [
    {
     "name": "stdout",
     "output_type": "stream",
     "text": [
      "* Running on local URL:  http://127.0.0.1:7945\n"
     ]
    },
    {
     "name": "stderr",
     "output_type": "stream",
     "text": [
      "2025-01-02 14:20:52,262 : INFO : HTTP Request: GET http://127.0.0.1:7945/gradio_api/startup-events \"HTTP/1.1 200 OK\"\n",
      "2025-01-02 14:20:52,272 : INFO : HTTP Request: HEAD http://127.0.0.1:7945/ \"HTTP/1.1 200 OK\"\n"
     ]
    },
    {
     "name": "stdout",
     "output_type": "stream",
     "text": [
      "\n",
      "To create a public link, set `share=True` in `launch()`.\n"
     ]
    },
    {
     "data": {
      "text/html": [
       "<div><iframe src=\"http://127.0.0.1:7945/\" width=\"100%\" height=\"500\" allow=\"autoplay; camera; microphone; clipboard-read; clipboard-write;\" frameborder=\"0\" allowfullscreen></iframe></div>"
      ],
      "text/plain": [
       "<IPython.core.display.HTML object>"
      ]
     },
     "metadata": {},
     "output_type": "display_data"
    },
    {
     "data": {
      "text/plain": []
     },
     "execution_count": 97,
     "metadata": {},
     "output_type": "execute_result"
    }
   ],
   "source": [
    "with gr.Blocks(js=js_func) as demo:\n",
    "    name = gr.Textbox(label=\"Name\")\n",
    "    output = gr.Textbox(label=\"Output Box\")\n",
    "    greet_btn = gr.Button(\"Greet\")\n",
    "    trigger = gr.Textbox(label=\"Trigger Box\")\n",
    "\n",
    "    def greet(name, evt_data: gr.EventData):\n",
    "        return \"Hello \" + name + \"!\", evt_data.target.__class__.__name__\n",
    "\n",
    "    def clear_name(evt_data: gr.EventData):\n",
    "        return \"\"\n",
    "\n",
    "    gr.on(\n",
    "        triggers=[name.submit, greet_btn.click],\n",
    "        fn=greet,\n",
    "        inputs=name,\n",
    "        outputs=[output, trigger],\n",
    "    ).then(clear_name, outputs=[name])\n",
    "\n",
    "demo.launch()"
   ]
  },
  {
   "cell_type": "code",
   "execution_count": 98,
   "id": "e03b83e8-d53c-4b9c-bc73-3dd055d1611e",
   "metadata": {},
   "outputs": [
    {
     "name": "stderr",
     "output_type": "stream",
     "text": [
      "2025-01-02 14:20:52,988 : INFO : HTTP Request: GET http://127.0.0.1:7946/gradio_api/startup-events \"HTTP/1.1 200 OK\"\n"
     ]
    },
    {
     "name": "stdout",
     "output_type": "stream",
     "text": [
      "* Running on local URL:  http://127.0.0.1:7946\n"
     ]
    },
    {
     "name": "stderr",
     "output_type": "stream",
     "text": [
      "2025-01-02 14:20:52,994 : INFO : HTTP Request: HEAD http://127.0.0.1:7946/ \"HTTP/1.1 200 OK\"\n"
     ]
    },
    {
     "name": "stdout",
     "output_type": "stream",
     "text": [
      "\n",
      "To create a public link, set `share=True` in `launch()`.\n"
     ]
    },
    {
     "data": {
      "text/html": [
       "<div><iframe src=\"http://127.0.0.1:7946/\" width=\"100%\" height=\"500\" allow=\"autoplay; camera; microphone; clipboard-read; clipboard-write;\" frameborder=\"0\" allowfullscreen></iframe></div>"
      ],
      "text/plain": [
       "<IPython.core.display.HTML object>"
      ]
     },
     "metadata": {},
     "output_type": "display_data"
    },
    {
     "data": {
      "text/plain": []
     },
     "execution_count": 98,
     "metadata": {},
     "output_type": "execute_result"
    }
   ],
   "source": [
    "def greet(name):\n",
    "    return \"Hello \" + name + \"!\"\n",
    "\n",
    "\n",
    "with gr.Blocks(js=js_func) as demo:\n",
    "    name = gr.Textbox(label=\"Name\")\n",
    "    output = gr.Textbox(label=\"Output Box\")\n",
    "    greet_btn = gr.Button(\"Greet\")\n",
    "    greet_btn.click(fn=greet, inputs=name, outputs=output, api_name=\"greet\")\n",
    "\n",
    "demo.launch()"
   ]
  },
  {
   "cell_type": "code",
   "execution_count": 99,
   "id": "f13e167b-e21c-453e-a764-2db36b2850e4",
   "metadata": {},
   "outputs": [
    {
     "name": "stderr",
     "output_type": "stream",
     "text": [
      "C:\\Users\\euiyoung.hwang\\Git_Workspace\\Vector_DB_with_LLM\\.venv\\Lib\\site-packages\\gradio\\utils.py:1003: UserWarning: Expected 7 arguments for function <function sentence_builder at 0x000001E350D1BD80>, received 6.\n",
      "  warnings.warn(\n",
      "C:\\Users\\euiyoung.hwang\\Git_Workspace\\Vector_DB_with_LLM\\.venv\\Lib\\site-packages\\gradio\\utils.py:1007: UserWarning: Expected at least 7 arguments for function <function sentence_builder at 0x000001E350D1BD80>, received 6.\n",
      "  warnings.warn(\n",
      "2025-01-02 14:20:55,073 : INFO : HTTP Request: GET http://127.0.0.1:7947/gradio_api/startup-events \"HTTP/1.1 200 OK\"\n"
     ]
    },
    {
     "name": "stdout",
     "output_type": "stream",
     "text": [
      "* Running on local URL:  http://127.0.0.1:7947\n"
     ]
    },
    {
     "name": "stderr",
     "output_type": "stream",
     "text": [
      "2025-01-02 14:20:55,104 : INFO : HTTP Request: HEAD http://127.0.0.1:7947/ \"HTTP/1.1 200 OK\"\n"
     ]
    },
    {
     "name": "stdout",
     "output_type": "stream",
     "text": [
      "\n",
      "To create a public link, set `share=True` in `launch()`.\n"
     ]
    },
    {
     "data": {
      "text/html": [
       "<div><iframe src=\"http://127.0.0.1:7947/\" width=\"100%\" height=\"500\" allow=\"autoplay; camera; microphone; clipboard-read; clipboard-write;\" frameborder=\"0\" allowfullscreen></iframe></div>"
      ],
      "text/plain": [
       "<IPython.core.display.HTML object>"
      ]
     },
     "metadata": {},
     "output_type": "display_data"
    },
    {
     "data": {
      "text/plain": []
     },
     "execution_count": 99,
     "metadata": {},
     "output_type": "execute_result"
    }
   ],
   "source": [
    "import logging\n",
    "\n",
    "logging.basicConfig(format='%(asctime)s : %(levelname)s : %(message)s', level=logging.INFO)\n",
    "\n",
    "def sentence_builder(quantity, animal, countries, place, activity_list, morning, chk):\n",
    "    return f\"\"\"[{chk}] The {quantity} {animal}s from {\" and \".join(countries)} went to the {place} where they {\" and \".join(activity_list)} until the {\"morning\" if morning else \"night\"}\"\"\"\n",
    "\n",
    "with gr.Blocks(js=js_func) as demo1:\n",
    "    \n",
    "    def data_examples():\n",
    "        return [\n",
    "            [2, \"cat\", [\"Japan\", \"Pakistan\"], \"park\", [\"ate\", \"swam\"], True],\n",
    "            [4, \"dog\", [\"Japan\"], \"zoo\", [\"ate\", \"swam\"], False],\n",
    "            [10, \"bird\", [\"USA\", \"Pakistan\"], \"road\", [\"ran\"], False],\n",
    "            [8, \"cat\", [\"Pakistan\"], \"zoo\", [\"ate\"], True],\n",
    "        ]\n",
    "    \n",
    "    def alert_on_off():\n",
    "        return True\n",
    "    \n",
    "    def alert_radio_on_off(checkbox, radio_button):\n",
    "        logging.info(f'{checkbox} alert_radio_on_off function call..')\n",
    "        if radio_button == \"Off\":\n",
    "            checkbox = False\n",
    "            return False, False\n",
    "        else:\n",
    "            return True, True\n",
    "        \n",
    "    with gr.Blocks(js=js_func) as dev:\n",
    "        with gr.Row():\n",
    "            dev_chk = gr.Checkbox(label=\"Dev\", value=alert_on_off(), info=\"Alert status?\")\n",
    "            dev_radio = gr.Radio([\"On\", \"Off\"], label=\"Alert Status\", value=\"Off\", info=\"Will update this value if you select!\")\n",
    "            dev_result = gr.Textbox(label=\"Output\")\n",
    "            \n",
    "        update_dev_btn = gr.Button(\"Update\")   \n",
    "        update_dev_btn.click(fn=alert_radio_on_off, inputs=[dev_chk, dev_radio], outputs=[dev_chk, dev_result], api_name=\"greet\")\n",
    "        \n",
    "        with gr.Row():\n",
    "            qa1_chk = gr.Checkbox(label=\"QA1\", value=alert_on_off(), info=\"Alert status?\")\n",
    "            qa1_radio = gr.Radio([\"On\", \"Off\"], label=\"Alert Status\", value=\"Off\", info=\"Will update this value if you select!\")\n",
    "            qa1_result = gr.Textbox(label=\"Output\")\n",
    "        \n",
    "        update_qa1_btn = gr.Button(\"Update\")   \n",
    "        update_qa1_btn.click(fn=alert_radio_on_off, inputs=[qa1_chk, qa1_radio], outputs=[qa1_chk, qa1_result], api_name=\"greet\")\n",
    "        \n",
    "        # update_btn = gr.Checkbox(label=\"QA1\", value=alert_on_off(), info=\"Alert status?\")\n",
    "        # update_btn.click(fn=alert_radio_on_off, inputs=[checkbox, radio_button], outputs=output, api_name=\"greet\")\n",
    "        # radio_button.change(fn=alert_radio_on_off, inputs=[radio_button])\n",
    "    \n",
    "    demo = gr.Interface(\n",
    "        sentence_builder,\n",
    "        inputs=[\n",
    "            gr.Slider(2, 20, value=4, label=\"Count\", info=\"Choose between 2 and 20\"),\n",
    "            gr.Dropdown(\n",
    "                [\"cat\", \"dog\", \"bird\"], label=\"Animal\", info=\"Will add more animals later!\"\n",
    "            ),\n",
    "            gr.CheckboxGroup([\"USA\", \"Japan\", \"Pakistan\"], label=\"Countries\", info=\"Where are they from?\"),\n",
    "            gr.Radio([\"park\", \"zoo\", \"road\"], label=\"Location\", info=\"Where did they go?\"),\n",
    "            gr.Dropdown(\n",
    "                [\"ran\", \"swam\", \"ate\", \"slept\"], value=[\"swam\", \"slept\"], multiselect=True, label=\"Activity\", info=\"Lorem ipsum dolor sit amet, consectetur adipiscing elit. Sed auctor, nisl eget ultricies aliquam, nunc nisl aliquet nunc, eget aliquam nisl nunc vel nisl.\"\n",
    "            ),\n",
    "            gr.Checkbox(label=\"Morning\", info=\"Did they do it in the morning?\"),\n",
    "            dev_chk,\n",
    "        ],\n",
    "        outputs=\"text\",\n",
    "        examples=data_examples()\n",
    "    )\n",
    "    \n",
    "# demo1.launch(server_name=\"0.0.0.0\", server_port=7092)\n",
    "demo1.launch()"
   ]
  },
  {
   "cell_type": "code",
   "execution_count": 100,
   "id": "75af9fbf-7eb0-4e93-88ea-c0066c605cff",
   "metadata": {},
   "outputs": [
    {
     "name": "stdout",
     "output_type": "stream",
     "text": [
      "* Running on local URL:  http://127.0.0.1:7948\n"
     ]
    },
    {
     "name": "stderr",
     "output_type": "stream",
     "text": [
      "2025-01-02 14:20:55,873 : INFO : HTTP Request: GET http://127.0.0.1:7948/gradio_api/startup-events \"HTTP/1.1 200 OK\"\n",
      "2025-01-02 14:20:55,882 : INFO : HTTP Request: HEAD http://127.0.0.1:7948/ \"HTTP/1.1 200 OK\"\n"
     ]
    },
    {
     "name": "stdout",
     "output_type": "stream",
     "text": [
      "\n",
      "To create a public link, set `share=True` in `launch()`.\n"
     ]
    },
    {
     "data": {
      "text/html": [
       "<div><iframe src=\"http://127.0.0.1:7948/\" width=\"100%\" height=\"500\" allow=\"autoplay; camera; microphone; clipboard-read; clipboard-write;\" frameborder=\"0\" allowfullscreen></iframe></div>"
      ],
      "text/plain": [
       "<IPython.core.display.HTML object>"
      ]
     },
     "metadata": {},
     "output_type": "display_data"
    },
    {
     "data": {
      "text/plain": []
     },
     "execution_count": 100,
     "metadata": {},
     "output_type": "execute_result"
    }
   ],
   "source": [
    "philosophy_quotes = [\n",
    "    [\"I think therefore I am.\"],\n",
    "    [\"The unexamined life is not worth living.\"]\n",
    "]\n",
    "\n",
    "startup_quotes = [\n",
    "    [\"Ideas are easy. Implementation is hard\"],\n",
    "    [\"Make mistakes faster.\"]\n",
    "]\n",
    "\n",
    "def show_startup_quotes():\n",
    "    return gr.Dataset(samples=startup_quotes)\n",
    "\n",
    "with gr.Blocks(js=js_func) as demo:\n",
    "    textbox = gr.Textbox()\n",
    "    dataset = gr.Dataset(components=[textbox], samples=philosophy_quotes)\n",
    "    button = gr.Button()\n",
    "\n",
    "    button.click(show_startup_quotes, None, dataset)\n",
    "\n",
    "demo.launch()"
   ]
  },
  {
   "cell_type": "code",
   "execution_count": 101,
   "id": "ff84f998-52c6-45dc-8432-d43855072b54",
   "metadata": {},
   "outputs": [
    {
     "name": "stderr",
     "output_type": "stream",
     "text": [
      "2025-01-02 14:20:56,648 : INFO : HTTP Request: GET http://127.0.0.1:7949/gradio_api/startup-events \"HTTP/1.1 200 OK\"\n"
     ]
    },
    {
     "name": "stdout",
     "output_type": "stream",
     "text": [
      "* Running on local URL:  http://127.0.0.1:7949\n"
     ]
    },
    {
     "name": "stderr",
     "output_type": "stream",
     "text": [
      "2025-01-02 14:20:56,676 : INFO : HTTP Request: HEAD http://127.0.0.1:7949/ \"HTTP/1.1 200 OK\"\n"
     ]
    },
    {
     "name": "stdout",
     "output_type": "stream",
     "text": [
      "\n",
      "To create a public link, set `share=True` in `launch()`.\n"
     ]
    },
    {
     "data": {
      "text/html": [
       "<div><iframe src=\"http://127.0.0.1:7949/\" width=\"100%\" height=\"500\" allow=\"autoplay; camera; microphone; clipboard-read; clipboard-write;\" frameborder=\"0\" allowfullscreen></iframe></div>"
      ],
      "text/plain": [
       "<IPython.core.display.HTML object>"
      ]
     },
     "metadata": {},
     "output_type": "display_data"
    },
    {
     "data": {
      "text/plain": []
     },
     "execution_count": 101,
     "metadata": {},
     "output_type": "execute_result"
    }
   ],
   "source": [
    "with gr.Blocks(js=js_func) as demo:\n",
    "    inp = gr.Textbox(placeholder=\"Enter text.\")\n",
    "    scroll_btn = gr.Button(\"Scroll\")\n",
    "    no_scroll_btn = gr.Button(\"No Scroll\")\n",
    "    big_block = gr.HTML(\"\"\"\n",
    "    <div style='height: 800px; width: 100px; background-color: pink;'></div>\n",
    "    \"\"\")\n",
    "    out = gr.Textbox()\n",
    "\n",
    "    scroll_btn.click(lambda x: x,\n",
    "               inputs=inp,\n",
    "               outputs=out,\n",
    "                scroll_to_output=True)\n",
    "    no_scroll_btn.click(lambda x: x,\n",
    "               inputs=inp,\n",
    "               outputs=out)\n",
    "\n",
    "demo.launch()"
   ]
  },
  {
   "cell_type": "code",
   "execution_count": 102,
   "id": "c77c3dec-228d-4b0e-9b86-5b82322291b6",
   "metadata": {},
   "outputs": [
    {
     "name": "stdout",
     "output_type": "stream",
     "text": [
      "* Running on local URL:  http://127.0.0.1:7950\n"
     ]
    },
    {
     "name": "stderr",
     "output_type": "stream",
     "text": [
      "2025-01-02 14:20:57,679 : INFO : HTTP Request: GET http://127.0.0.1:7950/gradio_api/startup-events \"HTTP/1.1 200 OK\"\n",
      "2025-01-02 14:20:57,697 : INFO : HTTP Request: HEAD http://127.0.0.1:7950/ \"HTTP/1.1 200 OK\"\n"
     ]
    },
    {
     "name": "stdout",
     "output_type": "stream",
     "text": [
      "\n",
      "To create a public link, set `share=True` in `launch()`.\n"
     ]
    },
    {
     "data": {
      "text/html": [
       "<div><iframe src=\"http://127.0.0.1:7950/\" width=\"100%\" height=\"500\" allow=\"autoplay; camera; microphone; clipboard-read; clipboard-write;\" frameborder=\"0\" allowfullscreen></iframe></div>"
      ],
      "text/plain": [
       "<IPython.core.display.HTML object>"
      ]
     },
     "metadata": {},
     "output_type": "display_data"
    },
    {
     "data": {
      "text/plain": []
     },
     "execution_count": 102,
     "metadata": {},
     "output_type": "execute_result"
    },
    {
     "name": "stderr",
     "output_type": "stream",
     "text": [
      "2025-01-02 14:20:58,163 : INFO : True alert_radio_on_off function call..\n",
      "2025-01-02 14:20:59,323 : INFO : False alert_radio_on_off function call..\n",
      "2025-01-02 14:21:00,140 : INFO : False alert_radio_on_off function call..\n",
      "2025-01-02 14:21:01,230 : INFO : True alert_radio_on_off function call..\n"
     ]
    }
   ],
   "source": [
    "import random\n",
    "\n",
    "def random_response(message, history):\n",
    "    return random.choice([\"Yes\", \"No\"])\n",
    "\n",
    "with gr.Blocks(js=js_func) as chat:\n",
    "    demo = gr.ChatInterface(random_response, type=\"messages\", autofocus=False)\n",
    "\n",
    "chat.launch()"
   ]
  },
  {
   "cell_type": "code",
   "execution_count": null,
   "id": "4c7c58b6-3377-4012-a00f-8be67bfe9f94",
   "metadata": {},
   "outputs": [],
   "source": []
  }
 ],
 "metadata": {
  "kernelspec": {
   "display_name": "Python 3 (ipykernel)",
   "language": "python",
   "name": "python3"
  },
  "language_info": {
   "codemirror_mode": {
    "name": "ipython",
    "version": 3
   },
   "file_extension": ".py",
   "mimetype": "text/x-python",
   "name": "python",
   "nbconvert_exporter": "python",
   "pygments_lexer": "ipython3",
   "version": "3.11.7"
  }
 },
 "nbformat": 4,
 "nbformat_minor": 5
}

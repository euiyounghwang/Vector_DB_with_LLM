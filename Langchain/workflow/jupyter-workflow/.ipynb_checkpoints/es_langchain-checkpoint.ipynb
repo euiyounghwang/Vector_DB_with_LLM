{
 "cells": [
  {
   "cell_type": "code",
   "execution_count": 48,
   "id": "aed0bf82",
   "metadata": {},
   "outputs": [],
   "source": [
    "# onedork\n",
    "# grade3\n",
    "# oceans16\n",
    "# chesterish\n",
    "# monokai\n",
    "# solarizedl\n",
    "# solarizedd"
   ]
  },
  {
   "cell_type": "code",
   "execution_count": 49,
   "id": "c3f1100a",
   "metadata": {},
   "outputs": [
    {
     "name": "stdout",
     "output_type": "stream",
     "text": [
      "Requirement already satisfied: jupyterthemes in c:\\users\\euiyoung.hwang\\git_workspace\\vector_db_with_llm\\.venv\\lib\\site-packages (0.20.0)\n",
      "Requirement already satisfied: jupyter-core in c:\\users\\euiyoung.hwang\\git_workspace\\vector_db_with_llm\\.venv\\lib\\site-packages (from jupyterthemes) (5.7.2)\n",
      "Requirement already satisfied: notebook>=5.6.0 in c:\\users\\euiyoung.hwang\\git_workspace\\vector_db_with_llm\\.venv\\lib\\site-packages (from jupyterthemes) (6.5.7)\n",
      "Requirement already satisfied: ipython>=5.4.1 in c:\\users\\euiyoung.hwang\\git_workspace\\vector_db_with_llm\\.venv\\lib\\site-packages (from jupyterthemes) (8.30.0)\n",
      "Requirement already satisfied: matplotlib>=1.4.3 in c:\\users\\euiyoung.hwang\\git_workspace\\vector_db_with_llm\\.venv\\lib\\site-packages (from jupyterthemes) (3.10.0)\n",
      "Requirement already satisfied: lesscpy>=0.11.2 in c:\\users\\euiyoung.hwang\\git_workspace\\vector_db_with_llm\\.venv\\lib\\site-packages (from jupyterthemes) (0.15.1)\n",
      "Requirement already satisfied: colorama in c:\\users\\euiyoung.hwang\\git_workspace\\vector_db_with_llm\\.venv\\lib\\site-packages (from ipython>=5.4.1->jupyterthemes) (0.4.6)\n",
      "Requirement already satisfied: decorator in c:\\users\\euiyoung.hwang\\git_workspace\\vector_db_with_llm\\.venv\\lib\\site-packages (from ipython>=5.4.1->jupyterthemes) (5.1.1)\n",
      "Requirement already satisfied: jedi>=0.16 in c:\\users\\euiyoung.hwang\\git_workspace\\vector_db_with_llm\\.venv\\lib\\site-packages (from ipython>=5.4.1->jupyterthemes) (0.19.2)\n",
      "Requirement already satisfied: matplotlib-inline in c:\\users\\euiyoung.hwang\\git_workspace\\vector_db_with_llm\\.venv\\lib\\site-packages (from ipython>=5.4.1->jupyterthemes) (0.1.7)\n",
      "Requirement already satisfied: prompt_toolkit<3.1.0,>=3.0.41 in c:\\users\\euiyoung.hwang\\git_workspace\\vector_db_with_llm\\.venv\\lib\\site-packages (from ipython>=5.4.1->jupyterthemes) (3.0.48)\n",
      "Requirement already satisfied: pygments>=2.4.0 in c:\\users\\euiyoung.hwang\\git_workspace\\vector_db_with_llm\\.venv\\lib\\site-packages (from ipython>=5.4.1->jupyterthemes) (2.18.0)\n",
      "Requirement already satisfied: stack_data in c:\\users\\euiyoung.hwang\\git_workspace\\vector_db_with_llm\\.venv\\lib\\site-packages (from ipython>=5.4.1->jupyterthemes) (0.6.3)\n",
      "Requirement already satisfied: traitlets>=5.13.0 in c:\\users\\euiyoung.hwang\\git_workspace\\vector_db_with_llm\\.venv\\lib\\site-packages (from ipython>=5.4.1->jupyterthemes) (5.14.3)\n",
      "Requirement already satisfied: typing_extensions>=4.6 in c:\\users\\euiyoung.hwang\\git_workspace\\vector_db_with_llm\\.venv\\lib\\site-packages (from ipython>=5.4.1->jupyterthemes) (4.12.2)\n",
      "Requirement already satisfied: ply in c:\\users\\euiyoung.hwang\\git_workspace\\vector_db_with_llm\\.venv\\lib\\site-packages (from lesscpy>=0.11.2->jupyterthemes) (3.11)\n",
      "Requirement already satisfied: contourpy>=1.0.1 in c:\\users\\euiyoung.hwang\\git_workspace\\vector_db_with_llm\\.venv\\lib\\site-packages (from matplotlib>=1.4.3->jupyterthemes) (1.3.1)\n",
      "Requirement already satisfied: cycler>=0.10 in c:\\users\\euiyoung.hwang\\git_workspace\\vector_db_with_llm\\.venv\\lib\\site-packages (from matplotlib>=1.4.3->jupyterthemes) (0.12.1)\n",
      "Requirement already satisfied: fonttools>=4.22.0 in c:\\users\\euiyoung.hwang\\git_workspace\\vector_db_with_llm\\.venv\\lib\\site-packages (from matplotlib>=1.4.3->jupyterthemes) (4.55.3)\n",
      "Requirement already satisfied: kiwisolver>=1.3.1 in c:\\users\\euiyoung.hwang\\git_workspace\\vector_db_with_llm\\.venv\\lib\\site-packages (from matplotlib>=1.4.3->jupyterthemes) (1.4.7)\n",
      "Requirement already satisfied: numpy>=1.23 in c:\\users\\euiyoung.hwang\\git_workspace\\vector_db_with_llm\\.venv\\lib\\site-packages (from matplotlib>=1.4.3->jupyterthemes) (1.26.4)\n",
      "Requirement already satisfied: packaging>=20.0 in c:\\users\\euiyoung.hwang\\git_workspace\\vector_db_with_llm\\.venv\\lib\\site-packages (from matplotlib>=1.4.3->jupyterthemes) (24.2)\n",
      "Requirement already satisfied: pillow>=8 in c:\\users\\euiyoung.hwang\\git_workspace\\vector_db_with_llm\\.venv\\lib\\site-packages (from matplotlib>=1.4.3->jupyterthemes) (11.0.0)\n",
      "Requirement already satisfied: pyparsing>=2.3.1 in c:\\users\\euiyoung.hwang\\git_workspace\\vector_db_with_llm\\.venv\\lib\\site-packages (from matplotlib>=1.4.3->jupyterthemes) (3.2.0)\n",
      "Requirement already satisfied: python-dateutil>=2.7 in c:\\users\\euiyoung.hwang\\git_workspace\\vector_db_with_llm\\.venv\\lib\\site-packages (from matplotlib>=1.4.3->jupyterthemes) (2.9.0.post0)\n",
      "Requirement already satisfied: jinja2 in c:\\users\\euiyoung.hwang\\git_workspace\\vector_db_with_llm\\.venv\\lib\\site-packages (from notebook>=5.6.0->jupyterthemes) (3.1.4)\n",
      "Requirement already satisfied: tornado>=6.1 in c:\\users\\euiyoung.hwang\\git_workspace\\vector_db_with_llm\\.venv\\lib\\site-packages (from notebook>=5.6.0->jupyterthemes) (6.4.2)\n",
      "Requirement already satisfied: pyzmq>=17 in c:\\users\\euiyoung.hwang\\git_workspace\\vector_db_with_llm\\.venv\\lib\\site-packages (from notebook>=5.6.0->jupyterthemes) (26.2.0)\n",
      "Requirement already satisfied: argon2-cffi in c:\\users\\euiyoung.hwang\\git_workspace\\vector_db_with_llm\\.venv\\lib\\site-packages (from notebook>=5.6.0->jupyterthemes) (23.1.0)\n",
      "Requirement already satisfied: jupyter-client<8,>=5.3.4 in c:\\users\\euiyoung.hwang\\git_workspace\\vector_db_with_llm\\.venv\\lib\\site-packages (from notebook>=5.6.0->jupyterthemes) (7.4.9)\n",
      "Requirement already satisfied: ipython-genutils in c:\\users\\euiyoung.hwang\\git_workspace\\vector_db_with_llm\\.venv\\lib\\site-packages (from notebook>=5.6.0->jupyterthemes) (0.2.0)\n",
      "Requirement already satisfied: nbformat in c:\\users\\euiyoung.hwang\\git_workspace\\vector_db_with_llm\\.venv\\lib\\site-packages (from notebook>=5.6.0->jupyterthemes) (5.10.4)\n",
      "Requirement already satisfied: nbconvert>=5 in c:\\users\\euiyoung.hwang\\git_workspace\\vector_db_with_llm\\.venv\\lib\\site-packages (from notebook>=5.6.0->jupyterthemes) (7.16.4)\n",
      "Requirement already satisfied: nest-asyncio>=1.5 in c:\\users\\euiyoung.hwang\\git_workspace\\vector_db_with_llm\\.venv\\lib\\site-packages (from notebook>=5.6.0->jupyterthemes) (1.6.0)\n",
      "Requirement already satisfied: ipykernel in c:\\users\\euiyoung.hwang\\git_workspace\\vector_db_with_llm\\.venv\\lib\\site-packages (from notebook>=5.6.0->jupyterthemes) (6.29.5)\n",
      "Requirement already satisfied: Send2Trash>=1.8.0 in c:\\users\\euiyoung.hwang\\git_workspace\\vector_db_with_llm\\.venv\\lib\\site-packages (from notebook>=5.6.0->jupyterthemes) (1.8.3)\n",
      "Requirement already satisfied: terminado>=0.8.3 in c:\\users\\euiyoung.hwang\\git_workspace\\vector_db_with_llm\\.venv\\lib\\site-packages (from notebook>=5.6.0->jupyterthemes) (0.18.1)\n",
      "Requirement already satisfied: prometheus-client in c:\\users\\euiyoung.hwang\\git_workspace\\vector_db_with_llm\\.venv\\lib\\site-packages (from notebook>=5.6.0->jupyterthemes) (0.21.1)\n",
      "Requirement already satisfied: nbclassic>=0.4.7 in c:\\users\\euiyoung.hwang\\git_workspace\\vector_db_with_llm\\.venv\\lib\\site-packages (from notebook>=5.6.0->jupyterthemes) (1.1.0)\n",
      "Requirement already satisfied: platformdirs>=2.5 in c:\\users\\euiyoung.hwang\\git_workspace\\vector_db_with_llm\\.venv\\lib\\site-packages (from jupyter-core->jupyterthemes) (4.3.6)\n",
      "Requirement already satisfied: pywin32>=300 in c:\\users\\euiyoung.hwang\\git_workspace\\vector_db_with_llm\\.venv\\lib\\site-packages (from jupyter-core->jupyterthemes) (308)\n",
      "Requirement already satisfied: parso<0.9.0,>=0.8.4 in c:\\users\\euiyoung.hwang\\git_workspace\\vector_db_with_llm\\.venv\\lib\\site-packages (from jedi>=0.16->ipython>=5.4.1->jupyterthemes) (0.8.4)\n",
      "Requirement already satisfied: entrypoints in c:\\users\\euiyoung.hwang\\git_workspace\\vector_db_with_llm\\.venv\\lib\\site-packages (from jupyter-client<8,>=5.3.4->notebook>=5.6.0->jupyterthemes) (0.4)\n",
      "Requirement already satisfied: notebook-shim>=0.2.3 in c:\\users\\euiyoung.hwang\\git_workspace\\vector_db_with_llm\\.venv\\lib\\site-packages (from nbclassic>=0.4.7->notebook>=5.6.0->jupyterthemes) (0.2.4)\n",
      "Requirement already satisfied: beautifulsoup4 in c:\\users\\euiyoung.hwang\\git_workspace\\vector_db_with_llm\\.venv\\lib\\site-packages (from nbconvert>=5->notebook>=5.6.0->jupyterthemes) (4.12.3)\n",
      "Requirement already satisfied: bleach!=5.0.0 in c:\\users\\euiyoung.hwang\\git_workspace\\vector_db_with_llm\\.venv\\lib\\site-packages (from nbconvert>=5->notebook>=5.6.0->jupyterthemes) (6.2.0)\n",
      "Requirement already satisfied: defusedxml in c:\\users\\euiyoung.hwang\\git_workspace\\vector_db_with_llm\\.venv\\lib\\site-packages (from nbconvert>=5->notebook>=5.6.0->jupyterthemes) (0.7.1)\n",
      "Requirement already satisfied: jupyterlab-pygments in c:\\users\\euiyoung.hwang\\git_workspace\\vector_db_with_llm\\.venv\\lib\\site-packages (from nbconvert>=5->notebook>=5.6.0->jupyterthemes) (0.3.0)\n",
      "Requirement already satisfied: markupsafe>=2.0 in c:\\users\\euiyoung.hwang\\git_workspace\\vector_db_with_llm\\.venv\\lib\\site-packages (from nbconvert>=5->notebook>=5.6.0->jupyterthemes) (2.1.5)\n",
      "Requirement already satisfied: mistune<4,>=2.0.3 in c:\\users\\euiyoung.hwang\\git_workspace\\vector_db_with_llm\\.venv\\lib\\site-packages (from nbconvert>=5->notebook>=5.6.0->jupyterthemes) (3.0.2)\n",
      "Requirement already satisfied: nbclient>=0.5.0 in c:\\users\\euiyoung.hwang\\git_workspace\\vector_db_with_llm\\.venv\\lib\\site-packages (from nbconvert>=5->notebook>=5.6.0->jupyterthemes) (0.10.1)\n",
      "Requirement already satisfied: pandocfilters>=1.4.1 in c:\\users\\euiyoung.hwang\\git_workspace\\vector_db_with_llm\\.venv\\lib\\site-packages (from nbconvert>=5->notebook>=5.6.0->jupyterthemes) (1.5.1)\n",
      "Requirement already satisfied: tinycss2 in c:\\users\\euiyoung.hwang\\git_workspace\\vector_db_with_llm\\.venv\\lib\\site-packages (from nbconvert>=5->notebook>=5.6.0->jupyterthemes) (1.4.0)\n",
      "Requirement already satisfied: fastjsonschema>=2.15 in c:\\users\\euiyoung.hwang\\git_workspace\\vector_db_with_llm\\.venv\\lib\\site-packages (from nbformat->notebook>=5.6.0->jupyterthemes) (2.21.1)\n",
      "Requirement already satisfied: jsonschema>=2.6 in c:\\users\\euiyoung.hwang\\git_workspace\\vector_db_with_llm\\.venv\\lib\\site-packages (from nbformat->notebook>=5.6.0->jupyterthemes) (4.23.0)\n",
      "Requirement already satisfied: wcwidth in c:\\users\\euiyoung.hwang\\git_workspace\\vector_db_with_llm\\.venv\\lib\\site-packages (from prompt_toolkit<3.1.0,>=3.0.41->ipython>=5.4.1->jupyterthemes) (0.2.13)\n",
      "Requirement already satisfied: six>=1.5 in c:\\users\\euiyoung.hwang\\git_workspace\\vector_db_with_llm\\.venv\\lib\\site-packages (from python-dateutil>=2.7->matplotlib>=1.4.3->jupyterthemes) (1.16.0)\n",
      "Requirement already satisfied: pywinpty>=1.1.0 in c:\\users\\euiyoung.hwang\\git_workspace\\vector_db_with_llm\\.venv\\lib\\site-packages (from terminado>=0.8.3->notebook>=5.6.0->jupyterthemes) (2.0.14)\n",
      "Requirement already satisfied: argon2-cffi-bindings in c:\\users\\euiyoung.hwang\\git_workspace\\vector_db_with_llm\\.venv\\lib\\site-packages (from argon2-cffi->notebook>=5.6.0->jupyterthemes) (21.2.0)\n",
      "Requirement already satisfied: comm>=0.1.1 in c:\\users\\euiyoung.hwang\\git_workspace\\vector_db_with_llm\\.venv\\lib\\site-packages (from ipykernel->notebook>=5.6.0->jupyterthemes) (0.2.2)\n",
      "Requirement already satisfied: debugpy>=1.6.5 in c:\\users\\euiyoung.hwang\\git_workspace\\vector_db_with_llm\\.venv\\lib\\site-packages (from ipykernel->notebook>=5.6.0->jupyterthemes) (1.8.11)\n",
      "Requirement already satisfied: psutil in c:\\users\\euiyoung.hwang\\git_workspace\\vector_db_with_llm\\.venv\\lib\\site-packages (from ipykernel->notebook>=5.6.0->jupyterthemes) (5.9.8)\n",
      "Requirement already satisfied: executing>=1.2.0 in c:\\users\\euiyoung.hwang\\git_workspace\\vector_db_with_llm\\.venv\\lib\\site-packages (from stack_data->ipython>=5.4.1->jupyterthemes) (2.1.0)\n",
      "Requirement already satisfied: asttokens>=2.1.0 in c:\\users\\euiyoung.hwang\\git_workspace\\vector_db_with_llm\\.venv\\lib\\site-packages (from stack_data->ipython>=5.4.1->jupyterthemes) (3.0.0)\n",
      "Requirement already satisfied: pure-eval in c:\\users\\euiyoung.hwang\\git_workspace\\vector_db_with_llm\\.venv\\lib\\site-packages (from stack_data->ipython>=5.4.1->jupyterthemes) (0.2.3)\n",
      "Requirement already satisfied: webencodings in c:\\users\\euiyoung.hwang\\git_workspace\\vector_db_with_llm\\.venv\\lib\\site-packages (from bleach!=5.0.0->nbconvert>=5->notebook>=5.6.0->jupyterthemes) (0.5.1)\n",
      "Requirement already satisfied: attrs>=22.2.0 in c:\\users\\euiyoung.hwang\\git_workspace\\vector_db_with_llm\\.venv\\lib\\site-packages (from jsonschema>=2.6->nbformat->notebook>=5.6.0->jupyterthemes) (24.2.0)\n",
      "Requirement already satisfied: jsonschema-specifications>=2023.03.6 in c:\\users\\euiyoung.hwang\\git_workspace\\vector_db_with_llm\\.venv\\lib\\site-packages (from jsonschema>=2.6->nbformat->notebook>=5.6.0->jupyterthemes) (2024.10.1)\n",
      "Requirement already satisfied: referencing>=0.28.4 in c:\\users\\euiyoung.hwang\\git_workspace\\vector_db_with_llm\\.venv\\lib\\site-packages (from jsonschema>=2.6->nbformat->notebook>=5.6.0->jupyterthemes) (0.35.1)\n",
      "Requirement already satisfied: rpds-py>=0.7.1 in c:\\users\\euiyoung.hwang\\git_workspace\\vector_db_with_llm\\.venv\\lib\\site-packages (from jsonschema>=2.6->nbformat->notebook>=5.6.0->jupyterthemes) (0.21.0)\n",
      "Requirement already satisfied: jupyter-server<3,>=1.8 in c:\\users\\euiyoung.hwang\\git_workspace\\vector_db_with_llm\\.venv\\lib\\site-packages (from notebook-shim>=0.2.3->nbclassic>=0.4.7->notebook>=5.6.0->jupyterthemes) (2.14.2)\n",
      "Requirement already satisfied: cffi>=1.0.1 in c:\\users\\euiyoung.hwang\\git_workspace\\vector_db_with_llm\\.venv\\lib\\site-packages (from argon2-cffi-bindings->argon2-cffi->notebook>=5.6.0->jupyterthemes) (1.17.1)\n",
      "Requirement already satisfied: soupsieve>1.2 in c:\\users\\euiyoung.hwang\\git_workspace\\vector_db_with_llm\\.venv\\lib\\site-packages (from beautifulsoup4->nbconvert>=5->notebook>=5.6.0->jupyterthemes) (2.6)\n",
      "Requirement already satisfied: pycparser in c:\\users\\euiyoung.hwang\\git_workspace\\vector_db_with_llm\\.venv\\lib\\site-packages (from cffi>=1.0.1->argon2-cffi-bindings->argon2-cffi->notebook>=5.6.0->jupyterthemes) (2.22)\n",
      "Requirement already satisfied: anyio>=3.1.0 in c:\\users\\euiyoung.hwang\\git_workspace\\vector_db_with_llm\\.venv\\lib\\site-packages (from jupyter-server<3,>=1.8->notebook-shim>=0.2.3->nbclassic>=0.4.7->notebook>=5.6.0->jupyterthemes) (4.6.2.post1)\n",
      "Requirement already satisfied: jupyter-events>=0.9.0 in c:\\users\\euiyoung.hwang\\git_workspace\\vector_db_with_llm\\.venv\\lib\\site-packages (from jupyter-server<3,>=1.8->notebook-shim>=0.2.3->nbclassic>=0.4.7->notebook>=5.6.0->jupyterthemes) (0.10.0)\n",
      "Requirement already satisfied: jupyter-server-terminals>=0.4.4 in c:\\users\\euiyoung.hwang\\git_workspace\\vector_db_with_llm\\.venv\\lib\\site-packages (from jupyter-server<3,>=1.8->notebook-shim>=0.2.3->nbclassic>=0.4.7->notebook>=5.6.0->jupyterthemes) (0.5.3)\n",
      "Requirement already satisfied: overrides>=5.0 in c:\\users\\euiyoung.hwang\\git_workspace\\vector_db_with_llm\\.venv\\lib\\site-packages (from jupyter-server<3,>=1.8->notebook-shim>=0.2.3->nbclassic>=0.4.7->notebook>=5.6.0->jupyterthemes) (7.7.0)\n",
      "Requirement already satisfied: websocket-client>=1.7 in c:\\users\\euiyoung.hwang\\git_workspace\\vector_db_with_llm\\.venv\\lib\\site-packages (from jupyter-server<3,>=1.8->notebook-shim>=0.2.3->nbclassic>=0.4.7->notebook>=5.6.0->jupyterthemes) (1.8.0)\n",
      "Requirement already satisfied: idna>=2.8 in c:\\users\\euiyoung.hwang\\git_workspace\\vector_db_with_llm\\.venv\\lib\\site-packages (from anyio>=3.1.0->jupyter-server<3,>=1.8->notebook-shim>=0.2.3->nbclassic>=0.4.7->notebook>=5.6.0->jupyterthemes) (3.10)\n",
      "Requirement already satisfied: sniffio>=1.1 in c:\\users\\euiyoung.hwang\\git_workspace\\vector_db_with_llm\\.venv\\lib\\site-packages (from anyio>=3.1.0->jupyter-server<3,>=1.8->notebook-shim>=0.2.3->nbclassic>=0.4.7->notebook>=5.6.0->jupyterthemes) (1.3.1)\n",
      "Requirement already satisfied: python-json-logger>=2.0.4 in c:\\users\\euiyoung.hwang\\git_workspace\\vector_db_with_llm\\.venv\\lib\\site-packages (from jupyter-events>=0.9.0->jupyter-server<3,>=1.8->notebook-shim>=0.2.3->nbclassic>=0.4.7->notebook>=5.6.0->jupyterthemes) (3.2.1)\n",
      "Requirement already satisfied: pyyaml>=5.3 in c:\\users\\euiyoung.hwang\\git_workspace\\vector_db_with_llm\\.venv\\lib\\site-packages (from jupyter-events>=0.9.0->jupyter-server<3,>=1.8->notebook-shim>=0.2.3->nbclassic>=0.4.7->notebook>=5.6.0->jupyterthemes) (6.0.2)\n",
      "Requirement already satisfied: rfc3339-validator in c:\\users\\euiyoung.hwang\\git_workspace\\vector_db_with_llm\\.venv\\lib\\site-packages (from jupyter-events>=0.9.0->jupyter-server<3,>=1.8->notebook-shim>=0.2.3->nbclassic>=0.4.7->notebook>=5.6.0->jupyterthemes) (0.1.4)\n",
      "Requirement already satisfied: rfc3986-validator>=0.1.1 in c:\\users\\euiyoung.hwang\\git_workspace\\vector_db_with_llm\\.venv\\lib\\site-packages (from jupyter-events>=0.9.0->jupyter-server<3,>=1.8->notebook-shim>=0.2.3->nbclassic>=0.4.7->notebook>=5.6.0->jupyterthemes) (0.1.1)\n",
      "Requirement already satisfied: fqdn in c:\\users\\euiyoung.hwang\\git_workspace\\vector_db_with_llm\\.venv\\lib\\site-packages (from jsonschema>=2.6->nbformat->notebook>=5.6.0->jupyterthemes) (1.5.1)\n",
      "Requirement already satisfied: isoduration in c:\\users\\euiyoung.hwang\\git_workspace\\vector_db_with_llm\\.venv\\lib\\site-packages (from jsonschema>=2.6->nbformat->notebook>=5.6.0->jupyterthemes) (20.11.0)\n",
      "Requirement already satisfied: jsonpointer>1.13 in c:\\users\\euiyoung.hwang\\git_workspace\\vector_db_with_llm\\.venv\\lib\\site-packages (from jsonschema>=2.6->nbformat->notebook>=5.6.0->jupyterthemes) (3.0.0)\n",
      "Requirement already satisfied: uri-template in c:\\users\\euiyoung.hwang\\git_workspace\\vector_db_with_llm\\.venv\\lib\\site-packages (from jsonschema>=2.6->nbformat->notebook>=5.6.0->jupyterthemes) (1.3.0)\n",
      "Requirement already satisfied: webcolors>=24.6.0 in c:\\users\\euiyoung.hwang\\git_workspace\\vector_db_with_llm\\.venv\\lib\\site-packages (from jsonschema>=2.6->nbformat->notebook>=5.6.0->jupyterthemes) (24.11.1)\n",
      "Requirement already satisfied: arrow>=0.15.0 in c:\\users\\euiyoung.hwang\\git_workspace\\vector_db_with_llm\\.venv\\lib\\site-packages (from isoduration->jsonschema>=2.6->nbformat->notebook>=5.6.0->jupyterthemes) (1.3.0)\n",
      "Requirement already satisfied: types-python-dateutil>=2.8.10 in c:\\users\\euiyoung.hwang\\git_workspace\\vector_db_with_llm\\.venv\\lib\\site-packages (from arrow>=0.15.0->isoduration->jsonschema>=2.6->nbformat->notebook>=5.6.0->jupyterthemes) (2.9.0.20241206)\n"
     ]
    },
    {
     "name": "stderr",
     "output_type": "stream",
     "text": [
      "\n",
      "[notice] A new release of pip is available: 23.2.1 -> 24.3.1\n",
      "[notice] To update, run: python.exe -m pip install --upgrade pip\n"
     ]
    }
   ],
   "source": [
    "!pip install jupyterthemes\n",
    "!jt -t oceans16"
   ]
  },
  {
   "cell_type": "code",
   "execution_count": null,
   "id": "38223111-3512-40fe-844a-b8146d66d82e",
   "metadata": {},
   "outputs": [],
   "source": [
    "''' https://blog.jupyter.org/introducing-jupyter-scheduler-f9e82676c388 '''\n",
    "''' jupyter notebook scheduler '''\n",
    "!pip install jupyter_scheduler"
   ]
  },
  {
   "cell_type": "code",
   "execution_count": null,
   "id": "3196adb9",
   "metadata": {},
   "outputs": [],
   "source": [
    "print(f\"es_langchain **\")"
   ]
  },
  {
   "cell_type": "code",
   "execution_count": null,
   "id": "2733cd02",
   "metadata": {},
   "outputs": [],
   "source": [
    "# Gradio is an open-source Python package that allows you to quickly build a demo or web application for your machine learning model, API, or any arbitrary Python function. \n",
    "# You can then share a link to your demo or web application in just a few seconds using Gradio's built-in sharing features."
   ]
  },
  {
   "cell_type": "code",
   "execution_count": null,
   "id": "ec9f0928",
   "metadata": {},
   "outputs": [],
   "source": [
    "!pip install gradio\n",
    "!pip install -U email-validator"
   ]
  },
  {
   "cell_type": "code",
   "execution_count": null,
   "id": "24c294f0",
   "metadata": {},
   "outputs": [],
   "source": [
    "import gradio as gr\n",
    "import logging\n",
    "\n",
    "logging.basicConfig(format='%(asctime)s : %(levelname)s : %(message)s', level=logging.INFO)\n"
   ]
  },
  {
   "cell_type": "code",
   "execution_count": null,
   "id": "15933cf7",
   "metadata": {},
   "outputs": [],
   "source": [
    "def user_greeting(name, intensity):\n",
    "    # return \"안녕하세요! \" + name + \"님, 첫 번째 Gradio 애플리케이션에 오신 것을 환영합니다!😎\"\n",
    "    return \"Hello, \" + name + \"!\" * int(intensity)"
   ]
  },
  {
   "cell_type": "code",
   "execution_count": null,
   "id": "ede4fea9",
   "metadata": {},
   "outputs": [],
   "source": [
    "# You can run Gradio in your favorite code editor, Jupyter notebook, Google Colab, or anywhere else you write Python\n",
    "# app = gr.Interface(fn=user_greeting, inputs=\"text\", outputs=\"text\")\n",
    "app = gr.Interface(fn=user_greeting, inputs=[\"text\", \"slider\"], outputs=\"text\")\n",
    "app.launch()\n",
    "# app.launch(share=True)  # Share your demo with just 1 extra parameter 🚀"
   ]
  },
  {
   "cell_type": "code",
   "execution_count": null,
   "id": "38d18420-00d0-4d86-b856-283200f110e3",
   "metadata": {},
   "outputs": [],
   "source": [
    "from elasticsearch import Elasticsearch\n",
    "import os\n",
    "import json"
   ]
  },
  {
   "cell_type": "code",
   "execution_count": null,
   "id": "e6c6f8b1-0b19-476f-9e35-267ec7c1a729",
   "metadata": {},
   "outputs": [],
   "source": [
    "def get_headers():\n",
    "    ''' Elasticsearch Header '''\n",
    "    return {\n",
    "            'Content-type': 'application/json', \n",
    "            'Authorization' : '{}'.format(os.getenv('BASIC_AUTH')),\n",
    "            # 'Connection': 'close'\n",
    "    }"
   ]
  },
  {
   "cell_type": "code",
   "execution_count": null,
   "id": "f10d1c91-c754-4212-926f-197a43cacd8e",
   "metadata": {},
   "outputs": [],
   "source": [
    "''' https://www.elastic.co/guide/en/elasticsearch/client/python-api/current/migration.html '''\n",
    "''' In 8.0.0 responses are no longer the raw deserialized response body and instead an object with two properties, meta and body '''\n",
    "es = Elasticsearch(hosts=\"http://localhost:9202\", headers=get_headers(), timeout=5,  verify_certs=False)\n",
    "# print(es.cat.health())\n",
    "# print(type(es.cluster.health()))\n",
    "resp = es.cluster.health()\n",
    "print(resp)\n",
    "# print(resp['status'], resp.keys(), resp.values())\n",
    "# print(resp.body, type(resp.body))\n",
    "\n",
    "# json_dict = {}\n",
    "# for k, v in resp.items():\n",
    "#     json_dict.update({k : v})\n",
    "    \n",
    "# print(json_dict, type(json_dict))\n",
    "# print(json.dumps(json_dict, indent=2))\n",
    "print(json.dumps(resp, indent=2))\n",
    "# print(json.dumps(resp.json(), indent=2))"
   ]
  },
  {
   "cell_type": "code",
   "execution_count": null,
   "id": "4ffd6d73-0ccf-421b-a671-20b4a20f4169",
   "metadata": {},
   "outputs": [],
   "source": [
    "''' json to dataframe '''\n",
    "import pandas as pd\n",
    "\n",
    "# df = pd.DataFrame.from_dict([resp.body])\n",
    "df = pd.DataFrame.from_dict([resp])\n",
    "df.head(10)"
   ]
  },
  {
   "cell_type": "code",
   "execution_count": null,
   "id": "039a8ea1-ba4b-4165-920e-bd1511c87f62",
   "metadata": {},
   "outputs": [],
   "source": [
    "''' https://www.elastic.co/guide/en/elasticsearch/client/python-api/current/migration.html '''\n",
    "''' In 8.0.0 responses are no longer the raw deserialized response body and instead an object with two properties, meta and body '''\n",
    "def es_get_health(host):\n",
    "    es_client = Elasticsearch(hosts=\"http://{}\".format(host), headers=get_headers(), timeout=5,  verify_certs=False)\n",
    "    # return json.dumps(es_client.cluster.health().body, indent=2), es_client.cluster.health()['status']\n",
    "    return json.dumps(es_client.cluster.health(), indent=2), es_client.cluster.health()['status']"
   ]
  },
  {
   "cell_type": "code",
   "execution_count": null,
   "id": "6eb61035-1954-4b66-8b78-410644f63965",
   "metadata": {},
   "outputs": [],
   "source": [
    "# Gradio is an open-source Python package that allows you to quickly build a demo or web application for your machine learning model, API, or any arbitrary Python function. \n",
    "# You can then share a link to your demo or web application in just a few seconds using Gradio's built-in sharing features.\n",
    "''' https://www.gradio.app/guides/quickstart '''\n",
    "''' https://www.gradio.app/docs/gradio/label '''\n",
    "''' Prerequisite: Gradio requires Python 3.10 or higher. --> We recommend installing Gradio using pip, pip install --upgrade gradio'''\n",
    "# http://127.0.0.1:7880/?__theme=dark\n",
    "# app = gr.Interface(fn=es_get_health, inputs=[\"text\"], outputs=\"text\")\n",
    "with gr.Blocks() as app:\n",
    "    gr.Markdown(\"# ES Cluster Health\")\n",
    "    # es_status = json.loads(es_get_health(\"localhost:9201\"))['status']\n",
    "    label = gr.Label(value = \"\", show_label=True, label=\"ES cluster status\")\n",
    "    gr.Interface(fn=es_get_health, inputs=[\"text\"], outputs=[\"text\", label])\n",
    "        \n",
    "app.launch()"
   ]
  },
  {
   "cell_type": "code",
   "execution_count": null,
   "id": "894f8013-decb-4042-b3af-ccd437d23cdd",
   "metadata": {},
   "outputs": [],
   "source": [
    "''' https://python.langchain.com/docs/integrations/vectorstores/elasticsearch/ '''\n",
    "''' Langchain Elasticsearch '''\n",
    "#!pip install langchain-elasticsearch"
   ]
  }
 ],
 "metadata": {
  "kernelspec": {
   "display_name": "Python 3 (ipykernel)",
   "language": "python",
   "name": "python3"
  },
  "language_info": {
   "codemirror_mode": {
    "name": "ipython",
    "version": 3
   },
   "file_extension": ".py",
   "mimetype": "text/x-python",
   "name": "python",
   "nbconvert_exporter": "python",
   "pygments_lexer": "ipython3",
   "version": "3.11.7"
  }
 },
 "nbformat": 4,
 "nbformat_minor": 5
}

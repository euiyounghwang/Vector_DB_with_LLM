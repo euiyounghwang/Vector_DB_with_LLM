{
 "cells": [
  {
   "cell_type": "code",
   "execution_count": 1,
   "id": "aed0bf82",
   "metadata": {},
   "outputs": [],
   "source": [
    "# onedork\n",
    "# grade3\n",
    "# oceans16\n",
    "# chesterish\n",
    "# monokai\n",
    "# solarizedl\n",
    "# solarizedd"
   ]
  },
  {
   "cell_type": "code",
   "execution_count": 2,
   "id": "c3f1100a",
   "metadata": {},
   "outputs": [
    {
     "name": "stdout",
     "output_type": "stream",
     "text": [
      "Requirement already satisfied: jupyterthemes in /Users/euiyoung.hwang/ES/Python_Workspace/Vector_DB_with_LLM/.venv/lib/python3.11/site-packages (0.20.0)\n",
      "Requirement already satisfied: jupyter-core in /Users/euiyoung.hwang/ES/Python_Workspace/Vector_DB_with_LLM/.venv/lib/python3.11/site-packages (from jupyterthemes) (5.7.2)\n",
      "Requirement already satisfied: notebook>=5.6.0 in /Users/euiyoung.hwang/ES/Python_Workspace/Vector_DB_with_LLM/.venv/lib/python3.11/site-packages (from jupyterthemes) (6.5.7)\n",
      "Requirement already satisfied: ipython>=5.4.1 in /Users/euiyoung.hwang/ES/Python_Workspace/Vector_DB_with_LLM/.venv/lib/python3.11/site-packages (from jupyterthemes) (8.30.0)\n",
      "Requirement already satisfied: matplotlib>=1.4.3 in /Users/euiyoung.hwang/ES/Python_Workspace/Vector_DB_with_LLM/.venv/lib/python3.11/site-packages (from jupyterthemes) (3.10.0)\n",
      "Requirement already satisfied: lesscpy>=0.11.2 in /Users/euiyoung.hwang/ES/Python_Workspace/Vector_DB_with_LLM/.venv/lib/python3.11/site-packages (from jupyterthemes) (0.15.1)\n",
      "Requirement already satisfied: decorator in /Users/euiyoung.hwang/ES/Python_Workspace/Vector_DB_with_LLM/.venv/lib/python3.11/site-packages (from ipython>=5.4.1->jupyterthemes) (5.1.1)\n",
      "Requirement already satisfied: jedi>=0.16 in /Users/euiyoung.hwang/ES/Python_Workspace/Vector_DB_with_LLM/.venv/lib/python3.11/site-packages (from ipython>=5.4.1->jupyterthemes) (0.19.2)\n",
      "Requirement already satisfied: matplotlib-inline in /Users/euiyoung.hwang/ES/Python_Workspace/Vector_DB_with_LLM/.venv/lib/python3.11/site-packages (from ipython>=5.4.1->jupyterthemes) (0.1.7)\n",
      "Requirement already satisfied: pexpect>4.3 in /Users/euiyoung.hwang/ES/Python_Workspace/Vector_DB_with_LLM/.venv/lib/python3.11/site-packages (from ipython>=5.4.1->jupyterthemes) (4.9.0)\n",
      "Requirement already satisfied: prompt_toolkit<3.1.0,>=3.0.41 in /Users/euiyoung.hwang/ES/Python_Workspace/Vector_DB_with_LLM/.venv/lib/python3.11/site-packages (from ipython>=5.4.1->jupyterthemes) (3.0.48)\n",
      "Requirement already satisfied: pygments>=2.4.0 in /Users/euiyoung.hwang/ES/Python_Workspace/Vector_DB_with_LLM/.venv/lib/python3.11/site-packages (from ipython>=5.4.1->jupyterthemes) (2.18.0)\n",
      "Requirement already satisfied: stack_data in /Users/euiyoung.hwang/ES/Python_Workspace/Vector_DB_with_LLM/.venv/lib/python3.11/site-packages (from ipython>=5.4.1->jupyterthemes) (0.6.3)\n",
      "Requirement already satisfied: traitlets>=5.13.0 in /Users/euiyoung.hwang/ES/Python_Workspace/Vector_DB_with_LLM/.venv/lib/python3.11/site-packages (from ipython>=5.4.1->jupyterthemes) (5.14.3)\n",
      "Requirement already satisfied: typing_extensions>=4.6 in /Users/euiyoung.hwang/ES/Python_Workspace/Vector_DB_with_LLM/.venv/lib/python3.11/site-packages (from ipython>=5.4.1->jupyterthemes) (4.12.2)\n",
      "Requirement already satisfied: ply in /Users/euiyoung.hwang/ES/Python_Workspace/Vector_DB_with_LLM/.venv/lib/python3.11/site-packages (from lesscpy>=0.11.2->jupyterthemes) (3.11)\n",
      "Requirement already satisfied: contourpy>=1.0.1 in /Users/euiyoung.hwang/ES/Python_Workspace/Vector_DB_with_LLM/.venv/lib/python3.11/site-packages (from matplotlib>=1.4.3->jupyterthemes) (1.3.1)\n",
      "Requirement already satisfied: cycler>=0.10 in /Users/euiyoung.hwang/ES/Python_Workspace/Vector_DB_with_LLM/.venv/lib/python3.11/site-packages (from matplotlib>=1.4.3->jupyterthemes) (0.12.1)\n",
      "Requirement already satisfied: fonttools>=4.22.0 in /Users/euiyoung.hwang/ES/Python_Workspace/Vector_DB_with_LLM/.venv/lib/python3.11/site-packages (from matplotlib>=1.4.3->jupyterthemes) (4.55.3)\n",
      "Requirement already satisfied: kiwisolver>=1.3.1 in /Users/euiyoung.hwang/ES/Python_Workspace/Vector_DB_with_LLM/.venv/lib/python3.11/site-packages (from matplotlib>=1.4.3->jupyterthemes) (1.4.7)\n",
      "Requirement already satisfied: numpy>=1.23 in /Users/euiyoung.hwang/ES/Python_Workspace/Vector_DB_with_LLM/.venv/lib/python3.11/site-packages (from matplotlib>=1.4.3->jupyterthemes) (1.26.4)\n",
      "Requirement already satisfied: packaging>=20.0 in /Users/euiyoung.hwang/ES/Python_Workspace/Vector_DB_with_LLM/.venv/lib/python3.11/site-packages (from matplotlib>=1.4.3->jupyterthemes) (24.2)\n",
      "Requirement already satisfied: pillow>=8 in /Users/euiyoung.hwang/ES/Python_Workspace/Vector_DB_with_LLM/.venv/lib/python3.11/site-packages (from matplotlib>=1.4.3->jupyterthemes) (11.0.0)\n",
      "Requirement already satisfied: pyparsing>=2.3.1 in /Users/euiyoung.hwang/ES/Python_Workspace/Vector_DB_with_LLM/.venv/lib/python3.11/site-packages (from matplotlib>=1.4.3->jupyterthemes) (3.2.0)\n",
      "Requirement already satisfied: python-dateutil>=2.7 in /Users/euiyoung.hwang/ES/Python_Workspace/Vector_DB_with_LLM/.venv/lib/python3.11/site-packages (from matplotlib>=1.4.3->jupyterthemes) (2.9.0.post0)\n",
      "Requirement already satisfied: jinja2 in /Users/euiyoung.hwang/ES/Python_Workspace/Vector_DB_with_LLM/.venv/lib/python3.11/site-packages (from notebook>=5.6.0->jupyterthemes) (3.1.4)\n",
      "Requirement already satisfied: tornado>=6.1 in /Users/euiyoung.hwang/ES/Python_Workspace/Vector_DB_with_LLM/.venv/lib/python3.11/site-packages (from notebook>=5.6.0->jupyterthemes) (6.4.2)\n",
      "Requirement already satisfied: pyzmq>=17 in /Users/euiyoung.hwang/ES/Python_Workspace/Vector_DB_with_LLM/.venv/lib/python3.11/site-packages (from notebook>=5.6.0->jupyterthemes) (26.2.0)\n",
      "Requirement already satisfied: argon2-cffi in /Users/euiyoung.hwang/ES/Python_Workspace/Vector_DB_with_LLM/.venv/lib/python3.11/site-packages (from notebook>=5.6.0->jupyterthemes) (23.1.0)\n",
      "Requirement already satisfied: jupyter-client<8,>=5.3.4 in /Users/euiyoung.hwang/ES/Python_Workspace/Vector_DB_with_LLM/.venv/lib/python3.11/site-packages (from notebook>=5.6.0->jupyterthemes) (7.4.9)\n",
      "Requirement already satisfied: ipython-genutils in /Users/euiyoung.hwang/ES/Python_Workspace/Vector_DB_with_LLM/.venv/lib/python3.11/site-packages (from notebook>=5.6.0->jupyterthemes) (0.2.0)\n",
      "Requirement already satisfied: nbformat in /Users/euiyoung.hwang/ES/Python_Workspace/Vector_DB_with_LLM/.venv/lib/python3.11/site-packages (from notebook>=5.6.0->jupyterthemes) (5.10.4)\n",
      "Requirement already satisfied: nbconvert>=5 in /Users/euiyoung.hwang/ES/Python_Workspace/Vector_DB_with_LLM/.venv/lib/python3.11/site-packages (from notebook>=5.6.0->jupyterthemes) (7.16.4)\n",
      "Requirement already satisfied: nest-asyncio>=1.5 in /Users/euiyoung.hwang/ES/Python_Workspace/Vector_DB_with_LLM/.venv/lib/python3.11/site-packages (from notebook>=5.6.0->jupyterthemes) (1.6.0)\n",
      "Requirement already satisfied: ipykernel in /Users/euiyoung.hwang/ES/Python_Workspace/Vector_DB_with_LLM/.venv/lib/python3.11/site-packages (from notebook>=5.6.0->jupyterthemes) (6.29.5)\n",
      "Requirement already satisfied: Send2Trash>=1.8.0 in /Users/euiyoung.hwang/ES/Python_Workspace/Vector_DB_with_LLM/.venv/lib/python3.11/site-packages (from notebook>=5.6.0->jupyterthemes) (1.8.3)\n",
      "Requirement already satisfied: terminado>=0.8.3 in /Users/euiyoung.hwang/ES/Python_Workspace/Vector_DB_with_LLM/.venv/lib/python3.11/site-packages (from notebook>=5.6.0->jupyterthemes) (0.18.1)\n",
      "Requirement already satisfied: prometheus-client in /Users/euiyoung.hwang/ES/Python_Workspace/Vector_DB_with_LLM/.venv/lib/python3.11/site-packages (from notebook>=5.6.0->jupyterthemes) (0.21.1)\n",
      "Requirement already satisfied: nbclassic>=0.4.7 in /Users/euiyoung.hwang/ES/Python_Workspace/Vector_DB_with_LLM/.venv/lib/python3.11/site-packages (from notebook>=5.6.0->jupyterthemes) (1.1.0)\n",
      "Requirement already satisfied: platformdirs>=2.5 in /Users/euiyoung.hwang/ES/Python_Workspace/Vector_DB_with_LLM/.venv/lib/python3.11/site-packages (from jupyter-core->jupyterthemes) (4.3.6)\n",
      "Requirement already satisfied: parso<0.9.0,>=0.8.4 in /Users/euiyoung.hwang/ES/Python_Workspace/Vector_DB_with_LLM/.venv/lib/python3.11/site-packages (from jedi>=0.16->ipython>=5.4.1->jupyterthemes) (0.8.4)\n",
      "Requirement already satisfied: entrypoints in /Users/euiyoung.hwang/ES/Python_Workspace/Vector_DB_with_LLM/.venv/lib/python3.11/site-packages (from jupyter-client<8,>=5.3.4->notebook>=5.6.0->jupyterthemes) (0.4)\n",
      "Requirement already satisfied: notebook-shim>=0.2.3 in /Users/euiyoung.hwang/ES/Python_Workspace/Vector_DB_with_LLM/.venv/lib/python3.11/site-packages (from nbclassic>=0.4.7->notebook>=5.6.0->jupyterthemes) (0.2.4)\n",
      "Requirement already satisfied: beautifulsoup4 in /Users/euiyoung.hwang/ES/Python_Workspace/Vector_DB_with_LLM/.venv/lib/python3.11/site-packages (from nbconvert>=5->notebook>=5.6.0->jupyterthemes) (4.12.3)\n",
      "Requirement already satisfied: bleach!=5.0.0 in /Users/euiyoung.hwang/ES/Python_Workspace/Vector_DB_with_LLM/.venv/lib/python3.11/site-packages (from nbconvert>=5->notebook>=5.6.0->jupyterthemes) (6.2.0)\n",
      "Requirement already satisfied: defusedxml in /Users/euiyoung.hwang/ES/Python_Workspace/Vector_DB_with_LLM/.venv/lib/python3.11/site-packages (from nbconvert>=5->notebook>=5.6.0->jupyterthemes) (0.7.1)\n",
      "Requirement already satisfied: jupyterlab-pygments in /Users/euiyoung.hwang/ES/Python_Workspace/Vector_DB_with_LLM/.venv/lib/python3.11/site-packages (from nbconvert>=5->notebook>=5.6.0->jupyterthemes) (0.3.0)\n",
      "Requirement already satisfied: markupsafe>=2.0 in /Users/euiyoung.hwang/ES/Python_Workspace/Vector_DB_with_LLM/.venv/lib/python3.11/site-packages (from nbconvert>=5->notebook>=5.6.0->jupyterthemes) (2.1.5)\n",
      "Requirement already satisfied: mistune<4,>=2.0.3 in /Users/euiyoung.hwang/ES/Python_Workspace/Vector_DB_with_LLM/.venv/lib/python3.11/site-packages (from nbconvert>=5->notebook>=5.6.0->jupyterthemes) (3.0.2)\n",
      "Requirement already satisfied: nbclient>=0.5.0 in /Users/euiyoung.hwang/ES/Python_Workspace/Vector_DB_with_LLM/.venv/lib/python3.11/site-packages (from nbconvert>=5->notebook>=5.6.0->jupyterthemes) (0.10.1)\n",
      "Requirement already satisfied: pandocfilters>=1.4.1 in /Users/euiyoung.hwang/ES/Python_Workspace/Vector_DB_with_LLM/.venv/lib/python3.11/site-packages (from nbconvert>=5->notebook>=5.6.0->jupyterthemes) (1.5.1)\n",
      "Requirement already satisfied: tinycss2 in /Users/euiyoung.hwang/ES/Python_Workspace/Vector_DB_with_LLM/.venv/lib/python3.11/site-packages (from nbconvert>=5->notebook>=5.6.0->jupyterthemes) (1.4.0)\n",
      "Requirement already satisfied: fastjsonschema>=2.15 in /Users/euiyoung.hwang/ES/Python_Workspace/Vector_DB_with_LLM/.venv/lib/python3.11/site-packages (from nbformat->notebook>=5.6.0->jupyterthemes) (2.21.1)\n",
      "Requirement already satisfied: jsonschema>=2.6 in /Users/euiyoung.hwang/ES/Python_Workspace/Vector_DB_with_LLM/.venv/lib/python3.11/site-packages (from nbformat->notebook>=5.6.0->jupyterthemes) (4.23.0)\n",
      "Requirement already satisfied: ptyprocess>=0.5 in /Users/euiyoung.hwang/ES/Python_Workspace/Vector_DB_with_LLM/.venv/lib/python3.11/site-packages (from pexpect>4.3->ipython>=5.4.1->jupyterthemes) (0.7.0)\n",
      "Requirement already satisfied: wcwidth in /Users/euiyoung.hwang/ES/Python_Workspace/Vector_DB_with_LLM/.venv/lib/python3.11/site-packages (from prompt_toolkit<3.1.0,>=3.0.41->ipython>=5.4.1->jupyterthemes) (0.2.13)\n",
      "Requirement already satisfied: six>=1.5 in /Users/euiyoung.hwang/ES/Python_Workspace/Vector_DB_with_LLM/.venv/lib/python3.11/site-packages (from python-dateutil>=2.7->matplotlib>=1.4.3->jupyterthemes) (1.16.0)\n",
      "Requirement already satisfied: argon2-cffi-bindings in /Users/euiyoung.hwang/ES/Python_Workspace/Vector_DB_with_LLM/.venv/lib/python3.11/site-packages (from argon2-cffi->notebook>=5.6.0->jupyterthemes) (21.2.0)\n",
      "Requirement already satisfied: appnope in /Users/euiyoung.hwang/ES/Python_Workspace/Vector_DB_with_LLM/.venv/lib/python3.11/site-packages (from ipykernel->notebook>=5.6.0->jupyterthemes) (0.1.4)\n",
      "Requirement already satisfied: comm>=0.1.1 in /Users/euiyoung.hwang/ES/Python_Workspace/Vector_DB_with_LLM/.venv/lib/python3.11/site-packages (from ipykernel->notebook>=5.6.0->jupyterthemes) (0.2.2)\n",
      "Requirement already satisfied: debugpy>=1.6.5 in /Users/euiyoung.hwang/ES/Python_Workspace/Vector_DB_with_LLM/.venv/lib/python3.11/site-packages (from ipykernel->notebook>=5.6.0->jupyterthemes) (1.8.11)\n",
      "Requirement already satisfied: psutil in /Users/euiyoung.hwang/ES/Python_Workspace/Vector_DB_with_LLM/.venv/lib/python3.11/site-packages (from ipykernel->notebook>=5.6.0->jupyterthemes) (6.1.0)\n",
      "Requirement already satisfied: executing>=1.2.0 in /Users/euiyoung.hwang/ES/Python_Workspace/Vector_DB_with_LLM/.venv/lib/python3.11/site-packages (from stack_data->ipython>=5.4.1->jupyterthemes) (2.1.0)\n",
      "Requirement already satisfied: asttokens>=2.1.0 in /Users/euiyoung.hwang/ES/Python_Workspace/Vector_DB_with_LLM/.venv/lib/python3.11/site-packages (from stack_data->ipython>=5.4.1->jupyterthemes) (3.0.0)\n",
      "Requirement already satisfied: pure-eval in /Users/euiyoung.hwang/ES/Python_Workspace/Vector_DB_with_LLM/.venv/lib/python3.11/site-packages (from stack_data->ipython>=5.4.1->jupyterthemes) (0.2.3)\n",
      "Requirement already satisfied: webencodings in /Users/euiyoung.hwang/ES/Python_Workspace/Vector_DB_with_LLM/.venv/lib/python3.11/site-packages (from bleach!=5.0.0->nbconvert>=5->notebook>=5.6.0->jupyterthemes) (0.5.1)\n",
      "Requirement already satisfied: attrs>=22.2.0 in /Users/euiyoung.hwang/ES/Python_Workspace/Vector_DB_with_LLM/.venv/lib/python3.11/site-packages (from jsonschema>=2.6->nbformat->notebook>=5.6.0->jupyterthemes) (24.2.0)\n",
      "Requirement already satisfied: jsonschema-specifications>=2023.03.6 in /Users/euiyoung.hwang/ES/Python_Workspace/Vector_DB_with_LLM/.venv/lib/python3.11/site-packages (from jsonschema>=2.6->nbformat->notebook>=5.6.0->jupyterthemes) (2024.10.1)\n",
      "Requirement already satisfied: referencing>=0.28.4 in /Users/euiyoung.hwang/ES/Python_Workspace/Vector_DB_with_LLM/.venv/lib/python3.11/site-packages (from jsonschema>=2.6->nbformat->notebook>=5.6.0->jupyterthemes) (0.35.1)\n",
      "Requirement already satisfied: rpds-py>=0.7.1 in /Users/euiyoung.hwang/ES/Python_Workspace/Vector_DB_with_LLM/.venv/lib/python3.11/site-packages (from jsonschema>=2.6->nbformat->notebook>=5.6.0->jupyterthemes) (0.21.0)\n",
      "Requirement already satisfied: jupyter-server<3,>=1.8 in /Users/euiyoung.hwang/ES/Python_Workspace/Vector_DB_with_LLM/.venv/lib/python3.11/site-packages (from notebook-shim>=0.2.3->nbclassic>=0.4.7->notebook>=5.6.0->jupyterthemes) (2.14.2)\n",
      "Requirement already satisfied: cffi>=1.0.1 in /Users/euiyoung.hwang/ES/Python_Workspace/Vector_DB_with_LLM/.venv/lib/python3.11/site-packages (from argon2-cffi-bindings->argon2-cffi->notebook>=5.6.0->jupyterthemes) (1.17.1)\n",
      "Requirement already satisfied: soupsieve>1.2 in /Users/euiyoung.hwang/ES/Python_Workspace/Vector_DB_with_LLM/.venv/lib/python3.11/site-packages (from beautifulsoup4->nbconvert>=5->notebook>=5.6.0->jupyterthemes) (2.6)\n",
      "Requirement already satisfied: pycparser in /Users/euiyoung.hwang/ES/Python_Workspace/Vector_DB_with_LLM/.venv/lib/python3.11/site-packages (from cffi>=1.0.1->argon2-cffi-bindings->argon2-cffi->notebook>=5.6.0->jupyterthemes) (2.22)\n",
      "Requirement already satisfied: anyio>=3.1.0 in /Users/euiyoung.hwang/ES/Python_Workspace/Vector_DB_with_LLM/.venv/lib/python3.11/site-packages (from jupyter-server<3,>=1.8->notebook-shim>=0.2.3->nbclassic>=0.4.7->notebook>=5.6.0->jupyterthemes) (4.6.2.post1)\n",
      "Requirement already satisfied: jupyter-events>=0.9.0 in /Users/euiyoung.hwang/ES/Python_Workspace/Vector_DB_with_LLM/.venv/lib/python3.11/site-packages (from jupyter-server<3,>=1.8->notebook-shim>=0.2.3->nbclassic>=0.4.7->notebook>=5.6.0->jupyterthemes) (0.10.0)\n",
      "Requirement already satisfied: jupyter-server-terminals>=0.4.4 in /Users/euiyoung.hwang/ES/Python_Workspace/Vector_DB_with_LLM/.venv/lib/python3.11/site-packages (from jupyter-server<3,>=1.8->notebook-shim>=0.2.3->nbclassic>=0.4.7->notebook>=5.6.0->jupyterthemes) (0.5.3)\n",
      "Requirement already satisfied: overrides>=5.0 in /Users/euiyoung.hwang/ES/Python_Workspace/Vector_DB_with_LLM/.venv/lib/python3.11/site-packages (from jupyter-server<3,>=1.8->notebook-shim>=0.2.3->nbclassic>=0.4.7->notebook>=5.6.0->jupyterthemes) (7.7.0)\n",
      "Requirement already satisfied: websocket-client>=1.7 in /Users/euiyoung.hwang/ES/Python_Workspace/Vector_DB_with_LLM/.venv/lib/python3.11/site-packages (from jupyter-server<3,>=1.8->notebook-shim>=0.2.3->nbclassic>=0.4.7->notebook>=5.6.0->jupyterthemes) (1.8.0)\n",
      "Requirement already satisfied: idna>=2.8 in /Users/euiyoung.hwang/ES/Python_Workspace/Vector_DB_with_LLM/.venv/lib/python3.11/site-packages (from anyio>=3.1.0->jupyter-server<3,>=1.8->notebook-shim>=0.2.3->nbclassic>=0.4.7->notebook>=5.6.0->jupyterthemes) (3.10)\n",
      "Requirement already satisfied: sniffio>=1.1 in /Users/euiyoung.hwang/ES/Python_Workspace/Vector_DB_with_LLM/.venv/lib/python3.11/site-packages (from anyio>=3.1.0->jupyter-server<3,>=1.8->notebook-shim>=0.2.3->nbclassic>=0.4.7->notebook>=5.6.0->jupyterthemes) (1.3.1)\n",
      "Requirement already satisfied: python-json-logger>=2.0.4 in /Users/euiyoung.hwang/ES/Python_Workspace/Vector_DB_with_LLM/.venv/lib/python3.11/site-packages (from jupyter-events>=0.9.0->jupyter-server<3,>=1.8->notebook-shim>=0.2.3->nbclassic>=0.4.7->notebook>=5.6.0->jupyterthemes) (3.2.1)\n",
      "Requirement already satisfied: pyyaml>=5.3 in /Users/euiyoung.hwang/ES/Python_Workspace/Vector_DB_with_LLM/.venv/lib/python3.11/site-packages (from jupyter-events>=0.9.0->jupyter-server<3,>=1.8->notebook-shim>=0.2.3->nbclassic>=0.4.7->notebook>=5.6.0->jupyterthemes) (6.0.2)\n",
      "Requirement already satisfied: rfc3339-validator in /Users/euiyoung.hwang/ES/Python_Workspace/Vector_DB_with_LLM/.venv/lib/python3.11/site-packages (from jupyter-events>=0.9.0->jupyter-server<3,>=1.8->notebook-shim>=0.2.3->nbclassic>=0.4.7->notebook>=5.6.0->jupyterthemes) (0.1.4)\n",
      "Requirement already satisfied: rfc3986-validator>=0.1.1 in /Users/euiyoung.hwang/ES/Python_Workspace/Vector_DB_with_LLM/.venv/lib/python3.11/site-packages (from jupyter-events>=0.9.0->jupyter-server<3,>=1.8->notebook-shim>=0.2.3->nbclassic>=0.4.7->notebook>=5.6.0->jupyterthemes) (0.1.1)\n",
      "Requirement already satisfied: fqdn in /Users/euiyoung.hwang/ES/Python_Workspace/Vector_DB_with_LLM/.venv/lib/python3.11/site-packages (from jsonschema>=2.6->nbformat->notebook>=5.6.0->jupyterthemes) (1.5.1)\n",
      "Requirement already satisfied: isoduration in /Users/euiyoung.hwang/ES/Python_Workspace/Vector_DB_with_LLM/.venv/lib/python3.11/site-packages (from jsonschema>=2.6->nbformat->notebook>=5.6.0->jupyterthemes) (20.11.0)\n",
      "Requirement already satisfied: jsonpointer>1.13 in /Users/euiyoung.hwang/ES/Python_Workspace/Vector_DB_with_LLM/.venv/lib/python3.11/site-packages (from jsonschema>=2.6->nbformat->notebook>=5.6.0->jupyterthemes) (3.0.0)\n",
      "Requirement already satisfied: uri-template in /Users/euiyoung.hwang/ES/Python_Workspace/Vector_DB_with_LLM/.venv/lib/python3.11/site-packages (from jsonschema>=2.6->nbformat->notebook>=5.6.0->jupyterthemes) (1.3.0)\n",
      "Requirement already satisfied: webcolors>=24.6.0 in /Users/euiyoung.hwang/ES/Python_Workspace/Vector_DB_with_LLM/.venv/lib/python3.11/site-packages (from jsonschema>=2.6->nbformat->notebook>=5.6.0->jupyterthemes) (24.11.1)\n",
      "Requirement already satisfied: arrow>=0.15.0 in /Users/euiyoung.hwang/ES/Python_Workspace/Vector_DB_with_LLM/.venv/lib/python3.11/site-packages (from isoduration->jsonschema>=2.6->nbformat->notebook>=5.6.0->jupyterthemes) (1.3.0)\n",
      "Requirement already satisfied: types-python-dateutil>=2.8.10 in /Users/euiyoung.hwang/ES/Python_Workspace/Vector_DB_with_LLM/.venv/lib/python3.11/site-packages (from arrow>=0.15.0->isoduration->jsonschema>=2.6->nbformat->notebook>=5.6.0->jupyterthemes) (2.9.0.20241206)\n",
      "\n",
      "\u001b[1m[\u001b[0m\u001b[34;49mnotice\u001b[0m\u001b[1;39;49m]\u001b[0m\u001b[39;49m A new release of pip is available: \u001b[0m\u001b[31;49m23.2.1\u001b[0m\u001b[39;49m -> \u001b[0m\u001b[32;49m24.3.1\u001b[0m\n",
      "\u001b[1m[\u001b[0m\u001b[34;49mnotice\u001b[0m\u001b[1;39;49m]\u001b[0m\u001b[39;49m To update, run: \u001b[0m\u001b[32;49mpip install --upgrade pip\u001b[0m\n"
     ]
    }
   ],
   "source": [
    "!pip install jupyterthemes\n",
    "!jt -t oceans16"
   ]
  },
  {
   "cell_type": "code",
   "execution_count": 3,
   "id": "3196adb9",
   "metadata": {},
   "outputs": [
    {
     "name": "stdout",
     "output_type": "stream",
     "text": [
      "es_langchain **\n"
     ]
    }
   ],
   "source": [
    "print(f\"es_langchain **\")"
   ]
  },
  {
   "cell_type": "code",
   "execution_count": 4,
   "id": "2733cd02",
   "metadata": {},
   "outputs": [],
   "source": [
    "# Gradio is an open-source Python package that allows you to quickly build a demo or web application for your machine learning model, API, or any arbitrary Python function. \n",
    "# You can then share a link to your demo or web application in just a few seconds using Gradio's built-in sharing features."
   ]
  },
  {
   "cell_type": "code",
   "execution_count": 5,
   "id": "ec9f0928",
   "metadata": {},
   "outputs": [
    {
     "name": "stdout",
     "output_type": "stream",
     "text": [
      "Requirement already satisfied: gradio in /Users/euiyoung.hwang/ES/Python_Workspace/Vector_DB_with_LLM/.venv/lib/python3.11/site-packages (5.9.1)\n",
      "Requirement already satisfied: aiofiles<24.0,>=22.0 in /Users/euiyoung.hwang/ES/Python_Workspace/Vector_DB_with_LLM/.venv/lib/python3.11/site-packages (from gradio) (23.2.1)\n",
      "Requirement already satisfied: anyio<5.0,>=3.0 in /Users/euiyoung.hwang/ES/Python_Workspace/Vector_DB_with_LLM/.venv/lib/python3.11/site-packages (from gradio) (4.6.2.post1)\n",
      "Requirement already satisfied: fastapi<1.0,>=0.115.2 in /Users/euiyoung.hwang/ES/Python_Workspace/Vector_DB_with_LLM/.venv/lib/python3.11/site-packages (from gradio) (0.115.5)\n",
      "Requirement already satisfied: ffmpy in /Users/euiyoung.hwang/ES/Python_Workspace/Vector_DB_with_LLM/.venv/lib/python3.11/site-packages (from gradio) (0.5.0)\n",
      "Requirement already satisfied: gradio-client==1.5.2 in /Users/euiyoung.hwang/ES/Python_Workspace/Vector_DB_with_LLM/.venv/lib/python3.11/site-packages (from gradio) (1.5.2)\n",
      "Requirement already satisfied: httpx>=0.24.1 in /Users/euiyoung.hwang/ES/Python_Workspace/Vector_DB_with_LLM/.venv/lib/python3.11/site-packages (from gradio) (0.27.2)\n",
      "Requirement already satisfied: huggingface-hub>=0.25.1 in /Users/euiyoung.hwang/ES/Python_Workspace/Vector_DB_with_LLM/.venv/lib/python3.11/site-packages (from gradio) (0.26.2)\n",
      "Requirement already satisfied: jinja2<4.0 in /Users/euiyoung.hwang/ES/Python_Workspace/Vector_DB_with_LLM/.venv/lib/python3.11/site-packages (from gradio) (3.1.4)\n",
      "Requirement already satisfied: markupsafe~=2.0 in /Users/euiyoung.hwang/ES/Python_Workspace/Vector_DB_with_LLM/.venv/lib/python3.11/site-packages (from gradio) (2.1.5)\n",
      "Requirement already satisfied: numpy<3.0,>=1.0 in /Users/euiyoung.hwang/ES/Python_Workspace/Vector_DB_with_LLM/.venv/lib/python3.11/site-packages (from gradio) (1.26.4)\n",
      "Requirement already satisfied: orjson~=3.0 in /Users/euiyoung.hwang/ES/Python_Workspace/Vector_DB_with_LLM/.venv/lib/python3.11/site-packages (from gradio) (3.10.11)\n",
      "Requirement already satisfied: packaging in /Users/euiyoung.hwang/ES/Python_Workspace/Vector_DB_with_LLM/.venv/lib/python3.11/site-packages (from gradio) (24.2)\n",
      "Requirement already satisfied: pandas<3.0,>=1.0 in /Users/euiyoung.hwang/ES/Python_Workspace/Vector_DB_with_LLM/.venv/lib/python3.11/site-packages (from gradio) (2.2.3)\n",
      "Requirement already satisfied: pillow<12.0,>=8.0 in /Users/euiyoung.hwang/ES/Python_Workspace/Vector_DB_with_LLM/.venv/lib/python3.11/site-packages (from gradio) (11.0.0)\n",
      "Requirement already satisfied: pydantic>=2.0 in /Users/euiyoung.hwang/ES/Python_Workspace/Vector_DB_with_LLM/.venv/lib/python3.11/site-packages (from gradio) (2.9.2)\n",
      "Requirement already satisfied: pydub in /Users/euiyoung.hwang/ES/Python_Workspace/Vector_DB_with_LLM/.venv/lib/python3.11/site-packages (from gradio) (0.25.1)\n",
      "Requirement already satisfied: python-multipart>=0.0.18 in /Users/euiyoung.hwang/ES/Python_Workspace/Vector_DB_with_LLM/.venv/lib/python3.11/site-packages (from gradio) (0.0.18)\n",
      "Requirement already satisfied: pyyaml<7.0,>=5.0 in /Users/euiyoung.hwang/ES/Python_Workspace/Vector_DB_with_LLM/.venv/lib/python3.11/site-packages (from gradio) (6.0.2)\n",
      "Requirement already satisfied: ruff>=0.2.2 in /Users/euiyoung.hwang/ES/Python_Workspace/Vector_DB_with_LLM/.venv/lib/python3.11/site-packages (from gradio) (0.8.4)\n",
      "Requirement already satisfied: safehttpx<0.2.0,>=0.1.6 in /Users/euiyoung.hwang/ES/Python_Workspace/Vector_DB_with_LLM/.venv/lib/python3.11/site-packages (from gradio) (0.1.6)\n",
      "Requirement already satisfied: semantic-version~=2.0 in /Users/euiyoung.hwang/ES/Python_Workspace/Vector_DB_with_LLM/.venv/lib/python3.11/site-packages (from gradio) (2.10.0)\n",
      "Requirement already satisfied: starlette<1.0,>=0.40.0 in /Users/euiyoung.hwang/ES/Python_Workspace/Vector_DB_with_LLM/.venv/lib/python3.11/site-packages (from gradio) (0.41.2)\n",
      "Requirement already satisfied: tomlkit<0.14.0,>=0.12.0 in /Users/euiyoung.hwang/ES/Python_Workspace/Vector_DB_with_LLM/.venv/lib/python3.11/site-packages (from gradio) (0.13.2)\n",
      "Requirement already satisfied: typer<1.0,>=0.12 in /Users/euiyoung.hwang/ES/Python_Workspace/Vector_DB_with_LLM/.venv/lib/python3.11/site-packages (from gradio) (0.13.0)\n",
      "Requirement already satisfied: typing-extensions~=4.0 in /Users/euiyoung.hwang/ES/Python_Workspace/Vector_DB_with_LLM/.venv/lib/python3.11/site-packages (from gradio) (4.12.2)\n",
      "Requirement already satisfied: uvicorn>=0.14.0 in /Users/euiyoung.hwang/ES/Python_Workspace/Vector_DB_with_LLM/.venv/lib/python3.11/site-packages (from gradio) (0.32.1)\n",
      "Requirement already satisfied: fsspec in /Users/euiyoung.hwang/ES/Python_Workspace/Vector_DB_with_LLM/.venv/lib/python3.11/site-packages (from gradio-client==1.5.2->gradio) (2024.10.0)\n",
      "Requirement already satisfied: websockets<15.0,>=10.0 in /Users/euiyoung.hwang/ES/Python_Workspace/Vector_DB_with_LLM/.venv/lib/python3.11/site-packages (from gradio-client==1.5.2->gradio) (14.0)\n",
      "Requirement already satisfied: idna>=2.8 in /Users/euiyoung.hwang/ES/Python_Workspace/Vector_DB_with_LLM/.venv/lib/python3.11/site-packages (from anyio<5.0,>=3.0->gradio) (3.10)\n",
      "Requirement already satisfied: sniffio>=1.1 in /Users/euiyoung.hwang/ES/Python_Workspace/Vector_DB_with_LLM/.venv/lib/python3.11/site-packages (from anyio<5.0,>=3.0->gradio) (1.3.1)\n",
      "Requirement already satisfied: certifi in /Users/euiyoung.hwang/ES/Python_Workspace/Vector_DB_with_LLM/.venv/lib/python3.11/site-packages (from httpx>=0.24.1->gradio) (2024.8.30)\n",
      "Requirement already satisfied: httpcore==1.* in /Users/euiyoung.hwang/ES/Python_Workspace/Vector_DB_with_LLM/.venv/lib/python3.11/site-packages (from httpx>=0.24.1->gradio) (1.0.6)\n",
      "Requirement already satisfied: h11<0.15,>=0.13 in /Users/euiyoung.hwang/ES/Python_Workspace/Vector_DB_with_LLM/.venv/lib/python3.11/site-packages (from httpcore==1.*->httpx>=0.24.1->gradio) (0.14.0)\n",
      "Requirement already satisfied: filelock in /Users/euiyoung.hwang/ES/Python_Workspace/Vector_DB_with_LLM/.venv/lib/python3.11/site-packages (from huggingface-hub>=0.25.1->gradio) (3.16.1)\n",
      "Requirement already satisfied: requests in /Users/euiyoung.hwang/ES/Python_Workspace/Vector_DB_with_LLM/.venv/lib/python3.11/site-packages (from huggingface-hub>=0.25.1->gradio) (2.27.1)\n",
      "Requirement already satisfied: tqdm>=4.42.1 in /Users/euiyoung.hwang/ES/Python_Workspace/Vector_DB_with_LLM/.venv/lib/python3.11/site-packages (from huggingface-hub>=0.25.1->gradio) (4.67.0)\n",
      "Requirement already satisfied: python-dateutil>=2.8.2 in /Users/euiyoung.hwang/ES/Python_Workspace/Vector_DB_with_LLM/.venv/lib/python3.11/site-packages (from pandas<3.0,>=1.0->gradio) (2.9.0.post0)\n",
      "Requirement already satisfied: pytz>=2020.1 in /Users/euiyoung.hwang/ES/Python_Workspace/Vector_DB_with_LLM/.venv/lib/python3.11/site-packages (from pandas<3.0,>=1.0->gradio) (2024.2)\n",
      "Requirement already satisfied: tzdata>=2022.7 in /Users/euiyoung.hwang/ES/Python_Workspace/Vector_DB_with_LLM/.venv/lib/python3.11/site-packages (from pandas<3.0,>=1.0->gradio) (2024.2)\n",
      "Requirement already satisfied: annotated-types>=0.6.0 in /Users/euiyoung.hwang/ES/Python_Workspace/Vector_DB_with_LLM/.venv/lib/python3.11/site-packages (from pydantic>=2.0->gradio) (0.7.0)\n",
      "Requirement already satisfied: pydantic-core==2.23.4 in /Users/euiyoung.hwang/ES/Python_Workspace/Vector_DB_with_LLM/.venv/lib/python3.11/site-packages (from pydantic>=2.0->gradio) (2.23.4)\n",
      "Requirement already satisfied: click>=8.0.0 in /Users/euiyoung.hwang/ES/Python_Workspace/Vector_DB_with_LLM/.venv/lib/python3.11/site-packages (from typer<1.0,>=0.12->gradio) (8.1.7)\n",
      "Requirement already satisfied: shellingham>=1.3.0 in /Users/euiyoung.hwang/ES/Python_Workspace/Vector_DB_with_LLM/.venv/lib/python3.11/site-packages (from typer<1.0,>=0.12->gradio) (1.5.4)\n",
      "Requirement already satisfied: rich>=10.11.0 in /Users/euiyoung.hwang/ES/Python_Workspace/Vector_DB_with_LLM/.venv/lib/python3.11/site-packages (from typer<1.0,>=0.12->gradio) (13.9.4)\n",
      "Requirement already satisfied: six>=1.5 in /Users/euiyoung.hwang/ES/Python_Workspace/Vector_DB_with_LLM/.venv/lib/python3.11/site-packages (from python-dateutil>=2.8.2->pandas<3.0,>=1.0->gradio) (1.16.0)\n",
      "Requirement already satisfied: markdown-it-py>=2.2.0 in /Users/euiyoung.hwang/ES/Python_Workspace/Vector_DB_with_LLM/.venv/lib/python3.11/site-packages (from rich>=10.11.0->typer<1.0,>=0.12->gradio) (3.0.0)\n",
      "Requirement already satisfied: pygments<3.0.0,>=2.13.0 in /Users/euiyoung.hwang/ES/Python_Workspace/Vector_DB_with_LLM/.venv/lib/python3.11/site-packages (from rich>=10.11.0->typer<1.0,>=0.12->gradio) (2.18.0)\n",
      "Requirement already satisfied: urllib3<1.27,>=1.21.1 in /Users/euiyoung.hwang/ES/Python_Workspace/Vector_DB_with_LLM/.venv/lib/python3.11/site-packages (from requests->huggingface-hub>=0.25.1->gradio) (1.26.20)\n",
      "Requirement already satisfied: charset-normalizer~=2.0.0 in /Users/euiyoung.hwang/ES/Python_Workspace/Vector_DB_with_LLM/.venv/lib/python3.11/site-packages (from requests->huggingface-hub>=0.25.1->gradio) (2.0.12)\n",
      "Requirement already satisfied: mdurl~=0.1 in /Users/euiyoung.hwang/ES/Python_Workspace/Vector_DB_with_LLM/.venv/lib/python3.11/site-packages (from markdown-it-py>=2.2.0->rich>=10.11.0->typer<1.0,>=0.12->gradio) (0.1.2)\n",
      "\n",
      "\u001b[1m[\u001b[0m\u001b[34;49mnotice\u001b[0m\u001b[1;39;49m]\u001b[0m\u001b[39;49m A new release of pip is available: \u001b[0m\u001b[31;49m23.2.1\u001b[0m\u001b[39;49m -> \u001b[0m\u001b[32;49m24.3.1\u001b[0m\n",
      "\u001b[1m[\u001b[0m\u001b[34;49mnotice\u001b[0m\u001b[1;39;49m]\u001b[0m\u001b[39;49m To update, run: \u001b[0m\u001b[32;49mpip install --upgrade pip\u001b[0m\n",
      "Requirement already satisfied: email-validator in /Users/euiyoung.hwang/ES/Python_Workspace/Vector_DB_with_LLM/.venv/lib/python3.11/site-packages (2.2.0)\n",
      "Requirement already satisfied: dnspython>=2.0.0 in /Users/euiyoung.hwang/ES/Python_Workspace/Vector_DB_with_LLM/.venv/lib/python3.11/site-packages (from email-validator) (2.7.0)\n",
      "Requirement already satisfied: idna>=2.0.0 in /Users/euiyoung.hwang/ES/Python_Workspace/Vector_DB_with_LLM/.venv/lib/python3.11/site-packages (from email-validator) (3.10)\n",
      "\n",
      "\u001b[1m[\u001b[0m\u001b[34;49mnotice\u001b[0m\u001b[1;39;49m]\u001b[0m\u001b[39;49m A new release of pip is available: \u001b[0m\u001b[31;49m23.2.1\u001b[0m\u001b[39;49m -> \u001b[0m\u001b[32;49m24.3.1\u001b[0m\n",
      "\u001b[1m[\u001b[0m\u001b[34;49mnotice\u001b[0m\u001b[1;39;49m]\u001b[0m\u001b[39;49m To update, run: \u001b[0m\u001b[32;49mpip install --upgrade pip\u001b[0m\n"
     ]
    }
   ],
   "source": [
    "!pip install gradio\n",
    "!pip install -U email-validator"
   ]
  },
  {
   "cell_type": "code",
   "execution_count": 6,
   "id": "24c294f0",
   "metadata": {},
   "outputs": [
    {
     "name": "stderr",
     "output_type": "stream",
     "text": [
      "/Users/euiyoung.hwang/ES/Python_Workspace/Vector_DB_with_LLM/.venv/lib/python3.11/site-packages/requests/__init__.py:102: RequestsDependencyWarning: urllib3 (1.26.20) or chardet (5.2.0)/charset_normalizer (2.0.12) doesn't match a supported version!\n",
      "  warnings.warn(\"urllib3 ({}) or chardet ({})/charset_normalizer ({}) doesn't match a supported \"\n"
     ]
    }
   ],
   "source": [
    "import gradio as gr\n",
    "import logging\n",
    "\n",
    "logging.basicConfig(format='%(asctime)s : %(levelname)s : %(message)s', level=logging.INFO)\n"
   ]
  },
  {
   "cell_type": "code",
   "execution_count": 7,
   "id": "15933cf7",
   "metadata": {},
   "outputs": [],
   "source": [
    "def user_greeting(name, intensity):\n",
    "    # return \"안녕하세요! \" + name + \"님, 첫 번째 Gradio 애플리케이션에 오신 것을 환영합니다!😎\"\n",
    "    return \"Hello, \" + name + \"!\" * int(intensity)"
   ]
  },
  {
   "cell_type": "code",
   "execution_count": 8,
   "id": "ede4fea9",
   "metadata": {},
   "outputs": [
    {
     "name": "stderr",
     "output_type": "stream",
     "text": [
      "2024-12-21 15:07:59,247 : INFO : HTTP Request: GET http://127.0.0.1:7860/gradio_api/startup-events \"HTTP/1.1 200 OK\"\n",
      "2024-12-21 15:07:59,318 : INFO : HTTP Request: HEAD http://127.0.0.1:7860/ \"HTTP/1.1 200 OK\"\n"
     ]
    },
    {
     "name": "stdout",
     "output_type": "stream",
     "text": [
      "* Running on local URL:  http://127.0.0.1:7860\n",
      "\n",
      "To create a public link, set `share=True` in `launch()`.\n"
     ]
    },
    {
     "data": {
      "text/html": [
       "<div><iframe src=\"http://127.0.0.1:7860/\" width=\"100%\" height=\"500\" allow=\"autoplay; camera; microphone; clipboard-read; clipboard-write;\" frameborder=\"0\" allowfullscreen></iframe></div>"
      ],
      "text/plain": [
       "<IPython.core.display.HTML object>"
      ]
     },
     "metadata": {},
     "output_type": "display_data"
    },
    {
     "data": {
      "text/plain": []
     },
     "execution_count": 8,
     "metadata": {},
     "output_type": "execute_result"
    },
    {
     "name": "stderr",
     "output_type": "stream",
     "text": [
      "2024-12-21 15:07:59,484 : INFO : HTTP Request: GET https://api.gradio.app/pkg-version \"HTTP/1.1 200 OK\"\n"
     ]
    }
   ],
   "source": [
    "# You can run Gradio in your favorite code editor, Jupyter notebook, Google Colab, or anywhere else you write Python\n",
    "# app = gr.Interface(fn=user_greeting, inputs=\"text\", outputs=\"text\")\n",
    "app = gr.Interface(fn=user_greeting, inputs=[\"text\", \"slider\"], outputs=\"text\")\n",
    "app.launch()\n",
    "# app.launch(share=True)  # Share your demo with just 1 extra parameter 🚀"
   ]
  },
  {
   "cell_type": "code",
   "execution_count": 9,
   "id": "38d18420-00d0-4d86-b856-283200f110e3",
   "metadata": {},
   "outputs": [],
   "source": [
    "from elasticsearch import Elasticsearch\n",
    "import os\n",
    "import json"
   ]
  },
  {
   "cell_type": "code",
   "execution_count": 10,
   "id": "e6c6f8b1-0b19-476f-9e35-267ec7c1a729",
   "metadata": {},
   "outputs": [],
   "source": [
    "def get_headers():\n",
    "    ''' Elasticsearch Header '''\n",
    "    return {\n",
    "            'Content-type': 'application/json', \n",
    "            'Authorization' : '{}'.format(os.getenv('BASIC_AUTH')),\n",
    "            # 'Connection': 'close'\n",
    "    }"
   ]
  },
  {
   "cell_type": "code",
   "execution_count": 11,
   "id": "f10d1c91-c754-4212-926f-197a43cacd8e",
   "metadata": {},
   "outputs": [
    {
     "name": "stderr",
     "output_type": "stream",
     "text": [
      "/var/folders/7t/cmft4byj1n7bjh9vhd79ldyr0000gn/T/ipykernel_49320/506791230.py:3: DeprecationWarning: The 'timeout' parameter is deprecated in favor of 'request_timeout'\n",
      "  es = Elasticsearch(hosts=\"http://localhost:9203\", headers=get_headers(), timeout=5,  verify_certs=False)\n",
      "2024-12-21 15:07:59,835 : INFO : GET http://localhost:9203/_cluster/health [status:200 duration:0.008s]\n"
     ]
    },
    {
     "name": "stdout",
     "output_type": "stream",
     "text": [
      "{'cluster_name': 'docker-elasticsearch', 'status': 'yellow', 'timed_out': False, 'number_of_nodes': 1, 'number_of_data_nodes': 1, 'active_primary_shards': 71, 'active_shards': 71, 'relocating_shards': 0, 'initializing_shards': 0, 'unassigned_shards': 41, 'delayed_unassigned_shards': 0, 'number_of_pending_tasks': 0, 'number_of_in_flight_fetch': 0, 'task_max_waiting_in_queue_millis': 0, 'active_shards_percent_as_number': 63.39285714285714} <class 'dict'>\n",
      "{\n",
      "  \"cluster_name\": \"docker-elasticsearch\",\n",
      "  \"status\": \"yellow\",\n",
      "  \"timed_out\": false,\n",
      "  \"number_of_nodes\": 1,\n",
      "  \"number_of_data_nodes\": 1,\n",
      "  \"active_primary_shards\": 71,\n",
      "  \"active_shards\": 71,\n",
      "  \"relocating_shards\": 0,\n",
      "  \"initializing_shards\": 0,\n",
      "  \"unassigned_shards\": 41,\n",
      "  \"delayed_unassigned_shards\": 0,\n",
      "  \"number_of_pending_tasks\": 0,\n",
      "  \"number_of_in_flight_fetch\": 0,\n",
      "  \"task_max_waiting_in_queue_millis\": 0,\n",
      "  \"active_shards_percent_as_number\": 63.39285714285714\n",
      "}\n"
     ]
    }
   ],
   "source": [
    "''' https://www.elastic.co/guide/en/elasticsearch/client/python-api/current/migration.html '''\n",
    "''' In 8.0.0 responses are no longer the raw deserialized response body and instead an object with two properties, meta and body '''\n",
    "es = Elasticsearch(hosts=\"http://localhost:9202\", headers=get_headers(), timeout=5,  verify_certs=False)\n",
    "# print(es.cat.health())\n",
    "# print(type(es.cluster.health()))\n",
    "resp = es.cluster.health()\n",
    "# print(resp)\n",
    "# print(resp['status'], resp.keys(), resp.values())\n",
    "print(resp.body, type(resp.body))\n",
    "\n",
    "# json_dict = {}\n",
    "# for k, v in resp.items():\n",
    "#     json_dict.update({k : v})\n",
    "    \n",
    "# print(json_dict, type(json_dict))\n",
    "# print(json.dumps(json_dict, indent=2))\n",
    "print(json.dumps(resp.body, indent=2))"
   ]
  },
  {
   "cell_type": "code",
   "execution_count": 12,
   "id": "4ffd6d73-0ccf-421b-a671-20b4a20f4169",
   "metadata": {},
   "outputs": [
    {
     "data": {
      "text/html": [
       "<div>\n",
       "<style scoped>\n",
       "    .dataframe tbody tr th:only-of-type {\n",
       "        vertical-align: middle;\n",
       "    }\n",
       "\n",
       "    .dataframe tbody tr th {\n",
       "        vertical-align: top;\n",
       "    }\n",
       "\n",
       "    .dataframe thead th {\n",
       "        text-align: right;\n",
       "    }\n",
       "</style>\n",
       "<table border=\"1\" class=\"dataframe\">\n",
       "  <thead>\n",
       "    <tr style=\"text-align: right;\">\n",
       "      <th></th>\n",
       "      <th>cluster_name</th>\n",
       "      <th>status</th>\n",
       "      <th>timed_out</th>\n",
       "      <th>number_of_nodes</th>\n",
       "      <th>number_of_data_nodes</th>\n",
       "      <th>active_primary_shards</th>\n",
       "      <th>active_shards</th>\n",
       "      <th>relocating_shards</th>\n",
       "      <th>initializing_shards</th>\n",
       "      <th>unassigned_shards</th>\n",
       "      <th>delayed_unassigned_shards</th>\n",
       "      <th>number_of_pending_tasks</th>\n",
       "      <th>number_of_in_flight_fetch</th>\n",
       "      <th>task_max_waiting_in_queue_millis</th>\n",
       "      <th>active_shards_percent_as_number</th>\n",
       "    </tr>\n",
       "  </thead>\n",
       "  <tbody>\n",
       "    <tr>\n",
       "      <th>0</th>\n",
       "      <td>docker-elasticsearch</td>\n",
       "      <td>yellow</td>\n",
       "      <td>False</td>\n",
       "      <td>1</td>\n",
       "      <td>1</td>\n",
       "      <td>71</td>\n",
       "      <td>71</td>\n",
       "      <td>0</td>\n",
       "      <td>0</td>\n",
       "      <td>41</td>\n",
       "      <td>0</td>\n",
       "      <td>0</td>\n",
       "      <td>0</td>\n",
       "      <td>0</td>\n",
       "      <td>63.392857</td>\n",
       "    </tr>\n",
       "  </tbody>\n",
       "</table>\n",
       "</div>"
      ],
      "text/plain": [
       "           cluster_name  status  timed_out  number_of_nodes  \\\n",
       "0  docker-elasticsearch  yellow      False                1   \n",
       "\n",
       "   number_of_data_nodes  active_primary_shards  active_shards  \\\n",
       "0                     1                     71             71   \n",
       "\n",
       "   relocating_shards  initializing_shards  unassigned_shards  \\\n",
       "0                  0                    0                 41   \n",
       "\n",
       "   delayed_unassigned_shards  number_of_pending_tasks  \\\n",
       "0                          0                        0   \n",
       "\n",
       "   number_of_in_flight_fetch  task_max_waiting_in_queue_millis  \\\n",
       "0                          0                                 0   \n",
       "\n",
       "   active_shards_percent_as_number  \n",
       "0                        63.392857  "
      ]
     },
     "execution_count": 12,
     "metadata": {},
     "output_type": "execute_result"
    }
   ],
   "source": [
    "''' json to dataframe '''\n",
    "import pandas as pd\n",
    "\n",
    "df = pd.DataFrame.from_dict([resp.body])\n",
    "df.head(10)"
   ]
  },
  {
   "cell_type": "code",
   "execution_count": 13,
   "id": "039a8ea1-ba4b-4165-920e-bd1511c87f62",
   "metadata": {},
   "outputs": [],
   "source": [
    "''' https://www.elastic.co/guide/en/elasticsearch/client/python-api/current/migration.html '''\n",
    "''' In 8.0.0 responses are no longer the raw deserialized response body and instead an object with two properties, meta and body '''\n",
    "def es_get_health(host):\n",
    "    es_client = Elasticsearch(hosts=\"http://{}\".format(host), headers=get_headers(), timeout=5,  verify_certs=False)\n",
    "    return json.dumps(es_client.cluster.health().body, indent=2), es_client.cluster.health()['status']"
   ]
  },
  {
   "cell_type": "code",
   "execution_count": 14,
   "id": "6eb61035-1954-4b66-8b78-410644f63965",
   "metadata": {},
   "outputs": [
    {
     "name": "stderr",
     "output_type": "stream",
     "text": [
      "2024-12-21 15:08:00,075 : INFO : HTTP Request: GET http://127.0.0.1:7861/gradio_api/startup-events \"HTTP/1.1 200 OK\"\n",
      "2024-12-21 15:08:00,079 : INFO : HTTP Request: HEAD http://127.0.0.1:7861/ \"HTTP/1.1 200 OK\"\n"
     ]
    },
    {
     "name": "stdout",
     "output_type": "stream",
     "text": [
      "* Running on local URL:  http://127.0.0.1:7861\n",
      "\n",
      "To create a public link, set `share=True` in `launch()`.\n"
     ]
    },
    {
     "data": {
      "text/html": [
       "<div><iframe src=\"http://127.0.0.1:7861/\" width=\"100%\" height=\"500\" allow=\"autoplay; camera; microphone; clipboard-read; clipboard-write;\" frameborder=\"0\" allowfullscreen></iframe></div>"
      ],
      "text/plain": [
       "<IPython.core.display.HTML object>"
      ]
     },
     "metadata": {},
     "output_type": "display_data"
    },
    {
     "data": {
      "text/plain": []
     },
     "execution_count": 14,
     "metadata": {},
     "output_type": "execute_result"
    },
    {
     "name": "stderr",
     "output_type": "stream",
     "text": [
      "2024-12-21 15:08:00,232 : INFO : HTTP Request: GET https://api.gradio.app/pkg-version \"HTTP/1.1 200 OK\"\n",
      "2024-12-21 15:08:00,316 : INFO : HTTP Request: GET https://api.gradio.app/pkg-version \"HTTP/1.1 200 OK\"\n"
     ]
    }
   ],
   "source": [
    "# Gradio is an open-source Python package that allows you to quickly build a demo or web application for your machine learning model, API, or any arbitrary Python function. \n",
    "# You can then share a link to your demo or web application in just a few seconds using Gradio's built-in sharing features.\n",
    "''' https://www.gradio.app/guides/quickstart '''\n",
    "''' https://www.gradio.app/docs/gradio/label '''\n",
    "''' Prerequisite: Gradio requires Python 3.10 or higher. --> We recommend installing Gradio using pip, pip install --upgrade gradio'''\n",
    "# http://127.0.0.1:7880/?__theme=dark\n",
    "# app = gr.Interface(fn=es_get_health, inputs=[\"text\"], outputs=\"text\")\n",
    "with gr.Blocks() as app:\n",
    "    gr.Markdown(\"# ES Cluster Health\")\n",
    "    # es_status = json.loads(es_get_health(\"localhost:9201\"))['status']\n",
    "    label = gr.Label(value = \"\", show_label=True, label=\"ES cluster status\")\n",
    "    gr.Interface(fn=es_get_health, inputs=[\"text\"], outputs=[\"text\", label])\n",
    "        \n",
    "app.launch()"
   ]
  },
  {
   "cell_type": "code",
   "execution_count": 15,
   "id": "894f8013-decb-4042-b3af-ccd437d23cdd",
   "metadata": {},
   "outputs": [
    {
     "name": "stdout",
     "output_type": "stream",
     "text": [
      "Collecting langchain-elasticsearch\n",
      "  Obtaining dependency information for langchain-elasticsearch from https://files.pythonhosted.org/packages/d4/0c/3d9330f0c1c6e6aba285279f4048a3cda1af30fd8a05ddaf242d59110175/langchain_elasticsearch-0.3.0-py3-none-any.whl.metadata\n",
      "  Downloading langchain_elasticsearch-0.3.0-py3-none-any.whl.metadata (8.3 kB)\n",
      "Requirement already satisfied: elasticsearch[vectorstore-mmr]<9.0.0,>=8.13.1 in /Users/euiyoung.hwang/ES/Python_Workspace/Vector_DB_with_LLM/.venv/lib/python3.11/site-packages (from langchain-elasticsearch) (8.17.0)\n",
      "Requirement already satisfied: langchain-core<0.4.0,>=0.3.0 in /Users/euiyoung.hwang/ES/Python_Workspace/Vector_DB_with_LLM/.venv/lib/python3.11/site-packages (from langchain-elasticsearch) (0.3.17)\n",
      "Requirement already satisfied: elastic-transport<9,>=8.15.1 in /Users/euiyoung.hwang/ES/Python_Workspace/Vector_DB_with_LLM/.venv/lib/python3.11/site-packages (from elasticsearch[vectorstore-mmr]<9.0.0,>=8.13.1->langchain-elasticsearch) (8.15.1)\n",
      "Requirement already satisfied: numpy>=1 in /Users/euiyoung.hwang/ES/Python_Workspace/Vector_DB_with_LLM/.venv/lib/python3.11/site-packages (from elasticsearch[vectorstore-mmr]<9.0.0,>=8.13.1->langchain-elasticsearch) (1.26.4)\n",
      "Collecting simsimd>=3 (from elasticsearch[vectorstore-mmr]<9.0.0,>=8.13.1->langchain-elasticsearch)\n",
      "  Obtaining dependency information for simsimd>=3 from https://files.pythonhosted.org/packages/5d/2b/9e7d42ac54bdb32d76953db3bc83eec29bd5d5c9a4069d380b18e200d6bd/simsimd-6.2.1-cp311-cp311-macosx_11_0_arm64.whl.metadata\n",
      "  Downloading simsimd-6.2.1-cp311-cp311-macosx_11_0_arm64.whl.metadata (66 kB)\n",
      "\u001b[2K     \u001b[38;2;114;156;31m━━━━━━━━━━━━━━━━━━━━━━━━━━━━━━━━━━━━━━━\u001b[0m \u001b[32m66.0/66.0 kB\u001b[0m \u001b[31m791.4 kB/s\u001b[0m eta \u001b[36m0:00:00\u001b[0m31m1.3 MB/s\u001b[0m eta \u001b[36m0:00:01\u001b[0m\n",
      "\u001b[?25hRequirement already satisfied: PyYAML>=5.3 in /Users/euiyoung.hwang/ES/Python_Workspace/Vector_DB_with_LLM/.venv/lib/python3.11/site-packages (from langchain-core<0.4.0,>=0.3.0->langchain-elasticsearch) (6.0.2)\n",
      "Requirement already satisfied: jsonpatch<2.0,>=1.33 in /Users/euiyoung.hwang/ES/Python_Workspace/Vector_DB_with_LLM/.venv/lib/python3.11/site-packages (from langchain-core<0.4.0,>=0.3.0->langchain-elasticsearch) (1.33)\n",
      "Requirement already satisfied: langsmith<0.2.0,>=0.1.125 in /Users/euiyoung.hwang/ES/Python_Workspace/Vector_DB_with_LLM/.venv/lib/python3.11/site-packages (from langchain-core<0.4.0,>=0.3.0->langchain-elasticsearch) (0.1.142)\n",
      "Requirement already satisfied: packaging<25,>=23.2 in /Users/euiyoung.hwang/ES/Python_Workspace/Vector_DB_with_LLM/.venv/lib/python3.11/site-packages (from langchain-core<0.4.0,>=0.3.0->langchain-elasticsearch) (24.2)\n",
      "Requirement already satisfied: pydantic<3.0.0,>=2.5.2 in /Users/euiyoung.hwang/ES/Python_Workspace/Vector_DB_with_LLM/.venv/lib/python3.11/site-packages (from langchain-core<0.4.0,>=0.3.0->langchain-elasticsearch) (2.9.2)\n",
      "Requirement already satisfied: tenacity!=8.4.0,<10.0.0,>=8.1.0 in /Users/euiyoung.hwang/ES/Python_Workspace/Vector_DB_with_LLM/.venv/lib/python3.11/site-packages (from langchain-core<0.4.0,>=0.3.0->langchain-elasticsearch) (9.0.0)\n",
      "Requirement already satisfied: typing-extensions>=4.7 in /Users/euiyoung.hwang/ES/Python_Workspace/Vector_DB_with_LLM/.venv/lib/python3.11/site-packages (from langchain-core<0.4.0,>=0.3.0->langchain-elasticsearch) (4.12.2)\n",
      "Requirement already satisfied: urllib3<3,>=1.26.2 in /Users/euiyoung.hwang/ES/Python_Workspace/Vector_DB_with_LLM/.venv/lib/python3.11/site-packages (from elastic-transport<9,>=8.15.1->elasticsearch[vectorstore-mmr]<9.0.0,>=8.13.1->langchain-elasticsearch) (1.26.20)\n",
      "Requirement already satisfied: certifi in /Users/euiyoung.hwang/ES/Python_Workspace/Vector_DB_with_LLM/.venv/lib/python3.11/site-packages (from elastic-transport<9,>=8.15.1->elasticsearch[vectorstore-mmr]<9.0.0,>=8.13.1->langchain-elasticsearch) (2024.8.30)\n",
      "Requirement already satisfied: jsonpointer>=1.9 in /Users/euiyoung.hwang/ES/Python_Workspace/Vector_DB_with_LLM/.venv/lib/python3.11/site-packages (from jsonpatch<2.0,>=1.33->langchain-core<0.4.0,>=0.3.0->langchain-elasticsearch) (3.0.0)\n",
      "Requirement already satisfied: httpx<1,>=0.23.0 in /Users/euiyoung.hwang/ES/Python_Workspace/Vector_DB_with_LLM/.venv/lib/python3.11/site-packages (from langsmith<0.2.0,>=0.1.125->langchain-core<0.4.0,>=0.3.0->langchain-elasticsearch) (0.27.2)\n",
      "Requirement already satisfied: orjson<4.0.0,>=3.9.14 in /Users/euiyoung.hwang/ES/Python_Workspace/Vector_DB_with_LLM/.venv/lib/python3.11/site-packages (from langsmith<0.2.0,>=0.1.125->langchain-core<0.4.0,>=0.3.0->langchain-elasticsearch) (3.10.11)\n",
      "Requirement already satisfied: requests<3,>=2 in /Users/euiyoung.hwang/ES/Python_Workspace/Vector_DB_with_LLM/.venv/lib/python3.11/site-packages (from langsmith<0.2.0,>=0.1.125->langchain-core<0.4.0,>=0.3.0->langchain-elasticsearch) (2.27.1)\n",
      "Requirement already satisfied: requests-toolbelt<2.0.0,>=1.0.0 in /Users/euiyoung.hwang/ES/Python_Workspace/Vector_DB_with_LLM/.venv/lib/python3.11/site-packages (from langsmith<0.2.0,>=0.1.125->langchain-core<0.4.0,>=0.3.0->langchain-elasticsearch) (1.0.0)\n",
      "Requirement already satisfied: annotated-types>=0.6.0 in /Users/euiyoung.hwang/ES/Python_Workspace/Vector_DB_with_LLM/.venv/lib/python3.11/site-packages (from pydantic<3.0.0,>=2.5.2->langchain-core<0.4.0,>=0.3.0->langchain-elasticsearch) (0.7.0)\n",
      "Requirement already satisfied: pydantic-core==2.23.4 in /Users/euiyoung.hwang/ES/Python_Workspace/Vector_DB_with_LLM/.venv/lib/python3.11/site-packages (from pydantic<3.0.0,>=2.5.2->langchain-core<0.4.0,>=0.3.0->langchain-elasticsearch) (2.23.4)\n",
      "Requirement already satisfied: anyio in /Users/euiyoung.hwang/ES/Python_Workspace/Vector_DB_with_LLM/.venv/lib/python3.11/site-packages (from httpx<1,>=0.23.0->langsmith<0.2.0,>=0.1.125->langchain-core<0.4.0,>=0.3.0->langchain-elasticsearch) (4.6.2.post1)\n",
      "Requirement already satisfied: httpcore==1.* in /Users/euiyoung.hwang/ES/Python_Workspace/Vector_DB_with_LLM/.venv/lib/python3.11/site-packages (from httpx<1,>=0.23.0->langsmith<0.2.0,>=0.1.125->langchain-core<0.4.0,>=0.3.0->langchain-elasticsearch) (1.0.6)\n",
      "Requirement already satisfied: idna in /Users/euiyoung.hwang/ES/Python_Workspace/Vector_DB_with_LLM/.venv/lib/python3.11/site-packages (from httpx<1,>=0.23.0->langsmith<0.2.0,>=0.1.125->langchain-core<0.4.0,>=0.3.0->langchain-elasticsearch) (3.10)\n",
      "Requirement already satisfied: sniffio in /Users/euiyoung.hwang/ES/Python_Workspace/Vector_DB_with_LLM/.venv/lib/python3.11/site-packages (from httpx<1,>=0.23.0->langsmith<0.2.0,>=0.1.125->langchain-core<0.4.0,>=0.3.0->langchain-elasticsearch) (1.3.1)\n",
      "Requirement already satisfied: h11<0.15,>=0.13 in /Users/euiyoung.hwang/ES/Python_Workspace/Vector_DB_with_LLM/.venv/lib/python3.11/site-packages (from httpcore==1.*->httpx<1,>=0.23.0->langsmith<0.2.0,>=0.1.125->langchain-core<0.4.0,>=0.3.0->langchain-elasticsearch) (0.14.0)\n",
      "Requirement already satisfied: charset-normalizer~=2.0.0 in /Users/euiyoung.hwang/ES/Python_Workspace/Vector_DB_with_LLM/.venv/lib/python3.11/site-packages (from requests<3,>=2->langsmith<0.2.0,>=0.1.125->langchain-core<0.4.0,>=0.3.0->langchain-elasticsearch) (2.0.12)\n",
      "Downloading langchain_elasticsearch-0.3.0-py3-none-any.whl (24 kB)\n",
      "Downloading simsimd-6.2.1-cp311-cp311-macosx_11_0_arm64.whl (93 kB)\n",
      "\u001b[2K   \u001b[38;2;114;156;31m━━━━━━━━━━━━━━━━━━━━━━━━━━━━━━━━━━━━━━━━\u001b[0m \u001b[32m93.5/93.5 kB\u001b[0m \u001b[31m4.0 MB/s\u001b[0m eta \u001b[36m0:00:00\u001b[0m[36m0:00:01\u001b[0m\n",
      "\u001b[?25hInstalling collected packages: simsimd, langchain-elasticsearch\n",
      "Successfully installed langchain-elasticsearch-0.3.0 simsimd-6.2.1\n",
      "\n",
      "\u001b[1m[\u001b[0m\u001b[34;49mnotice\u001b[0m\u001b[1;39;49m]\u001b[0m\u001b[39;49m A new release of pip is available: \u001b[0m\u001b[31;49m23.2.1\u001b[0m\u001b[39;49m -> \u001b[0m\u001b[32;49m24.3.1\u001b[0m\n",
      "\u001b[1m[\u001b[0m\u001b[34;49mnotice\u001b[0m\u001b[1;39;49m]\u001b[0m\u001b[39;49m To update, run: \u001b[0m\u001b[32;49mpip install --upgrade pip\u001b[0m\n"
     ]
    }
   ],
   "source": [
    "''' https://python.langchain.com/docs/integrations/vectorstores/elasticsearch/ '''\n",
    "''' Langchain Elasticsearch '''\n",
    "!pip install langchain-elasticsearch"
   ]
  }
 ],
 "metadata": {
  "kernelspec": {
   "display_name": "Python 3 (ipykernel)",
   "language": "python",
   "name": "python3"
  },
  "language_info": {
   "codemirror_mode": {
    "name": "ipython",
    "version": 3
   },
   "file_extension": ".py",
   "mimetype": "text/x-python",
   "name": "python",
   "nbconvert_exporter": "python",
   "pygments_lexer": "ipython3",
   "version": "3.11.11"
  }
 },
 "nbformat": 4,
 "nbformat_minor": 5
}

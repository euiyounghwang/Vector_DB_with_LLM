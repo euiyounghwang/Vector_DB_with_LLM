{
 "cells": [
  {
   "cell_type": "code",
   "execution_count": 111,
   "id": "e88e782b-e027-4c85-9335-afad139557c4",
   "metadata": {},
   "outputs": [
    {
     "name": "stdout",
     "output_type": "stream",
     "text": [
      "chroma db\n"
     ]
    }
   ],
   "source": [
    "print(\"chroma db\")"
   ]
  },
  {
   "cell_type": "code",
   "execution_count": 112,
   "id": "fb30eaa8-775d-49fe-bdcc-27c17837e1b8",
   "metadata": {},
   "outputs": [],
   "source": [
    "# !pip install chromadb-client==1.0.0\n",
    "# !pip install --upgrade chromadb==1.0.0\n",
    "#!pip install --upgrade langchain-chroma"
   ]
  },
  {
   "cell_type": "code",
   "execution_count": 113,
   "id": "5311ff9b-ec2a-4851-b988-7200a54a126d",
   "metadata": {},
   "outputs": [],
   "source": [
    "# !pip install chromadb tiktoken transformers sentence_transformers pypdf"
   ]
  },
  {
   "cell_type": "code",
   "execution_count": 114,
   "id": "66f83200-c15b-4aa2-aaa1-c2c436e1ebd3",
   "metadata": {},
   "outputs": [],
   "source": [
    "# !pip install langchain_community\n",
    "# !pip install tiktoken"
   ]
  },
  {
   "cell_type": "code",
   "execution_count": 115,
   "id": "386b9918-488c-424b-bb30-47cc5a1659ac",
   "metadata": {},
   "outputs": [],
   "source": [
    "# !pip install sentence_transformers"
   ]
  },
  {
   "cell_type": "code",
   "execution_count": 116,
   "id": "1d296455-e635-498c-a88f-437ab2c3848f",
   "metadata": {},
   "outputs": [],
   "source": [
    "# !pip install chromadb-client"
   ]
  },
  {
   "cell_type": "code",
   "execution_count": 117,
   "id": "a4d2297d-aa0d-403d-8daa-9f13cc15e5c2",
   "metadata": {},
   "outputs": [],
   "source": [
    "# !pip install faiss-cpu"
   ]
  },
  {
   "cell_type": "code",
   "execution_count": 118,
   "id": "c91cecd4-2e32-4d70-9620-be91a00bb594",
   "metadata": {},
   "outputs": [],
   "source": [
    "from langchain_community.vectorstores import FAISS # type: ignore\n",
    "from langchain_community.embeddings import HuggingFaceEmbeddings # type: ignore\n",
    "from langchain_community.vectorstores import Chroma # type: ignore\n",
    "from langchain_community.vectorstores import FAISS # type: ignore\n",
    "from langchain_core.documents import Document # type: ignore\n",
    "from langchain_community.document_loaders import PyPDFLoader\n",
    "from langchain_text_splitters import RecursiveCharacterTextSplitter\n",
    "from chromadb.utils import embedding_functions\n",
    "import chromadb\n",
    "from chromadb.config import Settings\n",
    "import json\n",
    "import uuid\n",
    "import os, sys\n",
    "import tiktoken\n",
    "import warnings\n",
    "warnings.filterwarnings(\"ignore\")"
   ]
  },
  {
   "cell_type": "code",
   "execution_count": 119,
   "id": "46a7afbd-327c-4eac-824a-8fbae55da86a",
   "metadata": {},
   "outputs": [],
   "source": [
    "os.environ['CURL_CA_BUNDLE'] = ''"
   ]
  },
  {
   "cell_type": "code",
   "execution_count": 120,
   "id": "a902879d-b015-4954-9b4f-42ee85aaac49",
   "metadata": {},
   "outputs": [
    {
     "name": "stdout",
     "output_type": "stream",
     "text": [
      "curl http://localhost:8000/api/v1/heartbeat\n"
     ]
    }
   ],
   "source": [
    "print(\"curl http://localhost:8000/api/v1/heartbeat\")"
   ]
  },
  {
   "cell_type": "code",
   "execution_count": 121,
   "id": "68914e7b-6b22-4600-ae88-e79bacfbdb22",
   "metadata": {},
   "outputs": [],
   "source": [
    "# Reference URL \n",
    "# https://www.jiniai.biz/2023/10/29/chroma-db-%EC%82%AC%EC%9A%A9%EC%9E%90-%EA%B0%80%EC%9D%B4%EB%93%9C-python/"
   ]
  },
  {
   "cell_type": "code",
   "execution_count": 122,
   "id": "4a543f4d-b9dc-4d8c-9653-f3f0f33fca9d",
   "metadata": {},
   "outputs": [],
   "source": [
    "# -- chroma run\n",
    "# chroma run --path /db_path\n",
    "# chroma run --path ./Langchain/chromdb_run"
   ]
  },
  {
   "cell_type": "code",
   "execution_count": 123,
   "id": "360a9303-8771-479b-83fc-85d94e67515d",
   "metadata": {},
   "outputs": [
    {
     "data": {
      "text/plain": [
       "'\\ndocs = [\\n            Document(page_content=\"사과\", metadata=dict(page=1)),\\n            Document(page_content=\"애플\", metadata=dict(page=1)),\\n            Document(page_content=\"바나나\", metadata=dict(page=2)),\\n            Document(page_content=\"오렌지\", metadata=dict(page=2)),\\n            Document(page_content=\"고양이\", metadata=dict(page=3)),\\n            Document(page_content=\"야옹\", metadata=dict(page=3)),\\n            Document(page_content=\"강아지\", metadata=dict(page=4)),\\n            Document(page_content=\"멍멍\", metadata=dict(page=4)),\\n            Document(page_content=\"해\", metadata=dict(page=5)),\\n            Document(page_content=\"달\", metadata=dict(page=5)),\\n            Document(page_content=\"물\", metadata=dict(page=6)),\\n            Document(page_content=\"불\", metadata=dict(page=6)),\\n            Document(page_content=\"apple\", metadata=dict(page=7)),\\n]\\n'"
      ]
     },
     "execution_count": 123,
     "metadata": {},
     "output_type": "execute_result"
    }
   ],
   "source": [
    "\"\"\"\n",
    "docs = [\n",
    "            Document(page_content=\"사과\", metadata=dict(page=1)),\n",
    "            Document(page_content=\"애플\", metadata=dict(page=1)),\n",
    "            Document(page_content=\"바나나\", metadata=dict(page=2)),\n",
    "            Document(page_content=\"오렌지\", metadata=dict(page=2)),\n",
    "            Document(page_content=\"고양이\", metadata=dict(page=3)),\n",
    "            Document(page_content=\"야옹\", metadata=dict(page=3)),\n",
    "            Document(page_content=\"강아지\", metadata=dict(page=4)),\n",
    "            Document(page_content=\"멍멍\", metadata=dict(page=4)),\n",
    "            Document(page_content=\"해\", metadata=dict(page=5)),\n",
    "            Document(page_content=\"달\", metadata=dict(page=5)),\n",
    "            Document(page_content=\"물\", metadata=dict(page=6)),\n",
    "            Document(page_content=\"불\", metadata=dict(page=6)),\n",
    "            Document(page_content=\"apple\", metadata=dict(page=7)),\n",
    "]\n",
    "\"\"\""
   ]
  },
  {
   "cell_type": "code",
   "execution_count": 124,
   "id": "00bf5613-a45f-4e0c-a7ab-7f14c708e119",
   "metadata": {},
   "outputs": [],
   "source": [
    "# -- local machine using the disk space\n",
    "# chroma_client = chromadb.PersistentClient(path=\"./chromadb_data\")\n",
    "# -- docker chroma db\n",
    "# settings = Settings(chroma_api_impl=\"chromadb.api.fastapi.FastAPI\")\n",
    "# chroma_client = chromadb.HttpClient(host=\"localhost\", port=8000, settings=settings)\n",
    "chroma_client = chromadb.HttpClient(host=\"localhost\", port=8000)"
   ]
  },
  {
   "cell_type": "code",
   "execution_count": 125,
   "id": "a00d5f9c-401d-4e54-96f0-7e225e229bbe",
   "metadata": {},
   "outputs": [],
   "source": [
    "# embeddings = HuggingFaceEmbeddings(\n",
    "#         model_name=\"BAAI/bge-m3\",\n",
    "#         model_kwargs = {'device': 'cpu'}, # 모델이 CPU에서 실행되도록 설정. GPU를 사용할 수 있는 환경이라면 'cuda'로 설정할 수도 있음\n",
    "#         encode_kwargs = {'normalize_embeddings': True}, # 임베딩 정규화. 모든 벡터가 같은 범위의 값을 갖도록 함. 유사도 계산 시 일관성을 높여줌\n",
    "#     )"
   ]
  },
  {
   "cell_type": "code",
   "execution_count": 126,
   "id": "88538087-5e40-441c-a18f-d7edfcea1e1f",
   "metadata": {},
   "outputs": [],
   "source": [
    "# vector_store = Chroma(\n",
    "#     collection_name=\"example_collection\",\n",
    "#     embedding_function=embeddings,\n",
    "#     persist_directory=\"./chroma_langchain_db\",  # Where to save data locally, remove if not necessary\n",
    "# )"
   ]
  },
  {
   "cell_type": "code",
   "execution_count": 127,
   "id": "5eb368ad-abab-43ef-be21-0667d4f975f9",
   "metadata": {},
   "outputs": [
    {
     "name": "stdout",
     "output_type": "stream",
     "text": [
      "In Progressing..\n"
     ]
    }
   ],
   "source": [
    "print(\"In Progressing..\")"
   ]
  },
  {
   "cell_type": "code",
   "execution_count": 128,
   "id": "1387aa7a-27cd-404e-92d7-27139383a8c9",
   "metadata": {},
   "outputs": [
    {
     "data": {
      "text/plain": [
       "1748545833341528900"
      ]
     },
     "execution_count": 128,
     "metadata": {},
     "output_type": "execute_result"
    }
   ],
   "source": [
    "chroma_client.heartbeat()"
   ]
  },
  {
   "cell_type": "code",
   "execution_count": 129,
   "id": "a029dcb9-1243-45e8-9511-61298a837e0a",
   "metadata": {},
   "outputs": [
    {
     "name": "stdout",
     "output_type": "stream",
     "text": [
      "[Collection(name=new_collection)]\n"
     ]
    }
   ],
   "source": [
    "try:\n",
    "    print(chroma_client.list_collections()) # collection 목록 가져오기\n",
    "except Exception as e:\n",
    "    print(str(e))"
   ]
  },
  {
   "cell_type": "code",
   "execution_count": null,
   "id": "6966108f-192a-46f1-a3bc-cea3d325a0ce",
   "metadata": {},
   "outputs": [
    {
     "name": "stdout",
     "output_type": "stream",
     "text": [
      "get_or_create_collection : {'ids': [], 'embeddings': array([], dtype=float64), 'metadatas': [], 'documents': [], 'data': None, 'uris': None, 'included': ['metadatas', 'documents', 'embeddings']}\n",
      "chroma_client.list_collections() : [Collection(name=new_collection)]\n",
      "collection_count : 1\n"
     ]
    }
   ],
   "source": [
    "try:\n",
    "    collection = chroma_client.get_or_create_collection(name=\"new_collection\")\n",
    "    print(f\"get_or_create_collection : {collection.peek()}\")\n",
    "    \n",
    "#     collection = chroma_client.get_collection(\"new_collection\")\n",
    "#     print(collection.peek())\n",
    "    \n",
    "    print(f\"chroma_client.list_collections() : {chroma_client.list_collections()}\")\n",
    "\n",
    "    collection_count = chroma_client.count_collections()\n",
    "    print(f\"collection_count : {collection_count}\")\n",
    "\n",
    "except Exception as e:\n",
    "    print(e)"
   ]
  },
  {
   "cell_type": "code",
   "execution_count": null,
   "id": "98656031-a2e6-4575-9e36-4d7165d9a090",
   "metadata": {},
   "outputs": [],
   "source": [
    "class MySentenceEmbedding():\n",
    "    def __init__(self):\n",
    "        # self.embeddings = HuggingFaceEmbeddings(\n",
    "        #     model_name=\"BAAI/bge-m3\",\n",
    "        #     model_kwargs = {'device': 'cpu'}, # 모델이 CPU에서 실행되도록 설정. GPU를 사용할 수 있는 환경이라면 'cuda'로 설정할 수도 있음\n",
    "        #     encode_kwargs = {'normalize_embeddings': True}, # 임베딩 정규화. 모든 벡터가 같은 범위의 값을 갖도록 함. 유사도 계산 시 일관성을 높여줌\n",
    "        # )\n",
    "        self.default_embeddings = embedding_functions.DefaultEmbeddingFunction()\n",
    "        \n",
    "    def get_sentence_embedding(self, docs):\n",
    "        # embed = self.embeddings.embed_documents(docs)\n",
    "        embed = self.default_embeddings(docs)\n",
    "        print(f\"len(embed): {len(embed)}\")\n",
    "        # print(f\"embed : {embed}\")\n",
    "        return embed"
   ]
  },
  {
   "cell_type": "code",
   "execution_count": null,
   "id": "a8c7b7cf-6ad3-4da0-8de7-83d84a05b7c8",
   "metadata": {},
   "outputs": [],
   "source": [
    "rst = MySentenceEmbedding().get_sentence_embedding([\"Love is wanting to be loved\", \"test\"])"
   ]
  },
  {
   "cell_type": "code",
   "execution_count": null,
   "id": "691c923a-4a5a-4167-855d-cf446b7cb5db",
   "metadata": {},
   "outputs": [],
   "source": [
    "# print(rst)\n",
    "# sys.exit()"
   ]
  },
  {
   "cell_type": "code",
   "execution_count": null,
   "id": "0d53007d-1f80-4cbc-8f94-3245aef196b1",
   "metadata": {},
   "outputs": [],
   "source": [
    "documents=[\n",
    "    \"This is a document about pineapple\",\n",
    "    # \"This is a document about oranges\",\n",
    "    # \"This is a document about apples\",\n",
    "    # \"I'm JeongTae Park\"\n",
    "]"
   ]
  },
  {
   "cell_type": "code",
   "execution_count": null,
   "id": "3f547c31-2392-4ab2-822b-1c764fdda364",
   "metadata": {},
   "outputs": [],
   "source": [
    "# embeddings = [\n",
    "#     MySentenceEmbedding().get_sentence_embedding([document]) for document in documents\n",
    "# ]\n",
    "embeddings = MySentenceEmbedding().get_sentence_embedding(documents)"
   ]
  },
  {
   "cell_type": "code",
   "execution_count": null,
   "id": "5d20c0e8-dea7-40d2-a6d7-e22835e8b7d3",
   "metadata": {},
   "outputs": [],
   "source": [
    "# print(f\"embeddings : {embeddings}\")"
   ]
  },
  {
   "cell_type": "code",
   "execution_count": null,
   "id": "82f7483c-682a-4d75-be14-66ff0854c2cb",
   "metadata": {},
   "outputs": [],
   "source": [
    "ids = [str(uuid.uuid4()) for i in range(len(documents))]"
   ]
  },
  {
   "cell_type": "code",
   "execution_count": null,
   "id": "eefb75a2-3736-4485-bff1-b1922c42d1e5",
   "metadata": {},
   "outputs": [],
   "source": [
    "print(f\"ids : {ids}\")"
   ]
  },
  {
   "cell_type": "code",
   "execution_count": null,
   "id": "9af08650-16e4-48dc-9158-09fa5b3dad93",
   "metadata": {},
   "outputs": [],
   "source": [
    "metadatas = [\n",
    "    {\"index\": i, \"version\": 1.0} for i in range(len(documents))\n",
    "]"
   ]
  },
  {
   "cell_type": "code",
   "execution_count": null,
   "id": "7cbc364b-29a2-4a4a-89b1-5095ba5d382f",
   "metadata": {},
   "outputs": [],
   "source": [
    "print(f\"metadata : {metadatas}\")"
   ]
  },
  {
   "cell_type": "code",
   "execution_count": null,
   "id": "eaa2027b-63db-4270-9084-8f37058645df",
   "metadata": {},
   "outputs": [],
   "source": [
    "collection = chroma_client.get_collection(\"new_collection\")\n",
    "print(collection.peek())"
   ]
  },
  {
   "cell_type": "code",
   "execution_count": null,
   "id": "bfa2ec8a-7330-499e-8827-78f81fe72524",
   "metadata": {},
   "outputs": [],
   "source": [
    "# Chroma will store your text and handle embedding and indexing automatically. \n",
    "# You can also customize the embedding model. You must provide unique string IDs for your documents.\n",
    "# https://docs.trychroma.com/docs/overview/getting-started\n",
    "collection.add(\n",
    "    documents=documents,\n",
    "    # embeddings=embeddings,\n",
    "    # metadatas=metadatas,\n",
    "    ids = ids\n",
    ")"
   ]
  },
  {
   "cell_type": "code",
   "execution_count": null,
   "id": "1d7c0aff-acc7-40a9-ae7f-17697e617ba3",
   "metadata": {},
   "outputs": [],
   "source": [
    "collection = chroma_client.get_collection(\"new_collection\")\n",
    "print(collection.peek())"
   ]
  },
  {
   "cell_type": "code",
   "execution_count": null,
   "id": "88d2c34a-5b12-4242-a404-b464763ea783",
   "metadata": {},
   "outputs": [],
   "source": [
    "print(\"Done..\")"
   ]
  }
 ],
 "metadata": {
  "kernelspec": {
   "display_name": "Python 3 (ipykernel)",
   "language": "python",
   "name": "python3"
  },
  "language_info": {
   "codemirror_mode": {
    "name": "ipython",
    "version": 3
   },
   "file_extension": ".py",
   "mimetype": "text/x-python",
   "name": "python",
   "nbconvert_exporter": "python",
   "pygments_lexer": "ipython3",
   "version": "3.11.7"
  }
 },
 "nbformat": 4,
 "nbformat_minor": 5
}

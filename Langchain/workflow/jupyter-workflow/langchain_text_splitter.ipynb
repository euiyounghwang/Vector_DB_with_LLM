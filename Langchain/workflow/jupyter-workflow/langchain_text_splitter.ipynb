{
 "cells": [
  {
   "cell_type": "code",
   "execution_count": 239,
   "id": "c462c271-8e71-4b8c-bfcc-8b59836779a4",
   "metadata": {},
   "outputs": [
    {
     "name": "stdout",
     "output_type": "stream",
     "text": [
      "Langchain Text Split Text\n"
     ]
    }
   ],
   "source": [
    "print(f\"Langchain Text Split Text\")"
   ]
  },
  {
   "cell_type": "code",
   "execution_count": 240,
   "id": "e10f2098-6079-48a5-874d-9d14f2b5b9cb",
   "metadata": {},
   "outputs": [],
   "source": [
    "from langchain.text_splitter import RecursiveCharacterTextSplitter # type: ignore\n",
    "from langchain.text_splitter import CharacterTextSplitter # type: ignore\n",
    "import re\n",
    "import json"
   ]
  },
  {
   "cell_type": "code",
   "execution_count": 241,
   "id": "f9f5c027-3d1a-490f-88e9-32f761c76a08",
   "metadata": {},
   "outputs": [],
   "source": [
    "some_text = \"\"\"When writing documents, writers will use document structure to group content. \\\n",
    "    This can convey to the reader, which idea's are related. For example, closely related ideas \\\n",
    "    are in sentances. Similar ideas are in paragraphs. Paragraphs form a document. \\n\\n\\\n",
    "    Paragraphs are often delimited with a carriage return or two carriage returns. \\\n",
    "    Carriage returns are the \"backslash n\" you see embedded in this string. \\\n",
    "    Sentences have a period at the end, but also, have a space.\\\n",
    "    and words are separated by space.\"\"\""
   ]
  },
  {
   "cell_type": "code",
   "execution_count": 242,
   "id": "f6411963-c311-42a0-b6d5-6dda50b16155",
   "metadata": {},
   "outputs": [],
   "source": [
    "def transform_trim_string(to_replace): \n",
    "    \"\"\"remove unnecessary characters\"\"\"\n",
    "    if isinstance(to_replace, (str)):\n",
    "        to_replace = to_replace.strip()\n",
    "        to_replace = re.sub(r'(?<!\\.)(\\n|\\r\\n)', ' ', to_replace)\n",
    "        to_replace = re.sub(r'\\t|\\\\t', ' ', to_replace)\n",
    "        to_replace = re.sub(r' +', ' ', to_replace)\n",
    "\n",
    "    return to_replace"
   ]
  },
  {
   "cell_type": "code",
   "execution_count": 243,
   "id": "d90a7707-07b6-446b-abc9-befa9b2b6c6e",
   "metadata": {},
   "outputs": [],
   "source": [
    "def recursive():\n",
    "    r_splitter = RecursiveCharacterTextSplitter(\n",
    "        chunk_size=250,\n",
    "        chunk_overlap=100, \n",
    "        # separators=[\"\\n\\n\", \"\\n\", \" \", \"\"]\n",
    "    )\n",
    "\n",
    "    # print(r_splitter.split_text(some_text))\n",
    "    print([transform_trim_string(s) for s in r_splitter.split_text(some_text)])\n",
    "    # print([s for s in r_splitter.split_text(some_text)])\n",
    "    print('\\n')\n",
    "    print(r_splitter.create_documents([transform_trim_string(some_text)]))"
   ]
  },
  {
   "cell_type": "code",
   "execution_count": 244,
   "id": "3bf7e344-642f-4d36-839f-17266fddcb88",
   "metadata": {},
   "outputs": [],
   "source": [
    "def character():\n",
    "    c_splitter = CharacterTextSplitter(\n",
    "    chunk_size=0,\n",
    "    chunk_overlap=0,\n",
    "    separator = '\\n'\n",
    "    )\n",
    "\n",
    "    # print(c_splitter.split_text(some_text))\n",
    "    print([transform_trim_string(s) for s in c_splitter.split_text(some_text)])\n",
    "    # print([s for s in c_splitter.split_text(some_text)])\n",
    "    print('\\n')\n",
    "    print(c_splitter.create_documents([transform_trim_string(some_text)]))"
   ]
  },
  {
   "cell_type": "code",
   "execution_count": 245,
   "id": "40e41de0-daf7-4150-90ee-9fb41f9643de",
   "metadata": {},
   "outputs": [
    {
     "name": "stderr",
     "output_type": "stream",
     "text": [
      "Created a chunk of size 257, which is longer than the specified 0\n"
     ]
    },
    {
     "name": "stdout",
     "output_type": "stream",
     "text": [
      "\n",
      "\n",
      "[\"When writing documents, writers will use document structure to group content. This can convey to the reader, which idea's are related. For example, closely related ideas are in sentances. Similar ideas are in paragraphs. Paragraphs form a\", 'closely related ideas are in sentances. Similar ideas are in paragraphs. Paragraphs form a document.', 'Paragraphs are often delimited with a carriage return or two carriage returns. Carriage returns are the \"backslash n\" you see embedded in this string. Sentences have a period at the end, but also, have a space. and words are separated', 'string. Sentences have a period at the end, but also, have a space. and words are separated by space.']\n",
      "\n",
      "\n",
      "[Document(metadata={}, page_content=\"When writing documents, writers will use document structure to group content. This can convey to the reader, which idea's are related. For example, closely related ideas are in sentances. Similar ideas are in paragraphs. Paragraphs form a document.\"), Document(metadata={}, page_content='related ideas are in sentances. Similar ideas are in paragraphs. Paragraphs form a document. Paragraphs are often delimited with a carriage return or two carriage returns. Carriage returns are the \"backslash n\" you see embedded in this string.'), Document(metadata={}, page_content='or two carriage returns. Carriage returns are the \"backslash n\" you see embedded in this string. Sentences have a period at the end, but also, have a space. and words are separated by space.')]\n",
      "\n",
      "\n",
      "[\"When writing documents, writers will use document structure to group content. This can convey to the reader, which idea's are related. For example, closely related ideas are in sentances. Similar ideas are in paragraphs. Paragraphs form a document.\", 'Paragraphs are often delimited with a carriage return or two carriage returns. Carriage returns are the \"backslash n\" you see embedded in this string. Sentences have a period at the end, but also, have a space. and words are separated by space.']\n",
      "\n",
      "\n",
      "[Document(metadata={}, page_content='When writing documents, writers will use document structure to group content. This can convey to the reader, which idea\\'s are related. For example, closely related ideas are in sentances. Similar ideas are in paragraphs. Paragraphs form a document. Paragraphs are often delimited with a carriage return or two carriage returns. Carriage returns are the \"backslash n\" you see embedded in this string. Sentences have a period at the end, but also, have a space. and words are separated by space.')]\n"
     ]
    }
   ],
   "source": [
    "if __name__ == \"__main__\":\n",
    "    print('\\n')\n",
    "    recursive()\n",
    "    print('\\n')\n",
    "    character()"
   ]
  }
 ],
 "metadata": {
  "kernelspec": {
   "display_name": "Python 3 (ipykernel)",
   "language": "python",
   "name": "python3"
  },
  "language_info": {
   "codemirror_mode": {
    "name": "ipython",
    "version": 3
   },
   "file_extension": ".py",
   "mimetype": "text/x-python",
   "name": "python",
   "nbconvert_exporter": "python",
   "pygments_lexer": "ipython3",
   "version": "3.11.7"
  }
 },
 "nbformat": 4,
 "nbformat_minor": 5
}

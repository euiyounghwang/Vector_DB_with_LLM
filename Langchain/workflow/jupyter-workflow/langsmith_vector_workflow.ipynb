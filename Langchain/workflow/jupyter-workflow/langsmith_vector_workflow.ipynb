{
 "cells": [
  {
   "cell_type": "code",
   "execution_count": 1,
   "id": "e5d2ba6b-2671-4830-a47f-c08251d8bd9e",
   "metadata": {},
   "outputs": [
    {
     "data": {
      "text/plain": [
       "' reference : https://hellollama.net/llm-%EC%B4%88%EA%B8%89%EA%B0%95%EC%A2%8C-7-langsmith-%ED%99%9C%EC%9A%A9%ED%95%98%EA%B8%B0/'"
      ]
     },
     "execution_count": 1,
     "metadata": {},
     "output_type": "execute_result"
    }
   ],
   "source": [
    "# Langsmith with vector test\n",
    "''' https://www.langchain.com/langsmith '''\n",
    "''' reference : https://hellollama.net/llm-%EC%B4%88%EA%B8%89%EA%B0%95%EC%A2%8C-7-langsmith-%ED%99%9C%EC%9A%A9%ED%95%98%EA%B8%B0/'''"
   ]
  },
  {
   "cell_type": "code",
   "execution_count": 2,
   "id": "14b5404c-ca23-4132-acb4-56dbbb8d9723",
   "metadata": {},
   "outputs": [],
   "source": [
    "# !pip install langchain\n",
    "# !pip install huggingface_hub transformers datasets"
   ]
  },
  {
   "cell_type": "code",
   "execution_count": 3,
   "id": "d3e76f71-a6ab-48a1-923c-72f4f2cbee41",
   "metadata": {},
   "outputs": [
    {
     "name": "stdout",
     "output_type": "stream",
     "text": [
      "Requirement already satisfied: langchain-huggingface in c:\\users\\euiyoung.hwang\\git_workspace\\vector_db_with_llm\\.venv\\lib\\site-packages (0.1.2)\n",
      "Requirement already satisfied: huggingface-hub>=0.23.0 in c:\\users\\euiyoung.hwang\\git_workspace\\vector_db_with_llm\\.venv\\lib\\site-packages (from langchain-huggingface) (0.26.2)\n",
      "Requirement already satisfied: langchain-core<0.4.0,>=0.3.15 in c:\\users\\euiyoung.hwang\\git_workspace\\vector_db_with_llm\\.venv\\lib\\site-packages (from langchain-huggingface) (0.3.62)\n",
      "Requirement already satisfied: sentence-transformers>=2.6.0 in c:\\users\\euiyoung.hwang\\git_workspace\\vector_db_with_llm\\.venv\\lib\\site-packages (from langchain-huggingface) (3.3.1)\n",
      "Requirement already satisfied: tokenizers>=0.19.1 in c:\\users\\euiyoung.hwang\\git_workspace\\vector_db_with_llm\\.venv\\lib\\site-packages (from langchain-huggingface) (0.20.3)\n",
      "Requirement already satisfied: transformers>=4.39.0 in c:\\users\\euiyoung.hwang\\git_workspace\\vector_db_with_llm\\.venv\\lib\\site-packages (from langchain-huggingface) (4.46.3)\n",
      "Requirement already satisfied: langsmith<0.4,>=0.1.126 in c:\\users\\euiyoung.hwang\\git_workspace\\vector_db_with_llm\\.venv\\lib\\site-packages (from langchain-core<0.4.0,>=0.3.15->langchain-huggingface) (0.1.142)\n",
      "Requirement already satisfied: tenacity!=8.4.0,<10.0.0,>=8.1.0 in c:\\users\\euiyoung.hwang\\git_workspace\\vector_db_with_llm\\.venv\\lib\\site-packages (from langchain-core<0.4.0,>=0.3.15->langchain-huggingface) (9.0.0)\n",
      "Requirement already satisfied: jsonpatch<2.0,>=1.33 in c:\\users\\euiyoung.hwang\\git_workspace\\vector_db_with_llm\\.venv\\lib\\site-packages (from langchain-core<0.4.0,>=0.3.15->langchain-huggingface) (1.33)\n",
      "Requirement already satisfied: PyYAML>=5.3 in c:\\users\\euiyoung.hwang\\git_workspace\\vector_db_with_llm\\.venv\\lib\\site-packages (from langchain-core<0.4.0,>=0.3.15->langchain-huggingface) (6.0.2)\n",
      "Requirement already satisfied: packaging<25,>=23.2 in c:\\users\\euiyoung.hwang\\git_workspace\\vector_db_with_llm\\.venv\\lib\\site-packages (from langchain-core<0.4.0,>=0.3.15->langchain-huggingface) (24.2)\n",
      "Requirement already satisfied: typing-extensions>=4.7 in c:\\users\\euiyoung.hwang\\git_workspace\\vector_db_with_llm\\.venv\\lib\\site-packages (from langchain-core<0.4.0,>=0.3.15->langchain-huggingface) (4.12.2)\n",
      "Requirement already satisfied: pydantic>=2.7.4 in c:\\users\\euiyoung.hwang\\git_workspace\\vector_db_with_llm\\.venv\\lib\\site-packages (from langchain-core<0.4.0,>=0.3.15->langchain-huggingface) (2.9.2)\n",
      "Requirement already satisfied: jsonpointer>=1.9 in c:\\users\\euiyoung.hwang\\git_workspace\\vector_db_with_llm\\.venv\\lib\\site-packages (from jsonpatch<2.0,>=1.33->langchain-core<0.4.0,>=0.3.15->langchain-huggingface) (3.0.0)\n",
      "Requirement already satisfied: httpx<1,>=0.23.0 in c:\\users\\euiyoung.hwang\\git_workspace\\vector_db_with_llm\\.venv\\lib\\site-packages (from langsmith<0.4,>=0.1.126->langchain-core<0.4.0,>=0.3.15->langchain-huggingface) (0.27.2)\n",
      "Requirement already satisfied: orjson<4.0.0,>=3.9.14 in c:\\users\\euiyoung.hwang\\git_workspace\\vector_db_with_llm\\.venv\\lib\\site-packages (from langsmith<0.4,>=0.1.126->langchain-core<0.4.0,>=0.3.15->langchain-huggingface) (3.10.11)\n",
      "Requirement already satisfied: requests<3,>=2 in c:\\users\\euiyoung.hwang\\git_workspace\\vector_db_with_llm\\.venv\\lib\\site-packages (from langsmith<0.4,>=0.1.126->langchain-core<0.4.0,>=0.3.15->langchain-huggingface) (2.27.1)\n",
      "Requirement already satisfied: requests-toolbelt<2.0.0,>=1.0.0 in c:\\users\\euiyoung.hwang\\git_workspace\\vector_db_with_llm\\.venv\\lib\\site-packages (from langsmith<0.4,>=0.1.126->langchain-core<0.4.0,>=0.3.15->langchain-huggingface) (1.0.0)\n",
      "Requirement already satisfied: anyio in c:\\users\\euiyoung.hwang\\git_workspace\\vector_db_with_llm\\.venv\\lib\\site-packages (from httpx<1,>=0.23.0->langsmith<0.4,>=0.1.126->langchain-core<0.4.0,>=0.3.15->langchain-huggingface) (4.6.2.post1)\n",
      "Requirement already satisfied: certifi in c:\\users\\euiyoung.hwang\\git_workspace\\vector_db_with_llm\\.venv\\lib\\site-packages (from httpx<1,>=0.23.0->langsmith<0.4,>=0.1.126->langchain-core<0.4.0,>=0.3.15->langchain-huggingface) (2024.8.30)\n",
      "Requirement already satisfied: httpcore==1.* in c:\\users\\euiyoung.hwang\\git_workspace\\vector_db_with_llm\\.venv\\lib\\site-packages (from httpx<1,>=0.23.0->langsmith<0.4,>=0.1.126->langchain-core<0.4.0,>=0.3.15->langchain-huggingface) (1.0.6)\n",
      "Requirement already satisfied: idna in c:\\users\\euiyoung.hwang\\git_workspace\\vector_db_with_llm\\.venv\\lib\\site-packages (from httpx<1,>=0.23.0->langsmith<0.4,>=0.1.126->langchain-core<0.4.0,>=0.3.15->langchain-huggingface) (3.10)\n",
      "Requirement already satisfied: sniffio in c:\\users\\euiyoung.hwang\\git_workspace\\vector_db_with_llm\\.venv\\lib\\site-packages (from httpx<1,>=0.23.0->langsmith<0.4,>=0.1.126->langchain-core<0.4.0,>=0.3.15->langchain-huggingface) (1.3.1)\n",
      "Requirement already satisfied: h11<0.15,>=0.13 in c:\\users\\euiyoung.hwang\\git_workspace\\vector_db_with_llm\\.venv\\lib\\site-packages (from httpcore==1.*->httpx<1,>=0.23.0->langsmith<0.4,>=0.1.126->langchain-core<0.4.0,>=0.3.15->langchain-huggingface) (0.14.0)\n",
      "Requirement already satisfied: annotated-types>=0.6.0 in c:\\users\\euiyoung.hwang\\git_workspace\\vector_db_with_llm\\.venv\\lib\\site-packages (from pydantic>=2.7.4->langchain-core<0.4.0,>=0.3.15->langchain-huggingface) (0.7.0)\n",
      "Requirement already satisfied: pydantic-core==2.23.4 in c:\\users\\euiyoung.hwang\\git_workspace\\vector_db_with_llm\\.venv\\lib\\site-packages (from pydantic>=2.7.4->langchain-core<0.4.0,>=0.3.15->langchain-huggingface) (2.23.4)\n",
      "Requirement already satisfied: urllib3<1.27,>=1.21.1 in c:\\users\\euiyoung.hwang\\git_workspace\\vector_db_with_llm\\.venv\\lib\\site-packages (from requests<3,>=2->langsmith<0.4,>=0.1.126->langchain-core<0.4.0,>=0.3.15->langchain-huggingface) (1.26.20)\n",
      "Requirement already satisfied: charset-normalizer~=2.0.0 in c:\\users\\euiyoung.hwang\\git_workspace\\vector_db_with_llm\\.venv\\lib\\site-packages (from requests<3,>=2->langsmith<0.4,>=0.1.126->langchain-core<0.4.0,>=0.3.15->langchain-huggingface) (2.0.12)\n",
      "Requirement already satisfied: filelock in c:\\users\\euiyoung.hwang\\git_workspace\\vector_db_with_llm\\.venv\\lib\\site-packages (from huggingface-hub>=0.23.0->langchain-huggingface) (3.16.1)\n",
      "Requirement already satisfied: fsspec>=2023.5.0 in c:\\users\\euiyoung.hwang\\git_workspace\\vector_db_with_llm\\.venv\\lib\\site-packages (from huggingface-hub>=0.23.0->langchain-huggingface) (2024.10.0)\n",
      "Requirement already satisfied: tqdm>=4.42.1 in c:\\users\\euiyoung.hwang\\git_workspace\\vector_db_with_llm\\.venv\\lib\\site-packages (from huggingface-hub>=0.23.0->langchain-huggingface) (4.67.0)\n",
      "Requirement already satisfied: torch>=1.11.0 in c:\\users\\euiyoung.hwang\\git_workspace\\vector_db_with_llm\\.venv\\lib\\site-packages (from sentence-transformers>=2.6.0->langchain-huggingface) (2.4.1)\n",
      "Requirement already satisfied: scikit-learn in c:\\users\\euiyoung.hwang\\git_workspace\\vector_db_with_llm\\.venv\\lib\\site-packages (from sentence-transformers>=2.6.0->langchain-huggingface) (1.5.2)\n",
      "Requirement already satisfied: scipy in c:\\users\\euiyoung.hwang\\git_workspace\\vector_db_with_llm\\.venv\\lib\\site-packages (from sentence-transformers>=2.6.0->langchain-huggingface) (1.14.1)\n",
      "Requirement already satisfied: Pillow in c:\\users\\euiyoung.hwang\\git_workspace\\vector_db_with_llm\\.venv\\lib\\site-packages (from sentence-transformers>=2.6.0->langchain-huggingface) (11.0.0)\n",
      "Requirement already satisfied: numpy>=1.17 in c:\\users\\euiyoung.hwang\\git_workspace\\vector_db_with_llm\\.venv\\lib\\site-packages (from transformers>=4.39.0->langchain-huggingface) (1.26.4)\n",
      "Requirement already satisfied: regex!=2019.12.17 in c:\\users\\euiyoung.hwang\\git_workspace\\vector_db_with_llm\\.venv\\lib\\site-packages (from transformers>=4.39.0->langchain-huggingface) (2024.11.6)\n",
      "Requirement already satisfied: safetensors>=0.4.1 in c:\\users\\euiyoung.hwang\\git_workspace\\vector_db_with_llm\\.venv\\lib\\site-packages (from transformers>=4.39.0->langchain-huggingface) (0.4.5)\n",
      "Requirement already satisfied: sympy in c:\\users\\euiyoung.hwang\\git_workspace\\vector_db_with_llm\\.venv\\lib\\site-packages (from torch>=1.11.0->sentence-transformers>=2.6.0->langchain-huggingface) (1.13.3)\n",
      "Requirement already satisfied: networkx in c:\\users\\euiyoung.hwang\\git_workspace\\vector_db_with_llm\\.venv\\lib\\site-packages (from torch>=1.11.0->sentence-transformers>=2.6.0->langchain-huggingface) (3.4.2)\n",
      "Requirement already satisfied: jinja2 in c:\\users\\euiyoung.hwang\\git_workspace\\vector_db_with_llm\\.venv\\lib\\site-packages (from torch>=1.11.0->sentence-transformers>=2.6.0->langchain-huggingface) (3.1.4)\n",
      "Requirement already satisfied: colorama in c:\\users\\euiyoung.hwang\\git_workspace\\vector_db_with_llm\\.venv\\lib\\site-packages (from tqdm>=4.42.1->huggingface-hub>=0.23.0->langchain-huggingface) (0.4.6)\n",
      "Requirement already satisfied: MarkupSafe>=2.0 in c:\\users\\euiyoung.hwang\\git_workspace\\vector_db_with_llm\\.venv\\lib\\site-packages (from jinja2->torch>=1.11.0->sentence-transformers>=2.6.0->langchain-huggingface) (2.1.5)\n",
      "Requirement already satisfied: joblib>=1.2.0 in c:\\users\\euiyoung.hwang\\git_workspace\\vector_db_with_llm\\.venv\\lib\\site-packages (from scikit-learn->sentence-transformers>=2.6.0->langchain-huggingface) (1.4.2)\n",
      "Requirement already satisfied: threadpoolctl>=3.1.0 in c:\\users\\euiyoung.hwang\\git_workspace\\vector_db_with_llm\\.venv\\lib\\site-packages (from scikit-learn->sentence-transformers>=2.6.0->langchain-huggingface) (3.5.0)\n",
      "Requirement already satisfied: mpmath<1.4,>=1.1.0 in c:\\users\\euiyoung.hwang\\git_workspace\\vector_db_with_llm\\.venv\\lib\\site-packages (from sympy->torch>=1.11.0->sentence-transformers>=2.6.0->langchain-huggingface) (1.3.0)\n"
     ]
    }
   ],
   "source": [
    "#!pip install langchain-huggingface"
   ]
  },
  {
   "cell_type": "code",
   "execution_count": 4,
   "id": "b0d48561",
   "metadata": {},
   "outputs": [
    {
     "data": {
      "text/plain": [
       "True"
      ]
     },
     "execution_count": 4,
     "metadata": {},
     "output_type": "execute_result"
    }
   ],
   "source": [
    "import os\n",
    "from dotenv import load_dotenv\n",
    "\n",
    "load_dotenv()"
   ]
  },
  {
   "cell_type": "code",
   "execution_count": 5,
   "id": "bbe35afc-ae41-424a-bc9c-b71844ae26eb",
   "metadata": {},
   "outputs": [
    {
     "name": "stdout",
     "output_type": "stream",
     "text": [
      "LangSmith 추적을 시작합니다.\n",
      "[프로젝트명]\n",
      "RAG-INSERT_DOC\n"
     ]
    }
   ],
   "source": [
    "from langchain_teddynote import logging\n",
    "\n",
    "logging.langsmith(\"RAG-INSERT_DOC\")"
   ]
  },
  {
   "cell_type": "code",
   "execution_count": 6,
   "id": "332bbb2b",
   "metadata": {},
   "outputs": [],
   "source": [
    "# import .env\n",
    "# os.environ['HUGGINGFACEHUB_API_TOKEN'] = 'HuggingFace Access KEY'\n",
    "\n",
    "# 허깅페이스 모델/토크나이저를 다운로드 받을 경로\n",
    "# (예시)\n",
    "# os.environ['HF_HOME'] = '/home/jovyan/work/tmp'\n",
    "# os.environ['HF_HOME'] = 'LLM 모델을 다운로드 받을 경로'"
   ]
  },
  {
   "cell_type": "code",
   "execution_count": 7,
   "id": "e519ac34-d948-498a-b184-561659e60823",
   "metadata": {},
   "outputs": [
    {
     "data": {
      "text/plain": [
       "'\\nLANGCHAIN_TRACING_V2=true\\nLANGCHAIN_ENDPOINT=\"https://api.smith.langchain.com\"\\nLANGCHAIN_API_KEY=\"<your-api-key>\"\\nLANGCHAIN_PROJECT=\"RAG-INSERT_DOC\"\\nHUGGINGFACEHUB_API_TOKEN=\"<your-api-key>\"\\n'"
      ]
     },
     "execution_count": 7,
     "metadata": {},
     "output_type": "execute_result"
    }
   ],
   "source": [
    "''' langsmith .env/and set environment in GitHub Repository (Vector_DB_with_LLM)'''\n",
    "'''\n",
    "LANGCHAIN_TRACING_V2=true\n",
    "LANGCHAIN_ENDPOINT=\"https://api.smith.langchain.com\"\n",
    "LANGCHAIN_API_KEY=\"<your-api-key>\"\n",
    "LANGCHAIN_PROJECT=\"RAG-INSERT_DOC\"\n",
    "HUGGINGFACEHUB_API_TOKEN=\"<your-api-key>\"\n",
    "'''"
   ]
  },
  {
   "cell_type": "code",
   "execution_count": 8,
   "id": "09e888fd-0e18-4e82-919c-d0bc2e57079e",
   "metadata": {},
   "outputs": [
    {
     "name": "stderr",
     "output_type": "stream",
     "text": [
      "C:\\Users\\euiyoung.hwang\\Git_Workspace\\Vector_DB_with_LLM\\.venv\\Lib\\site-packages\\requests\\__init__.py:102: RequestsDependencyWarning: urllib3 (1.26.20) or chardet (5.2.0)/charset_normalizer (2.0.12) doesn't match a supported version!\n",
      "  warnings.warn(\"urllib3 ({}) or chardet ({})/charset_normalizer ({}) doesn't match a supported \"\n"
     ]
    }
   ],
   "source": [
    "import os\n",
    "from dotenv import load_dotenv\n",
    "from langchain_text_splitters import RecursiveCharacterTextSplitter\n",
    "from langchain_community.vectorstores import FAISS\n",
    "from langchain_community.embeddings import OllamaEmbeddings\n",
    "from langchain_community.llms import Ollama\n",
    "from langchain_core.output_parsers import StrOutputParser\n",
    "from langchain_core.prompts import PromptTemplate\n",
    "from langchain_community.document_loaders import PyPDFLoader\n",
    "from langchain_community.embeddings import HuggingFaceEmbeddings\n",
    "from langchain_huggingface import ChatHuggingFace, HuggingFacePipeline\n",
    "from langchain_core.runnables import RunnablePassthrough\n",
    "from langchain import LLMChain"
   ]
  },
  {
   "cell_type": "code",
   "execution_count": 9,
   "id": "20f63a3e-128d-4f7f-a1b6-20797c1b1217",
   "metadata": {},
   "outputs": [
    {
     "name": "stderr",
     "output_type": "stream",
     "text": [
      "USER_AGENT environment variable not set, consider setting it to identify your requests.\n"
     ]
    }
   ],
   "source": [
    "import sys\n",
    "sys.path.append(\"C://Users/euiyoung.hwang/Git_Workspace/Vector_DB_with_LLM/Langchain/workflow/\")\n",
    "''' my langchain document loader package'''\n",
    "from text_loader import loader_text"
   ]
  },
  {
   "cell_type": "code",
   "execution_count": 10,
   "id": "74693ba4-af31-4167-be20-773179ec77f1",
   "metadata": {},
   "outputs": [],
   "source": [
    "path = \"C://Users/euiyoung.hwang/Git_Workspace/Vector_DB_with_LLM/Data/\"\n",
    "# path = \"C://Users/euiyoung.hwang/Git_Workspace/Vector_DB_with_LLM/Langchain/workflow/jupyter-workflow/\""
   ]
  },
  {
   "cell_type": "code",
   "execution_count": 11,
   "id": "9c00dac0-4acf-49be-9689-8b97204fec98",
   "metadata": {},
   "outputs": [
    {
     "name": "stdout",
     "output_type": "stream",
     "text": [
      "Loading C://Users/euiyoung.hwang/Git_Workspace/Vector_DB_with_LLM/Data//asiabrief_3-26.pdf\n",
      "File: C://Users/euiyoung.hwang/Git_Workspace/Vector_DB_with_LLM/Data//asiabrief_3-26.pdf\n",
      "split_extension: ['C://Users/euiyoung.hwang/Git_Workspace/Vector_DB_with_LLM/Data//asiabrief_3-26', 'pdf']\n",
      "extension: pdf\n",
      "***\n",
      "type : <class 'list'> / len : 5\n",
      "***\n",
      "\n",
      "\n",
      "\n",
      "type(document) <class 'list'>\n"
     ]
    }
   ],
   "source": [
    "# splits = loader_text(\"{}/{}\".format(path, \"Sample.hwp\"), create_json=False)\n",
    "# splits = loader_text(\"{}/{}\".format(path, \"train.pdf\"), create_json=False, chunks=\"recursive\")\n",
    "splits = loader_text(\"{}/{}\".format(path, \"asiabrief_3-26.pdf\"), create_json=False, chunks=\"recursive\")\n",
    "# print(f\"Langchain Document : {splits}\")"
   ]
  },
  {
   "cell_type": "code",
   "execution_count": 12,
   "id": "b57e3a6c",
   "metadata": {},
   "outputs": [],
   "source": [
    "embeddings = HuggingFaceEmbeddings(\n",
    "        model_name=\"BAAI/bge-m3\",\n",
    "        model_kwargs = {'device': 'cpu'}, # 모델이 CPU에서 실행되도록 설정. GPU를 사용할 수 있는 환경이라면 'cuda'로 설정할 수도 있음\n",
    "        encode_kwargs = {'normalize_embeddings': True}, # 임베딩 정규화. 모든 벡터가 같은 범위의 값을 갖도록 함. 유사도 계산 시 일관성을 높여줌\n",
    "    )"
   ]
  },
  {
   "cell_type": "code",
   "execution_count": 13,
   "id": "83372e18",
   "metadata": {},
   "outputs": [
    {
     "data": {
      "text/plain": [
       "[-0.049921195954084396, 0.02112860232591629, -0.05681934952735901]"
      ]
     },
     "execution_count": 13,
     "metadata": {},
     "output_type": "execute_result"
    }
   ],
   "source": [
    "''' print out for same sentence'''\n",
    "text = \"This is a test document.\"\n",
    "query_result = embeddings.embed_query(text)\n",
    "query_result[:3]"
   ]
  },
  {
   "cell_type": "code",
   "execution_count": 14,
   "id": "74fc917d",
   "metadata": {},
   "outputs": [],
   "source": [
    "vectorstore = FAISS.from_documents(documents=splits, embedding=embeddings)"
   ]
  },
  {
   "cell_type": "code",
   "execution_count": 15,
   "id": "e7c878bc",
   "metadata": {},
   "outputs": [
    {
     "name": "stdout",
     "output_type": "stream",
     "text": [
      "IT(Information Technology) 강국 등으로 알려져 있지만, <그림 1> 출산율 감소와 신생아 수를 넘어선 고령인구 초저출산현상 극복과 인구구조 변화 대응 # 이삼식 한양대학교 한국의 합계출산율은 2022년 0.78명으로 장기간 초저출산현상 지속은 인구의 지속가능성에 위협이 되고 있다. 저출산 대책은 다양 한 복합적인 원인들을 해소할 수\n",
      "세계를 잇다, 미래를 빚다! 4 지대를 없애도록 한다. 무엇보다도 출산과 양육에 친화적인 직장문 화를 조성하여야 한다. 인구구조 변화에 대응해야 우리나라는 이미 20년 이상 동안 초저출산현상(합계출산율 1.3명 이하)을 겪고 있다. 적어도 당분간 ‘저출산의 덫’에서 빠져나올 수 있 을 것으로 기대하기 어렵다. 저출산 대책들이 실효성을 거두기 시작 할지라도\n",
      "현상을 극복한 국가들로 알려져 있다. 우리나라는 15년 이상 저출산 대책이 추진되고 있음에도 불구 하고 출산율은 오히려 더 낮아져 최근에는 0명대를 기록하고 있다. 저출산 대책은 다양한 복합적인 원인들을 해소할 수 있도록 종합적 으로 그리고 장기간에 걸쳐 일관성 있게 추진되어야 한다. 그러나 우 리나라 저출산 대책에는 반드시 필요한 정책들이 누락되어 있는\n",
      "문 제, 필요한 정책들이 포함되고 있을지라도 사각지대가 크거나 급여 등이 충분하지 않은 문제들을 가지고 있다. 이와 관련, 초저출산현상을 멈추기 위해서는 세 가지의 근본적인 노 력이 긴요하다. 첫 번째로 과도한 경쟁사회를 지양하기 위하여 노동시장을 개혁하여 야 한다. 사실 한국 사회에서 만연하는 저출산 원인들은 다소 차이가 있을지라도 OECD 국가나\n"
     ]
    }
   ],
   "source": [
    "# for doc in vectorstore.similarity_search(\"구글\"):\n",
    "for doc in vectorstore.similarity_search(\"저출산\"):\n",
    "    print(doc.page_content)"
   ]
  },
  {
   "cell_type": "code",
   "execution_count": 16,
   "id": "1ee1debc",
   "metadata": {},
   "outputs": [],
   "source": [
    "retriever = vectorstore.as_retriever()"
   ]
  },
  {
   "cell_type": "code",
   "execution_count": 17,
   "id": "5cee26b9",
   "metadata": {},
   "outputs": [
    {
     "data": {
      "text/plain": [
       "[Document(metadata={'source': 'C://Users/euiyoung.hwang/Git_Workspace/Vector_DB_with_LLM/Data//asiabrief_3-26.pdf', 'page': 0}, page_content='Seoul National University Asia Center 1 2023년 5월 22일, 3권 26호 (통권 116호) 한국의 출산율은 어디가 바닥인가? 0.78명! 2022년 대한민국의 합계출산율이다. 인구가 증가나 감소하 지 않고 고령화도 되지 않는 이른바 안정인구(Stable Population)를 보유하기 위해서는 합계출산율이 인구대체수준인'),\n",
       " Document(metadata={'source': 'C://Users/euiyoung.hwang/Git_Workspace/Vector_DB_with_LLM/Data//asiabrief_3-26.pdf', 'page': 0}, page_content='IT(Information Technology) 강국 등으로 알려져 있지만, <그림 1> 출산율 감소와 신생아 수를 넘어선 고령인구 초저출산현상 극복과 인구구조 변화 대응 # 이삼식 한양대학교 한국의 합계출산율은 2022년 0.78명으로 장기간 초저출산현상 지속은 인구의 지속가능성에 위협이 되고 있다. 저출산 대책은 다양 한 복합적인 원인들을 해소할 수'),\n",
       " Document(metadata={'source': 'C://Users/euiyoung.hwang/Git_Workspace/Vector_DB_with_LLM/Data//asiabrief_3-26.pdf', 'page': 1}, page_content='787/8272fb01-en (Accessed on 09 May 2023) 주) 한국은 합계출산율을 2022년까지 발표하였으나, OECD 국가 대부분 2020년까지 발표하였음. 따라서, 2020년 OECD 기준 한국의 합계출산율은 0.84임.'),\n",
       " Document(metadata={'source': 'C://Users/euiyoung.hwang/Git_Workspace/Vector_DB_with_LLM/Data//asiabrief_3-26.pdf', 'page': 4}, page_content='출산율 회복과 인구구조 변화 대응은 양자택일이 아닌 양자병행 과제 최근 한국 사회에서 출산율이 0명대로 급락하면서 출산율 회복에 대 한 회의감이 증가하고 있다. 그 영향으로 출산율 회복을 위한 의지와 노력이 약화되고 대신 인구감소 및 고령화에 적응하여야 한다는 논 의가 활발하다. 그러나 출산율 회복 없는 인구변화에 대한 대응은 높 은 비용과 고통을 수반할')]"
      ]
     },
     "execution_count": 17,
     "metadata": {},
     "output_type": "execute_result"
    }
   ],
   "source": [
    "# retriever.invoke(\"삼성전자가 자체 개발한 AI 의 이름은?\")\n",
    "retriever.invoke(\"한국의 출산율은?\")"
   ]
  },
  {
   "cell_type": "code",
   "execution_count": 18,
   "id": "9f2054a0",
   "metadata": {},
   "outputs": [],
   "source": [
    "from langchain.llms import HuggingFaceHub"
   ]
  },
  {
   "cell_type": "code",
   "execution_count": 19,
   "id": "11735f3a",
   "metadata": {},
   "outputs": [],
   "source": [
    "# print(os.environ.get(\"HUGGINGFACEHUB_API_TOKEN\"))"
   ]
  },
  {
   "cell_type": "code",
   "execution_count": 20,
   "id": "5a7f46d6",
   "metadata": {},
   "outputs": [],
   "source": [
    "# llm = ChatOpenAI(model_name=\"gpt-4o\", temperature=0)\n",
    "# model_id = 'EleutherAI/pythia-160m'\n",
    "''' https://teddylee777.github.io/langchain/langchain-tutorial-02/ '''\n",
    "# model_id='mistralai/Mistral-7B-v0.1'\n",
    "model_id='HuggingFaceH4/zephyr-7b-beta'\n",
    "llm = HuggingFaceHub(repo_id=model_id, model_kwargs={\"temperature\": 0.2, \"max_length\": 1280})\n",
    "# llm = HuggingFaceHub(repo_id=\"mistralai/Mistral-7B-v0.1\")"
   ]
  },
  {
   "cell_type": "code",
   "execution_count": 21,
   "id": "d6049bb8",
   "metadata": {},
   "outputs": [
    {
     "name": "stdout",
     "output_type": "stream",
     "text": [
      "Elasticsearch is a distributed, RESTful search and analytics engine, built on top of Lucene. It provides a powerful and flexible query DSL, hit highlighting, faceted search, near real time search, rich document and field mappings, multitenancy, language-specific analyzers, and much more.\n",
      "\n",
      "Elasticsearch is designed to be scalable horizontally, making it easy to start with a small cluster and expand as the data and search requirements grow. It is also designed to be highly available, with built-in mechanisms for data replication and recovery.\n",
      "\n",
      "Elasticsearch is open source and released under the Apache 2.0 license. It is written in Java and runs on the JVM.\n",
      "\n",
      "Elasticsearch is part of the Elastic Stack, which also includes Beats, Logstash, and Kibana. Together, these tools form a powerful and flexible platform for centralized logging, monitoring, and analysis.\n",
      "\n",
      "Elasticsearch is used by a wide range of organizations, from small startups to large enterprises, in a variety of use cases, from search and analytics to log aggregation and monitoring. Some notable users include Netflix, Uber, Airbnb, and The New York Times.\n",
      "\n",
      "Overall, Elasticsearch is a powerful and flexible search and analytics engine that is easy to use, highly scalable, and highly available. It is a key component of the Elastic Stack, which provides a comprehensive platform for centralized logging, monitoring, and analysis.\n"
     ]
    }
   ],
   "source": [
    "# template = \"\"\"질문: {question}\n",
    "# 답변: \"\"\"\n",
    "template = \"\"\"\n",
    "질문: {question}\n",
    "답변: \"\"\"\n",
    "# 프롬프트 템플릿 생성\n",
    "prompt = PromptTemplate.from_template(template)\n",
    "\n",
    "# LLM Chain 객체 생성\n",
    "llm_chain = LLMChain(prompt=prompt, llm=llm)\n",
    "question = \"what is elasticsearch?\"\n",
    "# print(llm_chain.run(question=question))\n",
    "# llm_chain.run(question=question)\n",
    "response = llm_chain.invoke(question)\n",
    "# print(response)\n",
    "# print(response['text'])\n",
    "print(response['text'].split('답변:')[1].strip())"
   ]
  },
  {
   "cell_type": "code",
   "execution_count": 22,
   "id": "10df6b6e",
   "metadata": {},
   "outputs": [],
   "source": [
    "prompt = PromptTemplate.from_template(\n",
    "    \"\"\"You are an assistant for question-answering tasks. \n",
    "Use the following pieces of retrieved context to answer the question. \n",
    "If you don't know the answer, just say that you don't know. \n",
    "Answer in Korean.\n",
    "\n",
    "#Context: \n",
    "{context}\n",
    "\n",
    "#Question:\n",
    "{question}\n",
    "\n",
    "#Answer:\"\"\"\n",
    ")"
   ]
  },
  {
   "cell_type": "code",
   "execution_count": 23,
   "id": "b1fd4150-a895-4e71-bb9a-434e01ec7539",
   "metadata": {},
   "outputs": [],
   "source": [
    "llm = ChatHuggingFace(llm=llm)"
   ]
  },
  {
   "cell_type": "code",
   "execution_count": 24,
   "id": "874a8b6b",
   "metadata": {},
   "outputs": [],
   "source": [
    "# Chain\n",
    "chain = (\n",
    "    {\"context\": retriever, \"question\": RunnablePassthrough()}\n",
    "    | prompt\n",
    "    | llm\n",
    "    | StrOutputParser()\n",
    ")\n"
   ]
  },
  {
   "cell_type": "code",
   "execution_count": 25,
   "id": "dd7d17ad-de9a-489e-9216-3c85fce25b76",
   "metadata": {},
   "outputs": [],
   "source": [
    "from langchain_teddynote.messages import stream_response"
   ]
  },
  {
   "cell_type": "code",
   "execution_count": 26,
   "id": "631f4f9e",
   "metadata": {},
   "outputs": [
    {
     "name": "stdout",
     "output_type": "stream",
     "text": [
      "<|user|>\n",
      "You are an assistant for question-answering tasks. \n",
      "Use the following pieces of retrieved context to answer the question. \n",
      "If you don't know the answer, just say that you don't know. \n",
      "Answer in Korean.\n",
      "\n",
      "#Context: \n",
      "[Document(metadata={'source': 'C://Users/euiyoung.hwang/Git_Workspace/Vector_DB_with_LLM/Data//asiabrief_3-26.pdf', 'page': 0}, page_content='Seoul National University Asia Center 1 2023년 5월 22일, 3권 26호 (통권 116호) 한국의 출산율은 어디가 바닥인가? 0.78명! 2022년 대한민국의 합계출산율이다. 인구가 증가나 감소하 지 않고 고령화도 되지 않는 이른바 안정인구(Stable Population)를 보유하기 위해서는 합계출산율이 인구대체수준인'), Document(metadata={'source': 'C://Users/euiyoung.hwang/Git_Workspace/Vector_DB_with_LLM/Data//asiabrief_3-26.pdf', 'page': 1}, page_content='787/8272fb01-en (Accessed on 09 May 2023) 주) 한국은 합계출산율을 2022년까지 발표하였으나, OECD 국가 대부분 2020년까지 발표하였음. 따라서, 2020년 OECD 기준 한국의 합계출산율은 0.84임.'), Document(metadata={'source': 'C://Users/euiyoung.hwang/Git_Workspace/Vector_DB_with_LLM/Data//asiabrief_3-26.pdf', 'page': 0}, page_content='IT(Information Technology) 강국 등으로 알려져 있지만, <그림 1> 출산율 감소와 신생아 수를 넘어선 고령인구 초저출산현상 극복과 인구구조 변화 대응 # 이삼식 한양대학교 한국의 합계출산율은 2022년 0.78명으로 장기간 초저출산현상 지속은 인구의 지속가능성에 위협이 되고 있다. 저출산 대책은 다양 한 복합적인 원인들을 해소할 수'), Document(metadata={'source': 'C://Users/euiyoung.hwang/Git_Workspace/Vector_DB_with_LLM/Data//asiabrief_3-26.pdf', 'page': 4}, page_content='출산율 회복과 인구구조 변화 대응은 양자택일이 아닌 양자병행 과제 최근 한국 사회에서 출산율이 0명대로 급락하면서 출산율 회복에 대 한 회의감이 증가하고 있다. 그 영향으로 출산율 회복을 위한 의지와 노력이 약화되고 대신 인구감소 및 고령화에 적응하여야 한다는 논 의가 활발하다. 그러나 출산율 회복 없는 인구변화에 대한 대응은 높 은 비용과 고통을 수반할')]\n",
      "\n",
      "#Question:\n",
      "한국의 출산율은 얼마쯤 되나요?\n",
      "\n",
      "#Answer:</s>\n",
      "<|assistant|>\n",
      "한국의 합계출산율은 2022년에 0.78명이었습니다. (Korean: 한국의 합계출산율은 2022년에 0.78명이었습니다.)\n",
      "\n",
      "\n",
      "**\n",
      "content='<|user|>\\n한국의 출산율은 얼마쯤 되나요?</s>\\n<|assistant|>\\n한국의 2021년 출산율은 0.82 아이로 얼마 되나요? 이는 전체 인구의 1,000명에 대해 820명이 출산하는 수치를 나타냅니다. 이는 한국의 출산율이 낮은 수준으로 떨어진 것을 알 수 있습니다. 과거 2005년까지는 1.12 아이로 출산했었으나, 2006년부터 출산율이 연속적으로 감소하여 2021년까지 0.82 아이로 출산하는 추세를 보입니다.' additional_kwargs={} response_metadata={} id='run--5280aa56-d76c-418f-b543-604072c1c803-0'\n"
     ]
    }
   ],
   "source": [
    "# question = \"삼성전자가 자체 개발한 AI 의 이름은?\"\n",
    "question = \"한국의 출산율은 얼마쯤 되나요?\"\n",
    "# response = chain.invoke(question)\n",
    "# print(response)\n",
    "response = chain.stream(question)\n",
    "stream_response(response)\n",
    "\n",
    "print('\\n\\n\\n**')\n",
    "response = llm.invoke(question)\n",
    "print(response)\n",
    "\n"
   ]
  },
  {
   "cell_type": "code",
   "execution_count": 27,
   "id": "90367981",
   "metadata": {},
   "outputs": [
    {
     "name": "stdout",
     "output_type": "stream",
     "text": [
      "{'query': '한국의 출산율은?', 'result': \"<|user|>\\nYou are an assistant for question-answering tasks. \\nUse the following pieces of retrieved context to answer the question. \\nIf you don't know the answer, just say that you don't know. \\nAnswer in Korean.\\n\\n#Context: \\nSeoul National University Asia Center 1 2023년 5월 22일, 3권 26호 (통권 116호) 한국의 출산율은 어디가 바닥인가? 0.78명! 2022년 대한민국의 합계출산율이다. 인구가 증가나 감소하 지 않고 고령화도 되지 않는 이른바 안정인구(Stable Population)를 보유하기 위해서는 합계출산율이 인구대체수준인\\n\\nIT(Information Technology) 강국 등으로 알려져 있지만, <그림 1> 출산율 감소와 신생아 수를 넘어선 고령인구 초저출산현상 극복과 인구구조 변화 대응 # 이삼식 한양대학교 한국의 합계출산율은 2022년 0.78명으로 장기간 초저출산현상 지속은 인구의 지속가능성에 위협이 되고 있다. 저출산 대책은 다양 한 복합적인 원인들을 해소할 수\\n\\n787/8272fb01-en (Accessed on 09 May 2023) 주) 한국은 합계출산율을 2022년까지 발표하였으나, OECD 국가 대부분 2020년까지 발표하였음. 따라서, 2020년 OECD 기준 한국의 합계출산율은 0.84임.\\n\\n출산율 회복과 인구구조 변화 대응은 양자택일이 아닌 양자병행 과제 최근 한국 사회에서 출산율이 0명대로 급락하면서 출산율 회복에 대 한 회의감이 증가하고 있다. 그 영향으로 출산율 회복을 위한 의지와 노력이 약화되고 대신 인구감소 및 고령화에 적응하여야 한다는 논 의가 활발하다. 그러나 출산율 회복 없는 인구변화에 대한 대응은 높 은 비용과 고통을 수반할\\n\\n#Question:\\n한국의 출산율은?\\n\\n#Answer:</s>\\n<|assistant|>\\n한국의 2022년 합계출산율은 0.78명입니다. (Korean)\", 'source_documents': [Document(metadata={'source': 'C://Users/euiyoung.hwang/Git_Workspace/Vector_DB_with_LLM/Data//asiabrief_3-26.pdf', 'page': 0}, page_content='Seoul National University Asia Center 1 2023년 5월 22일, 3권 26호 (통권 116호) 한국의 출산율은 어디가 바닥인가? 0.78명! 2022년 대한민국의 합계출산율이다. 인구가 증가나 감소하 지 않고 고령화도 되지 않는 이른바 안정인구(Stable Population)를 보유하기 위해서는 합계출산율이 인구대체수준인'), Document(metadata={'source': 'C://Users/euiyoung.hwang/Git_Workspace/Vector_DB_with_LLM/Data//asiabrief_3-26.pdf', 'page': 0}, page_content='IT(Information Technology) 강국 등으로 알려져 있지만, <그림 1> 출산율 감소와 신생아 수를 넘어선 고령인구 초저출산현상 극복과 인구구조 변화 대응 # 이삼식 한양대학교 한국의 합계출산율은 2022년 0.78명으로 장기간 초저출산현상 지속은 인구의 지속가능성에 위협이 되고 있다. 저출산 대책은 다양 한 복합적인 원인들을 해소할 수'), Document(metadata={'source': 'C://Users/euiyoung.hwang/Git_Workspace/Vector_DB_with_LLM/Data//asiabrief_3-26.pdf', 'page': 1}, page_content='787/8272fb01-en (Accessed on 09 May 2023) 주) 한국은 합계출산율을 2022년까지 발표하였으나, OECD 국가 대부분 2020년까지 발표하였음. 따라서, 2020년 OECD 기준 한국의 합계출산율은 0.84임.'), Document(metadata={'source': 'C://Users/euiyoung.hwang/Git_Workspace/Vector_DB_with_LLM/Data//asiabrief_3-26.pdf', 'page': 4}, page_content='출산율 회복과 인구구조 변화 대응은 양자택일이 아닌 양자병행 과제 최근 한국 사회에서 출산율이 0명대로 급락하면서 출산율 회복에 대 한 회의감이 증가하고 있다. 그 영향으로 출산율 회복을 위한 의지와 노력이 약화되고 대신 인구감소 및 고령화에 적응하여야 한다는 논 의가 활발하다. 그러나 출산율 회복 없는 인구변화에 대한 대응은 높 은 비용과 고통을 수반할')]}\n",
      "<|user|>\n",
      "You are an assistant for question-answering tasks. \n",
      "Use the following pieces of retrieved context to answer the question. \n",
      "If you don't know the answer, just say that you don't know. \n",
      "Answer in Korean.\n",
      "\n",
      "#Context: \n",
      "Seoul National University Asia Center 1 2023년 5월 22일, 3권 26호 (통권 116호) 한국의 출산율은 어디가 바닥인가? 0.78명! 2022년 대한민국의 합계출산율이다. 인구가 증가나 감소하 지 않고 고령화도 되지 않는 이른바 안정인구(Stable Population)를 보유하기 위해서는 합계출산율이 인구대체수준인\n",
      "\n",
      "IT(Information Technology) 강국 등으로 알려져 있지만, <그림 1> 출산율 감소와 신생아 수를 넘어선 고령인구 초저출산현상 극복과 인구구조 변화 대응 # 이삼식 한양대학교 한국의 합계출산율은 2022년 0.78명으로 장기간 초저출산현상 지속은 인구의 지속가능성에 위협이 되고 있다. 저출산 대책은 다양 한 복합적인 원인들을 해소할 수\n",
      "\n",
      "787/8272fb01-en (Accessed on 09 May 2023) 주) 한국은 합계출산율을 2022년까지 발표하였으나, OECD 국가 대부분 2020년까지 발표하였음. 따라서, 2020년 OECD 기준 한국의 합계출산율은 0.84임.\n",
      "\n",
      "출산율 회복과 인구구조 변화 대응은 양자택일이 아닌 양자병행 과제 최근 한국 사회에서 출산율이 0명대로 급락하면서 출산율 회복에 대 한 회의감이 증가하고 있다. 그 영향으로 출산율 회복을 위한 의지와 노력이 약화되고 대신 인구감소 및 고령화에 적응하여야 한다는 논 의가 활발하다. 그러나 출산율 회복 없는 인구변화에 대한 대응은 높 은 비용과 고통을 수반할\n",
      "\n",
      "#Question:\n",
      "한국의 출산율은?\n",
      "\n",
      "#Answer:</s>\n",
      "<|assistant|>\n",
      "한국의 2022년 합계출산율은 0.78명입니다. (Korean)\n"
     ]
    }
   ],
   "source": [
    "from langchain.chains import RetrievalQA\n",
    "qa = RetrievalQA.from_chain_type(\n",
    "    llm=llm,\n",
    "    chain_type=\"stuff\",\n",
    "    retriever=retriever,\n",
    "    return_source_documents=True,\n",
    "    chain_type_kwargs={\"prompt\": prompt}\n",
    ")\n",
    "question = \"한국의 출산율은?\"\n",
    "result = qa.invoke({\"query\": question})\n",
    "print(result)\n",
    "print(result['result'])\n"
   ]
  },
  {
   "cell_type": "code",
   "execution_count": null,
   "id": "e787a103-db02-4024-8f71-9a839dc4762a",
   "metadata": {},
   "outputs": [],
   "source": []
  }
 ],
 "metadata": {
  "kernelspec": {
   "display_name": "Python 3 (ipykernel)",
   "language": "python",
   "name": "python3"
  },
  "language_info": {
   "codemirror_mode": {
    "name": "ipython",
    "version": 3
   },
   "file_extension": ".py",
   "mimetype": "text/x-python",
   "name": "python",
   "nbconvert_exporter": "python",
   "pygments_lexer": "ipython3",
   "version": "3.11.7"
  }
 },
 "nbformat": 4,
 "nbformat_minor": 5
}

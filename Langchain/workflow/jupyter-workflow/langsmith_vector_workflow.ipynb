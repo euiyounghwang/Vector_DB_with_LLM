{
 "cells": [
  {
   "cell_type": "code",
   "execution_count": 1,
   "id": "e5d2ba6b-2671-4830-a47f-c08251d8bd9e",
   "metadata": {},
   "outputs": [
    {
     "data": {
      "text/plain": [
       "' reference : https://hellollama.net/llm-%EC%B4%88%EA%B8%89%EA%B0%95%EC%A2%8C-7-langsmith-%ED%99%9C%EC%9A%A9%ED%95%98%EA%B8%B0/'"
      ]
     },
     "execution_count": 1,
     "metadata": {},
     "output_type": "execute_result"
    }
   ],
   "source": [
    "# Langsmith with vector test\n",
    "''' https://www.langchain.com/langsmith '''\n",
    "''' reference : https://hellollama.net/llm-%EC%B4%88%EA%B8%89%EA%B0%95%EC%A2%8C-7-langsmith-%ED%99%9C%EC%9A%A9%ED%95%98%EA%B8%B0/'''"
   ]
  },
  {
   "cell_type": "code",
   "execution_count": 2,
   "id": "e519ac34-d948-498a-b184-561659e60823",
   "metadata": {},
   "outputs": [
    {
     "data": {
      "text/plain": [
       "'\\nLANGCHAIN_TRACING_V2=true\\nLANGCHAIN_ENDPOINT=\"https://api.smith.langchain.com\"\\nLANGCHAIN_API_KEY=\"<your-api-key>\"\\nLANGCHAIN_PROJECT=\"\"\\n'"
      ]
     },
     "execution_count": 2,
     "metadata": {},
     "output_type": "execute_result"
    }
   ],
   "source": [
    "''' langsmith .env'''\n",
    "'''\n",
    "LANGCHAIN_TRACING_V2=true\n",
    "LANGCHAIN_ENDPOINT=\"https://api.smith.langchain.com\"\n",
    "LANGCHAIN_API_KEY=\"<your-api-key>\"\n",
    "LANGCHAIN_PROJECT=\"\"\n",
    "'''"
   ]
  },
  {
   "cell_type": "code",
   "execution_count": 3,
   "id": "09e888fd-0e18-4e82-919c-d0bc2e57079e",
   "metadata": {},
   "outputs": [
    {
     "name": "stderr",
     "output_type": "stream",
     "text": [
      "/Users/euiyoung.hwang/ES/Python_Workspace/Vector_DB_with_LLM/.venv/lib/python3.11/site-packages/requests/__init__.py:102: RequestsDependencyWarning: urllib3 (1.26.20) or chardet (5.2.0)/charset_normalizer (2.0.12) doesn't match a supported version!\n",
      "  warnings.warn(\"urllib3 ({}) or chardet ({})/charset_normalizer ({}) doesn't match a supported \"\n"
     ]
    }
   ],
   "source": [
    "import os\n",
    "from dotenv import load_dotenv\n",
    "from langchain_text_splitters import RecursiveCharacterTextSplitter\n",
    "from langchain_community.vectorstores import FAISS\n",
    "from langchain_community.embeddings import OllamaEmbeddings\n",
    "from langchain_community.llms import Ollama\n",
    "from langchain_core.output_parsers import StrOutputParser\n",
    "from langchain_core.prompts import PromptTemplate\n",
    "from langchain_community.document_loaders import PyPDFLoader"
   ]
  },
  {
   "cell_type": "code",
   "execution_count": 4,
   "id": "20f63a3e-128d-4f7f-a1b6-20797c1b1217",
   "metadata": {},
   "outputs": [
    {
     "ename": "ModuleNotFoundError",
     "evalue": "No module named 'text_loader'",
     "output_type": "error",
     "traceback": [
      "\u001b[0;31m---------------------------------------------------------------------------\u001b[0m",
      "\u001b[0;31mModuleNotFoundError\u001b[0m                       Traceback (most recent call last)",
      "Cell \u001b[0;32mIn[4], line 5\u001b[0m\n\u001b[1;32m      3\u001b[0m sys\u001b[38;5;241m.\u001b[39mpath\u001b[38;5;241m.\u001b[39mappend(\u001b[38;5;124m\"\u001b[39m\u001b[38;5;124m/Users/euiyoung.hwang/ES/Python_Workspace/Vector_DB_with_LLMM/Langchain/workflow/\u001b[39m\u001b[38;5;124m\"\u001b[39m)\n\u001b[1;32m      4\u001b[0m \u001b[38;5;124;03m''' my langchain document loader package'''\u001b[39;00m\n\u001b[0;32m----> 5\u001b[0m \u001b[38;5;28;01mfrom\u001b[39;00m \u001b[38;5;21;01mtext_loader\u001b[39;00m \u001b[38;5;28;01mimport\u001b[39;00m loader_text\n",
      "\u001b[0;31mModuleNotFoundError\u001b[0m: No module named 'text_loader'"
     ]
    }
   ],
   "source": [
    "import sys\n",
    "# sys.path.append(\"C://Users/euiyoung.hwang/Git_Workspace/Vector_DB_with_LLM/Langchain/workflow/\")\n",
    "sys.path.append(\"/Users/euiyoung.hwang/ES/Python_Workspace/Vector_DB_with_LLM/Langchain/workflow\")\n",
    "''' my langchain document loader package'''\n",
    "from text_loader import loader_text"
   ]
  },
  {
   "cell_type": "code",
   "execution_count": null,
   "id": "74693ba4-af31-4167-be20-773179ec77f1",
   "metadata": {},
   "outputs": [],
   "source": [
    "# path = \"C://Users/euiyoung.hwang/Git_Workspace/Vector_DB_with_LLM/Data/\"\n",
    "path = \"/Users/euiyoung.hwang/ES/Python_Workspace/Vector_DB_with_LLM/Data/\""
   ]
  },
  {
   "cell_type": "code",
   "execution_count": null,
   "id": "9c00dac0-4acf-49be-9689-8b97204fec98",
   "metadata": {},
   "outputs": [],
   "source": [
    "splits = loader_text(\"{}/{}\".format(path, \"Sample.hwp\"), create_json=False)\n",
    "print(f\"Langchain Document : {splits}\")"
   ]
  }
 ],
 "metadata": {
  "kernelspec": {
   "display_name": "Python 3 (ipykernel)",
   "language": "python",
   "name": "python3"
  },
  "language_info": {
   "codemirror_mode": {
    "name": "ipython",
    "version": 3
   },
   "file_extension": ".py",
   "mimetype": "text/x-python",
   "name": "python",
   "nbconvert_exporter": "python",
   "pygments_lexer": "ipython3",
   "version": "3.11.6"
  }
 },
 "nbformat": 4,
 "nbformat_minor": 5
}

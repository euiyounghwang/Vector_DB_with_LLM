{
 "cells": [
  {
   "cell_type": "code",
   "execution_count": 18,
   "id": "aed0bf82",
   "metadata": {},
   "outputs": [],
   "source": [
    "# onedork\n",
    "# grade3\n",
    "# oceans16\n",
    "# chesterish\n",
    "# monokai\n",
    "# solarizedl\n",
    "# solarizedd"
   ]
  },
  {
   "cell_type": "code",
   "execution_count": 19,
   "id": "c3f1100a",
   "metadata": {},
   "outputs": [
    {
     "name": "stdout",
     "output_type": "stream",
     "text": [
      "Requirement already satisfied: jupyterthemes in c:\\users\\euiyoung.hwang\\git_workspace\\vector_db_with_llm\\.venv\\lib\\site-packages (0.20.0)"
     ]
    },
    {
     "name": "stderr",
     "output_type": "stream",
     "text": [
      "\n",
      "[notice] A new release of pip is available: 23.2.1 -> 24.3.1\n",
      "[notice] To update, run: python.exe -m pip install --upgrade pip\n"
     ]
    },
    {
     "name": "stdout",
     "output_type": "stream",
     "text": [
      "\n",
      "Requirement already satisfied: jupyter-core in c:\\users\\euiyoung.hwang\\git_workspace\\vector_db_with_llm\\.venv\\lib\\site-packages (from jupyterthemes) (5.7.2)\n",
      "Requirement already satisfied: notebook>=5.6.0 in c:\\users\\euiyoung.hwang\\git_workspace\\vector_db_with_llm\\.venv\\lib\\site-packages (from jupyterthemes) (6.5.7)\n",
      "Requirement already satisfied: ipython>=5.4.1 in c:\\users\\euiyoung.hwang\\git_workspace\\vector_db_with_llm\\.venv\\lib\\site-packages (from jupyterthemes) (8.30.0)\n",
      "Requirement already satisfied: matplotlib>=1.4.3 in c:\\users\\euiyoung.hwang\\git_workspace\\vector_db_with_llm\\.venv\\lib\\site-packages (from jupyterthemes) (3.10.0)\n",
      "Requirement already satisfied: lesscpy>=0.11.2 in c:\\users\\euiyoung.hwang\\git_workspace\\vector_db_with_llm\\.venv\\lib\\site-packages (from jupyterthemes) (0.15.1)\n",
      "Requirement already satisfied: colorama in c:\\users\\euiyoung.hwang\\git_workspace\\vector_db_with_llm\\.venv\\lib\\site-packages (from ipython>=5.4.1->jupyterthemes) (0.4.6)\n",
      "Requirement already satisfied: decorator in c:\\users\\euiyoung.hwang\\git_workspace\\vector_db_with_llm\\.venv\\lib\\site-packages (from ipython>=5.4.1->jupyterthemes) (5.1.1)\n",
      "Requirement already satisfied: jedi>=0.16 in c:\\users\\euiyoung.hwang\\git_workspace\\vector_db_with_llm\\.venv\\lib\\site-packages (from ipython>=5.4.1->jupyterthemes) (0.19.2)\n",
      "Requirement already satisfied: matplotlib-inline in c:\\users\\euiyoung.hwang\\git_workspace\\vector_db_with_llm\\.venv\\lib\\site-packages (from ipython>=5.4.1->jupyterthemes) (0.1.7)\n",
      "Requirement already satisfied: prompt_toolkit<3.1.0,>=3.0.41 in c:\\users\\euiyoung.hwang\\git_workspace\\vector_db_with_llm\\.venv\\lib\\site-packages (from ipython>=5.4.1->jupyterthemes) (3.0.48)\n",
      "Requirement already satisfied: pygments>=2.4.0 in c:\\users\\euiyoung.hwang\\git_workspace\\vector_db_with_llm\\.venv\\lib\\site-packages (from ipython>=5.4.1->jupyterthemes) (2.18.0)\n",
      "Requirement already satisfied: stack_data in c:\\users\\euiyoung.hwang\\git_workspace\\vector_db_with_llm\\.venv\\lib\\site-packages (from ipython>=5.4.1->jupyterthemes) (0.6.3)\n",
      "Requirement already satisfied: traitlets>=5.13.0 in c:\\users\\euiyoung.hwang\\git_workspace\\vector_db_with_llm\\.venv\\lib\\site-packages (from ipython>=5.4.1->jupyterthemes) (5.14.3)\n",
      "Requirement already satisfied: typing_extensions>=4.6 in c:\\users\\euiyoung.hwang\\git_workspace\\vector_db_with_llm\\.venv\\lib\\site-packages (from ipython>=5.4.1->jupyterthemes) (4.12.2)\n",
      "Requirement already satisfied: ply in c:\\users\\euiyoung.hwang\\git_workspace\\vector_db_with_llm\\.venv\\lib\\site-packages (from lesscpy>=0.11.2->jupyterthemes) (3.11)\n",
      "Requirement already satisfied: contourpy>=1.0.1 in c:\\users\\euiyoung.hwang\\git_workspace\\vector_db_with_llm\\.venv\\lib\\site-packages (from matplotlib>=1.4.3->jupyterthemes) (1.3.1)\n",
      "Requirement already satisfied: cycler>=0.10 in c:\\users\\euiyoung.hwang\\git_workspace\\vector_db_with_llm\\.venv\\lib\\site-packages (from matplotlib>=1.4.3->jupyterthemes) (0.12.1)\n",
      "Requirement already satisfied: fonttools>=4.22.0 in c:\\users\\euiyoung.hwang\\git_workspace\\vector_db_with_llm\\.venv\\lib\\site-packages (from matplotlib>=1.4.3->jupyterthemes) (4.55.3)\n",
      "Requirement already satisfied: kiwisolver>=1.3.1 in c:\\users\\euiyoung.hwang\\git_workspace\\vector_db_with_llm\\.venv\\lib\\site-packages (from matplotlib>=1.4.3->jupyterthemes) (1.4.7)\n",
      "Requirement already satisfied: numpy>=1.23 in c:\\users\\euiyoung.hwang\\git_workspace\\vector_db_with_llm\\.venv\\lib\\site-packages (from matplotlib>=1.4.3->jupyterthemes) (1.26.4)\n",
      "Requirement already satisfied: packaging>=20.0 in c:\\users\\euiyoung.hwang\\git_workspace\\vector_db_with_llm\\.venv\\lib\\site-packages (from matplotlib>=1.4.3->jupyterthemes) (24.2)\n",
      "Requirement already satisfied: pillow>=8 in c:\\users\\euiyoung.hwang\\git_workspace\\vector_db_with_llm\\.venv\\lib\\site-packages (from matplotlib>=1.4.3->jupyterthemes) (11.0.0)\n",
      "Requirement already satisfied: pyparsing>=2.3.1 in c:\\users\\euiyoung.hwang\\git_workspace\\vector_db_with_llm\\.venv\\lib\\site-packages (from matplotlib>=1.4.3->jupyterthemes) (3.2.0)\n",
      "Requirement already satisfied: python-dateutil>=2.7 in c:\\users\\euiyoung.hwang\\git_workspace\\vector_db_with_llm\\.venv\\lib\\site-packages (from matplotlib>=1.4.3->jupyterthemes) (2.9.0.post0)\n",
      "Requirement already satisfied: jinja2 in c:\\users\\euiyoung.hwang\\git_workspace\\vector_db_with_llm\\.venv\\lib\\site-packages (from notebook>=5.6.0->jupyterthemes) (3.1.4)\n",
      "Requirement already satisfied: tornado>=6.1 in c:\\users\\euiyoung.hwang\\git_workspace\\vector_db_with_llm\\.venv\\lib\\site-packages (from notebook>=5.6.0->jupyterthemes) (6.4.2)\n",
      "Requirement already satisfied: pyzmq>=17 in c:\\users\\euiyoung.hwang\\git_workspace\\vector_db_with_llm\\.venv\\lib\\site-packages (from notebook>=5.6.0->jupyterthemes) (26.2.0)\n",
      "Requirement already satisfied: argon2-cffi in c:\\users\\euiyoung.hwang\\git_workspace\\vector_db_with_llm\\.venv\\lib\\site-packages (from notebook>=5.6.0->jupyterthemes) (23.1.0)\n",
      "Requirement already satisfied: jupyter-client<8,>=5.3.4 in c:\\users\\euiyoung.hwang\\git_workspace\\vector_db_with_llm\\.venv\\lib\\site-packages (from notebook>=5.6.0->jupyterthemes) (7.4.9)\n",
      "Requirement already satisfied: ipython-genutils in c:\\users\\euiyoung.hwang\\git_workspace\\vector_db_with_llm\\.venv\\lib\\site-packages (from notebook>=5.6.0->jupyterthemes) (0.2.0)\n",
      "Requirement already satisfied: nbformat in c:\\users\\euiyoung.hwang\\git_workspace\\vector_db_with_llm\\.venv\\lib\\site-packages (from notebook>=5.6.0->jupyterthemes) (5.10.4)\n",
      "Requirement already satisfied: nbconvert>=5 in c:\\users\\euiyoung.hwang\\git_workspace\\vector_db_with_llm\\.venv\\lib\\site-packages (from notebook>=5.6.0->jupyterthemes) (7.16.4)\n",
      "Requirement already satisfied: nest-asyncio>=1.5 in c:\\users\\euiyoung.hwang\\git_workspace\\vector_db_with_llm\\.venv\\lib\\site-packages (from notebook>=5.6.0->jupyterthemes) (1.6.0)\n",
      "Requirement already satisfied: ipykernel in c:\\users\\euiyoung.hwang\\git_workspace\\vector_db_with_llm\\.venv\\lib\\site-packages (from notebook>=5.6.0->jupyterthemes) (6.29.5)\n",
      "Requirement already satisfied: Send2Trash>=1.8.0 in c:\\users\\euiyoung.hwang\\git_workspace\\vector_db_with_llm\\.venv\\lib\\site-packages (from notebook>=5.6.0->jupyterthemes) (1.8.3)\n",
      "Requirement already satisfied: terminado>=0.8.3 in c:\\users\\euiyoung.hwang\\git_workspace\\vector_db_with_llm\\.venv\\lib\\site-packages (from notebook>=5.6.0->jupyterthemes) (0.18.1)\n",
      "Requirement already satisfied: prometheus-client in c:\\users\\euiyoung.hwang\\git_workspace\\vector_db_with_llm\\.venv\\lib\\site-packages (from notebook>=5.6.0->jupyterthemes) (0.21.1)\n",
      "Requirement already satisfied: nbclassic>=0.4.7 in c:\\users\\euiyoung.hwang\\git_workspace\\vector_db_with_llm\\.venv\\lib\\site-packages (from notebook>=5.6.0->jupyterthemes) (1.1.0)\n",
      "Requirement already satisfied: platformdirs>=2.5 in c:\\users\\euiyoung.hwang\\git_workspace\\vector_db_with_llm\\.venv\\lib\\site-packages (from jupyter-core->jupyterthemes) (4.3.6)\n",
      "Requirement already satisfied: pywin32>=300 in c:\\users\\euiyoung.hwang\\git_workspace\\vector_db_with_llm\\.venv\\lib\\site-packages (from jupyter-core->jupyterthemes) (308)\n",
      "Requirement already satisfied: parso<0.9.0,>=0.8.4 in c:\\users\\euiyoung.hwang\\git_workspace\\vector_db_with_llm\\.venv\\lib\\site-packages (from jedi>=0.16->ipython>=5.4.1->jupyterthemes) (0.8.4)\n",
      "Requirement already satisfied: entrypoints in c:\\users\\euiyoung.hwang\\git_workspace\\vector_db_with_llm\\.venv\\lib\\site-packages (from jupyter-client<8,>=5.3.4->notebook>=5.6.0->jupyterthemes) (0.4)\n",
      "Requirement already satisfied: notebook-shim>=0.2.3 in c:\\users\\euiyoung.hwang\\git_workspace\\vector_db_with_llm\\.venv\\lib\\site-packages (from nbclassic>=0.4.7->notebook>=5.6.0->jupyterthemes) (0.2.4)\n",
      "Requirement already satisfied: beautifulsoup4 in c:\\users\\euiyoung.hwang\\git_workspace\\vector_db_with_llm\\.venv\\lib\\site-packages (from nbconvert>=5->notebook>=5.6.0->jupyterthemes) (4.12.3)\n",
      "Requirement already satisfied: bleach!=5.0.0 in c:\\users\\euiyoung.hwang\\git_workspace\\vector_db_with_llm\\.venv\\lib\\site-packages (from nbconvert>=5->notebook>=5.6.0->jupyterthemes) (6.2.0)\n",
      "Requirement already satisfied: defusedxml in c:\\users\\euiyoung.hwang\\git_workspace\\vector_db_with_llm\\.venv\\lib\\site-packages (from nbconvert>=5->notebook>=5.6.0->jupyterthemes) (0.7.1)\n",
      "Requirement already satisfied: jupyterlab-pygments in c:\\users\\euiyoung.hwang\\git_workspace\\vector_db_with_llm\\.venv\\lib\\site-packages (from nbconvert>=5->notebook>=5.6.0->jupyterthemes) (0.3.0)\n",
      "Requirement already satisfied: markupsafe>=2.0 in c:\\users\\euiyoung.hwang\\git_workspace\\vector_db_with_llm\\.venv\\lib\\site-packages (from nbconvert>=5->notebook>=5.6.0->jupyterthemes) (2.1.5)\n",
      "Requirement already satisfied: mistune<4,>=2.0.3 in c:\\users\\euiyoung.hwang\\git_workspace\\vector_db_with_llm\\.venv\\lib\\site-packages (from nbconvert>=5->notebook>=5.6.0->jupyterthemes) (3.0.2)\n",
      "Requirement already satisfied: nbclient>=0.5.0 in c:\\users\\euiyoung.hwang\\git_workspace\\vector_db_with_llm\\.venv\\lib\\site-packages (from nbconvert>=5->notebook>=5.6.0->jupyterthemes) (0.10.1)\n",
      "Requirement already satisfied: pandocfilters>=1.4.1 in c:\\users\\euiyoung.hwang\\git_workspace\\vector_db_with_llm\\.venv\\lib\\site-packages (from nbconvert>=5->notebook>=5.6.0->jupyterthemes) (1.5.1)\n",
      "Requirement already satisfied: tinycss2 in c:\\users\\euiyoung.hwang\\git_workspace\\vector_db_with_llm\\.venv\\lib\\site-packages (from nbconvert>=5->notebook>=5.6.0->jupyterthemes) (1.4.0)\n",
      "Requirement already satisfied: fastjsonschema>=2.15 in c:\\users\\euiyoung.hwang\\git_workspace\\vector_db_with_llm\\.venv\\lib\\site-packages (from nbformat->notebook>=5.6.0->jupyterthemes) (2.21.1)\n",
      "Requirement already satisfied: jsonschema>=2.6 in c:\\users\\euiyoung.hwang\\git_workspace\\vector_db_with_llm\\.venv\\lib\\site-packages (from nbformat->notebook>=5.6.0->jupyterthemes) (4.23.0)\n",
      "Requirement already satisfied: wcwidth in c:\\users\\euiyoung.hwang\\git_workspace\\vector_db_with_llm\\.venv\\lib\\site-packages (from prompt_toolkit<3.1.0,>=3.0.41->ipython>=5.4.1->jupyterthemes) (0.2.13)\n",
      "Requirement already satisfied: six>=1.5 in c:\\users\\euiyoung.hwang\\git_workspace\\vector_db_with_llm\\.venv\\lib\\site-packages (from python-dateutil>=2.7->matplotlib>=1.4.3->jupyterthemes) (1.16.0)\n",
      "Requirement already satisfied: pywinpty>=1.1.0 in c:\\users\\euiyoung.hwang\\git_workspace\\vector_db_with_llm\\.venv\\lib\\site-packages (from terminado>=0.8.3->notebook>=5.6.0->jupyterthemes) (2.0.14)\n",
      "Requirement already satisfied: argon2-cffi-bindings in c:\\users\\euiyoung.hwang\\git_workspace\\vector_db_with_llm\\.venv\\lib\\site-packages (from argon2-cffi->notebook>=5.6.0->jupyterthemes) (21.2.0)\n",
      "Requirement already satisfied: comm>=0.1.1 in c:\\users\\euiyoung.hwang\\git_workspace\\vector_db_with_llm\\.venv\\lib\\site-packages (from ipykernel->notebook>=5.6.0->jupyterthemes) (0.2.2)\n",
      "Requirement already satisfied: debugpy>=1.6.5 in c:\\users\\euiyoung.hwang\\git_workspace\\vector_db_with_llm\\.venv\\lib\\site-packages (from ipykernel->notebook>=5.6.0->jupyterthemes) (1.8.11)\n",
      "Requirement already satisfied: psutil in c:\\users\\euiyoung.hwang\\git_workspace\\vector_db_with_llm\\.venv\\lib\\site-packages (from ipykernel->notebook>=5.6.0->jupyterthemes) (5.9.8)\n",
      "Requirement already satisfied: executing>=1.2.0 in c:\\users\\euiyoung.hwang\\git_workspace\\vector_db_with_llm\\.venv\\lib\\site-packages (from stack_data->ipython>=5.4.1->jupyterthemes) (2.1.0)\n",
      "Requirement already satisfied: asttokens>=2.1.0 in c:\\users\\euiyoung.hwang\\git_workspace\\vector_db_with_llm\\.venv\\lib\\site-packages (from stack_data->ipython>=5.4.1->jupyterthemes) (3.0.0)\n",
      "Requirement already satisfied: pure-eval in c:\\users\\euiyoung.hwang\\git_workspace\\vector_db_with_llm\\.venv\\lib\\site-packages (from stack_data->ipython>=5.4.1->jupyterthemes) (0.2.3)\n",
      "Requirement already satisfied: webencodings in c:\\users\\euiyoung.hwang\\git_workspace\\vector_db_with_llm\\.venv\\lib\\site-packages (from bleach!=5.0.0->nbconvert>=5->notebook>=5.6.0->jupyterthemes) (0.5.1)\n",
      "Requirement already satisfied: attrs>=22.2.0 in c:\\users\\euiyoung.hwang\\git_workspace\\vector_db_with_llm\\.venv\\lib\\site-packages (from jsonschema>=2.6->nbformat->notebook>=5.6.0->jupyterthemes) (24.2.0)\n",
      "Requirement already satisfied: jsonschema-specifications>=2023.03.6 in c:\\users\\euiyoung.hwang\\git_workspace\\vector_db_with_llm\\.venv\\lib\\site-packages (from jsonschema>=2.6->nbformat->notebook>=5.6.0->jupyterthemes) (2024.10.1)\n",
      "Requirement already satisfied: referencing>=0.28.4 in c:\\users\\euiyoung.hwang\\git_workspace\\vector_db_with_llm\\.venv\\lib\\site-packages (from jsonschema>=2.6->nbformat->notebook>=5.6.0->jupyterthemes) (0.35.1)\n",
      "Requirement already satisfied: rpds-py>=0.7.1 in c:\\users\\euiyoung.hwang\\git_workspace\\vector_db_with_llm\\.venv\\lib\\site-packages (from jsonschema>=2.6->nbformat->notebook>=5.6.0->jupyterthemes) (0.21.0)\n",
      "Requirement already satisfied: jupyter-server<3,>=1.8 in c:\\users\\euiyoung.hwang\\git_workspace\\vector_db_with_llm\\.venv\\lib\\site-packages (from notebook-shim>=0.2.3->nbclassic>=0.4.7->notebook>=5.6.0->jupyterthemes) (2.14.2)\n",
      "Requirement already satisfied: cffi>=1.0.1 in c:\\users\\euiyoung.hwang\\git_workspace\\vector_db_with_llm\\.venv\\lib\\site-packages (from argon2-cffi-bindings->argon2-cffi->notebook>=5.6.0->jupyterthemes) (1.17.1)\n",
      "Requirement already satisfied: soupsieve>1.2 in c:\\users\\euiyoung.hwang\\git_workspace\\vector_db_with_llm\\.venv\\lib\\site-packages (from beautifulsoup4->nbconvert>=5->notebook>=5.6.0->jupyterthemes) (2.6)\n",
      "Requirement already satisfied: pycparser in c:\\users\\euiyoung.hwang\\git_workspace\\vector_db_with_llm\\.venv\\lib\\site-packages (from cffi>=1.0.1->argon2-cffi-bindings->argon2-cffi->notebook>=5.6.0->jupyterthemes) (2.22)\n",
      "Requirement already satisfied: anyio>=3.1.0 in c:\\users\\euiyoung.hwang\\git_workspace\\vector_db_with_llm\\.venv\\lib\\site-packages (from jupyter-server<3,>=1.8->notebook-shim>=0.2.3->nbclassic>=0.4.7->notebook>=5.6.0->jupyterthemes) (4.6.2.post1)\n",
      "Requirement already satisfied: jupyter-events>=0.9.0 in c:\\users\\euiyoung.hwang\\git_workspace\\vector_db_with_llm\\.venv\\lib\\site-packages (from jupyter-server<3,>=1.8->notebook-shim>=0.2.3->nbclassic>=0.4.7->notebook>=5.6.0->jupyterthemes) (0.10.0)\n",
      "Requirement already satisfied: jupyter-server-terminals>=0.4.4 in c:\\users\\euiyoung.hwang\\git_workspace\\vector_db_with_llm\\.venv\\lib\\site-packages (from jupyter-server<3,>=1.8->notebook-shim>=0.2.3->nbclassic>=0.4.7->notebook>=5.6.0->jupyterthemes) (0.5.3)\n",
      "Requirement already satisfied: overrides>=5.0 in c:\\users\\euiyoung.hwang\\git_workspace\\vector_db_with_llm\\.venv\\lib\\site-packages (from jupyter-server<3,>=1.8->notebook-shim>=0.2.3->nbclassic>=0.4.7->notebook>=5.6.0->jupyterthemes) (7.7.0)\n",
      "Requirement already satisfied: websocket-client>=1.7 in c:\\users\\euiyoung.hwang\\git_workspace\\vector_db_with_llm\\.venv\\lib\\site-packages (from jupyter-server<3,>=1.8->notebook-shim>=0.2.3->nbclassic>=0.4.7->notebook>=5.6.0->jupyterthemes) (1.8.0)\n",
      "Requirement already satisfied: idna>=2.8 in c:\\users\\euiyoung.hwang\\git_workspace\\vector_db_with_llm\\.venv\\lib\\site-packages (from anyio>=3.1.0->jupyter-server<3,>=1.8->notebook-shim>=0.2.3->nbclassic>=0.4.7->notebook>=5.6.0->jupyterthemes) (3.10)\n",
      "Requirement already satisfied: sniffio>=1.1 in c:\\users\\euiyoung.hwang\\git_workspace\\vector_db_with_llm\\.venv\\lib\\site-packages (from anyio>=3.1.0->jupyter-server<3,>=1.8->notebook-shim>=0.2.3->nbclassic>=0.4.7->notebook>=5.6.0->jupyterthemes) (1.3.1)\n",
      "Requirement already satisfied: python-json-logger>=2.0.4 in c:\\users\\euiyoung.hwang\\git_workspace\\vector_db_with_llm\\.venv\\lib\\site-packages (from jupyter-events>=0.9.0->jupyter-server<3,>=1.8->notebook-shim>=0.2.3->nbclassic>=0.4.7->notebook>=5.6.0->jupyterthemes) (3.2.1)\n",
      "Requirement already satisfied: pyyaml>=5.3 in c:\\users\\euiyoung.hwang\\git_workspace\\vector_db_with_llm\\.venv\\lib\\site-packages (from jupyter-events>=0.9.0->jupyter-server<3,>=1.8->notebook-shim>=0.2.3->nbclassic>=0.4.7->notebook>=5.6.0->jupyterthemes) (6.0.2)\n",
      "Requirement already satisfied: rfc3339-validator in c:\\users\\euiyoung.hwang\\git_workspace\\vector_db_with_llm\\.venv\\lib\\site-packages (from jupyter-events>=0.9.0->jupyter-server<3,>=1.8->notebook-shim>=0.2.3->nbclassic>=0.4.7->notebook>=5.6.0->jupyterthemes) (0.1.4)\n",
      "Requirement already satisfied: rfc3986-validator>=0.1.1 in c:\\users\\euiyoung.hwang\\git_workspace\\vector_db_with_llm\\.venv\\lib\\site-packages (from jupyter-events>=0.9.0->jupyter-server<3,>=1.8->notebook-shim>=0.2.3->nbclassic>=0.4.7->notebook>=5.6.0->jupyterthemes) (0.1.1)\n",
      "Requirement already satisfied: fqdn in c:\\users\\euiyoung.hwang\\git_workspace\\vector_db_with_llm\\.venv\\lib\\site-packages (from jsonschema>=2.6->nbformat->notebook>=5.6.0->jupyterthemes) (1.5.1)\n",
      "Requirement already satisfied: isoduration in c:\\users\\euiyoung.hwang\\git_workspace\\vector_db_with_llm\\.venv\\lib\\site-packages (from jsonschema>=2.6->nbformat->notebook>=5.6.0->jupyterthemes) (20.11.0)\n",
      "Requirement already satisfied: jsonpointer>1.13 in c:\\users\\euiyoung.hwang\\git_workspace\\vector_db_with_llm\\.venv\\lib\\site-packages (from jsonschema>=2.6->nbformat->notebook>=5.6.0->jupyterthemes) (3.0.0)\n",
      "Requirement already satisfied: uri-template in c:\\users\\euiyoung.hwang\\git_workspace\\vector_db_with_llm\\.venv\\lib\\site-packages (from jsonschema>=2.6->nbformat->notebook>=5.6.0->jupyterthemes) (1.3.0)\n",
      "Requirement already satisfied: webcolors>=24.6.0 in c:\\users\\euiyoung.hwang\\git_workspace\\vector_db_with_llm\\.venv\\lib\\site-packages (from jsonschema>=2.6->nbformat->notebook>=5.6.0->jupyterthemes) (24.11.1)\n",
      "Requirement already satisfied: arrow>=0.15.0 in c:\\users\\euiyoung.hwang\\git_workspace\\vector_db_with_llm\\.venv\\lib\\site-packages (from isoduration->jsonschema>=2.6->nbformat->notebook>=5.6.0->jupyterthemes) (1.3.0)\n",
      "Requirement already satisfied: types-python-dateutil>=2.8.10 in c:\\users\\euiyoung.hwang\\git_workspace\\vector_db_with_llm\\.venv\\lib\\site-packages (from arrow>=0.15.0->isoduration->jsonschema>=2.6->nbformat->notebook>=5.6.0->jupyterthemes) (2.9.0.20241206)\n"
     ]
    }
   ],
   "source": [
    "!pip install jupyterthemes\n",
    "#!jt -t oceans16"
   ]
  },
  {
   "cell_type": "code",
   "execution_count": 20,
   "id": "38223111-3512-40fe-844a-b8146d66d82e",
   "metadata": {},
   "outputs": [
    {
     "name": "stdout",
     "output_type": "stream",
     "text": [
      "Requirement already satisfied: jupyter_scheduler in c:\\users\\euiyoung.hwang\\git_workspace\\vector_db_with_llm\\.venv\\lib\\site-packages (2.10.0)\n",
      "Requirement already satisfied: croniter~=1.4 in c:\\users\\euiyoung.hwang\\git_workspace\\vector_db_with_llm\\.venv\\lib\\site-packages (from jupyter_scheduler) (1.4.1)\n",
      "Requirement already satisfied: fsspec<=2024.10.0,>=2023.6.0 in c:\\users\\euiyoung.hwang\\git_workspace\\vector_db_with_llm\\.venv\\lib\\site-packages (from jupyter_scheduler) (2024.10.0)\n",
      "Requirement already satisfied: jupyter-server<3,>=1.6 in c:\\users\\euiyoung.hwang\\git_workspace\\vector_db_with_llm\\.venv\\lib\\site-packages (from jupyter_scheduler) (2.14.2)\n",
      "Requirement already satisfied: nbconvert~=7.0 in c:\\users\\euiyoung.hwang\\git_workspace\\vector_db_with_llm\\.venv\\lib\\site-packages (from jupyter_scheduler) (7.16.4)\n",
      "Requirement already satisfied: psutil~=5.9 in c:\\users\\euiyoung.hwang\\git_workspace\\vector_db_with_llm\\.venv\\lib\\site-packages (from jupyter_scheduler) (5.9.8)\n",
      "Requirement already satisfied: pydantic<3,>=1.10 in c:\\users\\euiyoung.hwang\\git_workspace\\vector_db_with_llm\\.venv\\lib\\site-packages (from jupyter_scheduler) (2.9.2)\n",
      "Requirement already satisfied: pytz<=2024.2,>=2023.3 in c:\\users\\euiyoung.hwang\\git_workspace\\vector_db_with_llm\\.venv\\lib\\site-packages (from jupyter_scheduler) (2024.2)\n",
      "Requirement already satisfied: sqlalchemy<3,>=2.0 in c:\\users\\euiyoung.hwang\\git_workspace\\vector_db_with_llm\\.venv\\lib\\site-packages (from jupyter_scheduler) (2.0.35)\n",
      "Requirement already satisfied: traitlets~=5.0 in c:\\users\\euiyoung.hwang\\git_workspace\\vector_db_with_llm\\.venv\\lib\\site-packages (from jupyter_scheduler) (5.14.3)\n",
      "Requirement already satisfied: python-dateutil in c:\\users\\euiyoung.hwang\\git_workspace\\vector_db_with_llm\\.venv\\lib\\site-packages (from croniter~=1.4->jupyter_scheduler) (2.9.0.post0)\n",
      "Requirement already satisfied: anyio>=3.1.0 in c:\\users\\euiyoung.hwang\\git_workspace\\vector_db_with_llm\\.venv\\lib\\site-packages (from jupyter-server<3,>=1.6->jupyter_scheduler) (4.6.2.post1)\n",
      "Requirement already satisfied: argon2-cffi>=21.1 in c:\\users\\euiyoung.hwang\\git_workspace\\vector_db_with_llm\\.venv\\lib\\site-packages (from jupyter-server<3,>=1.6->jupyter_scheduler) (23.1.0)\n",
      "Requirement already satisfied: jinja2>=3.0.3 in c:\\users\\euiyoung.hwang\\git_workspace\\vector_db_with_llm\\.venv\\lib\\site-packages (from jupyter-server<3,>=1.6->jupyter_scheduler) (3.1.4)\n",
      "Requirement already satisfied: jupyter-client>=7.4.4 in c:\\users\\euiyoung.hwang\\git_workspace\\vector_db_with_llm\\.venv\\lib\\site-packages (from jupyter-server<3,>=1.6->jupyter_scheduler) (7.4.9)\n",
      "Requirement already satisfied: jupyter-core!=5.0.*,>=4.12 in c:\\users\\euiyoung.hwang\\git_workspace\\vector_db_with_llm\\.venv\\lib\\site-packages (from jupyter-server<3,>=1.6->jupyter_scheduler) (5.7.2)\n",
      "Requirement already satisfied: jupyter-events>=0.9.0 in c:\\users\\euiyoung.hwang\\git_workspace\\vector_db_with_llm\\.venv\\lib\\site-packages (from jupyter-server<3,>=1.6->jupyter_scheduler) (0.10.0)\n",
      "Requirement already satisfied: jupyter-server-terminals>=0.4.4 in c:\\users\\euiyoung.hwang\\git_workspace\\vector_db_with_llm\\.venv\\lib\\site-packages (from jupyter-server<3,>=1.6->jupyter_scheduler) (0.5.3)\n",
      "Requirement already satisfied: nbformat>=5.3.0 in c:\\users\\euiyoung.hwang\\git_workspace\\vector_db_with_llm\\.venv\\lib\\site-packages (from jupyter-server<3,>=1.6->jupyter_scheduler) (5.10.4)\n",
      "Requirement already satisfied: overrides>=5.0 in c:\\users\\euiyoung.hwang\\git_workspace\\vector_db_with_llm\\.venv\\lib\\site-packages (from jupyter-server<3,>=1.6->jupyter_scheduler) (7.7.0)\n",
      "Requirement already satisfied: packaging>=22.0 in c:\\users\\euiyoung.hwang\\git_workspace\\vector_db_with_llm\\.venv\\lib\\site-packages (from jupyter-server<3,>=1.6->jupyter_scheduler) (24.2)\n",
      "Requirement already satisfied: prometheus-client>=0.9 in c:\\users\\euiyoung.hwang\\git_workspace\\vector_db_with_llm\\.venv\\lib\\site-packages (from jupyter-server<3,>=1.6->jupyter_scheduler) (0.21.1)\n",
      "Requirement already satisfied: pywinpty>=2.0.1 in c:\\users\\euiyoung.hwang\\git_workspace\\vector_db_with_llm\\.venv\\lib\\site-packages (from jupyter-server<3,>=1.6->jupyter_scheduler) (2.0.14)\n",
      "Requirement already satisfied: pyzmq>=24 in c:\\users\\euiyoung.hwang\\git_workspace\\vector_db_with_llm\\.venv\\lib\\site-packages (from jupyter-server<3,>=1.6->jupyter_scheduler) (26.2.0)\n",
      "Requirement already satisfied: send2trash>=1.8.2 in c:\\users\\euiyoung.hwang\\git_workspace\\vector_db_with_llm\\.venv\\lib\\site-packages (from jupyter-server<3,>=1.6->jupyter_scheduler) (1.8.3)\n",
      "Requirement already satisfied: terminado>=0.8.3 in c:\\users\\euiyoung.hwang\\git_workspace\\vector_db_with_llm\\.venv\\lib\\site-packages (from jupyter-server<3,>=1.6->jupyter_scheduler) (0.18.1)\n",
      "Requirement already satisfied: tornado>=6.2.0 in c:\\users\\euiyoung.hwang\\git_workspace\\vector_db_with_llm\\.venv\\lib\\site-packages (from jupyter-server<3,>=1.6->jupyter_scheduler) (6.4.2)\n",
      "Requirement already satisfied: websocket-client>=1.7 in c:\\users\\euiyoung.hwang\\git_workspace\\vector_db_with_llm\\.venv\\lib\\site-packages (from jupyter-server<3,>=1.6->jupyter_scheduler) (1.8.0)\n",
      "Requirement already satisfied: beautifulsoup4 in c:\\users\\euiyoung.hwang\\git_workspace\\vector_db_with_llm\\.venv\\lib\\site-packages (from nbconvert~=7.0->jupyter_scheduler) (4.12.3)\n",
      "Requirement already satisfied: bleach!=5.0.0 in c:\\users\\euiyoung.hwang\\git_workspace\\vector_db_with_llm\\.venv\\lib\\site-packages (from nbconvert~=7.0->jupyter_scheduler) (6.2.0)\n",
      "Requirement already satisfied: defusedxml in c:\\users\\euiyoung.hwang\\git_workspace\\vector_db_with_llm\\.venv\\lib\\site-packages (from nbconvert~=7.0->jupyter_scheduler) (0.7.1)\n",
      "Requirement already satisfied: jupyterlab-pygments in c:\\users\\euiyoung.hwang\\git_workspace\\vector_db_with_llm\\.venv\\lib\\site-packages (from nbconvert~=7.0->jupyter_scheduler) (0.3.0)\n",
      "Requirement already satisfied: markupsafe>=2.0 in c:\\users\\euiyoung.hwang\\git_workspace\\vector_db_with_llm\\.venv\\lib\\site-packages (from nbconvert~=7.0->jupyter_scheduler) (2.1.5)\n",
      "Requirement already satisfied: mistune<4,>=2.0.3 in c:\\users\\euiyoung.hwang\\git_workspace\\vector_db_with_llm\\.venv\\lib\\site-packages (from nbconvert~=7.0->jupyter_scheduler) (3.0.2)\n",
      "Requirement already satisfied: nbclient>=0.5.0 in c:\\users\\euiyoung.hwang\\git_workspace\\vector_db_with_llm\\.venv\\lib\\site-packages (from nbconvert~=7.0->jupyter_scheduler) (0.10.1)\n",
      "Requirement already satisfied: pandocfilters>=1.4.1 in c:\\users\\euiyoung.hwang\\git_workspace\\vector_db_with_llm\\.venv\\lib\\site-packages (from nbconvert~=7.0->jupyter_scheduler) (1.5.1)\n",
      "Requirement already satisfied: pygments>=2.4.1 in c:\\users\\euiyoung.hwang\\git_workspace\\vector_db_with_llm\\.venv\\lib\\site-packages (from nbconvert~=7.0->jupyter_scheduler) (2.18.0)\n",
      "Requirement already satisfied: tinycss2 in c:\\users\\euiyoung.hwang\\git_workspace\\vector_db_with_llm\\.venv\\lib\\site-packages (from nbconvert~=7.0->jupyter_scheduler) (1.4.0)\n",
      "Requirement already satisfied: annotated-types>=0.6.0 in c:\\users\\euiyoung.hwang\\git_workspace\\vector_db_with_llm\\.venv\\lib\\site-packages (from pydantic<3,>=1.10->jupyter_scheduler) (0.7.0)\n",
      "Requirement already satisfied: pydantic-core==2.23.4 in c:\\users\\euiyoung.hwang\\git_workspace\\vector_db_with_llm\\.venv\\lib\\site-packages (from pydantic<3,>=1.10->jupyter_scheduler) (2.23.4)\n",
      "Requirement already satisfied: typing-extensions>=4.6.1 in c:\\users\\euiyoung.hwang\\git_workspace\\vector_db_with_llm\\.venv\\lib\\site-packages (from pydantic<3,>=1.10->jupyter_scheduler) (4.12.2)\n",
      "Requirement already satisfied: greenlet!=0.4.17 in c:\\users\\euiyoung.hwang\\git_workspace\\vector_db_with_llm\\.venv\\lib\\site-packages (from sqlalchemy<3,>=2.0->jupyter_scheduler) (3.1.1)\n",
      "Requirement already satisfied: idna>=2.8 in c:\\users\\euiyoung.hwang\\git_workspace\\vector_db_with_llm\\.venv\\lib\\site-packages (from anyio>=3.1.0->jupyter-server<3,>=1.6->jupyter_scheduler) (3.10)\n",
      "Requirement already satisfied: sniffio>=1.1 in c:\\users\\euiyoung.hwang\\git_workspace\\vector_db_with_llm\\.venv\\lib\\site-packages (from anyio>=3.1.0->jupyter-server<3,>=1.6->jupyter_scheduler) (1.3.1)\n",
      "Requirement already satisfied: argon2-cffi-bindings in c:\\users\\euiyoung.hwang\\git_workspace\\vector_db_with_llm\\.venv\\lib\\site-packages (from argon2-cffi>=21.1->jupyter-server<3,>=1.6->jupyter_scheduler) (21.2.0)\n",
      "Requirement already satisfied: webencodings in c:\\users\\euiyoung.hwang\\git_workspace\\vector_db_with_llm\\.venv\\lib\\site-packages (from bleach!=5.0.0->nbconvert~=7.0->jupyter_scheduler) (0.5.1)\n",
      "Requirement already satisfied: entrypoints in c:\\users\\euiyoung.hwang\\git_workspace\\vector_db_with_llm\\.venv\\lib\\site-packages (from jupyter-client>=7.4.4->jupyter-server<3,>=1.6->jupyter_scheduler) (0.4)\n",
      "Requirement already satisfied: nest-asyncio>=1.5.4 in c:\\users\\euiyoung.hwang\\git_workspace\\vector_db_with_llm\\.venv\\lib\\site-packages (from jupyter-client>=7.4.4->jupyter-server<3,>=1.6->jupyter_scheduler) (1.6.0)\n",
      "Requirement already satisfied: platformdirs>=2.5 in c:\\users\\euiyoung.hwang\\git_workspace\\vector_db_with_llm\\.venv\\lib\\site-packages (from jupyter-core!=5.0.*,>=4.12->jupyter-server<3,>=1.6->jupyter_scheduler) (4.3.6)\n",
      "Requirement already satisfied: pywin32>=300 in c:\\users\\euiyoung.hwang\\git_workspace\\vector_db_with_llm\\.venv\\lib\\site-packages (from jupyter-core!=5.0.*,>=4.12->jupyter-server<3,>=1.6->jupyter_scheduler) (308)\n",
      "Requirement already satisfied: jsonschema[format-nongpl]>=4.18.0 in c:\\users\\euiyoung.hwang\\git_workspace\\vector_db_with_llm\\.venv\\lib\\site-packages (from jupyter-events>=0.9.0->jupyter-server<3,>=1.6->jupyter_scheduler) (4.23.0)\n",
      "Requirement already satisfied: python-json-logger>=2.0.4 in c:\\users\\euiyoung.hwang\\git_workspace\\vector_db_with_llm\\.venv\\lib\\site-packages (from jupyter-events>=0.9.0->jupyter-server<3,>=1.6->jupyter_scheduler) (3.2.1)\n",
      "Requirement already satisfied: pyyaml>=5.3 in c:\\users\\euiyoung.hwang\\git_workspace\\vector_db_with_llm\\.venv\\lib\\site-packages (from jupyter-events>=0.9.0->jupyter-server<3,>=1.6->jupyter_scheduler) (6.0.2)\n",
      "Requirement already satisfied: referencing in c:\\users\\euiyoung.hwang\\git_workspace\\vector_db_with_llm\\.venv\\lib\\site-packages (from jupyter-events>=0.9.0->jupyter-server<3,>=1.6->jupyter_scheduler) (0.35.1)\n",
      "Requirement already satisfied: rfc3339-validator in c:\\users\\euiyoung.hwang\\git_workspace\\vector_db_with_llm\\.venv\\lib\\site-packages (from jupyter-events>=0.9.0->jupyter-server<3,>=1.6->jupyter_scheduler) (0.1.4)\n",
      "Requirement already satisfied: rfc3986-validator>=0.1.1 in c:\\users\\euiyoung.hwang\\git_workspace\\vector_db_with_llm\\.venv\\lib\\site-packages (from jupyter-events>=0.9.0->jupyter-server<3,>=1.6->jupyter_scheduler) (0.1.1)\n",
      "Requirement already satisfied: fastjsonschema>=2.15 in c:\\users\\euiyoung.hwang\\git_workspace\\vector_db_with_llm\\.venv\\lib\\site-packages (from nbformat>=5.3.0->jupyter-server<3,>=1.6->jupyter_scheduler) (2.21.1)\n",
      "Requirement already satisfied: six>=1.5 in c:\\users\\euiyoung.hwang\\git_workspace\\vector_db_with_llm\\.venv\\lib\\site-packages (from python-dateutil->croniter~=1.4->jupyter_scheduler) (1.16.0)\n",
      "Requirement already satisfied: soupsieve>1.2 in c:\\users\\euiyoung.hwang\\git_workspace\\vector_db_with_llm\\.venv\\lib\\site-packages (from beautifulsoup4->nbconvert~=7.0->jupyter_scheduler) (2.6)\n",
      "Requirement already satisfied: attrs>=22.2.0 in c:\\users\\euiyoung.hwang\\git_workspace\\vector_db_with_llm\\.venv\\lib\\site-packages (from jsonschema[format-nongpl]>=4.18.0->jupyter-events>=0.9.0->jupyter-server<3,>=1.6->jupyter_scheduler) (24.2.0)\n",
      "Requirement already satisfied: jsonschema-specifications>=2023.03.6 in c:\\users\\euiyoung.hwang\\git_workspace\\vector_db_with_llm\\.venv\\lib\\site-packages (from jsonschema[format-nongpl]>=4.18.0->jupyter-events>=0.9.0->jupyter-server<3,>=1.6->jupyter_scheduler) (2024.10.1)\n",
      "Requirement already satisfied: rpds-py>=0.7.1 in c:\\users\\euiyoung.hwang\\git_workspace\\vector_db_with_llm\\.venv\\lib\\site-packages (from jsonschema[format-nongpl]>=4.18.0->jupyter-events>=0.9.0->jupyter-server<3,>=1.6->jupyter_scheduler) (0.21.0)\n",
      "Requirement already satisfied: fqdn in c:\\users\\euiyoung.hwang\\git_workspace\\vector_db_with_llm\\.venv\\lib\\site-packages (from jsonschema[format-nongpl]>=4.18.0->jupyter-events>=0.9.0->jupyter-server<3,>=1.6->jupyter_scheduler) (1.5.1)\n",
      "Requirement already satisfied: isoduration in c:\\users\\euiyoung.hwang\\git_workspace\\vector_db_with_llm\\.venv\\lib\\site-packages (from jsonschema[format-nongpl]>=4.18.0->jupyter-events>=0.9.0->jupyter-server<3,>=1.6->jupyter_scheduler) (20.11.0)\n",
      "Requirement already satisfied: jsonpointer>1.13 in c:\\users\\euiyoung.hwang\\git_workspace\\vector_db_with_llm\\.venv\\lib\\site-packages (from jsonschema[format-nongpl]>=4.18.0->jupyter-events>=0.9.0->jupyter-server<3,>=1.6->jupyter_scheduler) (3.0.0)\n",
      "Requirement already satisfied: uri-template in c:\\users\\euiyoung.hwang\\git_workspace\\vector_db_with_llm\\.venv\\lib\\site-packages (from jsonschema[format-nongpl]>=4.18.0->jupyter-events>=0.9.0->jupyter-server<3,>=1.6->jupyter_scheduler) (1.3.0)\n",
      "Requirement already satisfied: webcolors>=24.6.0 in c:\\users\\euiyoung.hwang\\git_workspace\\vector_db_with_llm\\.venv\\lib\\site-packages (from jsonschema[format-nongpl]>=4.18.0->jupyter-events>=0.9.0->jupyter-server<3,>=1.6->jupyter_scheduler) (24.11.1)\n",
      "Requirement already satisfied: cffi>=1.0.1 in c:\\users\\euiyoung.hwang\\git_workspace\\vector_db_with_llm\\.venv\\lib\\site-packages (from argon2-cffi-bindings->argon2-cffi>=21.1->jupyter-server<3,>=1.6->jupyter_scheduler) (1.17.1)\n",
      "Requirement already satisfied: pycparser in c:\\users\\euiyoung.hwang\\git_workspace\\vector_db_with_llm\\.venv\\lib\\site-packages (from cffi>=1.0.1->argon2-cffi-bindings->argon2-cffi>=21.1->jupyter-server<3,>=1.6->jupyter_scheduler) (2.22)\n",
      "Requirement already satisfied: arrow>=0.15.0 in c:\\users\\euiyoung.hwang\\git_workspace\\vector_db_with_llm\\.venv\\lib\\site-packages (from isoduration->jsonschema[format-nongpl]>=4.18.0->jupyter-events>=0.9.0->jupyter-server<3,>=1.6->jupyter_scheduler) (1.3.0)\n",
      "Requirement already satisfied: types-python-dateutil>=2.8.10 in c:\\users\\euiyoung.hwang\\git_workspace\\vector_db_with_llm\\.venv\\lib\\site-packages (from arrow>=0.15.0->isoduration->jsonschema[format-nongpl]>=4.18.0->jupyter-events>=0.9.0->jupyter-server<3,>=1.6->jupyter_scheduler) (2.9.0.20241206)\n"
     ]
    },
    {
     "name": "stderr",
     "output_type": "stream",
     "text": [
      "\n",
      "[notice] A new release of pip is available: 23.2.1 -> 24.3.1\n",
      "[notice] To update, run: python.exe -m pip install --upgrade pip\n"
     ]
    }
   ],
   "source": [
    "''' https://blog.jupyter.org/introducing-jupyter-scheduler-f9e82676c388 '''\n",
    "''' jupyter notebook scheduler '''\n",
    "!pip install jupyter_scheduler"
   ]
  },
  {
   "cell_type": "code",
   "execution_count": 21,
   "id": "3196adb9",
   "metadata": {},
   "outputs": [
    {
     "name": "stdout",
     "output_type": "stream",
     "text": [
      "es_langchain **\n"
     ]
    }
   ],
   "source": [
    "print(f\"es_langchain **\")"
   ]
  },
  {
   "cell_type": "code",
   "execution_count": 22,
   "id": "2733cd02",
   "metadata": {},
   "outputs": [],
   "source": [
    "# Gradio is an open-source Python package that allows you to quickly build a demo or web application for your machine learning model, API, or any arbitrary Python function. \n",
    "# You can then share a link to your demo or web application in just a few seconds using Gradio's built-in sharing features."
   ]
  },
  {
   "cell_type": "code",
   "execution_count": 23,
   "id": "ec9f0928",
   "metadata": {},
   "outputs": [
    {
     "name": "stdout",
     "output_type": "stream",
     "text": [
      "Requirement already satisfied: gradio in c:\\users\\euiyoung.hwang\\git_workspace\\vector_db_with_llm\\.venv\\lib\\site-packages (5.9.0)\n",
      "Requirement already satisfied: aiofiles<24.0,>=22.0 in c:\\users\\euiyoung.hwang\\git_workspace\\vector_db_with_llm\\.venv\\lib\\site-packages (from gradio) (23.2.1)\n",
      "Requirement already satisfied: anyio<5.0,>=3.0 in c:\\users\\euiyoung.hwang\\git_workspace\\vector_db_with_llm\\.venv\\lib\\site-packages (from gradio) (4.6.2.post1)\n",
      "Requirement already satisfied: fastapi<1.0,>=0.115.2 in c:\\users\\euiyoung.hwang\\git_workspace\\vector_db_with_llm\\.venv\\lib\\site-packages (from gradio) (0.115.5)\n",
      "Requirement already satisfied: ffmpy in c:\\users\\euiyoung.hwang\\git_workspace\\vector_db_with_llm\\.venv\\lib\\site-packages (from gradio) (0.4.0)\n",
      "Requirement already satisfied: gradio-client==1.5.2 in c:\\users\\euiyoung.hwang\\git_workspace\\vector_db_with_llm\\.venv\\lib\\site-packages (from gradio) (1.5.2)\n",
      "Requirement already satisfied: httpx>=0.24.1 in c:\\users\\euiyoung.hwang\\git_workspace\\vector_db_with_llm\\.venv\\lib\\site-packages (from gradio) (0.27.2)\n",
      "Requirement already satisfied: huggingface-hub>=0.25.1 in c:\\users\\euiyoung.hwang\\git_workspace\\vector_db_with_llm\\.venv\\lib\\site-packages (from gradio) (0.26.2)\n",
      "Requirement already satisfied: jinja2<4.0 in c:\\users\\euiyoung.hwang\\git_workspace\\vector_db_with_llm\\.venv\\lib\\site-packages (from gradio) (3.1.4)\n",
      "Requirement already satisfied: markupsafe~=2.0 in c:\\users\\euiyoung.hwang\\git_workspace\\vector_db_with_llm\\.venv\\lib\\site-packages (from gradio) (2.1.5)\n",
      "Requirement already satisfied: numpy<3.0,>=1.0 in c:\\users\\euiyoung.hwang\\git_workspace\\vector_db_with_llm\\.venv\\lib\\site-packages (from gradio) (1.26.4)\n",
      "Requirement already satisfied: orjson~=3.0 in c:\\users\\euiyoung.hwang\\git_workspace\\vector_db_with_llm\\.venv\\lib\\site-packages (from gradio) (3.10.11)\n",
      "Requirement already satisfied: packaging in c:\\users\\euiyoung.hwang\\git_workspace\\vector_db_with_llm\\.venv\\lib\\site-packages (from gradio) (24.2)\n",
      "Requirement already satisfied: pandas<3.0,>=1.0 in c:\\users\\euiyoung.hwang\\git_workspace\\vector_db_with_llm\\.venv\\lib\\site-packages (from gradio) (2.2.3)\n",
      "Requirement already satisfied: pillow<12.0,>=8.0 in c:\\users\\euiyoung.hwang\\git_workspace\\vector_db_with_llm\\.venv\\lib\\site-packages (from gradio) (11.0.0)\n",
      "Requirement already satisfied: pydantic>=2.0 in c:\\users\\euiyoung.hwang\\git_workspace\\vector_db_with_llm\\.venv\\lib\\site-packages (from gradio) (2.9.2)\n",
      "Requirement already satisfied: pydub in c:\\users\\euiyoung.hwang\\git_workspace\\vector_db_with_llm\\.venv\\lib\\site-packages (from gradio) (0.25.1)\n",
      "Requirement already satisfied: python-multipart>=0.0.18 in c:\\users\\euiyoung.hwang\\git_workspace\\vector_db_with_llm\\.venv\\lib\\site-packages (from gradio) (0.0.18)\n",
      "Requirement already satisfied: pyyaml<7.0,>=5.0 in c:\\users\\euiyoung.hwang\\git_workspace\\vector_db_with_llm\\.venv\\lib\\site-packages (from gradio) (6.0.2)\n",
      "Requirement already satisfied: ruff>=0.2.2 in c:\\users\\euiyoung.hwang\\git_workspace\\vector_db_with_llm\\.venv\\lib\\site-packages (from gradio) (0.8.3)\n",
      "Requirement already satisfied: safehttpx<0.2.0,>=0.1.6 in c:\\users\\euiyoung.hwang\\git_workspace\\vector_db_with_llm\\.venv\\lib\\site-packages (from gradio) (0.1.6)\n",
      "Requirement already satisfied: semantic-version~=2.0 in c:\\users\\euiyoung.hwang\\git_workspace\\vector_db_with_llm\\.venv\\lib\\site-packages (from gradio) (2.10.0)\n",
      "Requirement already satisfied: starlette<1.0,>=0.40.0 in c:\\users\\euiyoung.hwang\\git_workspace\\vector_db_with_llm\\.venv\\lib\\site-packages (from gradio) (0.41.2)\n",
      "Requirement already satisfied: tomlkit<0.14.0,>=0.12.0 in c:\\users\\euiyoung.hwang\\git_workspace\\vector_db_with_llm\\.venv\\lib\\site-packages (from gradio) (0.13.2)\n",
      "Requirement already satisfied: typer<1.0,>=0.12 in c:\\users\\euiyoung.hwang\\git_workspace\\vector_db_with_llm\\.venv\\lib\\site-packages (from gradio) (0.13.0)\n",
      "Requirement already satisfied: typing-extensions~=4.0 in c:\\users\\euiyoung.hwang\\git_workspace\\vector_db_with_llm\\.venv\\lib\\site-packages (from gradio) (4.12.2)\n",
      "Requirement already satisfied: uvicorn>=0.14.0 in c:\\users\\euiyoung.hwang\\git_workspace\\vector_db_with_llm\\.venv\\lib\\site-packages (from gradio) (0.32.1)\n",
      "Requirement already satisfied: fsspec in c:\\users\\euiyoung.hwang\\git_workspace\\vector_db_with_llm\\.venv\\lib\\site-packages (from gradio-client==1.5.2->gradio) (2024.10.0)\n",
      "Requirement already satisfied: websockets<15.0,>=10.0 in c:\\users\\euiyoung.hwang\\git_workspace\\vector_db_with_llm\\.venv\\lib\\site-packages (from gradio-client==1.5.2->gradio) (14.0)\n",
      "Requirement already satisfied: idna>=2.8 in c:\\users\\euiyoung.hwang\\git_workspace\\vector_db_with_llm\\.venv\\lib\\site-packages (from anyio<5.0,>=3.0->gradio) (3.10)\n",
      "Requirement already satisfied: sniffio>=1.1 in c:\\users\\euiyoung.hwang\\git_workspace\\vector_db_with_llm\\.venv\\lib\\site-packages (from anyio<5.0,>=3.0->gradio) (1.3.1)\n",
      "Requirement already satisfied: certifi in c:\\users\\euiyoung.hwang\\git_workspace\\vector_db_with_llm\\.venv\\lib\\site-packages (from httpx>=0.24.1->gradio) (2024.8.30)\n",
      "Requirement already satisfied: httpcore==1.* in c:\\users\\euiyoung.hwang\\git_workspace\\vector_db_with_llm\\.venv\\lib\\site-packages (from httpx>=0.24.1->gradio) (1.0.6)\n",
      "Requirement already satisfied: h11<0.15,>=0.13 in c:\\users\\euiyoung.hwang\\git_workspace\\vector_db_with_llm\\.venv\\lib\\site-packages (from httpcore==1.*->httpx>=0.24.1->gradio) (0.14.0)\n",
      "Requirement already satisfied: filelock in c:\\users\\euiyoung.hwang\\git_workspace\\vector_db_with_llm\\.venv\\lib\\site-packages (from huggingface-hub>=0.25.1->gradio) (3.16.1)\n",
      "Requirement already satisfied: requests in c:\\users\\euiyoung.hwang\\git_workspace\\vector_db_with_llm\\.venv\\lib\\site-packages (from huggingface-hub>=0.25.1->gradio) (2.27.1)\n",
      "Requirement already satisfied: tqdm>=4.42.1 in c:\\users\\euiyoung.hwang\\git_workspace\\vector_db_with_llm\\.venv\\lib\\site-packages (from huggingface-hub>=0.25.1->gradio) (4.67.0)\n",
      "Requirement already satisfied: python-dateutil>=2.8.2 in c:\\users\\euiyoung.hwang\\git_workspace\\vector_db_with_llm\\.venv\\lib\\site-packages (from pandas<3.0,>=1.0->gradio) (2.9.0.post0)\n",
      "Requirement already satisfied: pytz>=2020.1 in c:\\users\\euiyoung.hwang\\git_workspace\\vector_db_with_llm\\.venv\\lib\\site-packages (from pandas<3.0,>=1.0->gradio) (2024.2)\n",
      "Requirement already satisfied: tzdata>=2022.7 in c:\\users\\euiyoung.hwang\\git_workspace\\vector_db_with_llm\\.venv\\lib\\site-packages (from pandas<3.0,>=1.0->gradio) (2024.2)\n",
      "Requirement already satisfied: annotated-types>=0.6.0 in c:\\users\\euiyoung.hwang\\git_workspace\\vector_db_with_llm\\.venv\\lib\\site-packages (from pydantic>=2.0->gradio) (0.7.0)\n",
      "Requirement already satisfied: pydantic-core==2.23.4 in c:\\users\\euiyoung.hwang\\git_workspace\\vector_db_with_llm\\.venv\\lib\\site-packages (from pydantic>=2.0->gradio) (2.23.4)\n",
      "Requirement already satisfied: click>=8.0.0 in c:\\users\\euiyoung.hwang\\git_workspace\\vector_db_with_llm\\.venv\\lib\\site-packages (from typer<1.0,>=0.12->gradio) (8.1.7)\n",
      "Requirement already satisfied: shellingham>=1.3.0 in c:\\users\\euiyoung.hwang\\git_workspace\\vector_db_with_llm\\.venv\\lib\\site-packages (from typer<1.0,>=0.12->gradio) (1.5.4)\n",
      "Requirement already satisfied: rich>=10.11.0 in c:\\users\\euiyoung.hwang\\git_workspace\\vector_db_with_llm\\.venv\\lib\\site-packages (from typer<1.0,>=0.12->gradio) (13.9.4)\n",
      "Requirement already satisfied: colorama in c:\\users\\euiyoung.hwang\\git_workspace\\vector_db_with_llm\\.venv\\lib\\site-packages (from click>=8.0.0->typer<1.0,>=0.12->gradio) (0.4.6)\n",
      "Requirement already satisfied: six>=1.5 in c:\\users\\euiyoung.hwang\\git_workspace\\vector_db_with_llm\\.venv\\lib\\site-packages (from python-dateutil>=2.8.2->pandas<3.0,>=1.0->gradio) (1.16.0)\n",
      "Requirement already satisfied: markdown-it-py>=2.2.0 in c:\\users\\euiyoung.hwang\\git_workspace\\vector_db_with_llm\\.venv\\lib\\site-packages (from rich>=10.11.0->typer<1.0,>=0.12->gradio) (3.0.0)\n",
      "Requirement already satisfied: pygments<3.0.0,>=2.13.0 in c:\\users\\euiyoung.hwang\\git_workspace\\vector_db_with_llm\\.venv\\lib\\site-packages (from rich>=10.11.0->typer<1.0,>=0.12->gradio) (2.18.0)\n",
      "Requirement already satisfied: urllib3<1.27,>=1.21.1 in c:\\users\\euiyoung.hwang\\git_workspace\\vector_db_with_llm\\.venv\\lib\\site-packages (from requests->huggingface-hub>=0.25.1->gradio) (1.26.20)\n",
      "Requirement already satisfied: charset-normalizer~=2.0.0 in c:\\users\\euiyoung.hwang\\git_workspace\\vector_db_with_llm\\.venv\\lib\\site-packages (from requests->huggingface-hub>=0.25.1->gradio) (2.0.12)\n",
      "Requirement already satisfied: mdurl~=0.1 in c:\\users\\euiyoung.hwang\\git_workspace\\vector_db_with_llm\\.venv\\lib\\site-packages (from markdown-it-py>=2.2.0->rich>=10.11.0->typer<1.0,>=0.12->gradio) (0.1.2)\n"
     ]
    },
    {
     "name": "stderr",
     "output_type": "stream",
     "text": [
      "\n",
      "[notice] A new release of pip is available: 23.2.1 -> 24.3.1\n",
      "[notice] To update, run: python.exe -m pip install --upgrade pip\n"
     ]
    },
    {
     "name": "stdout",
     "output_type": "stream",
     "text": [
      "Requirement already satisfied: email-validator in c:\\users\\euiyoung.hwang\\git_workspace\\vector_db_with_llm\\.venv\\lib\\site-packages (2.2.0)\n",
      "Requirement already satisfied: dnspython>=2.0.0 in c:\\users\\euiyoung.hwang\\git_workspace\\vector_db_with_llm\\.venv\\lib\\site-packages (from email-validator) (2.7.0)\n",
      "Requirement already satisfied: idna>=2.0.0 in c:\\users\\euiyoung.hwang\\git_workspace\\vector_db_with_llm\\.venv\\lib\\site-packages (from email-validator) (3.10)\n"
     ]
    },
    {
     "name": "stderr",
     "output_type": "stream",
     "text": [
      "\n",
      "[notice] A new release of pip is available: 23.2.1 -> 24.3.1\n",
      "[notice] To update, run: python.exe -m pip install --upgrade pip\n"
     ]
    }
   ],
   "source": [
    "!pip install gradio\n",
    "!pip install -U email-validator"
   ]
  },
  {
   "cell_type": "code",
   "execution_count": 24,
   "id": "24c294f0",
   "metadata": {},
   "outputs": [],
   "source": [
    "import gradio as gr\n",
    "import logging\n",
    "\n",
    "logging.basicConfig(format='%(asctime)s : %(levelname)s : %(message)s', level=logging.INFO)\n"
   ]
  },
  {
   "cell_type": "code",
   "execution_count": 25,
   "id": "15933cf7",
   "metadata": {},
   "outputs": [],
   "source": [
    "def user_greeting(name, intensity):\n",
    "    # return \"안녕하세요! \" + name + \"님, 첫 번째 Gradio 애플리케이션에 오신 것을 환영합니다!😎\"\n",
    "    return \"Hello, \" + name + \"!\" * int(intensity)"
   ]
  },
  {
   "cell_type": "code",
   "execution_count": 26,
   "id": "ede4fea9",
   "metadata": {},
   "outputs": [
    {
     "name": "stderr",
     "output_type": "stream",
     "text": [
      "2025-01-06 20:46:12,414 : INFO : HTTP Request: GET http://127.0.0.1:7862/gradio_api/startup-events \"HTTP/1.1 200 OK\"\n",
      "2025-01-06 20:46:12,440 : INFO : HTTP Request: HEAD http://127.0.0.1:7862/ \"HTTP/1.1 200 OK\"\n"
     ]
    },
    {
     "name": "stdout",
     "output_type": "stream",
     "text": [
      "* Running on local URL:  http://127.0.0.1:7862\n",
      "\n",
      "To create a public link, set `share=True` in `launch()`.\n"
     ]
    },
    {
     "data": {
      "text/html": [
       "<div><iframe src=\"http://127.0.0.1:7862/\" width=\"100%\" height=\"500\" allow=\"autoplay; camera; microphone; clipboard-read; clipboard-write;\" frameborder=\"0\" allowfullscreen></iframe></div>"
      ],
      "text/plain": [
       "<IPython.core.display.HTML object>"
      ]
     },
     "metadata": {},
     "output_type": "display_data"
    },
    {
     "data": {
      "text/plain": []
     },
     "execution_count": 26,
     "metadata": {},
     "output_type": "execute_result"
    }
   ],
   "source": [
    "# You can run Gradio in your favorite code editor, Jupyter notebook, Google Colab, or anywhere else you write Python\n",
    "# app = gr.Interface(fn=user_greeting, inputs=\"text\", outputs=\"text\")\n",
    "app = gr.Interface(fn=user_greeting, inputs=[\"text\", \"slider\"], outputs=\"text\")\n",
    "app.launch()\n",
    "# app.launch(share=True)  # Share your demo with just 1 extra parameter 🚀"
   ]
  },
  {
   "cell_type": "code",
   "execution_count": 27,
   "id": "38d18420-00d0-4d86-b856-283200f110e3",
   "metadata": {},
   "outputs": [],
   "source": [
    "from elasticsearch import Elasticsearch\n",
    "import os\n",
    "import json"
   ]
  },
  {
   "cell_type": "code",
   "execution_count": 28,
   "id": "e6c6f8b1-0b19-476f-9e35-267ec7c1a729",
   "metadata": {},
   "outputs": [],
   "source": [
    "def get_headers():\n",
    "    ''' Elasticsearch Header '''\n",
    "    return {\n",
    "            'Content-type': 'application/json', \n",
    "            'Authorization' : '{}'.format(os.getenv('BASIC_AUTH')),\n",
    "            # 'Connection': 'close'\n",
    "    }"
   ]
  },
  {
   "cell_type": "code",
   "execution_count": 29,
   "id": "f10d1c91-c754-4212-926f-197a43cacd8e",
   "metadata": {},
   "outputs": [
    {
     "name": "stderr",
     "output_type": "stream",
     "text": [
      "C:\\Users\\euiyoung.hwang\\AppData\\Local\\Temp\\ipykernel_14372\\4178504375.py:3: DeprecationWarning: The 'timeout' parameter is deprecated in favor of 'request_timeout'\n",
      "  es = Elasticsearch(hosts=\"http://localhost:9202\", headers=get_headers(), timeout=5,  verify_certs=False)\n",
      "2025-01-06 20:46:12,514 : INFO : GET http://localhost:9202/_cluster/health [status:200 duration:0.011s]\n"
     ]
    },
    {
     "name": "stdout",
     "output_type": "stream",
     "text": [
      "{'cluster_name': 'docker-elasticsearch', 'status': 'yellow', 'timed_out': False, 'number_of_nodes': 1, 'number_of_data_nodes': 1, 'active_primary_shards': 75, 'active_shards': 75, 'relocating_shards': 0, 'initializing_shards': 0, 'unassigned_shards': 56, 'delayed_unassigned_shards': 0, 'number_of_pending_tasks': 0, 'number_of_in_flight_fetch': 0, 'task_max_waiting_in_queue_millis': 0, 'active_shards_percent_as_number': 57.25190839694656}\n",
      "{\n",
      "  \"cluster_name\": \"docker-elasticsearch\",\n",
      "  \"status\": \"yellow\",\n",
      "  \"timed_out\": false,\n",
      "  \"number_of_nodes\": 1,\n",
      "  \"number_of_data_nodes\": 1,\n",
      "  \"active_primary_shards\": 75,\n",
      "  \"active_shards\": 75,\n",
      "  \"relocating_shards\": 0,\n",
      "  \"initializing_shards\": 0,\n",
      "  \"unassigned_shards\": 56,\n",
      "  \"delayed_unassigned_shards\": 0,\n",
      "  \"number_of_pending_tasks\": 0,\n",
      "  \"number_of_in_flight_fetch\": 0,\n",
      "  \"task_max_waiting_in_queue_millis\": 0,\n",
      "  \"active_shards_percent_as_number\": 57.25190839694656\n",
      "}\n"
     ]
    }
   ],
   "source": [
    "''' https://www.elastic.co/guide/en/elasticsearch/client/python-api/current/migration.html '''\n",
    "''' In 8.0.0 responses are no longer the raw deserialized response body and instead an object with two properties, meta and body '''\n",
    "es = Elasticsearch(hosts=\"http://localhost:9202\", headers=get_headers(), timeout=5,  verify_certs=False)\n",
    "# print(es.cat.health())\n",
    "# print(type(es.cluster.health()))\n",
    "resp = es.cluster.health()\n",
    "print(resp)\n",
    "# print(resp['status'], resp.keys(), resp.values())\n",
    "# print(resp.body, type(resp.body))\n",
    "\n",
    "# json_dict = {}\n",
    "# for k, v in resp.items():\n",
    "#     json_dict.update({k : v})\n",
    "    \n",
    "# print(json_dict, type(json_dict))\n",
    "# print(json.dumps(json_dict, indent=2))\n",
    "# print(json.dumps(resp, indent=2))\n",
    "# print(json.dumps(resp.json(), indent=2))\n",
    "print(json.dumps(resp.body, indent=2))"
   ]
  },
  {
   "cell_type": "code",
   "execution_count": 30,
   "id": "4ffd6d73-0ccf-421b-a671-20b4a20f4169",
   "metadata": {},
   "outputs": [
    {
     "data": {
      "text/html": [
       "<div>\n",
       "<style scoped>\n",
       "    .dataframe tbody tr th:only-of-type {\n",
       "        vertical-align: middle;\n",
       "    }\n",
       "\n",
       "    .dataframe tbody tr th {\n",
       "        vertical-align: top;\n",
       "    }\n",
       "\n",
       "    .dataframe thead th {\n",
       "        text-align: right;\n",
       "    }\n",
       "</style>\n",
       "<table border=\"1\" class=\"dataframe\">\n",
       "  <thead>\n",
       "    <tr style=\"text-align: right;\">\n",
       "      <th></th>\n",
       "      <th>0</th>\n",
       "      <th>1</th>\n",
       "      <th>2</th>\n",
       "      <th>3</th>\n",
       "      <th>4</th>\n",
       "      <th>5</th>\n",
       "      <th>6</th>\n",
       "      <th>7</th>\n",
       "      <th>8</th>\n",
       "      <th>9</th>\n",
       "      <th>10</th>\n",
       "      <th>11</th>\n",
       "      <th>12</th>\n",
       "      <th>13</th>\n",
       "      <th>14</th>\n",
       "    </tr>\n",
       "  </thead>\n",
       "  <tbody>\n",
       "    <tr>\n",
       "      <th>0</th>\n",
       "      <td>cluster_name</td>\n",
       "      <td>status</td>\n",
       "      <td>timed_out</td>\n",
       "      <td>number_of_nodes</td>\n",
       "      <td>number_of_data_nodes</td>\n",
       "      <td>active_primary_shards</td>\n",
       "      <td>active_shards</td>\n",
       "      <td>relocating_shards</td>\n",
       "      <td>initializing_shards</td>\n",
       "      <td>unassigned_shards</td>\n",
       "      <td>delayed_unassigned_shards</td>\n",
       "      <td>number_of_pending_tasks</td>\n",
       "      <td>number_of_in_flight_fetch</td>\n",
       "      <td>task_max_waiting_in_queue_millis</td>\n",
       "      <td>active_shards_percent_as_number</td>\n",
       "    </tr>\n",
       "  </tbody>\n",
       "</table>\n",
       "</div>"
      ],
      "text/plain": [
       "             0       1          2                3                     4   \\\n",
       "0  cluster_name  status  timed_out  number_of_nodes  number_of_data_nodes   \n",
       "\n",
       "                      5              6                  7   \\\n",
       "0  active_primary_shards  active_shards  relocating_shards   \n",
       "\n",
       "                    8                  9                          10  \\\n",
       "0  initializing_shards  unassigned_shards  delayed_unassigned_shards   \n",
       "\n",
       "                        11                         12  \\\n",
       "0  number_of_pending_tasks  number_of_in_flight_fetch   \n",
       "\n",
       "                                 13                               14  \n",
       "0  task_max_waiting_in_queue_millis  active_shards_percent_as_number  "
      ]
     },
     "execution_count": 30,
     "metadata": {},
     "output_type": "execute_result"
    }
   ],
   "source": [
    "''' json to dataframe '''\n",
    "import pandas as pd\n",
    "\n",
    "# df = pd.DataFrame.from_dict([resp.body])\n",
    "df = pd.DataFrame.from_dict([resp])\n",
    "df.head(10)"
   ]
  },
  {
   "cell_type": "code",
   "execution_count": 31,
   "id": "60cc0846-c5b9-4c06-ba3b-0014d4570d8c",
   "metadata": {},
   "outputs": [],
   "source": [
    "js_func = \"\"\"\n",
    "function refresh() {\n",
    "    const url = new URL(window.location);\n",
    "\n",
    "    if (url.searchParams.get('__theme') !== 'dark') {\n",
    "        url.searchParams.set('__theme', 'dark');\n",
    "        window.location.href = url.href;\n",
    "    }\n",
    "}\n",
    "\"\"\""
   ]
  },
  {
   "cell_type": "code",
   "execution_count": 32,
   "id": "039a8ea1-ba4b-4165-920e-bd1511c87f62",
   "metadata": {},
   "outputs": [],
   "source": [
    "''' https://www.elastic.co/guide/en/elasticsearch/client/python-api/current/migration.html '''\n",
    "''' In 8.0.0 responses are no longer the raw deserialized response body and instead an object with two properties, meta and body '''\n",
    "def es_get_health(host):\n",
    "    es_client = Elasticsearch(hosts=\"http://{}\".format(host), headers=get_headers(), timeout=5,  verify_certs=False)\n",
    "    return json.dumps(es_client.cluster.health().body, indent=2), es_client.cluster.health()['status']\n",
    "    # return json.dumps(es_client.cluster.health(), indent=2), es_client.cluster.health()['status']"
   ]
  },
  {
   "cell_type": "code",
   "execution_count": 33,
   "id": "6eb61035-1954-4b66-8b78-410644f63965",
   "metadata": {},
   "outputs": [
    {
     "name": "stderr",
     "output_type": "stream",
     "text": [
      "2025-01-06 20:46:13,631 : INFO : HTTP Request: GET http://127.0.0.1:7863/gradio_api/startup-events \"HTTP/1.1 200 OK\"\n"
     ]
    },
    {
     "name": "stdout",
     "output_type": "stream",
     "text": [
      "* Running on local URL:  http://127.0.0.1:7863\n"
     ]
    },
    {
     "name": "stderr",
     "output_type": "stream",
     "text": [
      "2025-01-06 20:46:13,658 : INFO : HTTP Request: HEAD http://127.0.0.1:7863/ \"HTTP/1.1 200 OK\"\n"
     ]
    },
    {
     "name": "stdout",
     "output_type": "stream",
     "text": [
      "\n",
      "To create a public link, set `share=True` in `launch()`.\n"
     ]
    },
    {
     "data": {
      "text/html": [
       "<div><iframe src=\"http://127.0.0.1:7863/\" width=\"100%\" height=\"500\" allow=\"autoplay; camera; microphone; clipboard-read; clipboard-write;\" frameborder=\"0\" allowfullscreen></iframe></div>"
      ],
      "text/plain": [
       "<IPython.core.display.HTML object>"
      ]
     },
     "metadata": {},
     "output_type": "display_data"
    },
    {
     "data": {
      "text/plain": []
     },
     "execution_count": 33,
     "metadata": {},
     "output_type": "execute_result"
    }
   ],
   "source": [
    "# Gradio is an open-source Python package that allows you to quickly build a demo or web application for your machine learning model, API, or any arbitrary Python function. \n",
    "# You can then share a link to your demo or web application in just a few seconds using Gradio's built-in sharing features.\n",
    "''' https://www.gradio.app/guides/quickstart '''\n",
    "''' https://www.gradio.app/docs/gradio/label '''\n",
    "''' Prerequisite: Gradio requires Python 3.10 or higher. --> We recommend installing Gradio using pip, pip install --upgrade gradio'''\n",
    "# http://127.0.0.1:7880/?__theme=dark\n",
    "# app = gr.Interface(fn=es_get_health, inputs=[\"text\"], outputs=\"text\")\n",
    "with gr.Blocks(js=js_func) as app:\n",
    "    gr.Markdown(\"# ES Cluster Health\")\n",
    "    # es_status = json.loads(es_get_health(\"localhost:9201\"))['status']\n",
    "    label = gr.Label(value = \"\", show_label=True, label=\"ES cluster status\")\n",
    "    gr.Interface(fn=es_get_health, inputs=[\"text\"], outputs=[\"text\", label])\n",
    "        \n",
    "app.launch()"
   ]
  },
  {
   "cell_type": "code",
   "execution_count": 34,
   "id": "894f8013-decb-4042-b3af-ccd437d23cdd",
   "metadata": {},
   "outputs": [
    {
     "data": {
      "text/plain": [
       "' Langchain Elasticsearch '"
      ]
     },
     "execution_count": 34,
     "metadata": {},
     "output_type": "execute_result"
    }
   ],
   "source": [
    "''' https://python.langchain.com/docs/integrations/vectorstores/elasticsearch/ '''\n",
    "''' Langchain Elasticsearch '''\n",
    "#!pip install langchain-elasticsearch"
   ]
  }
 ],
 "metadata": {
  "kernelspec": {
   "display_name": "Python 3 (ipykernel)",
   "language": "python",
   "name": "python3"
  },
  "language_info": {
   "codemirror_mode": {
    "name": "ipython",
    "version": 3
   },
   "file_extension": ".py",
   "mimetype": "text/x-python",
   "name": "python",
   "nbconvert_exporter": "python",
   "pygments_lexer": "ipython3",
   "version": "3.11.7"
  }
 },
 "nbformat": 4,
 "nbformat_minor": 5
}
